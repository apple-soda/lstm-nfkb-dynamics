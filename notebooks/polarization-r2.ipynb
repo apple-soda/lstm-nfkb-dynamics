{
 "cells": [
  {
   "cell_type": "markdown",
   "id": "cf82402d-5006-425f-a60d-66a9482fb4f2",
   "metadata": {},
   "source": [
    "# Same notebook as polarization.ipynb but rerun"
   ]
  },
  {
   "cell_type": "markdown",
   "id": "0c82eba7-d819-4dd9-8b7a-754680a6f61b",
   "metadata": {},
   "source": [
    "# This new ML pipeline enables equal representation of each polarization state in each train, test, and validation dataset\n",
    "### In the future, if needed, refactor into functions for efficiency"
   ]
  },
  {
   "cell_type": "code",
   "execution_count": 1,
   "id": "4b7fbbbe-58fa-4350-9750-0071dfc7b1a7",
   "metadata": {},
   "outputs": [],
   "source": [
    "import sys\n",
    "sys.path.append('..')"
   ]
  },
  {
   "cell_type": "code",
   "execution_count": 2,
   "id": "56e8f11b-cd15-496d-ae81-1c78f3b783a3",
   "metadata": {},
   "outputs": [],
   "source": [
    "import torch\n",
    "import pandas as pd\n",
    "import numpy as np\n",
    "import sklearn\n",
    "import matplotlib.pyplot as plt\n",
    "import random\n",
    "import torch.nn as nn\n",
    "import torch.nn.functional as F\n",
    "import seaborn as sns"
   ]
  },
  {
   "cell_type": "code",
   "execution_count": 3,
   "id": "5691cff9-96fa-44c1-8aed-c88af943a8fa",
   "metadata": {},
   "outputs": [],
   "source": [
    "from core.getdata import *\n",
    "from core.dataset import *\n",
    "from core.network import *\n",
    "from core.trainer import *\n",
    "from core.visualization import *"
   ]
  },
  {
   "cell_type": "code",
   "execution_count": 4,
   "id": "8281c4c0-62ed-4141-94ea-d61d83ab19f8",
   "metadata": {},
   "outputs": [],
   "source": [
    "from torch.utils.data import Dataset\n",
    "from torchvision import datasets\n",
    "from torchvision.transforms import ToTensor"
   ]
  },
  {
   "cell_type": "code",
   "execution_count": 5,
   "id": "bed85b4f-a0a8-443c-ad9a-8c698cb38c28",
   "metadata": {},
   "outputs": [],
   "source": [
    "ligands = [\"TNF\", \"R84\", \"PIC\", \"P3K\", \"FLA\", \"CpG\", \"FSL\", \"LPS\", \"UST\"]\n",
    "polarization = [\"\", \"ib\", \"ig\", \"i0\", \"i3\", \"i4\"]\n",
    "replicas, size = 2, 1288 # replicated"
   ]
  },
  {
   "cell_type": "code",
   "execution_count": 6,
   "id": "8888ef2d-13ed-4dbb-af39-3bdcb94c467d",
   "metadata": {},
   "outputs": [],
   "source": [
    "asd = DatasetPolar(ligands, polarization, replicas, size)"
   ]
  },
  {
   "cell_type": "code",
   "execution_count": 7,
   "id": "f33b3323-2e3d-48d3-bb0a-93c1f4e7d980",
   "metadata": {},
   "outputs": [
    {
     "data": {
      "text/plain": [
       "(69552,)"
      ]
     },
     "execution_count": 7,
     "metadata": {},
     "output_type": "execute_result"
    }
   ],
   "source": [
    "asd.labels.shape"
   ]
  },
  {
   "cell_type": "code",
   "execution_count": 8,
   "id": "9914ae36-f4d8-421a-a2c7-969b3c94205d",
   "metadata": {},
   "outputs": [],
   "source": [
    "m0 = DatasetPolar(ligands, [\"\"], replicas, size)\n",
    "ib = DatasetPolar(ligands, [\"ib\"], replicas, size)\n",
    "ig = DatasetPolar(ligands, [\"ig\"], replicas, size)\n",
    "i0 = DatasetPolar(ligands, [\"i0\"], replicas, size)\n",
    "i3 = DatasetPolar(ligands, [\"i3\"], replicas, size)\n",
    "i4 = DatasetPolar(ligands, [\"i4\"], replicas, size)"
   ]
  },
  {
   "cell_type": "code",
   "execution_count": 9,
   "id": "487b1378-f48b-4000-9277-d5139d59ade8",
   "metadata": {},
   "outputs": [
    {
     "name": "stdout",
     "output_type": "stream",
     "text": [
      "11592 11592 11592 11592 11592 11592\n"
     ]
    }
   ],
   "source": [
    "print(len(m0), len(ib), len(ig), len(i0), len(i3), len(i4))"
   ]
  },
  {
   "cell_type": "code",
   "execution_count": 10,
   "id": "87da8cb2-3772-406d-b22c-5072d326f172",
   "metadata": {},
   "outputs": [],
   "source": [
    "m0_train, m0_val, m0_test = torch.utils.data.random_split(m0, [6956, 2318, 2318])\n",
    "ib_train, ib_val, ib_test = torch.utils.data.random_split(ib, [6956, 2318, 2318])\n",
    "ig_train, ig_val, ig_test = torch.utils.data.random_split(ig, [6956, 2318, 2318])\n",
    "i0_train, i0_val, i0_test = torch.utils.data.random_split(i0, [6956, 2318, 2318])\n",
    "i3_train, i3_val, i3_test = torch.utils.data.random_split(i3, [6956, 2318, 2318])\n",
    "i4_train, i4_val, i4_test = torch.utils.data.random_split(i4, [6956, 2318, 2318])"
   ]
  },
  {
   "cell_type": "code",
   "execution_count": 11,
   "id": "0afc4931-c4c7-42a3-b4db-4e55cafec745",
   "metadata": {},
   "outputs": [],
   "source": [
    "# extract all data and labels from each torch subset object and refactor into my own objects\n",
    "\n",
    "def extract_xy(subsets):\n",
    "    train, val, test = subsets # unpack tuple\n",
    "    train_X = [item[0] for item in train]\n",
    "    train_Y = [item[1] for item in train]\n",
    "    val_X = [item[0] for item in val]\n",
    "    val_Y = [item[1] for item in val]\n",
    "    test_X = [item[0] for item in test]\n",
    "    test_Y = [item[1] for item in test]\n",
    "    \n",
    "    return train_X, train_Y, val_X, val_Y, test_X, test_Y"
   ]
  },
  {
   "cell_type": "code",
   "execution_count": 12,
   "id": "00cbcb18-5e0a-493b-b11f-8c1a37562111",
   "metadata": {},
   "outputs": [],
   "source": [
    "m0_train_X, m0_train_Y, m0_val_X, m0_val_Y, m0_test_X, m0_test_Y = extract_xy((m0_train, m0_val, m0_test))\n",
    "ib_train_X, ib_train_Y, ib_val_X, ib_val_Y, ib_test_X, ib_test_Y = extract_xy((ib_train, ib_val, ib_test))\n",
    "ig_train_X, ig_train_Y, ig_val_X, ig_val_Y, ig_test_X, ig_test_Y = extract_xy((ig_train, ig_val, ig_test))\n",
    "i0_train_X, i0_train_Y, i0_val_X, i0_val_Y, i0_test_X, i0_test_Y = extract_xy((i0_train, i0_val, i0_test))\n",
    "i3_train_X, i3_train_Y, i3_val_X, i3_val_Y, i3_test_X, i3_test_Y = extract_xy((i3_train, i3_val, i3_test))\n",
    "i4_train_X, i4_train_Y, i4_val_X, i4_val_Y, i4_test_X, i4_test_Y = extract_xy((i4_train, i4_val, i4_test))"
   ]
  },
  {
   "cell_type": "code",
   "execution_count": 13,
   "id": "54c09c51-0d4d-4445-8583-9d74dff36bc7",
   "metadata": {},
   "outputs": [],
   "source": [
    "# split into 60/20/20 for each polarization dataset\n",
    "# more empirical method to analyze model metrics across each polarization\n",
    "\n",
    "# X = np.vstack([m0.data, ib.data, ig.data, i0.data, i3.data, i4.data])\n",
    "# Y = np.hstack([m0.labels, ib.labels, ig.labels, i0.labels, i3.labels, i4.labels])"
   ]
  },
  {
   "cell_type": "code",
   "execution_count": 14,
   "id": "b1b48196-cd03-4844-a280-4e0a6282cc73",
   "metadata": {},
   "outputs": [],
   "source": [
    "class TorchData:\n",
    "    def __init__(self, data, labels):\n",
    "        self.data = data\n",
    "        self.labels = labels\n",
    "        \n",
    "    def __len__(self):\n",
    "        return len(self.data)\n",
    "    \n",
    "    def __getitem__(self, idx):\n",
    "        return self.data[idx], self.labels[idx]"
   ]
  },
  {
   "cell_type": "code",
   "execution_count": 15,
   "id": "5317d177-5862-42a4-a3c0-54f9b0a5ddaf",
   "metadata": {},
   "outputs": [],
   "source": [
    "# need to concat all train_X and train_Y into one dataset for training\n",
    "train_X = np.vstack([m0_train_X, ib_train_X, ig_train_X, i0_train_X, i3_train_X, i4_train_X])\n",
    "train_Y = np.hstack([m0_train_Y, ib_train_Y, ig_train_Y, i0_train_Y, i3_train_Y, i4_train_Y])\n",
    "\n",
    "val_X = np.vstack([m0_val_X, ib_val_X, ig_val_X, i0_val_X, i3_val_X, i4_val_X])\n",
    "val_Y = np.hstack([m0_val_Y, ib_val_Y, ig_val_Y, i0_val_Y, i3_val_Y, i4_val_Y])\n",
    "\n",
    "test_X = np.vstack([m0_test_X, ib_test_X, ig_test_X, i0_test_X, i3_test_X, i4_test_X])\n",
    "test_Y = np.hstack([m0_test_Y, ib_test_Y, ig_test_Y, i0_test_Y, i3_test_Y, i4_test_Y])"
   ]
  },
  {
   "cell_type": "code",
   "execution_count": 16,
   "id": "88d31a75-c69e-4e1f-b226-a42d347c5546",
   "metadata": {},
   "outputs": [
    {
     "name": "stdout",
     "output_type": "stream",
     "text": [
      "(41736, 98, 1) (41736,)\n",
      "(13908, 98, 1) (13908,)\n",
      "(13908, 98, 1) (13908,)\n"
     ]
    }
   ],
   "source": [
    "print(train_X.shape, train_Y.shape)\n",
    "print(val_X.shape, val_Y.shape)\n",
    "print(test_X.shape, test_Y.shape)"
   ]
  },
  {
   "cell_type": "code",
   "execution_count": 17,
   "id": "20600a43-b8f7-48fe-9ae5-89e0c9de5828",
   "metadata": {},
   "outputs": [],
   "source": [
    "train = TorchData(train_X, train_Y)\n",
    "val = TorchData(val_X, val_Y)\n",
    "test = TorchData(test_X, test_Y)"
   ]
  },
  {
   "cell_type": "code",
   "execution_count": 18,
   "id": "c7bfddca-9b56-4487-b3d8-bba7a313e2aa",
   "metadata": {},
   "outputs": [],
   "source": [
    "trainloader = torch.utils.data.DataLoader(train, batch_size=64, shuffle=True)\n",
    "valloader = torch.utils.data.DataLoader(val, batch_size=64, shuffle=True)\n",
    "testloader = torch.utils.data.DataLoader(test, batch_size=64, shuffle=True)"
   ]
  },
  {
   "cell_type": "code",
   "execution_count": 19,
   "id": "9919155f-d1f4-4c18-8ef0-d775c609cc32",
   "metadata": {},
   "outputs": [],
   "source": [
    "# hyperparameters\n",
    "input_size = 1\n",
    "hidden_size = 98\n",
    "output_size = 9\n",
    "\n",
    "lr = 0.001\n",
    "n_epochs = 70\n",
    "batch_size = 64\n",
    "device = torch.device('cuda')"
   ]
  },
  {
   "cell_type": "code",
   "execution_count": 20,
   "id": "a61f9484-e2d2-40dd-b711-b511c4a4ef06",
   "metadata": {},
   "outputs": [],
   "source": [
    "net = LSTM(input_size=input_size, hidden_sizes=hidden_size, output_size=output_size, num_layers=1, device=device)"
   ]
  },
  {
   "cell_type": "code",
   "execution_count": 21,
   "id": "9773aa39-3996-44ea-9072-5dd8b7adda1d",
   "metadata": {},
   "outputs": [
    {
     "data": {
      "text/plain": [
       "LSTM(\n",
       "  (lstm): LSTM(1, 98, batch_first=True)\n",
       "  (fc1): Linear(in_features=98, out_features=9, bias=True)\n",
       ")"
      ]
     },
     "execution_count": 21,
     "metadata": {},
     "output_type": "execute_result"
    }
   ],
   "source": [
    "net.train()"
   ]
  },
  {
   "cell_type": "code",
   "execution_count": 22,
   "id": "795b3f2b-cd9f-42dd-9465-f404e58a4656",
   "metadata": {},
   "outputs": [],
   "source": [
    "trainer = LSTMTrainer(model=net, device=device)"
   ]
  },
  {
   "cell_type": "code",
   "execution_count": 23,
   "id": "852b0ba2-689d-4eb4-b57d-29849b6d234f",
   "metadata": {
    "scrolled": true,
    "tags": []
   },
   "outputs": [
    {
     "name": "stderr",
     "output_type": "stream",
     "text": [
      "  1%|█▏                                                                                 | 1/70 [00:04<04:59,  4.34s/it]"
     ]
    },
    {
     "name": "stdout",
     "output_type": "stream",
     "text": [
      "Epoch 001: | Training Loss: 2.1699654135915805 | Validation Loss: 2.169209270302309\n"
     ]
    },
    {
     "name": "stderr",
     "output_type": "stream",
     "text": [
      "  3%|██▎                                                                                | 2/70 [00:08<04:31,  3.99s/it]"
     ]
    },
    {
     "name": "stdout",
     "output_type": "stream",
     "text": [
      "Epoch 002: | Training Loss: 2.1617391638879937 | Validation Loss: 2.1441567797179615\n"
     ]
    },
    {
     "name": "stderr",
     "output_type": "stream",
     "text": [
      "  4%|███▌                                                                               | 3/70 [00:11<04:20,  3.89s/it]"
     ]
    },
    {
     "name": "stdout",
     "output_type": "stream",
     "text": [
      "Epoch 003: | Training Loss: 2.170363706980146 | Validation Loss: 2.2019908996897004\n"
     ]
    },
    {
     "name": "stderr",
     "output_type": "stream",
     "text": [
      "  6%|████▋                                                                              | 4/70 [00:15<04:12,  3.83s/it]"
     ]
    },
    {
     "name": "stdout",
     "output_type": "stream",
     "text": [
      "Epoch 004: | Training Loss: 2.1939807065960824 | Validation Loss: 2.1868157878928227\n"
     ]
    },
    {
     "name": "stderr",
     "output_type": "stream",
     "text": [
      "  7%|█████▉                                                                             | 5/70 [00:19<04:11,  3.87s/it]"
     ]
    },
    {
     "name": "stdout",
     "output_type": "stream",
     "text": [
      "Epoch 005: | Training Loss: 2.1311015701220923 | Validation Loss: 2.098080339781735\n"
     ]
    },
    {
     "name": "stderr",
     "output_type": "stream",
     "text": [
      "  9%|███████                                                                            | 6/70 [00:23<04:03,  3.81s/it]"
     ]
    },
    {
     "name": "stdout",
     "output_type": "stream",
     "text": [
      "Epoch 006: | Training Loss: 2.007701017407509 | Validation Loss: 1.9228259368773994\n"
     ]
    },
    {
     "name": "stderr",
     "output_type": "stream",
     "text": [
      " 10%|████████▎                                                                          | 7/70 [00:26<03:55,  3.74s/it]"
     ]
    },
    {
     "name": "stdout",
     "output_type": "stream",
     "text": [
      "Epoch 007: | Training Loss: 1.8596414818698013 | Validation Loss: 1.8657165836850438\n"
     ]
    },
    {
     "name": "stderr",
     "output_type": "stream",
     "text": [
      " 11%|█████████▍                                                                         | 8/70 [00:30<03:47,  3.68s/it]"
     ]
    },
    {
     "name": "stdout",
     "output_type": "stream",
     "text": [
      "Epoch 008: | Training Loss: 1.7958650985136515 | Validation Loss: 1.7459584890155617\n"
     ]
    },
    {
     "name": "stderr",
     "output_type": "stream",
     "text": [
      " 13%|██████████▋                                                                        | 9/70 [00:33<03:41,  3.63s/it]"
     ]
    },
    {
     "name": "stdout",
     "output_type": "stream",
     "text": [
      "Epoch 009: | Training Loss: 1.7300660128250238 | Validation Loss: 1.6868755522124264\n"
     ]
    },
    {
     "name": "stderr",
     "output_type": "stream",
     "text": [
      " 14%|███████████▋                                                                      | 10/70 [00:37<03:36,  3.60s/it]"
     ]
    },
    {
     "name": "stdout",
     "output_type": "stream",
     "text": [
      "Epoch 010: | Training Loss: 1.6863569174572302 | Validation Loss: 1.7543782559009866\n"
     ]
    },
    {
     "name": "stderr",
     "output_type": "stream",
     "text": [
      " 16%|████████████▉                                                                     | 11/70 [00:41<03:34,  3.64s/it]"
     ]
    },
    {
     "name": "stdout",
     "output_type": "stream",
     "text": [
      "Epoch 011: | Training Loss: 1.6737505611927914 | Validation Loss: 1.6397087770864505\n"
     ]
    },
    {
     "name": "stderr",
     "output_type": "stream",
     "text": [
      " 17%|██████████████                                                                    | 12/70 [00:45<03:35,  3.72s/it]"
     ]
    },
    {
     "name": "stdout",
     "output_type": "stream",
     "text": [
      "Epoch 012: | Training Loss: 1.6349898762943915 | Validation Loss: 1.6253428672431807\n"
     ]
    },
    {
     "name": "stderr",
     "output_type": "stream",
     "text": [
      " 19%|███████████████▏                                                                  | 13/70 [00:48<03:29,  3.67s/it]"
     ]
    },
    {
     "name": "stdout",
     "output_type": "stream",
     "text": [
      "Epoch 013: | Training Loss: 1.6130689052126126 | Validation Loss: 1.583277776700641\n"
     ]
    },
    {
     "name": "stderr",
     "output_type": "stream",
     "text": [
      " 20%|████████████████▍                                                                 | 14/70 [00:52<03:24,  3.65s/it]"
     ]
    },
    {
     "name": "stdout",
     "output_type": "stream",
     "text": [
      "Epoch 014: | Training Loss: 1.6095425708370588 | Validation Loss: 1.5805301518615233\n"
     ]
    },
    {
     "name": "stderr",
     "output_type": "stream",
     "text": [
      " 21%|█████████████████▌                                                                | 15/70 [00:55<03:20,  3.64s/it]"
     ]
    },
    {
     "name": "stdout",
     "output_type": "stream",
     "text": [
      "Epoch 015: | Training Loss: 1.6240576713775237 | Validation Loss: 1.5951083286092915\n"
     ]
    },
    {
     "name": "stderr",
     "output_type": "stream",
     "text": [
      " 23%|██████████████████▋                                                               | 16/70 [00:59<03:20,  3.72s/it]"
     ]
    },
    {
     "name": "stdout",
     "output_type": "stream",
     "text": [
      "Epoch 016: | Training Loss: 1.5751032279790087 | Validation Loss: 1.5441031423183755\n"
     ]
    },
    {
     "name": "stderr",
     "output_type": "stream",
     "text": [
      " 24%|███████████████████▉                                                              | 17/70 [01:03<03:16,  3.70s/it]"
     ]
    },
    {
     "name": "stdout",
     "output_type": "stream",
     "text": [
      "Epoch 017: | Training Loss: 1.7752378731737823 | Validation Loss: 1.9488237833758013\n"
     ]
    },
    {
     "name": "stderr",
     "output_type": "stream",
     "text": [
      " 26%|█████████████████████                                                             | 18/70 [01:07<03:11,  3.68s/it]"
     ]
    },
    {
     "name": "stdout",
     "output_type": "stream",
     "text": [
      "Epoch 018: | Training Loss: 1.8780272645935714 | Validation Loss: 2.094143180672182\n"
     ]
    },
    {
     "name": "stderr",
     "output_type": "stream",
     "text": [
      " 27%|██████████████████████▎                                                           | 19/70 [01:10<03:09,  3.71s/it]"
     ]
    },
    {
     "name": "stdout",
     "output_type": "stream",
     "text": [
      "Epoch 019: | Training Loss: 1.9519503797542812 | Validation Loss: 1.8687845003714256\n"
     ]
    },
    {
     "name": "stderr",
     "output_type": "stream",
     "text": [
      " 29%|███████████████████████▍                                                          | 20/70 [01:14<03:05,  3.72s/it]"
     ]
    },
    {
     "name": "stdout",
     "output_type": "stream",
     "text": [
      "Epoch 020: | Training Loss: 1.733160803182932 | Validation Loss: 1.650484863771211\n"
     ]
    },
    {
     "name": "stderr",
     "output_type": "stream",
     "text": [
      " 30%|████████████████████████▌                                                         | 21/70 [01:18<02:59,  3.67s/it]"
     ]
    },
    {
     "name": "stdout",
     "output_type": "stream",
     "text": [
      "Epoch 021: | Training Loss: 1.6429163463995613 | Validation Loss: 1.6183629965563433\n"
     ]
    },
    {
     "name": "stderr",
     "output_type": "stream",
     "text": [
      " 31%|█████████████████████████▊                                                        | 22/70 [01:21<02:54,  3.63s/it]"
     ]
    },
    {
     "name": "stdout",
     "output_type": "stream",
     "text": [
      "Epoch 022: | Training Loss: 1.5901834510186912 | Validation Loss: 1.5657275860462714\n"
     ]
    },
    {
     "name": "stderr",
     "output_type": "stream",
     "text": [
      " 33%|██████████████████████████▉                                                       | 23/70 [01:25<02:49,  3.60s/it]"
     ]
    },
    {
     "name": "stdout",
     "output_type": "stream",
     "text": [
      "Epoch 023: | Training Loss: 1.5809997997459189 | Validation Loss: 1.560862340511532\n"
     ]
    },
    {
     "name": "stderr",
     "output_type": "stream",
     "text": [
      " 34%|████████████████████████████                                                      | 24/70 [01:28<02:45,  3.59s/it]"
     ]
    },
    {
     "name": "stdout",
     "output_type": "stream",
     "text": [
      "Epoch 024: | Training Loss: 1.5483727015178383 | Validation Loss: 1.5215894995479409\n"
     ]
    },
    {
     "name": "stderr",
     "output_type": "stream",
     "text": [
      " 36%|█████████████████████████████▎                                                    | 25/70 [01:32<02:41,  3.58s/it]"
     ]
    },
    {
     "name": "stdout",
     "output_type": "stream",
     "text": [
      "Epoch 025: | Training Loss: 1.5153476629651523 | Validation Loss: 1.5100064058916285\n"
     ]
    },
    {
     "name": "stderr",
     "output_type": "stream",
     "text": [
      " 37%|██████████████████████████████▍                                                   | 26/70 [01:35<02:37,  3.58s/it]"
     ]
    },
    {
     "name": "stdout",
     "output_type": "stream",
     "text": [
      "Epoch 026: | Training Loss: 1.4960110406598124 | Validation Loss: 1.4963380163962687\n"
     ]
    },
    {
     "name": "stderr",
     "output_type": "stream",
     "text": [
      " 39%|███████████████████████████████▋                                                  | 27/70 [01:39<02:33,  3.58s/it]"
     ]
    },
    {
     "name": "stdout",
     "output_type": "stream",
     "text": [
      "Epoch 027: | Training Loss: 1.4820181593230453 | Validation Loss: 1.4665510036529752\n"
     ]
    },
    {
     "name": "stderr",
     "output_type": "stream",
     "text": [
      " 40%|████████████████████████████████▊                                                 | 28/70 [01:43<02:30,  3.59s/it]"
     ]
    },
    {
     "name": "stdout",
     "output_type": "stream",
     "text": [
      "Epoch 028: | Training Loss: 1.4602626078344232 | Validation Loss: 1.4704357921530347\n"
     ]
    },
    {
     "name": "stderr",
     "output_type": "stream",
     "text": [
      " 41%|█████████████████████████████████▉                                                | 29/70 [01:46<02:26,  3.58s/it]"
     ]
    },
    {
     "name": "stdout",
     "output_type": "stream",
     "text": [
      "Epoch 029: | Training Loss: 1.4427101246978387 | Validation Loss: 1.4465273760874338\n"
     ]
    },
    {
     "name": "stderr",
     "output_type": "stream",
     "text": [
      " 43%|███████████████████████████████████▏                                              | 30/70 [01:50<02:23,  3.59s/it]"
     ]
    },
    {
     "name": "stdout",
     "output_type": "stream",
     "text": [
      "Epoch 030: | Training Loss: 1.424312973369318 | Validation Loss: 1.4389674674480333\n"
     ]
    },
    {
     "name": "stderr",
     "output_type": "stream",
     "text": [
      " 44%|████████████████████████████████████▎                                             | 31/70 [01:53<02:19,  3.58s/it]"
     ]
    },
    {
     "name": "stdout",
     "output_type": "stream",
     "text": [
      "Epoch 031: | Training Loss: 1.4175168907478064 | Validation Loss: 1.4047945694092216\n"
     ]
    },
    {
     "name": "stderr",
     "output_type": "stream",
     "text": [
      " 46%|█████████████████████████████████████▍                                            | 32/70 [01:57<02:15,  3.58s/it]"
     ]
    },
    {
     "name": "stdout",
     "output_type": "stream",
     "text": [
      "Epoch 032: | Training Loss: 1.3943186408710333 | Validation Loss: 1.3951116488614212\n"
     ]
    },
    {
     "name": "stderr",
     "output_type": "stream",
     "text": [
      " 47%|██████████████████████████████████████▋                                           | 33/70 [02:00<02:12,  3.58s/it]"
     ]
    },
    {
     "name": "stdout",
     "output_type": "stream",
     "text": [
      "Epoch 033: | Training Loss: 1.377337078223002 | Validation Loss: 1.3882179571947921\n"
     ]
    },
    {
     "name": "stderr",
     "output_type": "stream",
     "text": [
      " 49%|███████████████████████████████████████▊                                          | 34/70 [02:04<02:08,  3.58s/it]"
     ]
    },
    {
     "name": "stdout",
     "output_type": "stream",
     "text": [
      "Epoch 034: | Training Loss: 1.3654503298389966 | Validation Loss: 1.3658274439496731\n"
     ]
    },
    {
     "name": "stderr",
     "output_type": "stream",
     "text": [
      " 50%|█████████████████████████████████████████                                         | 35/70 [02:08<02:05,  3.59s/it]"
     ]
    },
    {
     "name": "stdout",
     "output_type": "stream",
     "text": [
      "Epoch 035: | Training Loss: 1.364101562620487 | Validation Loss: 1.382819589124907\n"
     ]
    },
    {
     "name": "stderr",
     "output_type": "stream",
     "text": [
      " 51%|██████████████████████████████████████████▏                                       | 36/70 [02:11<02:01,  3.58s/it]"
     ]
    },
    {
     "name": "stdout",
     "output_type": "stream",
     "text": [
      "Epoch 036: | Training Loss: 1.3485069958575835 | Validation Loss: 1.3411811743307551\n"
     ]
    },
    {
     "name": "stderr",
     "output_type": "stream",
     "text": [
      " 53%|███████████████████████████████████████████▎                                      | 37/70 [02:15<01:58,  3.58s/it]"
     ]
    },
    {
     "name": "stdout",
     "output_type": "stream",
     "text": [
      "Epoch 037: | Training Loss: 1.3264368061449772 | Validation Loss: 1.3559188859178386\n"
     ]
    },
    {
     "name": "stderr",
     "output_type": "stream",
     "text": [
      " 54%|████████████████████████████████████████████▌                                     | 38/70 [02:18<01:54,  3.57s/it]"
     ]
    },
    {
     "name": "stdout",
     "output_type": "stream",
     "text": [
      "Epoch 038: | Training Loss: 1.3188177184708085 | Validation Loss: 1.3706505856382738\n"
     ]
    },
    {
     "name": "stderr",
     "output_type": "stream",
     "text": [
      " 56%|█████████████████████████████████████████████▋                                    | 39/70 [02:22<01:51,  3.60s/it]"
     ]
    },
    {
     "name": "stdout",
     "output_type": "stream",
     "text": [
      "Epoch 039: | Training Loss: 1.323956651946852 | Validation Loss: 1.395698796171661\n"
     ]
    },
    {
     "name": "stderr",
     "output_type": "stream",
     "text": [
      " 57%|██████████████████████████████████████████████▊                                   | 40/70 [02:26<01:49,  3.65s/it]"
     ]
    },
    {
     "name": "stdout",
     "output_type": "stream",
     "text": [
      "Epoch 040: | Training Loss: 1.3082787400913092 | Validation Loss: 1.3081955852311686\n"
     ]
    },
    {
     "name": "stderr",
     "output_type": "stream",
     "text": [
      " 59%|████████████████████████████████████████████████                                  | 41/70 [02:30<01:46,  3.68s/it]"
     ]
    },
    {
     "name": "stdout",
     "output_type": "stream",
     "text": [
      "Epoch 041: | Training Loss: 1.2873826779961404 | Validation Loss: 1.30979804079467\n"
     ]
    },
    {
     "name": "stderr",
     "output_type": "stream",
     "text": [
      " 60%|█████████████████████████████████████████████████▏                                | 42/70 [02:33<01:42,  3.68s/it]"
     ]
    },
    {
     "name": "stdout",
     "output_type": "stream",
     "text": [
      "Epoch 042: | Training Loss: 1.2774686604327483 | Validation Loss: 1.3214372713631446\n"
     ]
    },
    {
     "name": "stderr",
     "output_type": "stream",
     "text": [
      " 61%|██████████████████████████████████████████████████▎                               | 43/70 [02:37<01:39,  3.67s/it]"
     ]
    },
    {
     "name": "stdout",
     "output_type": "stream",
     "text": [
      "Epoch 043: | Training Loss: 1.2788216662443432 | Validation Loss: 1.317490777564705\n"
     ]
    },
    {
     "name": "stderr",
     "output_type": "stream",
     "text": [
      " 63%|███████████████████████████████████████████████████▌                              | 44/70 [02:40<01:34,  3.65s/it]"
     ]
    },
    {
     "name": "stdout",
     "output_type": "stream",
     "text": [
      "Epoch 044: | Training Loss: 1.2658885707351368 | Validation Loss: 1.2991796726480536\n"
     ]
    },
    {
     "name": "stderr",
     "output_type": "stream",
     "text": [
      " 64%|████████████████████████████████████████████████████▋                             | 45/70 [02:44<01:30,  3.63s/it]"
     ]
    },
    {
     "name": "stdout",
     "output_type": "stream",
     "text": [
      "Epoch 045: | Training Loss: 1.2538884137892614 | Validation Loss: 1.30202717956053\n"
     ]
    },
    {
     "name": "stderr",
     "output_type": "stream",
     "text": [
      " 66%|█████████████████████████████████████████████████████▉                            | 46/70 [02:48<01:26,  3.62s/it]"
     ]
    },
    {
     "name": "stdout",
     "output_type": "stream",
     "text": [
      "Epoch 046: | Training Loss: 1.3002705273730466 | Validation Loss: 1.3496270691036085\n"
     ]
    },
    {
     "name": "stderr",
     "output_type": "stream",
     "text": [
      " 67%|███████████████████████████████████████████████████████                           | 47/70 [02:51<01:22,  3.61s/it]"
     ]
    },
    {
     "name": "stdout",
     "output_type": "stream",
     "text": [
      "Epoch 047: | Training Loss: 1.2435070290864882 | Validation Loss: 1.3066251800147766\n"
     ]
    },
    {
     "name": "stderr",
     "output_type": "stream",
     "text": [
      " 69%|████████████████████████████████████████████████████████▏                         | 48/70 [02:55<01:19,  3.60s/it]"
     ]
    },
    {
     "name": "stdout",
     "output_type": "stream",
     "text": [
      "Epoch 048: | Training Loss: 1.2429218333311505 | Validation Loss: 1.3026021057312642\n"
     ]
    },
    {
     "name": "stderr",
     "output_type": "stream",
     "text": [
      " 70%|█████████████████████████████████████████████████████████▍                        | 49/70 [02:58<01:15,  3.59s/it]"
     ]
    },
    {
     "name": "stdout",
     "output_type": "stream",
     "text": [
      "Epoch 049: | Training Loss: 1.2934072173755349 | Validation Loss: 1.28839146626105\n"
     ]
    },
    {
     "name": "stderr",
     "output_type": "stream",
     "text": [
      " 71%|██████████████████████████████████████████████████████████▌                       | 50/70 [03:02<01:11,  3.59s/it]"
     ]
    },
    {
     "name": "stdout",
     "output_type": "stream",
     "text": [
      "Epoch 050: | Training Loss: 1.2312866651080834 | Validation Loss: 1.26127616418611\n"
     ]
    },
    {
     "name": "stderr",
     "output_type": "stream",
     "text": [
      " 73%|███████████████████████████████████████████████████████████▋                      | 51/70 [03:06<01:08,  3.59s/it]"
     ]
    },
    {
     "name": "stdout",
     "output_type": "stream",
     "text": [
      "Epoch 051: | Training Loss: 1.2189451365704558 | Validation Loss: 1.2801093524749125\n"
     ]
    },
    {
     "name": "stderr",
     "output_type": "stream",
     "text": [
      " 74%|████████████████████████████████████████████████████████████▉                     | 52/70 [03:09<01:04,  3.59s/it]"
     ]
    },
    {
     "name": "stdout",
     "output_type": "stream",
     "text": [
      "Epoch 052: | Training Loss: 1.213285595132965 | Validation Loss: 1.282835432969102\n"
     ]
    },
    {
     "name": "stderr",
     "output_type": "stream",
     "text": [
      " 76%|██████████████████████████████████████████████████████████████                    | 53/70 [03:13<01:01,  3.59s/it]"
     ]
    },
    {
     "name": "stdout",
     "output_type": "stream",
     "text": [
      "Epoch 053: | Training Loss: 1.2055350071985909 | Validation Loss: 1.2632883243057706\n"
     ]
    },
    {
     "name": "stderr",
     "output_type": "stream",
     "text": [
      " 77%|███████████████████████████████████████████████████████████████▎                  | 54/70 [03:16<00:57,  3.59s/it]"
     ]
    },
    {
     "name": "stdout",
     "output_type": "stream",
     "text": [
      "Epoch 054: | Training Loss: 1.1994565143884597 | Validation Loss: 1.2589056579344864\n"
     ]
    },
    {
     "name": "stderr",
     "output_type": "stream",
     "text": [
      " 79%|████████████████████████████████████████████████████████████████▍                 | 55/70 [03:20<00:53,  3.59s/it]"
     ]
    },
    {
     "name": "stdout",
     "output_type": "stream",
     "text": [
      "Epoch 055: | Training Loss: 1.2186940071411192 | Validation Loss: 1.25314493901139\n"
     ]
    },
    {
     "name": "stderr",
     "output_type": "stream",
     "text": [
      " 80%|█████████████████████████████████████████████████████████████████▌                | 56/70 [03:24<00:50,  3.59s/it]"
     ]
    },
    {
     "name": "stdout",
     "output_type": "stream",
     "text": [
      "Epoch 056: | Training Loss: 1.1741003167757031 | Validation Loss: 1.2591233885069506\n"
     ]
    },
    {
     "name": "stderr",
     "output_type": "stream",
     "text": [
      " 81%|██████████████████████████████████████████████████████████████████▊               | 57/70 [03:27<00:46,  3.59s/it]"
     ]
    },
    {
     "name": "stdout",
     "output_type": "stream",
     "text": [
      "Epoch 057: | Training Loss: 1.1726235763767412 | Validation Loss: 1.2355067415521779\n"
     ]
    },
    {
     "name": "stderr",
     "output_type": "stream",
     "text": [
      " 83%|███████████████████████████████████████████████████████████████████▉              | 58/70 [03:31<00:43,  3.59s/it]"
     ]
    },
    {
     "name": "stdout",
     "output_type": "stream",
     "text": [
      "Epoch 058: | Training Loss: 1.1710157823416576 | Validation Loss: 1.2550768551476505\n"
     ]
    },
    {
     "name": "stderr",
     "output_type": "stream",
     "text": [
      " 84%|█████████████████████████████████████████████████████████████████████             | 59/70 [03:34<00:39,  3.59s/it]"
     ]
    },
    {
     "name": "stdout",
     "output_type": "stream",
     "text": [
      "Epoch 059: | Training Loss: 1.1659093468149078 | Validation Loss: 1.227753264641543\n"
     ]
    },
    {
     "name": "stderr",
     "output_type": "stream",
     "text": [
      " 86%|██████████████████████████████████████████████████████████████████████▎           | 60/70 [03:38<00:35,  3.59s/it]"
     ]
    },
    {
     "name": "stdout",
     "output_type": "stream",
     "text": [
      "Epoch 060: | Training Loss: 1.1608616159301806 | Validation Loss: 1.240028891814958\n"
     ]
    },
    {
     "name": "stderr",
     "output_type": "stream",
     "text": [
      " 87%|███████████████████████████████████████████████████████████████████████▍          | 61/70 [03:41<00:32,  3.58s/it]"
     ]
    },
    {
     "name": "stdout",
     "output_type": "stream",
     "text": [
      "Epoch 061: | Training Loss: 1.1525670697093924 | Validation Loss: 1.2166297690037193\n"
     ]
    },
    {
     "name": "stderr",
     "output_type": "stream",
     "text": [
      " 89%|████████████████████████████████████████████████████████████████████████▋         | 62/70 [03:45<00:28,  3.58s/it]"
     ]
    },
    {
     "name": "stdout",
     "output_type": "stream",
     "text": [
      "Epoch 062: | Training Loss: 1.1479752663448795 | Validation Loss: 1.221614060598776\n"
     ]
    },
    {
     "name": "stderr",
     "output_type": "stream",
     "text": [
      " 90%|█████████████████████████████████████████████████████████████████████████▊        | 63/70 [03:49<00:25,  3.58s/it]"
     ]
    },
    {
     "name": "stdout",
     "output_type": "stream",
     "text": [
      "Epoch 063: | Training Loss: 1.1365584009091667 | Validation Loss: 1.2538997429773349\n"
     ]
    },
    {
     "name": "stderr",
     "output_type": "stream",
     "text": [
      " 91%|██████████████████████████████████████████████████████████████████████████▉       | 64/70 [03:52<00:21,  3.58s/it]"
     ]
    },
    {
     "name": "stdout",
     "output_type": "stream",
     "text": [
      "Epoch 064: | Training Loss: 1.131888308075997 | Validation Loss: 1.2121920213786834\n"
     ]
    },
    {
     "name": "stderr",
     "output_type": "stream",
     "text": [
      " 93%|████████████████████████████████████████████████████████████████████████████▏     | 65/70 [03:56<00:17,  3.58s/it]"
     ]
    },
    {
     "name": "stdout",
     "output_type": "stream",
     "text": [
      "Epoch 065: | Training Loss: 1.1297403264556873 | Validation Loss: 1.2052139210591621\n"
     ]
    },
    {
     "name": "stderr",
     "output_type": "stream",
     "text": [
      " 94%|█████████████████████████████████████████████████████████████████████████████▎    | 66/70 [03:59<00:14,  3.59s/it]"
     ]
    },
    {
     "name": "stdout",
     "output_type": "stream",
     "text": [
      "Epoch 066: | Training Loss: 1.1066681471571989 | Validation Loss: 1.2054464048748716\n"
     ]
    },
    {
     "name": "stderr",
     "output_type": "stream",
     "text": [
      " 96%|██████████████████████████████████████████████████████████████████████████████▍   | 67/70 [04:03<00:10,  3.58s/it]"
     ]
    },
    {
     "name": "stdout",
     "output_type": "stream",
     "text": [
      "Epoch 067: | Training Loss: 1.1093266375397102 | Validation Loss: 1.2174370469303306\n"
     ]
    },
    {
     "name": "stderr",
     "output_type": "stream",
     "text": [
      " 97%|███████████████████████████████████████████████████████████████████████████████▋  | 68/70 [04:07<00:07,  3.58s/it]"
     ]
    },
    {
     "name": "stdout",
     "output_type": "stream",
     "text": [
      "Epoch 068: | Training Loss: 1.1265690606914656 | Validation Loss: 1.200283660527763\n"
     ]
    },
    {
     "name": "stderr",
     "output_type": "stream",
     "text": [
      " 99%|████████████████████████████████████████████████████████████████████████████████▊ | 69/70 [04:10<00:03,  3.58s/it]"
     ]
    },
    {
     "name": "stdout",
     "output_type": "stream",
     "text": [
      "Epoch 069: | Training Loss: 1.0817451441452295 | Validation Loss: 1.1979846309084412\n"
     ]
    },
    {
     "name": "stderr",
     "output_type": "stream",
     "text": [
      "100%|██████████████████████████████████████████████████████████████████████████████████| 70/70 [04:14<00:00,  3.63s/it]"
     ]
    },
    {
     "name": "stdout",
     "output_type": "stream",
     "text": [
      "Epoch 070: | Training Loss: 1.0816496579606902 | Validation Loss: 1.205848779700218\n"
     ]
    },
    {
     "name": "stderr",
     "output_type": "stream",
     "text": [
      "\n"
     ]
    }
   ],
   "source": [
    "trainer.train(trainloader, valloader, batch_size=batch_size, n_epochs=n_epochs)"
   ]
  },
  {
   "cell_type": "code",
   "execution_count": 24,
   "id": "4a0166e8-07c3-472a-a89a-e6e537e9fb1d",
   "metadata": {},
   "outputs": [
    {
     "data": {
      "text/plain": [
       "[<matplotlib.lines.Line2D at 0x26d0917e6a0>]"
      ]
     },
     "execution_count": 24,
     "metadata": {},
     "output_type": "execute_result"
    },
    {
     "data": {
      "image/png": "[encoded data removed]",
      "text/plain": [
       "<Figure size 432x288 with 1 Axes>"
      ]
     },
     "metadata": {
      "needs_background": "light"
     },
     "output_type": "display_data"
    }
   ],
   "source": [
    "# visualize training/validation loss\n",
    "plt.plot(trainer.loss_history[0])\n",
    "plt.plot(trainer.loss_history[1])\n",
    "\n",
    "# some forgetting, could rerun"
   ]
  },
  {
   "cell_type": "code",
   "execution_count": 25,
   "id": "39105e05-712d-4b2f-8ee1-0dae71ecb2bf",
   "metadata": {},
   "outputs": [],
   "source": [
    "# trainer.evaluate with testloader\n",
    "prob, pred, true = trainer.evaluate(testloader)"
   ]
  },
  {
   "cell_type": "code",
   "execution_count": 26,
   "id": "f2650600-dad5-4b4c-964f-65ac6f074452",
   "metadata": {},
   "outputs": [],
   "source": [
    "from sklearn.metrics import classification_report"
   ]
  },
  {
   "cell_type": "code",
   "execution_count": 27,
   "id": "373e59bc-d248-481d-ae38-fe68a1d2697a",
   "metadata": {},
   "outputs": [],
   "source": [
    "cr = classification_report(true, pred, target_names=ligands)"
   ]
  },
  {
   "cell_type": "code",
   "execution_count": 28,
   "id": "940c490a-d41d-4657-a36a-a08bdd677b4e",
   "metadata": {},
   "outputs": [
    {
     "name": "stdout",
     "output_type": "stream",
     "text": [
      "              precision    recall  f1-score   support\n",
      "\n",
      "         TNF       0.57      0.61      0.59      1529\n",
      "         R84       0.65      0.78      0.71      1534\n",
      "         PIC       0.60      0.60      0.60      1481\n",
      "         P3K       0.56      0.53      0.55      1537\n",
      "         FLA       0.43      0.43      0.43      1548\n",
      "         CpG       0.44      0.40      0.42      1573\n",
      "         FSL       0.35      0.26      0.29      1562\n",
      "         LPS       0.45      0.50      0.48      1582\n",
      "         UST       0.94      0.99      0.96      1562\n",
      "\n",
      "    accuracy                           0.57     13908\n",
      "   macro avg       0.56      0.57      0.56     13908\n",
      "weighted avg       0.55      0.57      0.56     13908\n",
      "\n"
     ]
    }
   ],
   "source": [
    "print(cr) # similar results to apeksha's model ~ 55% accuracy"
   ]
  },
  {
   "cell_type": "code",
   "execution_count": 29,
   "id": "9b18b50a-6cf2-4a63-9e23-10c960a428f0",
   "metadata": {},
   "outputs": [],
   "source": [
    "fraction = Fraction(true, prob)"
   ]
  },
  {
   "cell_type": "code",
   "execution_count": 30,
   "id": "bc199f6c-ecdb-4fff-a90b-40d747ec6b48",
   "metadata": {},
   "outputs": [
    {
     "data": {
      "image/png": "[encoded data removed]",
      "text/plain": [
       "<Figure size 432x288 with 2 Axes>"
      ]
     },
     "metadata": {
      "needs_background": "light"
     },
     "output_type": "display_data"
    }
   ],
   "source": [
    "cf = sns.heatmap(fraction, cmap=\"BuPu\", xticklabels=ligands)"
   ]
  },
  {
   "cell_type": "markdown",
   "id": "09a048cf-b820-4cbc-8c71-cf0f333061a0",
   "metadata": {},
   "source": [
    "## Polarization State Analysis"
   ]
  },
  {
   "cell_type": "code",
   "execution_count": 31,
   "id": "ba719f75-ed72-4d67-a597-c96d1316325e",
   "metadata": {},
   "outputs": [],
   "source": [
    "# refactor each polarization test_X and test_Y into torchdata object\n",
    "# evaluate each one separately then concat and evaluate holistically\n",
    "\n",
    "m0_test = TorchData(m0_test_X, m0_test_Y)\n",
    "ib_test = TorchData(ib_test_X, ib_test_Y)\n",
    "ig_test = TorchData(ig_test_X, ig_test_Y)\n",
    "i0_test = TorchData(i0_test_X, i0_test_Y)\n",
    "i3_test = TorchData(i3_test_X, i3_test_Y)\n",
    "i4_test = TorchData(i4_test_X, i4_test_Y)"
   ]
  },
  {
   "cell_type": "code",
   "execution_count": 32,
   "id": "9eee2428-3a3f-4a1e-96f9-32f937b8cbfd",
   "metadata": {},
   "outputs": [],
   "source": [
    "m0_loader = torch.utils.data.DataLoader(m0_test, batch_size=64, shuffle=True)\n",
    "ib_loader = torch.utils.data.DataLoader(ib_test, batch_size=64, shuffle=True)\n",
    "ig_loader = torch.utils.data.DataLoader(ig_test, batch_size=64, shuffle=True)\n",
    "i0_loader = torch.utils.data.DataLoader(i0_test, batch_size=64, shuffle=True)\n",
    "i3_loader = torch.utils.data.DataLoader(i3_test, batch_size=64, shuffle=True)\n",
    "i4_loader = torch.utils.data.DataLoader(i4_test, batch_size=64, shuffle=True)"
   ]
  },
  {
   "cell_type": "code",
   "execution_count": 33,
   "id": "f2cb97e6-a6a2-474e-a196-b72e031b053f",
   "metadata": {},
   "outputs": [],
   "source": [
    "m0_prob, m0_pred, m0_true = trainer.evaluate(m0_loader)"
   ]
  },
  {
   "cell_type": "code",
   "execution_count": 34,
   "id": "087a483b-458e-4477-969e-ef42bcdf59ee",
   "metadata": {},
   "outputs": [],
   "source": [
    "ib_prob, ib_pred, ib_true = trainer.evaluate(ib_loader)"
   ]
  },
  {
   "cell_type": "code",
   "execution_count": 35,
   "id": "37aecf6a-42e4-498a-8b6d-24caddf7f1cf",
   "metadata": {},
   "outputs": [],
   "source": [
    "ig_prob, ig_pred, ig_true = trainer.evaluate(ig_loader)"
   ]
  },
  {
   "cell_type": "code",
   "execution_count": 36,
   "id": "671dda61-5b8a-457a-a886-0ab26bc4650b",
   "metadata": {},
   "outputs": [],
   "source": [
    "i0_prob, i0_pred, i0_true = trainer.evaluate(i0_loader)"
   ]
  },
  {
   "cell_type": "code",
   "execution_count": 37,
   "id": "0a460eb8-f035-45a8-b35d-42dae84c2259",
   "metadata": {},
   "outputs": [],
   "source": [
    "i3_prob, i3_pred, i3_true = trainer.evaluate(i3_loader)"
   ]
  },
  {
   "cell_type": "code",
   "execution_count": 38,
   "id": "8dacdf5a-08ae-4d27-9a71-3341dbbee8a3",
   "metadata": {},
   "outputs": [],
   "source": [
    "i4_prob, i4_pred, i4_true = trainer.evaluate(i4_loader)"
   ]
  },
  {
   "cell_type": "markdown",
   "id": "53bf1352-99e1-422e-ade2-3db38b74d255",
   "metadata": {},
   "source": [
    "### M0"
   ]
  },
  {
   "cell_type": "code",
   "execution_count": 39,
   "id": "3c21c5ff-62d9-4324-9d8f-1ce5d4b50e3b",
   "metadata": {},
   "outputs": [
    {
     "name": "stdout",
     "output_type": "stream",
     "text": [
      "              precision    recall  f1-score      support\n",
      "TNF            0.583039  0.673469  0.625000   245.000000\n",
      "R84            0.624294  0.866667  0.725780   255.000000\n",
      "PIC            0.758475  0.745833  0.752101   240.000000\n",
      "P3K            0.452459  0.554217  0.498195   249.000000\n",
      "FLA            0.492000  0.434629  0.461538   283.000000\n",
      "CpG            0.435897  0.444030  0.439926   268.000000\n",
      "FSL            0.447761  0.225564  0.300000   266.000000\n",
      "LPS            0.613169  0.543796  0.576402   274.000000\n",
      "UST            0.983333  0.991597  0.987448   238.000000\n",
      "accuracy       0.599655  0.599655  0.599655     0.599655\n",
      "macro avg      0.598936  0.608867  0.596266  2318.000000\n",
      "weighted avg   0.592726  0.599655  0.588445  2318.000000\n"
     ]
    },
    {
     "data": {
      "text/plain": [
       "<AxesSubplot:>"
      ]
     },
     "execution_count": 39,
     "metadata": {},
     "output_type": "execute_result"
    },
    {
     "data": {
      "image/png": "[encoded data removed]",
      "text/plain": [
       "<Figure size 432x288 with 1 Axes>"
      ]
     },
     "metadata": {
      "needs_background": "light"
     },
     "output_type": "display_data"
    }
   ],
   "source": [
    "m0_cr = classification_report(m0_true, m0_pred, target_names=ligands, output_dict=True)\n",
    "m0_crdf = pd.DataFrame(m0_cr).transpose()\n",
    "print(m0_crdf)\n",
    "\n",
    "m0_crdf[:9]['f1-score'].plot()"
   ]
  },
  {
   "cell_type": "markdown",
   "id": "7966f0ba-496e-4c7e-afd0-aaada137d9b7",
   "metadata": {},
   "source": [
    "### ib"
   ]
  },
  {
   "cell_type": "code",
   "execution_count": 40,
   "id": "6bad9ce9-e22c-403c-b088-3a116412b0a8",
   "metadata": {},
   "outputs": [
    {
     "name": "stdout",
     "output_type": "stream",
     "text": [
      "              precision    recall  f1-score     support\n",
      "TNF            0.556962  0.513619  0.534413   257.00000\n",
      "R84            0.712766  0.788235  0.748603   255.00000\n",
      "PIC            0.535156  0.543651  0.539370   252.00000\n",
      "P3K            0.705000  0.520295  0.598726   271.00000\n",
      "FLA            0.477941  0.509804  0.493359   255.00000\n",
      "CpG            0.502128  0.452107  0.475806   261.00000\n",
      "FSL            0.369458  0.324675  0.345622   231.00000\n",
      "LPS            0.442815  0.596838  0.508418   253.00000\n",
      "UST            0.958904  0.989399  0.973913   283.00000\n",
      "accuracy       0.588870  0.588870  0.588870     0.58887\n",
      "macro avg      0.584570  0.582069  0.579803  2318.00000\n",
      "weighted avg   0.592099  0.588870  0.586925  2318.00000\n"
     ]
    },
    {
     "data": {
      "text/plain": [
       "<AxesSubplot:>"
      ]
     },
     "execution_count": 40,
     "metadata": {},
     "output_type": "execute_result"
    },
    {
     "data": {
      "image/png": "[encoded data removed]",
      "text/plain": [
       "<Figure size 432x288 with 1 Axes>"
      ]
     },
     "metadata": {
      "needs_background": "light"
     },
     "output_type": "display_data"
    }
   ],
   "source": [
    "ib_cr = classification_report(ib_true, ib_pred, target_names=ligands, output_dict=True)\n",
    "ib_crdf = pd.DataFrame(ib_cr).transpose()\n",
    "print(ib_crdf)\n",
    "\n",
    "ib_crdf[:9]['f1-score'].plot()"
   ]
  },
  {
   "cell_type": "markdown",
   "id": "2c80e5d8-f959-4884-8ffa-b4ef41268b6d",
   "metadata": {},
   "source": [
    "### ig"
   ]
  },
  {
   "cell_type": "code",
   "execution_count": 41,
   "id": "d5f1a71a-80bb-4367-9e2f-b616e2c1a88e",
   "metadata": {},
   "outputs": [
    {
     "name": "stdout",
     "output_type": "stream",
     "text": [
      "              precision    recall  f1-score      support\n",
      "TNF            0.689362  0.658537  0.673597   246.000000\n",
      "R84            0.688103  0.816794  0.746946   262.000000\n",
      "PIC            0.601504  0.318725  0.416667   251.000000\n",
      "P3K            0.474403  0.526515  0.499102   264.000000\n",
      "FLA            0.322275  0.274194  0.296296   248.000000\n",
      "CpG            0.380952  0.275862  0.320000   261.000000\n",
      "FSL            0.222222  0.198473  0.209677   262.000000\n",
      "LPS            0.353468  0.605364  0.446328   261.000000\n",
      "UST            0.973585  0.980989  0.977273   263.000000\n",
      "accuracy       0.518982  0.518982  0.518982     0.518982\n",
      "macro avg      0.522875  0.517272  0.509543  2318.000000\n",
      "weighted avg   0.522851  0.518982  0.510441  2318.000000\n"
     ]
    },
    {
     "data": {
      "text/plain": [
       "<AxesSubplot:>"
      ]
     },
     "execution_count": 41,
     "metadata": {},
     "output_type": "execute_result"
    },
    {
     "data": {
      "image/png": "[encoded data removed]",
      "text/plain": [
       "<Figure size 432x288 with 1 Axes>"
      ]
     },
     "metadata": {
      "needs_background": "light"
     },
     "output_type": "display_data"
    }
   ],
   "source": [
    "ig_cr = classification_report(ig_true, ig_pred, target_names=ligands, output_dict=True)\n",
    "ig_crdf = pd.DataFrame(ig_cr).transpose()\n",
    "print(ig_crdf)\n",
    "\n",
    "ig_crdf[:9]['f1-score'].plot()"
   ]
  },
  {
   "cell_type": "markdown",
   "id": "15415e8f-73ab-4734-b3ed-dd8f02224c39",
   "metadata": {},
   "source": [
    "### i0"
   ]
  },
  {
   "cell_type": "code",
   "execution_count": 42,
   "id": "cd5a767c-b588-4de2-8d7e-8da410b6a313",
   "metadata": {},
   "outputs": [
    {
     "name": "stdout",
     "output_type": "stream",
     "text": [
      "              precision    recall  f1-score      support\n",
      "TNF            0.595819  0.662791  0.627523   258.000000\n",
      "R84            0.582840  0.800813  0.674658   246.000000\n",
      "PIC            0.640496  0.617530  0.628803   251.000000\n",
      "P3K            0.460465  0.392857  0.423983   252.000000\n",
      "FLA            0.365385  0.299213  0.329004   254.000000\n",
      "CpG            0.435294  0.412639  0.423664   269.000000\n",
      "FSL            0.341727  0.372549  0.356473   255.000000\n",
      "LPS            0.500000  0.416667  0.454545   276.000000\n",
      "UST            0.950943  0.980545  0.965517   257.000000\n",
      "accuracy       0.548318  0.548318  0.548318     0.548318\n",
      "macro avg      0.541441  0.550623  0.542686  2318.000000\n",
      "weighted avg   0.540697  0.548318  0.541228  2318.000000\n"
     ]
    },
    {
     "data": {
      "text/plain": [
       "<AxesSubplot:>"
      ]
     },
     "execution_count": 42,
     "metadata": {},
     "output_type": "execute_result"
    },
    {
     "data": {
      "image/png": "[encoded data removed]",
      "text/plain": [
       "<Figure size 432x288 with 1 Axes>"
      ]
     },
     "metadata": {
      "needs_background": "light"
     },
     "output_type": "display_data"
    }
   ],
   "source": [
    "i0_cr = classification_report(i0_true, i0_pred, target_names=ligands, output_dict=True)\n",
    "i0_crdf = pd.DataFrame(i0_cr).transpose()\n",
    "print(i0_crdf)\n",
    "\n",
    "i0_crdf[:9]['f1-score'].plot()"
   ]
  },
  {
   "cell_type": "markdown",
   "id": "3a1078ad-03d3-4ec6-92bc-dd832a0ea87d",
   "metadata": {},
   "source": [
    "### i3"
   ]
  },
  {
   "cell_type": "code",
   "execution_count": 43,
   "id": "ee0cb724-d264-450b-8d22-16959ef076dc",
   "metadata": {},
   "outputs": [
    {
     "name": "stdout",
     "output_type": "stream",
     "text": [
      "              precision    recall  f1-score      support\n",
      "TNF            0.543974  0.607273  0.573883   275.000000\n",
      "R84            0.609756  0.775194  0.682594   258.000000\n",
      "PIC            0.589286  0.708155  0.643275   233.000000\n",
      "P3K            0.622449  0.486056  0.545861   251.000000\n",
      "FLA            0.449275  0.473282  0.460967   262.000000\n",
      "CpG            0.394191  0.358491  0.375494   265.000000\n",
      "FSL            0.365854  0.221402  0.275862   271.000000\n",
      "LPS            0.424000  0.418972  0.421471   253.000000\n",
      "UST            0.891304  0.984000  0.935361   250.000000\n",
      "accuracy       0.554357  0.554357  0.554357     0.554357\n",
      "macro avg      0.543343  0.559203  0.546085  2318.000000\n",
      "weighted avg   0.540062  0.554357  0.541989  2318.000000\n"
     ]
    },
    {
     "data": {
      "text/plain": [
       "<AxesSubplot:>"
      ]
     },
     "execution_count": 43,
     "metadata": {},
     "output_type": "execute_result"
    },
    {
     "data": {
      "image/png": "[encoded data removed]",
      "text/plain": [
       "<Figure size 432x288 with 1 Axes>"
      ]
     },
     "metadata": {
      "needs_background": "light"
     },
     "output_type": "display_data"
    }
   ],
   "source": [
    "i3_cr = classification_report(i3_true, i3_pred, target_names=ligands, output_dict=True)\n",
    "i3_crdf = pd.DataFrame(i3_cr).transpose()\n",
    "print(i3_crdf)\n",
    "\n",
    "i3_crdf[:9]['f1-score'].plot()"
   ]
  },
  {
   "cell_type": "markdown",
   "id": "cedac161-127c-4bbf-b90c-652ff6493d22",
   "metadata": {},
   "source": [
    "### i4"
   ]
  },
  {
   "cell_type": "code",
   "execution_count": 44,
   "id": "3975fb80-0a3d-4e36-bc7b-c73579a84d4b",
   "metadata": {},
   "outputs": [
    {
     "name": "stdout",
     "output_type": "stream",
     "text": [
      "              precision    recall  f1-score      support\n",
      "TNF            0.484962  0.520161  0.501946   248.000000\n",
      "R84            0.688797  0.643411  0.665331   258.000000\n",
      "PIC            0.508621  0.696850  0.588040   254.000000\n",
      "P3K            0.742857  0.728000  0.735354   250.000000\n",
      "FLA            0.459732  0.556911  0.503676   246.000000\n",
      "CpG            0.502222  0.453815  0.476793   249.000000\n",
      "FSL            0.395973  0.212996  0.276995   277.000000\n",
      "LPS            0.483471  0.441509  0.461538   265.000000\n",
      "UST            0.884868  0.992620  0.935652   271.000000\n",
      "accuracy       0.581967  0.581967  0.581967     0.581967\n",
      "macro avg      0.572389  0.582919  0.571703  2318.000000\n",
      "weighted avg   0.573182  0.581967  0.571424  2318.000000\n"
     ]
    },
    {
     "data": {
      "text/plain": [
       "<AxesSubplot:>"
      ]
     },
     "execution_count": 44,
     "metadata": {},
     "output_type": "execute_result"
    },
    {
     "data": {
      "image/png": "[encoded data removed]",
      "text/plain": [
       "<Figure size 432x288 with 1 Axes>"
      ]
     },
     "metadata": {
      "needs_background": "light"
     },
     "output_type": "display_data"
    }
   ],
   "source": [
    "i4_cr = classification_report(i4_true, i4_pred, target_names=ligands, output_dict=True)\n",
    "i4_crdf = pd.DataFrame(i4_cr).transpose()\n",
    "print(i4_crdf)\n",
    "\n",
    "i4_crdf[:9]['f1-score'].plot()"
   ]
  },
  {
   "cell_type": "markdown",
   "id": "8d031454-1922-4375-ae73-dfd52a948b60",
   "metadata": {},
   "source": [
    "## Holistic"
   ]
  },
  {
   "cell_type": "code",
   "execution_count": 45,
   "id": "90aff6e7-f1c1-4f62-9855-04a7c06feefe",
   "metadata": {},
   "outputs": [],
   "source": [
    "total_f1 = pd.concat([m0_crdf['f1-score'], ib_crdf['f1-score'], ig_crdf['f1-score'], i0_crdf['f1-score'], i3_crdf['f1-score'], i4_crdf['f1-score']], axis=1)\n",
    "total_f1 = total_f1.set_axis(['M0', 'IB', 'IG', 'I0', 'I3', 'I4'], axis=1)"
   ]
  },
  {
   "cell_type": "code",
   "execution_count": 46,
   "id": "a979a5a2-650e-4608-8e50-51730bfbc450",
   "metadata": {},
   "outputs": [
    {
     "data": {
      "text/html": [
       "<div>\n",
       "<style scoped>\n",
       "    .dataframe tbody tr th:only-of-type {\n",
       "        vertical-align: middle;\n",
       "    }\n",
       "\n",
       "    .dataframe tbody tr th {\n",
       "        vertical-align: top;\n",
       "    }\n",
       "\n",
       "    .dataframe thead th {\n",
       "        text-align: right;\n",
       "    }\n",
       "</style>\n",
       "<table border=\"1\" class=\"dataframe\">\n",
       "  <thead>\n",
       "    <tr style=\"text-align: right;\">\n",
       "      <th></th>\n",
       "      <th>M0</th>\n",
       "      <th>IB</th>\n",
       "      <th>IG</th>\n",
       "      <th>I0</th>\n",
       "      <th>I3</th>\n",
       "      <th>I4</th>\n",
       "    </tr>\n",
       "  </thead>\n",
       "  <tbody>\n",
       "    <tr>\n",
       "      <th>TNF</th>\n",
       "      <td>0.625000</td>\n",
       "      <td>0.534413</td>\n",
       "      <td>0.673597</td>\n",
       "      <td>0.627523</td>\n",
       "      <td>0.573883</td>\n",
       "      <td>0.501946</td>\n",
       "    </tr>\n",
       "    <tr>\n",
       "      <th>R84</th>\n",
       "      <td>0.725780</td>\n",
       "      <td>0.748603</td>\n",
       "      <td>0.746946</td>\n",
       "      <td>0.674658</td>\n",
       "      <td>0.682594</td>\n",
       "      <td>0.665331</td>\n",
       "    </tr>\n",
       "    <tr>\n",
       "      <th>PIC</th>\n",
       "      <td>0.752101</td>\n",
       "      <td>0.539370</td>\n",
       "      <td>0.416667</td>\n",
       "      <td>0.628803</td>\n",
       "      <td>0.643275</td>\n",
       "      <td>0.588040</td>\n",
       "    </tr>\n",
       "    <tr>\n",
       "      <th>P3K</th>\n",
       "      <td>0.498195</td>\n",
       "      <td>0.598726</td>\n",
       "      <td>0.499102</td>\n",
       "      <td>0.423983</td>\n",
       "      <td>0.545861</td>\n",
       "      <td>0.735354</td>\n",
       "    </tr>\n",
       "    <tr>\n",
       "      <th>FLA</th>\n",
       "      <td>0.461538</td>\n",
       "      <td>0.493359</td>\n",
       "      <td>0.296296</td>\n",
       "      <td>0.329004</td>\n",
       "      <td>0.460967</td>\n",
       "      <td>0.503676</td>\n",
       "    </tr>\n",
       "    <tr>\n",
       "      <th>CpG</th>\n",
       "      <td>0.439926</td>\n",
       "      <td>0.475806</td>\n",
       "      <td>0.320000</td>\n",
       "      <td>0.423664</td>\n",
       "      <td>0.375494</td>\n",
       "      <td>0.476793</td>\n",
       "    </tr>\n",
       "    <tr>\n",
       "      <th>FSL</th>\n",
       "      <td>0.300000</td>\n",
       "      <td>0.345622</td>\n",
       "      <td>0.209677</td>\n",
       "      <td>0.356473</td>\n",
       "      <td>0.275862</td>\n",
       "      <td>0.276995</td>\n",
       "    </tr>\n",
       "    <tr>\n",
       "      <th>LPS</th>\n",
       "      <td>0.576402</td>\n",
       "      <td>0.508418</td>\n",
       "      <td>0.446328</td>\n",
       "      <td>0.454545</td>\n",
       "      <td>0.421471</td>\n",
       "      <td>0.461538</td>\n",
       "    </tr>\n",
       "    <tr>\n",
       "      <th>UST</th>\n",
       "      <td>0.987448</td>\n",
       "      <td>0.973913</td>\n",
       "      <td>0.977273</td>\n",
       "      <td>0.965517</td>\n",
       "      <td>0.935361</td>\n",
       "      <td>0.935652</td>\n",
       "    </tr>\n",
       "  </tbody>\n",
       "</table>\n",
       "</div>"
      ],
      "text/plain": [
       "           M0        IB        IG        I0        I3        I4\n",
       "TNF  0.625000  0.534413  0.673597  0.627523  0.573883  0.501946\n",
       "R84  0.725780  0.748603  0.746946  0.674658  0.682594  0.665331\n",
       "PIC  0.752101  0.539370  0.416667  0.628803  0.643275  0.588040\n",
       "P3K  0.498195  0.598726  0.499102  0.423983  0.545861  0.735354\n",
       "FLA  0.461538  0.493359  0.296296  0.329004  0.460967  0.503676\n",
       "CpG  0.439926  0.475806  0.320000  0.423664  0.375494  0.476793\n",
       "FSL  0.300000  0.345622  0.209677  0.356473  0.275862  0.276995\n",
       "LPS  0.576402  0.508418  0.446328  0.454545  0.421471  0.461538\n",
       "UST  0.987448  0.973913  0.977273  0.965517  0.935361  0.935652"
      ]
     },
     "execution_count": 46,
     "metadata": {},
     "output_type": "execute_result"
    }
   ],
   "source": [
    "total_f1.iloc[:9]"
   ]
  },
  {
   "cell_type": "code",
   "execution_count": 47,
   "id": "c5e5b160-ca5f-4ea3-b59e-881a24a4df5c",
   "metadata": {},
   "outputs": [
    {
     "data": {
      "text/plain": [
       "<AxesSubplot:>"
      ]
     },
     "execution_count": 47,
     "metadata": {},
     "output_type": "execute_result"
    },
    {
     "data": {
      "image/png": "[encoded data removed]",
      "text/plain": [
       "<Figure size 432x288 with 1 Axes>"
      ]
     },
     "metadata": {
      "needs_background": "light"
     },
     "output_type": "display_data"
    }
   ],
   "source": [
    "total_f1.iloc[:9].plot()"
   ]
  },
  {
   "cell_type": "code",
   "execution_count": 48,
   "id": "a24d8a0c-a581-44d0-9903-a9f953ce6964",
   "metadata": {},
   "outputs": [
    {
     "data": {
      "text/plain": [
       "<AxesSubplot:>"
      ]
     },
     "execution_count": 48,
     "metadata": {},
     "output_type": "execute_result"
    },
    {
     "data": {
      "image/png": "[encoded data removed]",
      "text/plain": [
       "<Figure size 432x288 with 1 Axes>"
      ]
     },
     "metadata": {
      "needs_background": "light"
     },
     "output_type": "display_data"
    }
   ],
   "source": [
    "total_f1.iloc[:9].transpose().plot()"
   ]
  },
  {
   "cell_type": "code",
   "execution_count": 49,
   "id": "c7f8ec9d-b42d-45e9-b8c0-31466bfefb16",
   "metadata": {},
   "outputs": [
    {
     "data": {
      "text/plain": [
       "M0    0.596266\n",
       "IB    0.579803\n",
       "IG    0.509543\n",
       "I0    0.542686\n",
       "I3    0.546085\n",
       "I4    0.571703\n",
       "dtype: float64"
      ]
     },
     "execution_count": 49,
     "metadata": {},
     "output_type": "execute_result"
    }
   ],
   "source": [
    "# average f1 score for all ligands across each polarization state\n",
    "np.mean(total_f1.iloc[:9])"
   ]
  },
  {
   "cell_type": "code",
   "execution_count": 50,
   "id": "71f5d69a-03f4-4672-84b0-23a08f91adaf",
   "metadata": {},
   "outputs": [
    {
     "data": {
      "text/plain": [
       "<AxesSubplot:>"
      ]
     },
     "execution_count": 50,
     "metadata": {},
     "output_type": "execute_result"
    },
    {
     "data": {
      "image/png": "[encoded data removed]",
      "text/plain": [
       "<Figure size 432x288 with 1 Axes>"
      ]
     },
     "metadata": {
      "needs_background": "light"
     },
     "output_type": "display_data"
    }
   ],
   "source": [
    "np.mean(total_f1.iloc[:9]).plot()"
   ]
  }
 ],
 "metadata": {
  "kernelspec": {
   "display_name": "Python 3 (ipykernel)",
   "language": "python",
   "name": "python3"
  },
  "language_info": {
   "codemirror_mode": {
    "name": "ipython",
    "version": 3
   },
   "file_extension": ".py",
   "mimetype": "text/x-python",
   "name": "python",
   "nbconvert_exporter": "python",
   "pygments_lexer": "ipython3",
   "version": "3.8.12"
  }
 },
 "nbformat": 4,
 "nbformat_minor": 5
}
