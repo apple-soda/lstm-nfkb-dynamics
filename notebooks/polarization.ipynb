{
 "cells": [
  {
   "cell_type": "markdown",
   "id": "0c82eba7-d819-4dd9-8b7a-754680a6f61b",
   "metadata": {},
   "source": [
    "# This new ML pipeline enables equal representation of each polarization state in each train, test, and validation dataset\n",
    "### In the future, if needed, refactor into functions for efficiency"
   ]
  },
  {
   "cell_type": "code",
   "execution_count": 1,
   "id": "4b7fbbbe-58fa-4350-9750-0071dfc7b1a7",
   "metadata": {},
   "outputs": [],
   "source": [
    "import sys\n",
    "sys.path.append('..')"
   ]
  },
  {
   "cell_type": "code",
   "execution_count": 2,
   "id": "56e8f11b-cd15-496d-ae81-1c78f3b783a3",
   "metadata": {},
   "outputs": [],
   "source": [
    "import torch\n",
    "import pandas as pd\n",
    "import numpy as np\n",
    "import sklearn\n",
    "import matplotlib.pyplot as plt\n",
    "import random\n",
    "import torch.nn as nn\n",
    "import torch.nn.functional as F\n",
    "import seaborn as sns"
   ]
  },
  {
   "cell_type": "code",
   "execution_count": 3,
   "id": "5691cff9-96fa-44c1-8aed-c88af943a8fa",
   "metadata": {},
   "outputs": [],
   "source": [
    "from core.getdata import *\n",
    "from core.dataset import *\n",
    "from core.network import *\n",
    "from core.trainer import *\n",
    "from core.visualization import *"
   ]
  },
  {
   "cell_type": "code",
   "execution_count": 4,
   "id": "8281c4c0-62ed-4141-94ea-d61d83ab19f8",
   "metadata": {},
   "outputs": [],
   "source": [
    "from torch.utils.data import Dataset\n",
    "from torchvision import datasets\n",
    "from torchvision.transforms import ToTensor"
   ]
  },
  {
   "cell_type": "code",
   "execution_count": 5,
   "id": "bed85b4f-a0a8-443c-ad9a-8c698cb38c28",
   "metadata": {},
   "outputs": [],
   "source": [
    "ligands = [\"TNF\", \"R84\", \"PIC\", \"P3K\", \"FLA\", \"CpG\", \"FSL\", \"LPS\", \"UST\"]\n",
    "polarization = [\"\", \"ib\", \"ig\", \"i0\", \"i3\", \"i4\"]\n",
    "replicas, size = 2, 1288 # replicated"
   ]
  },
  {
   "cell_type": "code",
   "execution_count": 6,
   "id": "8888ef2d-13ed-4dbb-af39-3bdcb94c467d",
   "metadata": {},
   "outputs": [],
   "source": [
    "asd = DatasetPolar(ligands, polarization, replicas, size)"
   ]
  },
  {
   "cell_type": "code",
   "execution_count": 7,
   "id": "f33b3323-2e3d-48d3-bb0a-93c1f4e7d980",
   "metadata": {},
   "outputs": [
    {
     "data": {
      "text/plain": [
       "(69552,)"
      ]
     },
     "execution_count": 7,
     "metadata": {},
     "output_type": "execute_result"
    }
   ],
   "source": [
    "asd.labels.shape"
   ]
  },
  {
   "cell_type": "code",
   "execution_count": 8,
   "id": "9914ae36-f4d8-421a-a2c7-969b3c94205d",
   "metadata": {},
   "outputs": [],
   "source": [
    "m0 = DatasetPolar(ligands, [\"\"], replicas, size)\n",
    "ib = DatasetPolar(ligands, [\"ib\"], replicas, size)\n",
    "ig = DatasetPolar(ligands, [\"ig\"], replicas, size)\n",
    "i0 = DatasetPolar(ligands, [\"i0\"], replicas, size)\n",
    "i3 = DatasetPolar(ligands, [\"i3\"], replicas, size)\n",
    "i4 = DatasetPolar(ligands, [\"i4\"], replicas, size)"
   ]
  },
  {
   "cell_type": "code",
   "execution_count": 9,
   "id": "487b1378-f48b-4000-9277-d5139d59ade8",
   "metadata": {},
   "outputs": [
    {
     "name": "stdout",
     "output_type": "stream",
     "text": [
      "11592 11592 11592 11592 11592 11592\n"
     ]
    }
   ],
   "source": [
    "print(len(m0), len(ib), len(ig), len(i0), len(i3), len(i4))"
   ]
  },
  {
   "cell_type": "code",
   "execution_count": 10,
   "id": "87da8cb2-3772-406d-b22c-5072d326f172",
   "metadata": {},
   "outputs": [],
   "source": [
    "m0_train, m0_val, m0_test = torch.utils.data.random_split(m0, [6956, 2318, 2318])\n",
    "ib_train, ib_val, ib_test = torch.utils.data.random_split(ib, [6956, 2318, 2318])\n",
    "ig_train, ig_val, ig_test = torch.utils.data.random_split(ig, [6956, 2318, 2318])\n",
    "i0_train, i0_val, i0_test = torch.utils.data.random_split(i0, [6956, 2318, 2318])\n",
    "i3_train, i3_val, i3_test = torch.utils.data.random_split(i3, [6956, 2318, 2318])\n",
    "i4_train, i4_val, i4_test = torch.utils.data.random_split(i4, [6956, 2318, 2318])"
   ]
  },
  {
   "cell_type": "code",
   "execution_count": 11,
   "id": "0afc4931-c4c7-42a3-b4db-4e55cafec745",
   "metadata": {},
   "outputs": [],
   "source": [
    "# extract all data and labels from each torch subset object and refactor into my own objects\n",
    "\n",
    "def extract_xy(subsets):\n",
    "    train, val, test = subsets # unpack tuple\n",
    "    train_X = [item[0] for item in train]\n",
    "    train_Y = [item[1] for item in train]\n",
    "    val_X = [item[0] for item in val]\n",
    "    val_Y = [item[1] for item in val]\n",
    "    test_X = [item[0] for item in test]\n",
    "    test_Y = [item[1] for item in test]\n",
    "    \n",
    "    return train_X, train_Y, val_X, val_Y, test_X, test_Y"
   ]
  },
  {
   "cell_type": "code",
   "execution_count": 12,
   "id": "00cbcb18-5e0a-493b-b11f-8c1a37562111",
   "metadata": {},
   "outputs": [],
   "source": [
    "m0_train_X, m0_train_Y, m0_val_X, m0_val_Y, m0_test_X, m0_test_Y = extract_xy((m0_train, m0_val, m0_test))\n",
    "ib_train_X, ib_train_Y, ib_val_X, ib_val_Y, ib_test_X, ib_test_Y = extract_xy((ib_train, ib_val, ib_test))\n",
    "ig_train_X, ig_train_Y, ig_val_X, ig_val_Y, ig_test_X, ig_test_Y = extract_xy((ig_train, ig_val, ig_test))\n",
    "i0_train_X, i0_train_Y, i0_val_X, i0_val_Y, i0_test_X, i0_test_Y = extract_xy((i0_train, i0_val, i0_test))\n",
    "i3_train_X, i3_train_Y, i3_val_X, i3_val_Y, i3_test_X, i3_test_Y = extract_xy((i3_train, i3_val, i3_test))\n",
    "i4_train_X, i4_train_Y, i4_val_X, i4_val_Y, i4_test_X, i4_test_Y = extract_xy((i4_train, i4_val, i4_test))"
   ]
  },
  {
   "cell_type": "code",
   "execution_count": 13,
   "id": "54c09c51-0d4d-4445-8583-9d74dff36bc7",
   "metadata": {},
   "outputs": [],
   "source": [
    "# split into 60/20/20 for each polarization dataset\n",
    "# more empirical method to analyze model metrics across each polarization\n",
    "\n",
    "# X = np.vstack([m0.data, ib.data, ig.data, i0.data, i3.data, i4.data])\n",
    "# Y = np.hstack([m0.labels, ib.labels, ig.labels, i0.labels, i3.labels, i4.labels])"
   ]
  },
  {
   "cell_type": "code",
   "execution_count": 14,
   "id": "b1b48196-cd03-4844-a280-4e0a6282cc73",
   "metadata": {},
   "outputs": [],
   "source": [
    "class TorchData:\n",
    "    def __init__(self, data, labels):\n",
    "        self.data = data\n",
    "        self.labels = labels\n",
    "        \n",
    "    def __len__(self):\n",
    "        return len(self.data)\n",
    "    \n",
    "    def __getitem__(self, idx):\n",
    "        return self.data[idx], self.labels[idx]"
   ]
  },
  {
   "cell_type": "code",
   "execution_count": 15,
   "id": "5317d177-5862-42a4-a3c0-54f9b0a5ddaf",
   "metadata": {},
   "outputs": [],
   "source": [
    "# need to concat all train_X and train_Y into one dataset for training\n",
    "train_X = np.vstack([m0_train_X, ib_train_X, ig_train_X, i0_train_X, i3_train_X, i4_train_X])\n",
    "train_Y = np.hstack([m0_train_Y, ib_train_Y, ig_train_Y, i0_train_Y, i3_train_Y, i4_train_Y])\n",
    "\n",
    "val_X = np.vstack([m0_val_X, ib_val_X, ig_val_X, i0_val_X, i3_val_X, i4_val_X])\n",
    "val_Y = np.hstack([m0_val_Y, ib_val_Y, ig_val_Y, i0_val_Y, i3_val_Y, i4_val_Y])\n",
    "\n",
    "test_X = np.vstack([m0_test_X, ib_test_X, ig_test_X, i0_test_X, i3_test_X, i4_test_X])\n",
    "test_Y = np.hstack([m0_test_Y, ib_test_Y, ig_test_Y, i0_test_Y, i3_test_Y, i4_test_Y])"
   ]
  },
  {
   "cell_type": "code",
   "execution_count": 16,
   "id": "88d31a75-c69e-4e1f-b226-a42d347c5546",
   "metadata": {},
   "outputs": [
    {
     "name": "stdout",
     "output_type": "stream",
     "text": [
      "(41736, 98, 1) (41736,)\n",
      "(13908, 98, 1) (13908,)\n",
      "(13908, 98, 1) (13908,)\n"
     ]
    }
   ],
   "source": [
    "print(train_X.shape, train_Y.shape)\n",
    "print(val_X.shape, val_Y.shape)\n",
    "print(test_X.shape, test_Y.shape)"
   ]
  },
  {
   "cell_type": "code",
   "execution_count": 17,
   "id": "20600a43-b8f7-48fe-9ae5-89e0c9de5828",
   "metadata": {},
   "outputs": [],
   "source": [
    "train = TorchData(train_X, train_Y)\n",
    "val = TorchData(val_X, val_Y)\n",
    "test = TorchData(test_X, test_Y)"
   ]
  },
  {
   "cell_type": "code",
   "execution_count": 18,
   "id": "c7bfddca-9b56-4487-b3d8-bba7a313e2aa",
   "metadata": {},
   "outputs": [],
   "source": [
    "trainloader = torch.utils.data.DataLoader(train, batch_size=64, shuffle=True)\n",
    "valloader = torch.utils.data.DataLoader(val, batch_size=64, shuffle=True)\n",
    "testloader = torch.utils.data.DataLoader(test, batch_size=64, shuffle=True)"
   ]
  },
  {
   "cell_type": "code",
   "execution_count": 19,
   "id": "9919155f-d1f4-4c18-8ef0-d775c609cc32",
   "metadata": {},
   "outputs": [],
   "source": [
    "# hyperparameters\n",
    "input_size = 1\n",
    "hidden_size = 98\n",
    "output_size = 9\n",
    "\n",
    "lr = 0.001\n",
    "n_epochs = 70\n",
    "batch_size = 64\n",
    "device = torch.device('cuda')"
   ]
  },
  {
   "cell_type": "code",
   "execution_count": 20,
   "id": "a61f9484-e2d2-40dd-b711-b511c4a4ef06",
   "metadata": {},
   "outputs": [],
   "source": [
    "net = LSTM(input_size=input_size, hidden_sizes=hidden_size, output_size=output_size, num_layers=1, device=device)"
   ]
  },
  {
   "cell_type": "code",
   "execution_count": 21,
   "id": "9773aa39-3996-44ea-9072-5dd8b7adda1d",
   "metadata": {},
   "outputs": [
    {
     "data": {
      "text/plain": [
       "LSTM(\n",
       "  (lstm): LSTM(1, 98, batch_first=True)\n",
       "  (fc1): Linear(in_features=98, out_features=9, bias=True)\n",
       ")"
      ]
     },
     "execution_count": 21,
     "metadata": {},
     "output_type": "execute_result"
    }
   ],
   "source": [
    "net.train()"
   ]
  },
  {
   "cell_type": "code",
   "execution_count": 22,
   "id": "795b3f2b-cd9f-42dd-9465-f404e58a4656",
   "metadata": {},
   "outputs": [],
   "source": [
    "trainer = LSTMTrainer(model=net, device=device)"
   ]
  },
  {
   "cell_type": "code",
   "execution_count": 23,
   "id": "852b0ba2-689d-4eb4-b57d-29849b6d234f",
   "metadata": {
    "scrolled": true,
    "tags": []
   },
   "outputs": [
    {
     "name": "stderr",
     "output_type": "stream",
     "text": [
      "  1%|█▏                                                                                 | 1/70 [00:07<08:16,  7.20s/it]"
     ]
    },
    {
     "name": "stdout",
     "output_type": "stream",
     "text": [
      "Epoch 001: | Training Loss: 2.127422685827632 | Validation Loss: 2.1875420130720924\n"
     ]
    },
    {
     "name": "stderr",
     "output_type": "stream",
     "text": [
      "  3%|██▎                                                                                | 2/70 [00:13<07:32,  6.66s/it]"
     ]
    },
    {
     "name": "stdout",
     "output_type": "stream",
     "text": [
      "Epoch 002: | Training Loss: 2.184056089263963 | Validation Loss: 2.1837861111404697\n"
     ]
    },
    {
     "name": "stderr",
     "output_type": "stream",
     "text": [
      "  4%|███▌                                                                               | 3/70 [00:19<07:17,  6.53s/it]"
     ]
    },
    {
     "name": "stdout",
     "output_type": "stream",
     "text": [
      "Epoch 003: | Training Loss: 2.1453792329586667 | Validation Loss: 2.1140996988760223\n"
     ]
    },
    {
     "name": "stderr",
     "output_type": "stream",
     "text": [
      "  6%|████▋                                                                              | 4/70 [00:26<07:06,  6.46s/it]"
     ]
    },
    {
     "name": "stdout",
     "output_type": "stream",
     "text": [
      "Epoch 004: | Training Loss: 2.103276408832252 | Validation Loss: 2.0941616203806817\n"
     ]
    },
    {
     "name": "stderr",
     "output_type": "stream",
     "text": [
      "  7%|█████▉                                                                             | 5/70 [00:32<06:54,  6.37s/it]"
     ]
    },
    {
     "name": "stdout",
     "output_type": "stream",
     "text": [
      "Epoch 005: | Training Loss: 2.1086565429547295 | Validation Loss: 2.073596234715313\n"
     ]
    },
    {
     "name": "stderr",
     "output_type": "stream",
     "text": [
      "  9%|███████                                                                            | 6/70 [00:38<06:46,  6.35s/it]"
     ]
    },
    {
     "name": "stdout",
     "output_type": "stream",
     "text": [
      "Epoch 006: | Training Loss: 2.0742403873075568 | Validation Loss: 2.0417723546334363\n"
     ]
    },
    {
     "name": "stderr",
     "output_type": "stream",
     "text": [
      " 10%|████████▎                                                                          | 7/70 [00:45<06:41,  6.37s/it]"
     ]
    },
    {
     "name": "stdout",
     "output_type": "stream",
     "text": [
      "Epoch 007: | Training Loss: 2.0648840755269866 | Validation Loss: 2.0383683180590286\n"
     ]
    },
    {
     "name": "stderr",
     "output_type": "stream",
     "text": [
      " 11%|█████████▍                                                                         | 8/70 [00:51<06:32,  6.33s/it]"
     ]
    },
    {
     "name": "stdout",
     "output_type": "stream",
     "text": [
      "Epoch 008: | Training Loss: 1.956132757353381 | Validation Loss: 1.9309776387083422\n"
     ]
    },
    {
     "name": "stderr",
     "output_type": "stream",
     "text": [
      " 13%|██████████▋                                                                        | 9/70 [00:57<06:26,  6.34s/it]"
     ]
    },
    {
     "name": "stdout",
     "output_type": "stream",
     "text": [
      "Epoch 009: | Training Loss: 1.9146102803772114 | Validation Loss: 1.8525596091506678\n"
     ]
    },
    {
     "name": "stderr",
     "output_type": "stream",
     "text": [
      " 14%|███████████▋                                                                      | 10/70 [01:03<06:15,  6.26s/it]"
     ]
    },
    {
     "name": "stdout",
     "output_type": "stream",
     "text": [
      "Epoch 010: | Training Loss: 1.951322663067676 | Validation Loss: 1.9865436160236323\n"
     ]
    },
    {
     "name": "stderr",
     "output_type": "stream",
     "text": [
      " 16%|████████████▉                                                                     | 11/70 [01:10<06:08,  6.25s/it]"
     ]
    },
    {
     "name": "stdout",
     "output_type": "stream",
     "text": [
      "Epoch 011: | Training Loss: 1.885522787822881 | Validation Loss: 1.795502015210073\n"
     ]
    },
    {
     "name": "stderr",
     "output_type": "stream",
     "text": [
      " 17%|██████████████                                                                    | 12/70 [01:16<06:04,  6.29s/it]"
     ]
    },
    {
     "name": "stdout",
     "output_type": "stream",
     "text": [
      "Epoch 012: | Training Loss: 1.7833406277126411 | Validation Loss: 1.763331624346042\n"
     ]
    },
    {
     "name": "stderr",
     "output_type": "stream",
     "text": [
      " 19%|███████████████▏                                                                  | 13/70 [01:22<05:57,  6.27s/it]"
     ]
    },
    {
     "name": "stdout",
     "output_type": "stream",
     "text": [
      "Epoch 013: | Training Loss: 1.799108571699531 | Validation Loss: 1.8354080292063022\n"
     ]
    },
    {
     "name": "stderr",
     "output_type": "stream",
     "text": [
      " 20%|████████████████▍                                                                 | 14/70 [01:29<05:54,  6.33s/it]"
     ]
    },
    {
     "name": "stdout",
     "output_type": "stream",
     "text": [
      "Epoch 014: | Training Loss: 1.7709469619972964 | Validation Loss: 1.7233227639023316\n"
     ]
    },
    {
     "name": "stderr",
     "output_type": "stream",
     "text": [
      " 21%|█████████████████▌                                                                | 15/70 [01:35<05:47,  6.32s/it]"
     ]
    },
    {
     "name": "stdout",
     "output_type": "stream",
     "text": [
      "Epoch 015: | Training Loss: 1.7239873507851664 | Validation Loss: 1.730834734549216\n"
     ]
    },
    {
     "name": "stderr",
     "output_type": "stream",
     "text": [
      " 23%|██████████████████▋                                                               | 16/70 [01:41<05:39,  6.29s/it]"
     ]
    },
    {
     "name": "stdout",
     "output_type": "stream",
     "text": [
      "Epoch 016: | Training Loss: 1.6917080006592125 | Validation Loss: 1.6707547503873843\n"
     ]
    },
    {
     "name": "stderr",
     "output_type": "stream",
     "text": [
      " 24%|███████████████████▉                                                              | 17/70 [01:48<05:34,  6.31s/it]"
     ]
    },
    {
     "name": "stdout",
     "output_type": "stream",
     "text": [
      "Epoch 017: | Training Loss: 1.671414294250161 | Validation Loss: 1.6447794278827281\n"
     ]
    },
    {
     "name": "stderr",
     "output_type": "stream",
     "text": [
      " 26%|█████████████████████                                                             | 18/70 [01:54<05:27,  6.29s/it]"
     ]
    },
    {
     "name": "stdout",
     "output_type": "stream",
     "text": [
      "Epoch 018: | Training Loss: 1.6304721823147574 | Validation Loss: 1.6027222778819024\n"
     ]
    },
    {
     "name": "stderr",
     "output_type": "stream",
     "text": [
      " 27%|██████████████████████▎                                                           | 19/70 [02:00<05:22,  6.33s/it]"
     ]
    },
    {
     "name": "stdout",
     "output_type": "stream",
     "text": [
      "Epoch 019: | Training Loss: 1.58635129442989 | Validation Loss: 1.583890757976322\n"
     ]
    },
    {
     "name": "stderr",
     "output_type": "stream",
     "text": [
      " 29%|███████████████████████▍                                                          | 20/70 [02:07<05:16,  6.34s/it]"
     ]
    },
    {
     "name": "stdout",
     "output_type": "stream",
     "text": [
      "Epoch 020: | Training Loss: 1.5632787577773675 | Validation Loss: 1.5510500740567479\n"
     ]
    },
    {
     "name": "stderr",
     "output_type": "stream",
     "text": [
      " 30%|████████████████████████▌                                                         | 21/70 [02:13<05:10,  6.34s/it]"
     ]
    },
    {
     "name": "stdout",
     "output_type": "stream",
     "text": [
      "Epoch 021: | Training Loss: 1.5407219216067796 | Validation Loss: 1.5391552945889464\n"
     ]
    },
    {
     "name": "stderr",
     "output_type": "stream",
     "text": [
      " 31%|█████████████████████████▊                                                        | 22/70 [02:19<05:06,  6.39s/it]"
     ]
    },
    {
     "name": "stdout",
     "output_type": "stream",
     "text": [
      "Epoch 022: | Training Loss: 1.5179240234412972 | Validation Loss: 1.5278767784801097\n"
     ]
    },
    {
     "name": "stderr",
     "output_type": "stream",
     "text": [
      " 33%|██████████████████████████▉                                                       | 23/70 [02:26<05:00,  6.40s/it]"
     ]
    },
    {
     "name": "stdout",
     "output_type": "stream",
     "text": [
      "Epoch 023: | Training Loss: 1.5396646717606057 | Validation Loss: 1.5878229808369908\n"
     ]
    },
    {
     "name": "stderr",
     "output_type": "stream",
     "text": [
      " 34%|████████████████████████████                                                      | 24/70 [02:32<04:55,  6.43s/it]"
     ]
    },
    {
     "name": "stdout",
     "output_type": "stream",
     "text": [
      "Epoch 024: | Training Loss: 1.5057571794136013 | Validation Loss: 1.5273574880503733\n"
     ]
    },
    {
     "name": "stderr",
     "output_type": "stream",
     "text": [
      " 36%|█████████████████████████████▎                                                    | 25/70 [02:39<04:50,  6.45s/it]"
     ]
    },
    {
     "name": "stdout",
     "output_type": "stream",
     "text": [
      "Epoch 025: | Training Loss: 1.4806785391811939 | Validation Loss: 1.5228926780026988\n"
     ]
    },
    {
     "name": "stderr",
     "output_type": "stream",
     "text": [
      " 37%|██████████████████████████████▍                                                   | 26/70 [02:45<04:41,  6.41s/it]"
     ]
    },
    {
     "name": "stdout",
     "output_type": "stream",
     "text": [
      "Epoch 026: | Training Loss: 1.4669326341170448 | Validation Loss: 1.458832560876094\n"
     ]
    },
    {
     "name": "stderr",
     "output_type": "stream",
     "text": [
      " 39%|███████████████████████████████▋                                                  | 27/70 [02:52<04:36,  6.43s/it]"
     ]
    },
    {
     "name": "stdout",
     "output_type": "stream",
     "text": [
      "Epoch 027: | Training Loss: 1.4405772574645272 | Validation Loss: 1.4713166284998622\n"
     ]
    },
    {
     "name": "stderr",
     "output_type": "stream",
     "text": [
      " 40%|████████████████████████████████▊                                                 | 28/70 [02:58<04:29,  6.41s/it]"
     ]
    },
    {
     "name": "stdout",
     "output_type": "stream",
     "text": [
      "Epoch 028: | Training Loss: 1.419545376830225 | Validation Loss: 1.4660272374065644\n"
     ]
    },
    {
     "name": "stderr",
     "output_type": "stream",
     "text": [
      " 41%|█████████████████████████████████▉                                                | 29/70 [03:04<04:21,  6.37s/it]"
     ]
    },
    {
     "name": "stdout",
     "output_type": "stream",
     "text": [
      "Epoch 029: | Training Loss: 1.43318202064742 | Validation Loss: 1.5186929937896378\n"
     ]
    },
    {
     "name": "stderr",
     "output_type": "stream",
     "text": [
      " 43%|███████████████████████████████████▏                                              | 30/70 [03:11<04:15,  6.39s/it]"
     ]
    },
    {
     "name": "stdout",
     "output_type": "stream",
     "text": [
      "Epoch 030: | Training Loss: 1.3880721369892313 | Validation Loss: 1.437364890487916\n"
     ]
    },
    {
     "name": "stderr",
     "output_type": "stream",
     "text": [
      " 44%|████████████████████████████████████▎                                             | 31/70 [03:17<04:07,  6.35s/it]"
     ]
    },
    {
     "name": "stdout",
     "output_type": "stream",
     "text": [
      "Epoch 031: | Training Loss: 1.3713978572789962 | Validation Loss: 1.3919414199820352\n"
     ]
    },
    {
     "name": "stderr",
     "output_type": "stream",
     "text": [
      " 46%|█████████████████████████████████████▍                                            | 32/70 [03:23<04:02,  6.38s/it]"
     ]
    },
    {
     "name": "stdout",
     "output_type": "stream",
     "text": [
      "Epoch 032: | Training Loss: 1.4860378766680566 | Validation Loss: 1.5197910491479647\n"
     ]
    },
    {
     "name": "stderr",
     "output_type": "stream",
     "text": [
      " 47%|██████████████████████████████████████▋                                           | 33/70 [03:30<03:54,  6.35s/it]"
     ]
    },
    {
     "name": "stdout",
     "output_type": "stream",
     "text": [
      "Epoch 033: | Training Loss: 1.454205550607094 | Validation Loss: 1.4436938926714276\n"
     ]
    },
    {
     "name": "stderr",
     "output_type": "stream",
     "text": [
      " 49%|███████████████████████████████████████▊                                          | 34/70 [03:36<03:47,  6.32s/it]"
     ]
    },
    {
     "name": "stdout",
     "output_type": "stream",
     "text": [
      "Epoch 034: | Training Loss: 1.4052296696176574 | Validation Loss: 1.4073567270138942\n"
     ]
    },
    {
     "name": "stderr",
     "output_type": "stream",
     "text": [
      " 50%|█████████████████████████████████████████                                         | 35/70 [03:42<03:43,  6.39s/it]"
     ]
    },
    {
     "name": "stdout",
     "output_type": "stream",
     "text": [
      "Epoch 035: | Training Loss: 1.3811335782727274 | Validation Loss: 1.3982869020295798\n"
     ]
    },
    {
     "name": "stderr",
     "output_type": "stream",
     "text": [
      " 51%|██████████████████████████████████████████▏                                       | 36/70 [03:49<03:36,  6.37s/it]"
     ]
    },
    {
     "name": "stdout",
     "output_type": "stream",
     "text": [
      "Epoch 036: | Training Loss: 1.3611187441973371 | Validation Loss: 1.401437692139127\n"
     ]
    },
    {
     "name": "stderr",
     "output_type": "stream",
     "text": [
      " 53%|███████████████████████████████████████████▎                                      | 37/70 [03:55<03:29,  6.34s/it]"
     ]
    },
    {
     "name": "stdout",
     "output_type": "stream",
     "text": [
      "Epoch 037: | Training Loss: 1.3498342472597797 | Validation Loss: 1.3840141285450087\n"
     ]
    },
    {
     "name": "stderr",
     "output_type": "stream",
     "text": [
      " 54%|████████████████████████████████████████████▌                                     | 38/70 [04:01<03:23,  6.35s/it]"
     ]
    },
    {
     "name": "stdout",
     "output_type": "stream",
     "text": [
      "Epoch 038: | Training Loss: 1.3417791590026107 | Validation Loss: 1.371909853788691\n"
     ]
    },
    {
     "name": "stderr",
     "output_type": "stream",
     "text": [
      " 56%|█████████████████████████████████████████████▋                                    | 39/70 [04:08<03:15,  6.32s/it]"
     ]
    },
    {
     "name": "stdout",
     "output_type": "stream",
     "text": [
      "Epoch 039: | Training Loss: 1.3292050593479852 | Validation Loss: 1.3585927379787515\n"
     ]
    },
    {
     "name": "stderr",
     "output_type": "stream",
     "text": [
      " 57%|██████████████████████████████████████████████▊                                   | 40/70 [04:14<03:10,  6.36s/it]"
     ]
    },
    {
     "name": "stdout",
     "output_type": "stream",
     "text": [
      "Epoch 040: | Training Loss: 1.3153191111171776 | Validation Loss: 1.3435246053091976\n"
     ]
    },
    {
     "name": "stderr",
     "output_type": "stream",
     "text": [
      " 59%|████████████████████████████████████████████████                                  | 41/70 [04:20<03:04,  6.35s/it]"
     ]
    },
    {
     "name": "stdout",
     "output_type": "stream",
     "text": [
      "Epoch 041: | Training Loss: 1.3138428674540148 | Validation Loss: 1.3468396384781653\n"
     ]
    },
    {
     "name": "stderr",
     "output_type": "stream",
     "text": [
      " 60%|█████████████████████████████████████████████████▏                                | 42/70 [04:27<02:57,  6.35s/it]"
     ]
    },
    {
     "name": "stdout",
     "output_type": "stream",
     "text": [
      "Epoch 042: | Training Loss: 1.3045649631647749 | Validation Loss: 1.3379626446360842\n"
     ]
    },
    {
     "name": "stderr",
     "output_type": "stream",
     "text": [
      " 61%|██████████████████████████████████████████████████▎                               | 43/70 [04:33<02:52,  6.39s/it]"
     ]
    },
    {
     "name": "stdout",
     "output_type": "stream",
     "text": [
      "Epoch 043: | Training Loss: 1.3010050039196452 | Validation Loss: 1.385637298909896\n"
     ]
    },
    {
     "name": "stderr",
     "output_type": "stream",
     "text": [
      " 63%|███████████████████████████████████████████████████▌                              | 44/70 [04:39<02:44,  6.34s/it]"
     ]
    },
    {
     "name": "stdout",
     "output_type": "stream",
     "text": [
      "Epoch 044: | Training Loss: 1.2871340112518206 | Validation Loss: 1.3291832575010598\n"
     ]
    },
    {
     "name": "stderr",
     "output_type": "stream",
     "text": [
      " 64%|████████████████████████████████████████████████████▋                             | 45/70 [04:46<02:40,  6.40s/it]"
     ]
    },
    {
     "name": "stdout",
     "output_type": "stream",
     "text": [
      "Epoch 045: | Training Loss: 1.285173043175094 | Validation Loss: 1.3456258533197805\n"
     ]
    },
    {
     "name": "stderr",
     "output_type": "stream",
     "text": [
      " 66%|█████████████████████████████████████████████████████▉                            | 46/70 [04:52<02:31,  6.33s/it]"
     ]
    },
    {
     "name": "stdout",
     "output_type": "stream",
     "text": [
      "Epoch 046: | Training Loss: 1.2767941725381848 | Validation Loss: 1.3205149862744392\n"
     ]
    },
    {
     "name": "stderr",
     "output_type": "stream",
     "text": [
      " 67%|███████████████████████████████████████████████████████                           | 47/70 [04:58<02:25,  6.32s/it]"
     ]
    },
    {
     "name": "stdout",
     "output_type": "stream",
     "text": [
      "Epoch 047: | Training Loss: 1.2714481100006454 | Validation Loss: 1.3233369402929183\n"
     ]
    },
    {
     "name": "stderr",
     "output_type": "stream",
     "text": [
      " 69%|████████████████████████████████████████████████████████▏                         | 48/70 [05:05<02:20,  6.37s/it]"
     ]
    },
    {
     "name": "stdout",
     "output_type": "stream",
     "text": [
      "Epoch 048: | Training Loss: 1.2610213184247157 | Validation Loss: 1.2966232573220489\n"
     ]
    },
    {
     "name": "stderr",
     "output_type": "stream",
     "text": [
      " 70%|█████████████████████████████████████████████████████████▍                        | 49/70 [05:11<02:13,  6.35s/it]"
     ]
    },
    {
     "name": "stdout",
     "output_type": "stream",
     "text": [
      "Epoch 049: | Training Loss: 1.2652901988847332 | Validation Loss: 1.3302184444501859\n"
     ]
    },
    {
     "name": "stderr",
     "output_type": "stream",
     "text": [
      " 71%|██████████████████████████████████████████████████████████▌                       | 50/70 [05:18<02:06,  6.35s/it]"
     ]
    },
    {
     "name": "stdout",
     "output_type": "stream",
     "text": [
      "Epoch 050: | Training Loss: 1.2598648687416707 | Validation Loss: 1.3252587616443634\n"
     ]
    },
    {
     "name": "stderr",
     "output_type": "stream",
     "text": [
      " 73%|███████████████████████████████████████████████████████████▋                      | 51/70 [05:24<02:00,  6.35s/it]"
     ]
    },
    {
     "name": "stdout",
     "output_type": "stream",
     "text": [
      "Epoch 051: | Training Loss: 1.2410151419011595 | Validation Loss: 1.3072849933160555\n"
     ]
    },
    {
     "name": "stderr",
     "output_type": "stream",
     "text": [
      " 74%|████████████████████████████████████████████████████████████▉                     | 52/70 [05:30<01:54,  6.36s/it]"
     ]
    },
    {
     "name": "stdout",
     "output_type": "stream",
     "text": [
      "Epoch 052: | Training Loss: 1.2582638271004647 | Validation Loss: 1.3152510004306057\n"
     ]
    },
    {
     "name": "stderr",
     "output_type": "stream",
     "text": [
      " 76%|██████████████████████████████████████████████████████████████                    | 53/70 [05:37<01:49,  6.43s/it]"
     ]
    },
    {
     "name": "stdout",
     "output_type": "stream",
     "text": [
      "Epoch 053: | Training Loss: 1.245144869978176 | Validation Loss: 1.2830641461074899\n"
     ]
    },
    {
     "name": "stderr",
     "output_type": "stream",
     "text": [
      " 77%|███████████████████████████████████████████████████████████████▎                  | 54/70 [05:43<01:42,  6.38s/it]"
     ]
    },
    {
     "name": "stdout",
     "output_type": "stream",
     "text": [
      "Epoch 054: | Training Loss: 1.2149534555890842 | Validation Loss: 1.2893433267370276\n"
     ]
    },
    {
     "name": "stderr",
     "output_type": "stream",
     "text": [
      " 79%|████████████████████████████████████████████████████████████████▍                 | 55/70 [05:50<01:35,  6.38s/it]"
     ]
    },
    {
     "name": "stdout",
     "output_type": "stream",
     "text": [
      "Epoch 055: | Training Loss: 1.218056720942487 | Validation Loss: 1.2816647619282433\n"
     ]
    },
    {
     "name": "stderr",
     "output_type": "stream",
     "text": [
      " 80%|█████████████████████████████████████████████████████████████████▌                | 56/70 [05:56<01:29,  6.38s/it]"
     ]
    },
    {
     "name": "stdout",
     "output_type": "stream",
     "text": [
      "Epoch 056: | Training Loss: 1.1961743124228708 | Validation Loss: 1.2593914489133642\n"
     ]
    },
    {
     "name": "stderr",
     "output_type": "stream",
     "text": [
      " 81%|██████████████████████████████████████████████████████████████████▊               | 57/70 [06:02<01:22,  6.32s/it]"
     ]
    },
    {
     "name": "stdout",
     "output_type": "stream",
     "text": [
      "Epoch 057: | Training Loss: 1.1987266302291322 | Validation Loss: 1.2772339836719933\n"
     ]
    },
    {
     "name": "stderr",
     "output_type": "stream",
     "text": [
      " 83%|███████████████████████████████████████████████████████████████████▉              | 58/70 [06:09<01:16,  6.37s/it]"
     ]
    },
    {
     "name": "stdout",
     "output_type": "stream",
     "text": [
      "Epoch 058: | Training Loss: 1.1848656413748655 | Validation Loss: 1.2623271400775384\n"
     ]
    },
    {
     "name": "stderr",
     "output_type": "stream",
     "text": [
      " 84%|█████████████████████████████████████████████████████████████████████             | 59/70 [06:15<01:09,  6.36s/it]"
     ]
    },
    {
     "name": "stdout",
     "output_type": "stream",
     "text": [
      "Epoch 059: | Training Loss: 1.1813344595808348 | Validation Loss: 1.265440281104604\n"
     ]
    },
    {
     "name": "stderr",
     "output_type": "stream",
     "text": [
      " 86%|██████████████████████████████████████████████████████████████████████▎           | 60/70 [06:21<01:03,  6.36s/it]"
     ]
    },
    {
     "name": "stdout",
     "output_type": "stream",
     "text": [
      "Epoch 060: | Training Loss: 1.1781447293382326 | Validation Loss: 1.2642627910736504\n"
     ]
    },
    {
     "name": "stderr",
     "output_type": "stream",
     "text": [
      " 87%|███████████████████████████████████████████████████████████████████████▍          | 61/70 [06:28<00:57,  6.41s/it]"
     ]
    },
    {
     "name": "stdout",
     "output_type": "stream",
     "text": [
      "Epoch 061: | Training Loss: 1.1665712403301807 | Validation Loss: 1.2731855536272767\n"
     ]
    },
    {
     "name": "stderr",
     "output_type": "stream",
     "text": [
      " 89%|████████████████████████████████████████████████████████████████████████▋         | 62/70 [06:34<00:50,  6.34s/it]"
     ]
    },
    {
     "name": "stdout",
     "output_type": "stream",
     "text": [
      "Epoch 062: | Training Loss: 1.1551033373448605 | Validation Loss: 1.2430771419761377\n"
     ]
    },
    {
     "name": "stderr",
     "output_type": "stream",
     "text": [
      " 90%|█████████████████████████████████████████████████████████████████████████▊        | 63/70 [06:41<00:44,  6.40s/it]"
     ]
    },
    {
     "name": "stdout",
     "output_type": "stream",
     "text": [
      "Epoch 063: | Training Loss: 1.1627640046898111 | Validation Loss: 1.2487555408696516\n"
     ]
    },
    {
     "name": "stderr",
     "output_type": "stream",
     "text": [
      " 91%|██████████████████████████████████████████████████████████████████████████▉       | 64/70 [06:47<00:38,  6.39s/it]"
     ]
    },
    {
     "name": "stdout",
     "output_type": "stream",
     "text": [
      "Epoch 064: | Training Loss: 1.134685252289677 | Validation Loss: 1.230732499186052\n"
     ]
    },
    {
     "name": "stderr",
     "output_type": "stream",
     "text": [
      " 93%|████████████████████████████████████████████████████████████████████████████▏     | 65/70 [06:53<00:31,  6.38s/it]"
     ]
    },
    {
     "name": "stdout",
     "output_type": "stream",
     "text": [
      "Epoch 065: | Training Loss: 1.1355656826295313 | Validation Loss: 1.2461305055596412\n"
     ]
    },
    {
     "name": "stderr",
     "output_type": "stream",
     "text": [
      " 94%|█████████████████████████████████████████████████████████████████████████████▎    | 66/70 [07:00<00:25,  6.40s/it]"
     ]
    },
    {
     "name": "stdout",
     "output_type": "stream",
     "text": [
      "Epoch 066: | Training Loss: 1.121441888955249 | Validation Loss: 1.234311471565054\n"
     ]
    },
    {
     "name": "stderr",
     "output_type": "stream",
     "text": [
      " 96%|██████████████████████████████████████████████████████████████████████████████▍   | 67/70 [07:06<00:19,  6.37s/it]"
     ]
    },
    {
     "name": "stdout",
     "output_type": "stream",
     "text": [
      "Epoch 067: | Training Loss: 1.1170874025336086 | Validation Loss: 1.2465270765877645\n"
     ]
    },
    {
     "name": "stderr",
     "output_type": "stream",
     "text": [
      " 97%|███████████████████████████████████████████████████████████████████████████████▋  | 68/70 [07:12<00:12,  6.39s/it]"
     ]
    },
    {
     "name": "stdout",
     "output_type": "stream",
     "text": [
      "Epoch 068: | Training Loss: 1.1068281515816634 | Validation Loss: 1.2179074938144159\n"
     ]
    },
    {
     "name": "stderr",
     "output_type": "stream",
     "text": [
      " 99%|████████████████████████████████████████████████████████████████████████████████▊ | 69/70 [07:19<00:06,  6.38s/it]"
     ]
    },
    {
     "name": "stdout",
     "output_type": "stream",
     "text": [
      "Epoch 069: | Training Loss: 1.093917488047759 | Validation Loss: 1.2221009373118024\n"
     ]
    },
    {
     "name": "stderr",
     "output_type": "stream",
     "text": [
      "100%|██████████████████████████████████████████████████████████████████████████████████| 70/70 [07:25<00:00,  6.37s/it]"
     ]
    },
    {
     "name": "stdout",
     "output_type": "stream",
     "text": [
      "Epoch 070: | Training Loss: 1.1312661409195495 | Validation Loss: 1.2262987029661827\n"
     ]
    },
    {
     "name": "stderr",
     "output_type": "stream",
     "text": [
      "\n"
     ]
    }
   ],
   "source": [
    "trainer.train(trainloader, valloader, batch_size=batch_size, n_epochs=n_epochs)"
   ]
  },
  {
   "cell_type": "code",
   "execution_count": 24,
   "id": "4a0166e8-07c3-472a-a89a-e6e537e9fb1d",
   "metadata": {},
   "outputs": [
    {
     "data": {
      "text/plain": [
       "[<matplotlib.lines.Line2D at 0x284876d5e50>]"
      ]
     },
     "execution_count": 24,
     "metadata": {},
     "output_type": "execute_result"
    },
    {
     "data": {
      "image/png": "[encoded data removed]",
      "text/plain": [
       "<Figure size 432x288 with 1 Axes>"
      ]
     },
     "metadata": {
      "needs_background": "light"
     },
     "output_type": "display_data"
    }
   ],
   "source": [
    "# visualize training/validation loss\n",
    "plt.plot(trainer.loss_history[0])\n",
    "plt.plot(trainer.loss_history[1])\n",
    "\n",
    "# some forgetting, could rerun"
   ]
  },
  {
   "cell_type": "code",
   "execution_count": 25,
   "id": "39105e05-712d-4b2f-8ee1-0dae71ecb2bf",
   "metadata": {},
   "outputs": [],
   "source": [
    "# trainer.evaluate with testloader\n",
    "prob, pred, true = trainer.evaluate(testloader)"
   ]
  },
  {
   "cell_type": "code",
   "execution_count": 26,
   "id": "f2650600-dad5-4b4c-964f-65ac6f074452",
   "metadata": {},
   "outputs": [],
   "source": [
    "from sklearn.metrics import classification_report"
   ]
  },
  {
   "cell_type": "code",
   "execution_count": 27,
   "id": "373e59bc-d248-481d-ae38-fe68a1d2697a",
   "metadata": {},
   "outputs": [],
   "source": [
    "cr = classification_report(true, pred, target_names=ligands)"
   ]
  },
  {
   "cell_type": "code",
   "execution_count": 28,
   "id": "940c490a-d41d-4657-a36a-a08bdd677b4e",
   "metadata": {},
   "outputs": [
    {
     "name": "stdout",
     "output_type": "stream",
     "text": [
      "              precision    recall  f1-score   support\n",
      "\n",
      "         TNF       0.57      0.63      0.60      1501\n",
      "         R84       0.69      0.72      0.70      1512\n",
      "         PIC       0.59      0.62      0.61      1502\n",
      "         P3K       0.54      0.57      0.56      1520\n",
      "         FLA       0.45      0.37      0.41      1549\n",
      "         CpG       0.41      0.43      0.42      1597\n",
      "         FSL       0.37      0.25      0.30      1582\n",
      "         LPS       0.41      0.46      0.43      1567\n",
      "         UST       0.92      0.98      0.95      1578\n",
      "\n",
      "    accuracy                           0.56     13908\n",
      "   macro avg       0.55      0.56      0.55     13908\n",
      "weighted avg       0.55      0.56      0.55     13908\n",
      "\n"
     ]
    }
   ],
   "source": [
    "print(cr) # similar results to apeksha's model ~ 55% accuracy"
   ]
  },
  {
   "cell_type": "code",
   "execution_count": 29,
   "id": "9b18b50a-6cf2-4a63-9e23-10c960a428f0",
   "metadata": {},
   "outputs": [],
   "source": [
    "fraction = Fraction(true, prob)"
   ]
  },
  {
   "cell_type": "code",
   "execution_count": 30,
   "id": "bc199f6c-ecdb-4fff-a90b-40d747ec6b48",
   "metadata": {},
   "outputs": [
    {
     "data": {
      "image/png": "[encoded data removed]",
      "text/plain": [
       "<Figure size 432x288 with 2 Axes>"
      ]
     },
     "metadata": {
      "needs_background": "light"
     },
     "output_type": "display_data"
    }
   ],
   "source": [
    "cf = sns.heatmap(fraction, cmap=\"BuPu\", xticklabels=ligands)"
   ]
  },
  {
   "cell_type": "markdown",
   "id": "09a048cf-b820-4cbc-8c71-cf0f333061a0",
   "metadata": {},
   "source": [
    "## Polarization State Analysis"
   ]
  },
  {
   "cell_type": "code",
   "execution_count": 31,
   "id": "ba719f75-ed72-4d67-a597-c96d1316325e",
   "metadata": {},
   "outputs": [],
   "source": [
    "# refactor each polarization test_X and test_Y into torchdata object\n",
    "# evaluate each one separately then concat and evaluate holistically\n",
    "\n",
    "m0_test = TorchData(m0_test_X, m0_test_Y)\n",
    "ib_test = TorchData(ib_test_X, ib_test_Y)\n",
    "ig_test = TorchData(ig_test_X, ig_test_Y)\n",
    "i0_test = TorchData(i0_test_X, i0_test_Y)\n",
    "i3_test = TorchData(i3_test_X, i3_test_Y)\n",
    "i4_test = TorchData(i4_test_X, i4_test_Y)"
   ]
  },
  {
   "cell_type": "code",
   "execution_count": 32,
   "id": "9eee2428-3a3f-4a1e-96f9-32f937b8cbfd",
   "metadata": {},
   "outputs": [],
   "source": [
    "m0_loader = torch.utils.data.DataLoader(m0_test, batch_size=64, shuffle=True)\n",
    "ib_loader = torch.utils.data.DataLoader(ib_test, batch_size=64, shuffle=True)\n",
    "ig_loader = torch.utils.data.DataLoader(ig_test, batch_size=64, shuffle=True)\n",
    "i0_loader = torch.utils.data.DataLoader(i0_test, batch_size=64, shuffle=True)\n",
    "i3_loader = torch.utils.data.DataLoader(i3_test, batch_size=64, shuffle=True)\n",
    "i4_loader = torch.utils.data.DataLoader(i4_test, batch_size=64, shuffle=True)"
   ]
  },
  {
   "cell_type": "code",
   "execution_count": 33,
   "id": "f2cb97e6-a6a2-474e-a196-b72e031b053f",
   "metadata": {},
   "outputs": [],
   "source": [
    "m0_prob, m0_pred, m0_true = trainer.evaluate(m0_loader)"
   ]
  },
  {
   "cell_type": "code",
   "execution_count": 34,
   "id": "087a483b-458e-4477-969e-ef42bcdf59ee",
   "metadata": {},
   "outputs": [],
   "source": [
    "ib_prob, ib_pred, ib_true = trainer.evaluate(ib_loader)"
   ]
  },
  {
   "cell_type": "code",
   "execution_count": 35,
   "id": "37aecf6a-42e4-498a-8b6d-24caddf7f1cf",
   "metadata": {},
   "outputs": [],
   "source": [
    "ig_prob, ig_pred, ig_true = trainer.evaluate(ig_loader)"
   ]
  },
  {
   "cell_type": "code",
   "execution_count": 36,
   "id": "671dda61-5b8a-457a-a886-0ab26bc4650b",
   "metadata": {},
   "outputs": [],
   "source": [
    "i0_prob, i0_pred, i0_true = trainer.evaluate(i0_loader)"
   ]
  },
  {
   "cell_type": "code",
   "execution_count": 37,
   "id": "0a460eb8-f035-45a8-b35d-42dae84c2259",
   "metadata": {},
   "outputs": [],
   "source": [
    "i3_prob, i3_pred, i3_true = trainer.evaluate(i3_loader)"
   ]
  },
  {
   "cell_type": "code",
   "execution_count": 38,
   "id": "8dacdf5a-08ae-4d27-9a71-3341dbbee8a3",
   "metadata": {},
   "outputs": [],
   "source": [
    "i4_prob, i4_pred, i4_true = trainer.evaluate(i4_loader)"
   ]
  },
  {
   "cell_type": "markdown",
   "id": "53bf1352-99e1-422e-ade2-3db38b74d255",
   "metadata": {},
   "source": [
    "### M0"
   ]
  },
  {
   "cell_type": "code",
   "execution_count": 39,
   "id": "3c21c5ff-62d9-4324-9d8f-1ce5d4b50e3b",
   "metadata": {},
   "outputs": [
    {
     "name": "stdout",
     "output_type": "stream",
     "text": [
      "              precision    recall  f1-score      support\n",
      "TNF            0.598726  0.686131  0.639456   274.000000\n",
      "R84            0.690789  0.833333  0.755396   252.000000\n",
      "PIC            0.750000  0.761538  0.755725   260.000000\n",
      "P3K            0.455782  0.544715  0.496296   246.000000\n",
      "FLA            0.462222  0.417671  0.438819   249.000000\n",
      "CpG            0.383764  0.414343  0.398467   251.000000\n",
      "FSL            0.447552  0.241509  0.313725   265.000000\n",
      "LPS            0.517094  0.463602  0.488889   261.000000\n",
      "UST            0.951673  0.984615  0.967864   260.000000\n",
      "accuracy       0.594909  0.594909  0.594909     0.594909\n",
      "macro avg      0.584178  0.594162  0.583849  2318.000000\n",
      "weighted avg   0.585707  0.594909  0.584906  2318.000000\n"
     ]
    },
    {
     "data": {
      "text/plain": [
       "<AxesSubplot:>"
      ]
     },
     "execution_count": 39,
     "metadata": {},
     "output_type": "execute_result"
    },
    {
     "data": {
      "image/png": "[encoded data removed]",
      "text/plain": [
       "<Figure size 432x288 with 1 Axes>"
      ]
     },
     "metadata": {
      "needs_background": "light"
     },
     "output_type": "display_data"
    }
   ],
   "source": [
    "m0_cr = classification_report(m0_true, m0_pred, target_names=ligands, output_dict=True)\n",
    "m0_crdf = pd.DataFrame(m0_cr).transpose()\n",
    "print(m0_crdf)\n",
    "\n",
    "m0_crdf[:9]['f1-score'].plot()"
   ]
  },
  {
   "cell_type": "markdown",
   "id": "7966f0ba-496e-4c7e-afd0-aaada137d9b7",
   "metadata": {},
   "source": [
    "### ib"
   ]
  },
  {
   "cell_type": "code",
   "execution_count": 40,
   "id": "6bad9ce9-e22c-403c-b088-3a116412b0a8",
   "metadata": {},
   "outputs": [
    {
     "name": "stdout",
     "output_type": "stream",
     "text": [
      "              precision    recall  f1-score      support\n",
      "TNF            0.521930  0.481781  0.501053   247.000000\n",
      "R84            0.731707  0.762712  0.746888   236.000000\n",
      "PIC            0.492701  0.551020  0.520231   245.000000\n",
      "P3K            0.707547  0.600000  0.649351   250.000000\n",
      "FLA            0.420233  0.395604  0.407547   273.000000\n",
      "CpG            0.431535  0.390977  0.410256   266.000000\n",
      "FSL            0.363636  0.223881  0.277136   268.000000\n",
      "LPS            0.325243  0.490842  0.391241   273.000000\n",
      "UST            0.911661  0.992308  0.950276   260.000000\n",
      "accuracy       0.538395  0.538395  0.538395     0.538395\n",
      "macro avg      0.545133  0.543236  0.539331  2318.000000\n",
      "weighted avg   0.540116  0.538395  0.534237  2318.000000\n"
     ]
    },
    {
     "data": {
      "text/plain": [
       "<AxesSubplot:>"
      ]
     },
     "execution_count": 40,
     "metadata": {},
     "output_type": "execute_result"
    },
    {
     "data": {
      "image/png": "[encoded data removed]",
      "text/plain": [
       "<Figure size 432x288 with 1 Axes>"
      ]
     },
     "metadata": {
      "needs_background": "light"
     },
     "output_type": "display_data"
    }
   ],
   "source": [
    "ib_cr = classification_report(ib_true, ib_pred, target_names=ligands, output_dict=True)\n",
    "ib_crdf = pd.DataFrame(ib_cr).transpose()\n",
    "print(ib_crdf)\n",
    "\n",
    "ib_crdf[:9]['f1-score'].plot()"
   ]
  },
  {
   "cell_type": "markdown",
   "id": "2c80e5d8-f959-4884-8ffa-b4ef41268b6d",
   "metadata": {},
   "source": [
    "### ig"
   ]
  },
  {
   "cell_type": "code",
   "execution_count": 41,
   "id": "d5f1a71a-80bb-4367-9e2f-b616e2c1a88e",
   "metadata": {},
   "outputs": [
    {
     "name": "stdout",
     "output_type": "stream",
     "text": [
      "              precision    recall  f1-score      support\n",
      "TNF            0.624506  0.591760  0.607692   267.000000\n",
      "R84            0.675000  0.756000  0.713208   250.000000\n",
      "PIC            0.689441  0.423664  0.524823   262.000000\n",
      "P3K            0.449591  0.632184  0.525478   261.000000\n",
      "FLA            0.348993  0.208835  0.261307   249.000000\n",
      "CpG            0.291457  0.228346  0.256071   254.000000\n",
      "FSL            0.231959  0.169173  0.195652   266.000000\n",
      "LPS            0.352809  0.638211  0.454414   246.000000\n",
      "UST            0.955556  0.980989  0.968105   263.000000\n",
      "accuracy       0.514668  0.514668  0.514668     0.514668\n",
      "macro avg      0.513257  0.514351  0.500750  2318.000000\n",
      "weighted avg   0.515187  0.514668  0.502052  2318.000000\n"
     ]
    },
    {
     "data": {
      "text/plain": [
       "<AxesSubplot:>"
      ]
     },
     "execution_count": 41,
     "metadata": {},
     "output_type": "execute_result"
    },
    {
     "data": {
      "image/png": "[encoded data removed]",
      "text/plain": [
       "<Figure size 432x288 with 1 Axes>"
      ]
     },
     "metadata": {
      "needs_background": "light"
     },
     "output_type": "display_data"
    }
   ],
   "source": [
    "ig_cr = classification_report(ig_true, ig_pred, target_names=ligands, output_dict=True)\n",
    "ig_crdf = pd.DataFrame(ig_cr).transpose()\n",
    "print(ig_crdf)\n",
    "\n",
    "ig_crdf[:9]['f1-score'].plot()"
   ]
  },
  {
   "cell_type": "markdown",
   "id": "15415e8f-73ab-4734-b3ed-dd8f02224c39",
   "metadata": {},
   "source": [
    "### i0"
   ]
  },
  {
   "cell_type": "code",
   "execution_count": 42,
   "id": "cd5a767c-b588-4de2-8d7e-8da410b6a313",
   "metadata": {},
   "outputs": [
    {
     "name": "stdout",
     "output_type": "stream",
     "text": [
      "              precision    recall  f1-score      support\n",
      "TNF            0.569620  0.762712  0.652174   236.000000\n",
      "R84            0.639286  0.696498  0.666667   257.000000\n",
      "PIC            0.645914  0.661355  0.653543   251.000000\n",
      "P3K            0.426357  0.447154  0.436508   246.000000\n",
      "FLA            0.483146  0.320896  0.385650   268.000000\n",
      "CpG            0.467320  0.488055  0.477462   293.000000\n",
      "FSL            0.357759  0.332000  0.344398   250.000000\n",
      "LPS            0.408333  0.371212  0.388889   264.000000\n",
      "UST            0.988048  0.980237  0.984127   253.000000\n",
      "accuracy       0.557808  0.557808  0.557808     0.557808\n",
      "macro avg      0.553976  0.562235  0.554380  2318.000000\n",
      "weighted avg   0.551924  0.557808  0.551194  2318.000000\n"
     ]
    },
    {
     "data": {
      "text/plain": [
       "<AxesSubplot:>"
      ]
     },
     "execution_count": 42,
     "metadata": {},
     "output_type": "execute_result"
    },
    {
     "data": {
      "image/png": "[encoded data removed]",
      "text/plain": [
       "<Figure size 432x288 with 1 Axes>"
      ]
     },
     "metadata": {
      "needs_background": "light"
     },
     "output_type": "display_data"
    }
   ],
   "source": [
    "i0_cr = classification_report(i0_true, i0_pred, target_names=ligands, output_dict=True)\n",
    "i0_crdf = pd.DataFrame(i0_cr).transpose()\n",
    "print(i0_crdf)\n",
    "\n",
    "i0_crdf[:9]['f1-score'].plot()"
   ]
  },
  {
   "cell_type": "markdown",
   "id": "3a1078ad-03d3-4ec6-92bc-dd832a0ea87d",
   "metadata": {},
   "source": [
    "### i3"
   ]
  },
  {
   "cell_type": "code",
   "execution_count": 43,
   "id": "ee0cb724-d264-450b-8d22-16959ef076dc",
   "metadata": {},
   "outputs": [
    {
     "name": "stdout",
     "output_type": "stream",
     "text": [
      "              precision    recall  f1-score      support\n",
      "TNF            0.537634  0.655022  0.590551   229.000000\n",
      "R84            0.671329  0.713755  0.691892   269.000000\n",
      "PIC            0.569444  0.709957  0.631985   231.000000\n",
      "P3K            0.635468  0.501946  0.560870   257.000000\n",
      "FLA            0.452915  0.410569  0.430704   246.000000\n",
      "CpG            0.407407  0.505300  0.451104   283.000000\n",
      "FSL            0.449102  0.278810  0.344037   269.000000\n",
      "LPS            0.476596  0.404332  0.437500   277.000000\n",
      "UST            0.891608  0.992218  0.939227   257.000000\n",
      "accuracy       0.569888  0.569888  0.569888     0.569888\n",
      "macro avg      0.565723  0.574657  0.564208  2318.000000\n",
      "weighted avg   0.563954  0.569888  0.560922  2318.000000\n"
     ]
    },
    {
     "data": {
      "text/plain": [
       "<AxesSubplot:>"
      ]
     },
     "execution_count": 43,
     "metadata": {},
     "output_type": "execute_result"
    },
    {
     "data": {
      "image/png": "[encoded data removed]",
      "text/plain": [
       "<Figure size 432x288 with 1 Axes>"
      ]
     },
     "metadata": {
      "needs_background": "light"
     },
     "output_type": "display_data"
    }
   ],
   "source": [
    "i3_cr = classification_report(i3_true, i3_pred, target_names=ligands, output_dict=True)\n",
    "i3_crdf = pd.DataFrame(i3_cr).transpose()\n",
    "print(i3_crdf)\n",
    "\n",
    "i3_crdf[:9]['f1-score'].plot()"
   ]
  },
  {
   "cell_type": "markdown",
   "id": "cedac161-127c-4bbf-b90c-652ff6493d22",
   "metadata": {},
   "source": [
    "### i4"
   ]
  },
  {
   "cell_type": "code",
   "execution_count": 44,
   "id": "3975fb80-0a3d-4e36-bc7b-c73579a84d4b",
   "metadata": {},
   "outputs": [
    {
     "name": "stdout",
     "output_type": "stream",
     "text": [
      "              precision    recall  f1-score      support\n",
      "TNF            0.537906  0.600806  0.567619   248.000000\n",
      "R84            0.737113  0.576613  0.647059   248.000000\n",
      "PIC            0.479412  0.644269  0.549747   253.000000\n",
      "P3K            0.688462  0.688462  0.688462   260.000000\n",
      "FLA            0.518367  0.481061  0.499018   264.000000\n",
      "CpG            0.433022  0.556000  0.486865   250.000000\n",
      "FSL            0.425676  0.238636  0.305825   264.000000\n",
      "LPS            0.507389  0.418699  0.458797   246.000000\n",
      "UST            0.845455  0.978947  0.907317   285.000000\n",
      "accuracy       0.580242  0.580242  0.580242     0.580242\n",
      "macro avg      0.574756  0.575944  0.567857  2318.000000\n",
      "weighted avg   0.577977  0.580242  0.571601  2318.000000\n"
     ]
    },
    {
     "data": {
      "text/plain": [
       "<AxesSubplot:>"
      ]
     },
     "execution_count": 44,
     "metadata": {},
     "output_type": "execute_result"
    },
    {
     "data": {
      "image/png": "[encoded data removed]",
      "text/plain": [
       "<Figure size 432x288 with 1 Axes>"
      ]
     },
     "metadata": {
      "needs_background": "light"
     },
     "output_type": "display_data"
    }
   ],
   "source": [
    "i4_cr = classification_report(i4_true, i4_pred, target_names=ligands, output_dict=True)\n",
    "i4_crdf = pd.DataFrame(i4_cr).transpose()\n",
    "print(i4_crdf)\n",
    "\n",
    "i4_crdf[:9]['f1-score'].plot()"
   ]
  },
  {
   "cell_type": "markdown",
   "id": "8d031454-1922-4375-ae73-dfd52a948b60",
   "metadata": {},
   "source": [
    "## Holistic"
   ]
  },
  {
   "cell_type": "code",
   "execution_count": 45,
   "id": "90aff6e7-f1c1-4f62-9855-04a7c06feefe",
   "metadata": {},
   "outputs": [],
   "source": [
    "total_f1 = pd.concat([m0_crdf['f1-score'], ib_crdf['f1-score'], ig_crdf['f1-score'], i0_crdf['f1-score'], i3_crdf['f1-score'], i4_crdf['f1-score']], axis=1)\n",
    "total_f1 = total_f1.set_axis(['M0', 'IB', 'IG', 'I0', 'I3', 'I4'], axis=1)"
   ]
  },
  {
   "cell_type": "code",
   "execution_count": 46,
   "id": "a979a5a2-650e-4608-8e50-51730bfbc450",
   "metadata": {},
   "outputs": [
    {
     "data": {
      "text/html": [
       "<div>\n",
       "<style scoped>\n",
       "    .dataframe tbody tr th:only-of-type {\n",
       "        vertical-align: middle;\n",
       "    }\n",
       "\n",
       "    .dataframe tbody tr th {\n",
       "        vertical-align: top;\n",
       "    }\n",
       "\n",
       "    .dataframe thead th {\n",
       "        text-align: right;\n",
       "    }\n",
       "</style>\n",
       "<table border=\"1\" class=\"dataframe\">\n",
       "  <thead>\n",
       "    <tr style=\"text-align: right;\">\n",
       "      <th></th>\n",
       "      <th>M0</th>\n",
       "      <th>IB</th>\n",
       "      <th>IG</th>\n",
       "      <th>I0</th>\n",
       "      <th>I3</th>\n",
       "      <th>I4</th>\n",
       "    </tr>\n",
       "  </thead>\n",
       "  <tbody>\n",
       "    <tr>\n",
       "      <th>TNF</th>\n",
       "      <td>0.639456</td>\n",
       "      <td>0.501053</td>\n",
       "      <td>0.607692</td>\n",
       "      <td>0.652174</td>\n",
       "      <td>0.590551</td>\n",
       "      <td>0.567619</td>\n",
       "    </tr>\n",
       "    <tr>\n",
       "      <th>R84</th>\n",
       "      <td>0.755396</td>\n",
       "      <td>0.746888</td>\n",
       "      <td>0.713208</td>\n",
       "      <td>0.666667</td>\n",
       "      <td>0.691892</td>\n",
       "      <td>0.647059</td>\n",
       "    </tr>\n",
       "    <tr>\n",
       "      <th>PIC</th>\n",
       "      <td>0.755725</td>\n",
       "      <td>0.520231</td>\n",
       "      <td>0.524823</td>\n",
       "      <td>0.653543</td>\n",
       "      <td>0.631985</td>\n",
       "      <td>0.549747</td>\n",
       "    </tr>\n",
       "    <tr>\n",
       "      <th>P3K</th>\n",
       "      <td>0.496296</td>\n",
       "      <td>0.649351</td>\n",
       "      <td>0.525478</td>\n",
       "      <td>0.436508</td>\n",
       "      <td>0.560870</td>\n",
       "      <td>0.688462</td>\n",
       "    </tr>\n",
       "    <tr>\n",
       "      <th>FLA</th>\n",
       "      <td>0.438819</td>\n",
       "      <td>0.407547</td>\n",
       "      <td>0.261307</td>\n",
       "      <td>0.385650</td>\n",
       "      <td>0.430704</td>\n",
       "      <td>0.499018</td>\n",
       "    </tr>\n",
       "    <tr>\n",
       "      <th>CpG</th>\n",
       "      <td>0.398467</td>\n",
       "      <td>0.410256</td>\n",
       "      <td>0.256071</td>\n",
       "      <td>0.477462</td>\n",
       "      <td>0.451104</td>\n",
       "      <td>0.486865</td>\n",
       "    </tr>\n",
       "    <tr>\n",
       "      <th>FSL</th>\n",
       "      <td>0.313725</td>\n",
       "      <td>0.277136</td>\n",
       "      <td>0.195652</td>\n",
       "      <td>0.344398</td>\n",
       "      <td>0.344037</td>\n",
       "      <td>0.305825</td>\n",
       "    </tr>\n",
       "    <tr>\n",
       "      <th>LPS</th>\n",
       "      <td>0.488889</td>\n",
       "      <td>0.391241</td>\n",
       "      <td>0.454414</td>\n",
       "      <td>0.388889</td>\n",
       "      <td>0.437500</td>\n",
       "      <td>0.458797</td>\n",
       "    </tr>\n",
       "    <tr>\n",
       "      <th>UST</th>\n",
       "      <td>0.967864</td>\n",
       "      <td>0.950276</td>\n",
       "      <td>0.968105</td>\n",
       "      <td>0.984127</td>\n",
       "      <td>0.939227</td>\n",
       "      <td>0.907317</td>\n",
       "    </tr>\n",
       "  </tbody>\n",
       "</table>\n",
       "</div>"
      ],
      "text/plain": [
       "           M0        IB        IG        I0        I3        I4\n",
       "TNF  0.639456  0.501053  0.607692  0.652174  0.590551  0.567619\n",
       "R84  0.755396  0.746888  0.713208  0.666667  0.691892  0.647059\n",
       "PIC  0.755725  0.520231  0.524823  0.653543  0.631985  0.549747\n",
       "P3K  0.496296  0.649351  0.525478  0.436508  0.560870  0.688462\n",
       "FLA  0.438819  0.407547  0.261307  0.385650  0.430704  0.499018\n",
       "CpG  0.398467  0.410256  0.256071  0.477462  0.451104  0.486865\n",
       "FSL  0.313725  0.277136  0.195652  0.344398  0.344037  0.305825\n",
       "LPS  0.488889  0.391241  0.454414  0.388889  0.437500  0.458797\n",
       "UST  0.967864  0.950276  0.968105  0.984127  0.939227  0.907317"
      ]
     },
     "execution_count": 46,
     "metadata": {},
     "output_type": "execute_result"
    }
   ],
   "source": [
    "total_f1.iloc[:9]"
   ]
  },
  {
   "cell_type": "code",
   "execution_count": 47,
   "id": "c5e5b160-ca5f-4ea3-b59e-881a24a4df5c",
   "metadata": {},
   "outputs": [
    {
     "data": {
      "text/plain": [
       "<AxesSubplot:>"
      ]
     },
     "execution_count": 47,
     "metadata": {},
     "output_type": "execute_result"
    },
    {
     "data": {
      "image/png": "[encoded data removed]",
      "text/plain": [
       "<Figure size 432x288 with 1 Axes>"
      ]
     },
     "metadata": {
      "needs_background": "light"
     },
     "output_type": "display_data"
    }
   ],
   "source": [
    "total_f1.iloc[:9].plot()"
   ]
  },
  {
   "cell_type": "code",
   "execution_count": 52,
   "id": "b04094ac-3369-461d-8b2d-a5aa42deb05b",
   "metadata": {},
   "outputs": [
    {
     "data": {
      "text/plain": [
       "<AxesSubplot:>"
      ]
     },
     "execution_count": 52,
     "metadata": {},
     "output_type": "execute_result"
    },
    {
     "data": {
      "image/png": "[encoded data removed]",
      "text/plain": [
       "<Figure size 432x288 with 1 Axes>"
      ]
     },
     "metadata": {
      "needs_background": "light"
     },
     "output_type": "display_data"
    }
   ],
   "source": [
    "np.mean(total_f1.iloc[:9], axis=1).plot()"
   ]
  },
  {
   "cell_type": "code",
   "execution_count": 49,
   "id": "a24d8a0c-a581-44d0-9903-a9f953ce6964",
   "metadata": {},
   "outputs": [
    {
     "data": {
      "text/plain": [
       "<AxesSubplot:>"
      ]
     },
     "execution_count": 49,
     "metadata": {},
     "output_type": "execute_result"
    },
    {
     "data": {
      "image/png": "[encoded data removed]",
      "text/plain": [
       "<Figure size 432x288 with 1 Axes>"
      ]
     },
     "metadata": {
      "needs_background": "light"
     },
     "output_type": "display_data"
    }
   ],
   "source": [
    "total_f1.iloc[:9].transpose().plot()"
   ]
  },
  {
   "cell_type": "code",
   "execution_count": 50,
   "id": "c7f8ec9d-b42d-45e9-b8c0-31466bfefb16",
   "metadata": {},
   "outputs": [
    {
     "data": {
      "text/plain": [
       "M0    0.583849\n",
       "IB    0.539331\n",
       "IG    0.500750\n",
       "I0    0.554380\n",
       "I3    0.564208\n",
       "I4    0.567857\n",
       "dtype: float64"
      ]
     },
     "execution_count": 50,
     "metadata": {},
     "output_type": "execute_result"
    }
   ],
   "source": [
    "# average f1 score for all ligands across each polarization state\n",
    "np.mean(total_f1.iloc[:9])"
   ]
  },
  {
   "cell_type": "code",
   "execution_count": 51,
   "id": "71f5d69a-03f4-4672-84b0-23a08f91adaf",
   "metadata": {},
   "outputs": [
    {
     "data": {
      "text/plain": [
       "<AxesSubplot:>"
      ]
     },
     "execution_count": 51,
     "metadata": {},
     "output_type": "execute_result"
    },
    {
     "data": {
      "image/png": "[encoded data removed]",
      "text/plain": [
       "<Figure size 432x288 with 1 Axes>"
      ]
     },
     "metadata": {
      "needs_background": "light"
     },
     "output_type": "display_data"
    }
   ],
   "source": [
    "np.mean(total_f1.iloc[:9]).plot()"
   ]
  }
 ],
 "metadata": {
  "kernelspec": {
   "display_name": "Python 3 (ipykernel)",
   "language": "python",
   "name": "python3"
  },
  "language_info": {
   "codemirror_mode": {
    "name": "ipython",
    "version": 3
   },
   "file_extension": ".py",
   "mimetype": "text/x-python",
   "name": "python",
   "nbconvert_exporter": "python",
   "pygments_lexer": "ipython3",
   "version": "3.8.12"
  }
 },
 "nbformat": 4,
 "nbformat_minor": 5
}
