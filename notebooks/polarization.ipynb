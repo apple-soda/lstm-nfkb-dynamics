{
 "cells": [
  {
   "cell_type": "markdown",
   "id": "0c82eba7-d819-4dd9-8b7a-754680a6f61b",
   "metadata": {},
   "source": [
    "# This new ML pipeline enables equal representation of each polarization state in each train, test, and validation dataset\n",
    "### In the future, if needed, refactor into functions for efficiency"
   ]
  },
  {
   "cell_type": "code",
   "execution_count": 1,
   "id": "4b7fbbbe-58fa-4350-9750-0071dfc7b1a7",
   "metadata": {},
   "outputs": [],
   "source": [
    "import sys\n",
    "sys.path.append('..')"
   ]
  },
  {
   "cell_type": "code",
   "execution_count": 2,
   "id": "56e8f11b-cd15-496d-ae81-1c78f3b783a3",
   "metadata": {},
   "outputs": [],
   "source": [
    "import torch\n",
    "import pandas as pd\n",
    "import numpy as np\n",
    "import sklearn\n",
    "import matplotlib.pyplot as plt\n",
    "import random\n",
    "import torch.nn as nn\n",
    "import torch.nn.functional as F\n",
    "import seaborn as sns"
   ]
  },
  {
   "cell_type": "code",
   "execution_count": 105,
   "id": "5691cff9-96fa-44c1-8aed-c88af943a8fa",
   "metadata": {},
   "outputs": [],
   "source": [
    "from core.getdata import *\n",
    "from core.dataset import *\n",
    "from core.network import *\n",
    "from core.trainer import *\n",
    "from core.visualization import *"
   ]
  },
  {
   "cell_type": "code",
   "execution_count": 4,
   "id": "8281c4c0-62ed-4141-94ea-d61d83ab19f8",
   "metadata": {},
   "outputs": [],
   "source": [
    "from torch.utils.data import Dataset\n",
    "from torchvision import datasets\n",
    "from torchvision.transforms import ToTensor"
   ]
  },
  {
   "cell_type": "code",
   "execution_count": 5,
   "id": "bed85b4f-a0a8-443c-ad9a-8c698cb38c28",
   "metadata": {},
   "outputs": [],
   "source": [
    "ligands = [\"TNF\", \"R84\", \"PIC\", \"P3K\", \"FLA\", \"CpG\", \"FSL\", \"LPS\", \"UST\"]\n",
    "polarization = [\"\", \"ib\", \"ig\", \"i0\", \"i3\", \"i4\"]\n",
    "replicas, size = 2, 1288 # replicated"
   ]
  },
  {
   "cell_type": "code",
   "execution_count": null,
   "id": "8888ef2d-13ed-4dbb-af39-3bdcb94c467d",
   "metadata": {},
   "outputs": [],
   "source": [
    "asd = DatasetPolar(ligands, polarization, replicas, size)"
   ]
  },
  {
   "cell_type": "code",
   "execution_count": 18,
   "id": "f33b3323-2e3d-48d3-bb0a-93c1f4e7d980",
   "metadata": {},
   "outputs": [
    {
     "data": {
      "text/plain": [
       "(69552,)"
      ]
     },
     "execution_count": 18,
     "metadata": {},
     "output_type": "execute_result"
    }
   ],
   "source": [
    "asd.labels.shape"
   ]
  },
  {
   "cell_type": "code",
   "execution_count": 6,
   "id": "9914ae36-f4d8-421a-a2c7-969b3c94205d",
   "metadata": {},
   "outputs": [],
   "source": [
    "m0 = DatasetPolar(ligands, [\"\"], replicas, size)\n",
    "ib = DatasetPolar(ligands, [\"ib\"], replicas, size)\n",
    "ig = DatasetPolar(ligands, [\"ig\"], replicas, size)\n",
    "i0 = DatasetPolar(ligands, [\"i0\"], replicas, size)\n",
    "i3 = DatasetPolar(ligands, [\"i3\"], replicas, size)\n",
    "i4 = DatasetPolar(ligands, [\"i4\"], replicas, size)"
   ]
  },
  {
   "cell_type": "code",
   "execution_count": 7,
   "id": "487b1378-f48b-4000-9277-d5139d59ade8",
   "metadata": {},
   "outputs": [
    {
     "name": "stdout",
     "output_type": "stream",
     "text": [
      "11592 11592 11592 11592 11592 11592\n"
     ]
    }
   ],
   "source": [
    "print(len(m0), len(ib), len(ig), len(i0), len(i3), len(i4))"
   ]
  },
  {
   "cell_type": "code",
   "execution_count": 73,
   "id": "87da8cb2-3772-406d-b22c-5072d326f172",
   "metadata": {},
   "outputs": [],
   "source": [
    "m0_train, m0_val, m0_test = torch.utils.data.random_split(m0, [6956, 2318, 2318])\n",
    "ib_train, ib_val, ib_test = torch.utils.data.random_split(ib, [6956, 2318, 2318])\n",
    "ig_train, ig_val, ig_test = torch.utils.data.random_split(ig, [6956, 2318, 2318])\n",
    "i0_train, i0_val, i0_test = torch.utils.data.random_split(i0, [6956, 2318, 2318])\n",
    "i3_train, i3_val, i3_test = torch.utils.data.random_split(i3, [6956, 2318, 2318])\n",
    "i4_train, i4_val, i4_test = torch.utils.data.random_split(i4, [6956, 2318, 2318])"
   ]
  },
  {
   "cell_type": "code",
   "execution_count": 74,
   "id": "0afc4931-c4c7-42a3-b4db-4e55cafec745",
   "metadata": {},
   "outputs": [],
   "source": [
    "# extract all data and labels from each torch subset object and refactor into my own objects\n",
    "\n",
    "def extract_xy(subsets):\n",
    "    train, val, test = subsets # unpack tuple\n",
    "    train_X = [item[0] for item in train]\n",
    "    train_Y = [item[1] for item in train]\n",
    "    val_X = [item[0] for item in val]\n",
    "    val_Y = [item[1] for item in val]\n",
    "    test_X = [item[0] for item in test]\n",
    "    test_Y = [item[1] for item in test]\n",
    "    \n",
    "    return train_X, train_Y, val_X, val_Y, test_X, test_Y"
   ]
  },
  {
   "cell_type": "code",
   "execution_count": 75,
   "id": "00cbcb18-5e0a-493b-b11f-8c1a37562111",
   "metadata": {},
   "outputs": [],
   "source": [
    "m0_train_X, m0_train_Y, m0_val_X, m0_val_Y, m0_test_X, m0_test_Y = extract_xy((m0_train, m0_val, m0_test))\n",
    "ib_train_X, ib_train_Y, ib_val_X, ib_val_Y, ib_test_X, ib_test_Y = extract_xy((ib_train, ib_val, ib_test))\n",
    "ig_train_X, ig_train_Y, ig_val_X, ig_val_Y, ig_test_X, ig_test_Y = extract_xy((ig_train, ig_val, ig_test))\n",
    "i0_train_X, i0_train_Y, i0_val_X, i0_val_Y, i0_test_X, i0_test_Y = extract_xy((i0_train, i0_val, i0_test))\n",
    "i3_train_X, i3_train_Y, i3_val_X, i3_val_Y, i3_test_X, i3_test_Y = extract_xy((i3_train, i3_val, i3_test))\n",
    "i4_train_X, i4_train_Y, i4_val_X, i4_val_Y, i4_test_X, i4_test_Y = extract_xy((i4_train, i4_val, i4_test))"
   ]
  },
  {
   "cell_type": "code",
   "execution_count": 76,
   "id": "54c09c51-0d4d-4445-8583-9d74dff36bc7",
   "metadata": {},
   "outputs": [],
   "source": [
    "# split into 60/20/20 for each polarization dataset\n",
    "# more empirical method to analyze model metrics across each polarization\n",
    "\n",
    "# X = np.vstack([m0.data, ib.data, ig.data, i0.data, i3.data, i4.data])\n",
    "# Y = np.hstack([m0.labels, ib.labels, ig.labels, i0.labels, i3.labels, i4.labels])"
   ]
  },
  {
   "cell_type": "code",
   "execution_count": 77,
   "id": "b1b48196-cd03-4844-a280-4e0a6282cc73",
   "metadata": {},
   "outputs": [],
   "source": [
    "class TorchData:\n",
    "    def __init__(self, data, labels):\n",
    "        self.data = data\n",
    "        self.labels = labels\n",
    "        \n",
    "    def __len__(self):\n",
    "        return len(self.data)\n",
    "    \n",
    "    def __getitem__(self, idx):\n",
    "        return self.data[idx], self.labels[idx]"
   ]
  },
  {
   "cell_type": "code",
   "execution_count": 86,
   "id": "5317d177-5862-42a4-a3c0-54f9b0a5ddaf",
   "metadata": {},
   "outputs": [],
   "source": [
    "# need to concat all train_X and train_Y into one dataset for training\n",
    "train_X = np.vstack([m0_train_X, ib_train_X, ig_train_X, i0_train_X, i3_train_X, i4_train_X])\n",
    "train_Y = np.hstack([m0_train_Y, ib_train_Y, ig_train_Y, i0_train_Y, i3_train_Y, i4_train_Y])\n",
    "\n",
    "val_X = np.vstack([m0_val_X, ib_val_X, ig_val_X, i0_val_X, i3_val_X, i4_val_X])\n",
    "val_Y = np.hstack([m0_val_Y, ib_val_Y, ig_val_Y, i0_val_Y, i3_val_Y, i4_val_Y])\n",
    "\n",
    "test_X = np.vstack([m0_test_X, ib_test_X, ig_test_X, i0_test_X, i3_test_X, i4_test_X])\n",
    "test_Y = np.hstack([m0_test_Y, ib_test_Y, ig_test_Y, i0_test_Y, i3_test_Y, i4_test_Y])"
   ]
  },
  {
   "cell_type": "code",
   "execution_count": 87,
   "id": "88d31a75-c69e-4e1f-b226-a42d347c5546",
   "metadata": {},
   "outputs": [
    {
     "name": "stdout",
     "output_type": "stream",
     "text": [
      "(41736, 98, 1) (41736,)\n",
      "(13908, 98, 1) (13908,)\n",
      "(13908, 98, 1) (13908,)\n"
     ]
    }
   ],
   "source": [
    "print(train_X.shape, train_Y.shape)\n",
    "print(val_X.shape, val_Y.shape)\n",
    "print(test_X.shape, test_Y.shape)"
   ]
  },
  {
   "cell_type": "code",
   "execution_count": 88,
   "id": "20600a43-b8f7-48fe-9ae5-89e0c9de5828",
   "metadata": {},
   "outputs": [],
   "source": [
    "train = TorchData(train_X, train_Y)\n",
    "val = TorchData(val_X, val_Y)\n",
    "test = TorchData(test_X, test_Y)"
   ]
  },
  {
   "cell_type": "code",
   "execution_count": 89,
   "id": "c7bfddca-9b56-4487-b3d8-bba7a313e2aa",
   "metadata": {},
   "outputs": [],
   "source": [
    "trainloader = torch.utils.data.DataLoader(train, batch_size=64, shuffle=True)\n",
    "valloader = torch.utils.data.DataLoader(val, batch_size=64, shuffle=True)\n",
    "testloader = torch.utils.data.DataLoader(test, batch_size=64, shuffle=True)"
   ]
  },
  {
   "cell_type": "code",
   "execution_count": 90,
   "id": "9919155f-d1f4-4c18-8ef0-d775c609cc32",
   "metadata": {},
   "outputs": [],
   "source": [
    "# hyperparameters\n",
    "input_size = 1\n",
    "hidden_size = 98\n",
    "output_size = 9\n",
    "\n",
    "lr = 0.001\n",
    "n_epochs = 70\n",
    "batch_size = 64\n",
    "device = torch.device('cuda')"
   ]
  },
  {
   "cell_type": "code",
   "execution_count": 91,
   "id": "a61f9484-e2d2-40dd-b711-b511c4a4ef06",
   "metadata": {},
   "outputs": [],
   "source": [
    "net = LSTM(input_size=input_size, hidden_sizes=hidden_size, output_size=output_size, num_layers=1, device=device)"
   ]
  },
  {
   "cell_type": "code",
   "execution_count": 92,
   "id": "9773aa39-3996-44ea-9072-5dd8b7adda1d",
   "metadata": {},
   "outputs": [
    {
     "data": {
      "text/plain": [
       "LSTM(\n",
       "  (lstm): LSTM(1, 98, batch_first=True)\n",
       "  (fc1): Linear(in_features=98, out_features=9, bias=True)\n",
       ")"
      ]
     },
     "execution_count": 92,
     "metadata": {},
     "output_type": "execute_result"
    }
   ],
   "source": [
    "net.train()"
   ]
  },
  {
   "cell_type": "code",
   "execution_count": 93,
   "id": "795b3f2b-cd9f-42dd-9465-f404e58a4656",
   "metadata": {},
   "outputs": [],
   "source": [
    "trainer = LSTMTrainer(model=net, device=device)"
   ]
  },
  {
   "cell_type": "code",
   "execution_count": 94,
   "id": "852b0ba2-689d-4eb4-b57d-29849b6d234f",
   "metadata": {
    "scrolled": true,
    "tags": []
   },
   "outputs": [
    {
     "name": "stderr",
     "output_type": "stream",
     "text": [
      "  1%|█▏                                                                                 | 1/70 [00:03<04:28,  3.89s/it]"
     ]
    },
    {
     "name": "stdout",
     "output_type": "stream",
     "text": [
      "Epoch 001: | Training Loss: 2.1381595277129053 | Validation Loss: 2.084531136062167\n"
     ]
    },
    {
     "name": "stderr",
     "output_type": "stream",
     "text": [
      "  3%|██▎                                                                                | 2/70 [00:07<04:14,  3.74s/it]"
     ]
    },
    {
     "name": "stdout",
     "output_type": "stream",
     "text": [
      "Epoch 002: | Training Loss: 2.0839452851238516 | Validation Loss: 2.018390776914194\n"
     ]
    },
    {
     "name": "stderr",
     "output_type": "stream",
     "text": [
      "  4%|███▌                                                                               | 3/70 [00:11<04:07,  3.69s/it]"
     ]
    },
    {
     "name": "stdout",
     "output_type": "stream",
     "text": [
      "Epoch 003: | Training Loss: 1.9340957985537706 | Validation Loss: 1.8499932841423454\n"
     ]
    },
    {
     "name": "stderr",
     "output_type": "stream",
     "text": [
      "  6%|████▋                                                                              | 4/70 [00:15<04:07,  3.75s/it]"
     ]
    },
    {
     "name": "stdout",
     "output_type": "stream",
     "text": [
      "Epoch 004: | Training Loss: 1.843776519776851 | Validation Loss: 1.8075129422572775\n"
     ]
    },
    {
     "name": "stderr",
     "output_type": "stream",
     "text": [
      "  7%|█████▉                                                                             | 5/70 [00:18<04:04,  3.76s/it]"
     ]
    },
    {
     "name": "stdout",
     "output_type": "stream",
     "text": [
      "Epoch 005: | Training Loss: 1.791275236727085 | Validation Loss: 1.7725394931408243\n"
     ]
    },
    {
     "name": "stderr",
     "output_type": "stream",
     "text": [
      "  9%|███████                                                                            | 6/70 [00:22<03:57,  3.70s/it]"
     ]
    },
    {
     "name": "stdout",
     "output_type": "stream",
     "text": [
      "Epoch 006: | Training Loss: 1.7602377574987835 | Validation Loss: 1.7465311523971208\n"
     ]
    },
    {
     "name": "stderr",
     "output_type": "stream",
     "text": [
      " 10%|████████▎                                                                          | 7/70 [00:25<03:50,  3.66s/it]"
     ]
    },
    {
     "name": "stdout",
     "output_type": "stream",
     "text": [
      "Epoch 007: | Training Loss: 1.7190026714827347 | Validation Loss: 1.7307657697878847\n"
     ]
    },
    {
     "name": "stderr",
     "output_type": "stream",
     "text": [
      " 11%|█████████▍                                                                         | 8/70 [00:29<03:47,  3.67s/it]"
     ]
    },
    {
     "name": "stdout",
     "output_type": "stream",
     "text": [
      "Epoch 008: | Training Loss: 1.6841830502607922 | Validation Loss: 1.696201930899139\n"
     ]
    },
    {
     "name": "stderr",
     "output_type": "stream",
     "text": [
      " 13%|██████████▋                                                                        | 9/70 [00:33<03:43,  3.66s/it]"
     ]
    },
    {
     "name": "stdout",
     "output_type": "stream",
     "text": [
      "Epoch 009: | Training Loss: 1.6463491852761776 | Validation Loss: 1.6357282257955008\n"
     ]
    },
    {
     "name": "stderr",
     "output_type": "stream",
     "text": [
      " 14%|███████████▋                                                                      | 10/70 [00:36<03:38,  3.65s/it]"
     ]
    },
    {
     "name": "stdout",
     "output_type": "stream",
     "text": [
      "Epoch 010: | Training Loss: 1.6108130640129217 | Validation Loss: 1.6061057869447481\n"
     ]
    },
    {
     "name": "stderr",
     "output_type": "stream",
     "text": [
      " 16%|████████████▉                                                                     | 11/70 [00:40<03:34,  3.64s/it]"
     ]
    },
    {
     "name": "stdout",
     "output_type": "stream",
     "text": [
      "Epoch 011: | Training Loss: 1.589905130552844 | Validation Loss: 1.5749797022670782\n"
     ]
    },
    {
     "name": "stderr",
     "output_type": "stream",
     "text": [
      " 17%|██████████████                                                                    | 12/70 [00:44<03:31,  3.65s/it]"
     ]
    },
    {
     "name": "stdout",
     "output_type": "stream",
     "text": [
      "Epoch 012: | Training Loss: 1.6136956830119649 | Validation Loss: 1.783746145187168\n"
     ]
    },
    {
     "name": "stderr",
     "output_type": "stream",
     "text": [
      " 19%|███████████████▏                                                                  | 13/70 [00:47<03:28,  3.65s/it]"
     ]
    },
    {
     "name": "stdout",
     "output_type": "stream",
     "text": [
      "Epoch 013: | Training Loss: 1.6519996486433066 | Validation Loss: 1.6223221464988289\n"
     ]
    },
    {
     "name": "stderr",
     "output_type": "stream",
     "text": [
      " 20%|████████████████▍                                                                 | 14/70 [00:51<03:24,  3.65s/it]"
     ]
    },
    {
     "name": "stdout",
     "output_type": "stream",
     "text": [
      "Epoch 014: | Training Loss: 1.5842738025586418 | Validation Loss: 1.5965178947929943\n"
     ]
    },
    {
     "name": "stderr",
     "output_type": "stream",
     "text": [
      " 21%|█████████████████▌                                                                | 15/70 [00:55<03:21,  3.66s/it]"
     ]
    },
    {
     "name": "stdout",
     "output_type": "stream",
     "text": [
      "Epoch 015: | Training Loss: 1.5546158508356278 | Validation Loss: 1.5486857065367043\n"
     ]
    },
    {
     "name": "stderr",
     "output_type": "stream",
     "text": [
      " 23%|██████████████████▋                                                               | 16/70 [00:58<03:19,  3.70s/it]"
     ]
    },
    {
     "name": "stdout",
     "output_type": "stream",
     "text": [
      "Epoch 016: | Training Loss: 1.5351986839431715 | Validation Loss: 1.5369754231304205\n"
     ]
    },
    {
     "name": "stderr",
     "output_type": "stream",
     "text": [
      " 24%|███████████████████▉                                                              | 17/70 [01:02<03:17,  3.72s/it]"
     ]
    },
    {
     "name": "stdout",
     "output_type": "stream",
     "text": [
      "Epoch 017: | Training Loss: 1.5206508358988973 | Validation Loss: 1.5249513458768162\n"
     ]
    },
    {
     "name": "stderr",
     "output_type": "stream",
     "text": [
      " 26%|█████████████████████                                                             | 18/70 [01:06<03:12,  3.70s/it]"
     ]
    },
    {
     "name": "stdout",
     "output_type": "stream",
     "text": [
      "Epoch 018: | Training Loss: 1.5085518079001177 | Validation Loss: 1.5135509612363414\n"
     ]
    },
    {
     "name": "stderr",
     "output_type": "stream",
     "text": [
      " 27%|██████████████████████▎                                                           | 19/70 [01:10<03:07,  3.67s/it]"
     ]
    },
    {
     "name": "stdout",
     "output_type": "stream",
     "text": [
      "Epoch 019: | Training Loss: 1.4931938620840426 | Validation Loss: 1.4948634106084842\n"
     ]
    },
    {
     "name": "stderr",
     "output_type": "stream",
     "text": [
      " 29%|███████████████████████▍                                                          | 20/70 [01:13<03:02,  3.64s/it]"
     ]
    },
    {
     "name": "stdout",
     "output_type": "stream",
     "text": [
      "Epoch 020: | Training Loss: 1.4804053423415646 | Validation Loss: 1.4811759859050087\n"
     ]
    },
    {
     "name": "stderr",
     "output_type": "stream",
     "text": [
      " 30%|████████████████████████▌                                                         | 21/70 [01:17<02:57,  3.63s/it]"
     ]
    },
    {
     "name": "stdout",
     "output_type": "stream",
     "text": [
      "Epoch 021: | Training Loss: 1.467680844194491 | Validation Loss: 1.4713993203749351\n"
     ]
    },
    {
     "name": "stderr",
     "output_type": "stream",
     "text": [
      " 31%|█████████████████████████▊                                                        | 22/70 [01:20<02:54,  3.64s/it]"
     ]
    },
    {
     "name": "stdout",
     "output_type": "stream",
     "text": [
      "Epoch 022: | Training Loss: 1.4537726604190027 | Validation Loss: 1.4603185095918287\n"
     ]
    },
    {
     "name": "stderr",
     "output_type": "stream",
     "text": [
      " 33%|██████████████████████████▉                                                       | 23/70 [01:24<02:50,  3.64s/it]"
     ]
    },
    {
     "name": "stdout",
     "output_type": "stream",
     "text": [
      "Epoch 023: | Training Loss: 1.435422400055399 | Validation Loss: 1.4735981242372356\n"
     ]
    },
    {
     "name": "stderr",
     "output_type": "stream",
     "text": [
      " 34%|████████████████████████████                                                      | 24/70 [01:28<02:47,  3.63s/it]"
     ]
    },
    {
     "name": "stdout",
     "output_type": "stream",
     "text": [
      "Epoch 024: | Training Loss: 1.4194377698175393 | Validation Loss: 1.4439951072045423\n"
     ]
    },
    {
     "name": "stderr",
     "output_type": "stream",
     "text": [
      " 36%|█████████████████████████████▎                                                    | 25/70 [01:31<02:45,  3.69s/it]"
     ]
    },
    {
     "name": "stdout",
     "output_type": "stream",
     "text": [
      "Epoch 025: | Training Loss: 1.4028335281207038 | Validation Loss: 1.4428186695510095\n"
     ]
    },
    {
     "name": "stderr",
     "output_type": "stream",
     "text": [
      " 37%|██████████████████████████████▍                                                   | 26/70 [01:35<02:42,  3.68s/it]"
     ]
    },
    {
     "name": "stdout",
     "output_type": "stream",
     "text": [
      "Epoch 026: | Training Loss: 1.389726441176708 | Validation Loss: 1.418231175580156\n"
     ]
    },
    {
     "name": "stderr",
     "output_type": "stream",
     "text": [
      " 39%|███████████████████████████████▋                                                  | 27/70 [01:39<02:38,  3.68s/it]"
     ]
    },
    {
     "name": "stdout",
     "output_type": "stream",
     "text": [
      "Epoch 027: | Training Loss: 1.386302241505014 | Validation Loss: 1.4175333878315917\n"
     ]
    },
    {
     "name": "stderr",
     "output_type": "stream",
     "text": [
      " 40%|████████████████████████████████▊                                                 | 28/70 [01:42<02:34,  3.67s/it]"
     ]
    },
    {
     "name": "stdout",
     "output_type": "stream",
     "text": [
      "Epoch 028: | Training Loss: 1.359609809348996 | Validation Loss: 1.4104894049670718\n"
     ]
    },
    {
     "name": "stderr",
     "output_type": "stream",
     "text": [
      " 41%|█████████████████████████████████▉                                                | 29/70 [01:46<02:29,  3.65s/it]"
     ]
    },
    {
     "name": "stdout",
     "output_type": "stream",
     "text": [
      "Epoch 029: | Training Loss: 1.3576585937057484 | Validation Loss: 1.3927533353140595\n"
     ]
    },
    {
     "name": "stderr",
     "output_type": "stream",
     "text": [
      " 43%|███████████████████████████████████▏                                              | 30/70 [01:50<02:25,  3.64s/it]"
     ]
    },
    {
     "name": "stdout",
     "output_type": "stream",
     "text": [
      "Epoch 030: | Training Loss: 1.3495887914989115 | Validation Loss: 1.3844629233583399\n"
     ]
    },
    {
     "name": "stderr",
     "output_type": "stream",
     "text": [
      " 44%|████████████████████████████████████▎                                             | 31/70 [01:53<02:22,  3.66s/it]"
     ]
    },
    {
     "name": "stdout",
     "output_type": "stream",
     "text": [
      "Epoch 031: | Training Loss: 1.3298397581756207 | Validation Loss: 1.417706005890435\n"
     ]
    },
    {
     "name": "stderr",
     "output_type": "stream",
     "text": [
      " 46%|█████████████████████████████████████▍                                            | 32/70 [01:57<02:21,  3.72s/it]"
     ]
    },
    {
     "name": "stdout",
     "output_type": "stream",
     "text": [
      "Epoch 032: | Training Loss: 1.3223412715092553 | Validation Loss: 1.377878297906403\n"
     ]
    },
    {
     "name": "stderr",
     "output_type": "stream",
     "text": [
      " 47%|██████████████████████████████████████▋                                           | 33/70 [02:01<02:18,  3.74s/it]"
     ]
    },
    {
     "name": "stdout",
     "output_type": "stream",
     "text": [
      "Epoch 033: | Training Loss: 1.319492099204801 | Validation Loss: 1.403743312993181\n"
     ]
    },
    {
     "name": "stderr",
     "output_type": "stream",
     "text": [
      " 49%|███████████████████████████████████████▊                                          | 34/70 [02:05<02:14,  3.74s/it]"
     ]
    },
    {
     "name": "stdout",
     "output_type": "stream",
     "text": [
      "Epoch 034: | Training Loss: 1.3053355497203962 | Validation Loss: 1.3509326019418348\n"
     ]
    },
    {
     "name": "stderr",
     "output_type": "stream",
     "text": [
      " 50%|█████████████████████████████████████████                                         | 35/70 [02:08<02:09,  3.70s/it]"
     ]
    },
    {
     "name": "stdout",
     "output_type": "stream",
     "text": [
      "Epoch 035: | Training Loss: 1.293840114318211 | Validation Loss: 1.35520200554384\n"
     ]
    },
    {
     "name": "stderr",
     "output_type": "stream",
     "text": [
      " 51%|██████████████████████████████████████████▏                                       | 36/70 [02:12<02:04,  3.67s/it]"
     ]
    },
    {
     "name": "stdout",
     "output_type": "stream",
     "text": [
      "Epoch 036: | Training Loss: 1.280405313004761 | Validation Loss: 1.354522938028388\n"
     ]
    },
    {
     "name": "stderr",
     "output_type": "stream",
     "text": [
      " 53%|███████████████████████████████████████████▎                                      | 37/70 [02:16<02:00,  3.66s/it]"
     ]
    },
    {
     "name": "stdout",
     "output_type": "stream",
     "text": [
      "Epoch 037: | Training Loss: 1.2755721473401758 | Validation Loss: 1.3277970858670156\n"
     ]
    },
    {
     "name": "stderr",
     "output_type": "stream",
     "text": [
      " 54%|████████████████████████████████████████████▌                                     | 38/70 [02:19<01:57,  3.67s/it]"
     ]
    },
    {
     "name": "stdout",
     "output_type": "stream",
     "text": [
      "Epoch 038: | Training Loss: 1.2682257082889492 | Validation Loss: 1.3292256642919067\n"
     ]
    },
    {
     "name": "stderr",
     "output_type": "stream",
     "text": [
      " 56%|█████████████████████████████████████████████▋                                    | 39/70 [02:23<01:53,  3.66s/it]"
     ]
    },
    {
     "name": "stdout",
     "output_type": "stream",
     "text": [
      "Epoch 039: | Training Loss: 1.255596977737012 | Validation Loss: 1.3277369650132065\n"
     ]
    },
    {
     "name": "stderr",
     "output_type": "stream",
     "text": [
      " 57%|██████████████████████████████████████████████▊                                   | 40/70 [02:27<01:50,  3.69s/it]"
     ]
    },
    {
     "name": "stdout",
     "output_type": "stream",
     "text": [
      "Epoch 040: | Training Loss: 1.2559039862926302 | Validation Loss: 1.3097764986370681\n"
     ]
    },
    {
     "name": "stderr",
     "output_type": "stream",
     "text": [
      " 59%|████████████████████████████████████████████████                                  | 41/70 [02:30<01:46,  3.69s/it]"
     ]
    },
    {
     "name": "stdout",
     "output_type": "stream",
     "text": [
      "Epoch 041: | Training Loss: 1.2444771645080075 | Validation Loss: 1.3095270996793695\n"
     ]
    },
    {
     "name": "stderr",
     "output_type": "stream",
     "text": [
      " 60%|█████████████████████████████████████████████████▏                                | 42/70 [02:34<01:44,  3.72s/it]"
     ]
    },
    {
     "name": "stdout",
     "output_type": "stream",
     "text": [
      "Epoch 042: | Training Loss: 1.2356501342143984 | Validation Loss: 1.3124596041823746\n"
     ]
    },
    {
     "name": "stderr",
     "output_type": "stream",
     "text": [
      " 61%|██████████████████████████████████████████████████▎                               | 43/70 [02:38<01:40,  3.71s/it]"
     ]
    },
    {
     "name": "stdout",
     "output_type": "stream",
     "text": [
      "Epoch 043: | Training Loss: 1.2333688237583107 | Validation Loss: 1.3205759897144562\n"
     ]
    },
    {
     "name": "stderr",
     "output_type": "stream",
     "text": [
      " 63%|███████████████████████████████████████████████████▌                              | 44/70 [02:41<01:36,  3.70s/it]"
     ]
    },
    {
     "name": "stdout",
     "output_type": "stream",
     "text": [
      "Epoch 044: | Training Loss: 1.2239312125201611 | Validation Loss: 1.3250580823749578\n"
     ]
    },
    {
     "name": "stderr",
     "output_type": "stream",
     "text": [
      " 64%|████████████████████████████████████████████████████▋                             | 45/70 [02:45<01:32,  3.69s/it]"
     ]
    },
    {
     "name": "stdout",
     "output_type": "stream",
     "text": [
      "Epoch 045: | Training Loss: 1.2118414704321354 | Validation Loss: 1.3030294480673763\n"
     ]
    },
    {
     "name": "stderr",
     "output_type": "stream",
     "text": [
      " 66%|█████████████████████████████████████████████████████▉                            | 46/70 [02:49<01:29,  3.73s/it]"
     ]
    },
    {
     "name": "stdout",
     "output_type": "stream",
     "text": [
      "Epoch 046: | Training Loss: 1.2152666128247658 | Validation Loss: 1.3073940848538634\n"
     ]
    },
    {
     "name": "stderr",
     "output_type": "stream",
     "text": [
      " 67%|███████████████████████████████████████████████████████                           | 47/70 [02:53<01:25,  3.73s/it]"
     ]
    },
    {
     "name": "stdout",
     "output_type": "stream",
     "text": [
      "Epoch 047: | Training Loss: 1.2038378396041542 | Validation Loss: 1.2855906382613225\n"
     ]
    },
    {
     "name": "stderr",
     "output_type": "stream",
     "text": [
      " 69%|████████████████████████████████████████████████████████▏                         | 48/70 [02:56<01:21,  3.71s/it]"
     ]
    },
    {
     "name": "stdout",
     "output_type": "stream",
     "text": [
      "Epoch 048: | Training Loss: 1.1829466360633991 | Validation Loss: 1.2885876396380433\n"
     ]
    },
    {
     "name": "stderr",
     "output_type": "stream",
     "text": [
      " 70%|█████████████████████████████████████████████████████████▍                        | 49/70 [03:00<01:17,  3.68s/it]"
     ]
    },
    {
     "name": "stdout",
     "output_type": "stream",
     "text": [
      "Epoch 049: | Training Loss: 1.1838863773148787 | Validation Loss: 1.2688148710705818\n"
     ]
    },
    {
     "name": "stderr",
     "output_type": "stream",
     "text": [
      " 71%|██████████████████████████████████████████████████████████▌                       | 50/70 [03:04<01:13,  3.66s/it]"
     ]
    },
    {
     "name": "stdout",
     "output_type": "stream",
     "text": [
      "Epoch 050: | Training Loss: 1.1711111133533085 | Validation Loss: 1.28333085474618\n"
     ]
    },
    {
     "name": "stderr",
     "output_type": "stream",
     "text": [
      " 73%|███████████████████████████████████████████████████████████▋                      | 51/70 [03:07<01:09,  3.65s/it]"
     ]
    },
    {
     "name": "stdout",
     "output_type": "stream",
     "text": [
      "Epoch 051: | Training Loss: 1.1649478668458246 | Validation Loss: 1.2617055226903442\n"
     ]
    },
    {
     "name": "stderr",
     "output_type": "stream",
     "text": [
      " 74%|████████████████████████████████████████████████████████████▉                     | 52/70 [03:11<01:06,  3.71s/it]"
     ]
    },
    {
     "name": "stdout",
     "output_type": "stream",
     "text": [
      "Epoch 052: | Training Loss: 1.1608550418025685 | Validation Loss: 1.2731236457277875\n"
     ]
    },
    {
     "name": "stderr",
     "output_type": "stream",
     "text": [
      " 76%|██████████████████████████████████████████████████████████████                    | 53/70 [03:15<01:03,  3.74s/it]"
     ]
    },
    {
     "name": "stdout",
     "output_type": "stream",
     "text": [
      "Epoch 053: | Training Loss: 1.1375706947963418 | Validation Loss: 1.2556681780640138\n"
     ]
    },
    {
     "name": "stderr",
     "output_type": "stream",
     "text": [
      " 77%|███████████████████████████████████████████████████████████████▎                  | 54/70 [03:19<00:59,  3.75s/it]"
     ]
    },
    {
     "name": "stdout",
     "output_type": "stream",
     "text": [
      "Epoch 054: | Training Loss: 1.1410677991636313 | Validation Loss: 1.278840211553311\n"
     ]
    },
    {
     "name": "stderr",
     "output_type": "stream",
     "text": [
      " 79%|████████████████████████████████████████████████████████████████▍                 | 55/70 [03:23<00:56,  3.79s/it]"
     ]
    },
    {
     "name": "stdout",
     "output_type": "stream",
     "text": [
      "Epoch 055: | Training Loss: 1.1363413430647682 | Validation Loss: 1.257238283890103\n"
     ]
    },
    {
     "name": "stderr",
     "output_type": "stream",
     "text": [
      " 80%|█████████████████████████████████████████████████████████████████▌                | 56/70 [03:26<00:53,  3.79s/it]"
     ]
    },
    {
     "name": "stdout",
     "output_type": "stream",
     "text": [
      "Epoch 056: | Training Loss: 1.1328874636572681 | Validation Loss: 1.2424779457783481\n"
     ]
    },
    {
     "name": "stderr",
     "output_type": "stream",
     "text": [
      " 81%|██████████████████████████████████████████████████████████████████▊               | 57/70 [03:30<00:48,  3.74s/it]"
     ]
    },
    {
     "name": "stdout",
     "output_type": "stream",
     "text": [
      "Epoch 057: | Training Loss: 1.2567164705321763 | Validation Loss: 1.5648780700263627\n"
     ]
    },
    {
     "name": "stderr",
     "output_type": "stream",
     "text": [
      " 83%|███████████████████████████████████████████████████████████████████▉              | 58/70 [03:34<00:44,  3.70s/it]"
     ]
    },
    {
     "name": "stdout",
     "output_type": "stream",
     "text": [
      "Epoch 058: | Training Loss: 1.448244552243541 | Validation Loss: 1.4333528914582838\n"
     ]
    },
    {
     "name": "stderr",
     "output_type": "stream",
     "text": [
      " 84%|█████████████████████████████████████████████████████████████████████             | 59/70 [03:37<00:40,  3.68s/it]"
     ]
    },
    {
     "name": "stdout",
     "output_type": "stream",
     "text": [
      "Epoch 059: | Training Loss: 1.2941500033390285 | Validation Loss: 1.33724687241633\n"
     ]
    },
    {
     "name": "stderr",
     "output_type": "stream",
     "text": [
      " 86%|██████████████████████████████████████████████████████████████████████▎           | 60/70 [03:41<00:36,  3.67s/it]"
     ]
    },
    {
     "name": "stdout",
     "output_type": "stream",
     "text": [
      "Epoch 060: | Training Loss: 1.2397325862239001 | Validation Loss: 1.324400290436701\n"
     ]
    },
    {
     "name": "stderr",
     "output_type": "stream",
     "text": [
      " 87%|███████████████████████████████████████████████████████████████████████▍          | 61/70 [03:44<00:32,  3.66s/it]"
     ]
    },
    {
     "name": "stdout",
     "output_type": "stream",
     "text": [
      "Epoch 061: | Training Loss: 1.1913739116962252 | Validation Loss: 1.2904456246883498\n"
     ]
    },
    {
     "name": "stderr",
     "output_type": "stream",
     "text": [
      " 89%|████████████████████████████████████████████████████████████████████████▋         | 62/70 [03:48<00:29,  3.65s/it]"
     ]
    },
    {
     "name": "stdout",
     "output_type": "stream",
     "text": [
      "Epoch 062: | Training Loss: 1.1689429749573537 | Validation Loss: 1.2804027883284683\n"
     ]
    },
    {
     "name": "stderr",
     "output_type": "stream",
     "text": [
      " 90%|█████████████████████████████████████████████████████████████████████████▊        | 63/70 [03:52<00:25,  3.65s/it]"
     ]
    },
    {
     "name": "stdout",
     "output_type": "stream",
     "text": [
      "Epoch 063: | Training Loss: 1.1547332907161159 | Validation Loss: 1.265180704517102\n"
     ]
    },
    {
     "name": "stderr",
     "output_type": "stream",
     "text": [
      " 91%|██████████████████████████████████████████████████████████████████████████▉       | 64/70 [03:55<00:21,  3.64s/it]"
     ]
    },
    {
     "name": "stdout",
     "output_type": "stream",
     "text": [
      "Epoch 064: | Training Loss: 1.141061222754065 | Validation Loss: 1.2819082102644335\n"
     ]
    },
    {
     "name": "stderr",
     "output_type": "stream",
     "text": [
      " 93%|████████████████████████████████████████████████████████████████████████████▏     | 65/70 [03:59<00:18,  3.64s/it]"
     ]
    },
    {
     "name": "stdout",
     "output_type": "stream",
     "text": [
      "Epoch 065: | Training Loss: 1.14046675322797 | Validation Loss: 1.2633431570245586\n"
     ]
    },
    {
     "name": "stderr",
     "output_type": "stream",
     "text": [
      " 94%|█████████████████████████████████████████████████████████████████████████████▎    | 66/70 [04:03<00:14,  3.64s/it]"
     ]
    },
    {
     "name": "stdout",
     "output_type": "stream",
     "text": [
      "Epoch 066: | Training Loss: 1.1291932480076006 | Validation Loss: 1.2592746016629246\n"
     ]
    },
    {
     "name": "stderr",
     "output_type": "stream",
     "text": [
      " 96%|██████████████████████████████████████████████████████████████████████████████▍   | 67/70 [04:06<00:10,  3.63s/it]"
     ]
    },
    {
     "name": "stdout",
     "output_type": "stream",
     "text": [
      "Epoch 067: | Training Loss: 1.1295023649063811 | Validation Loss: 1.2591669638769343\n"
     ]
    },
    {
     "name": "stderr",
     "output_type": "stream",
     "text": [
      " 97%|███████████████████████████████████████████████████████████████████████████████▋  | 68/70 [04:10<00:07,  3.63s/it]"
     ]
    },
    {
     "name": "stdout",
     "output_type": "stream",
     "text": [
      "Epoch 068: | Training Loss: 1.1248771110135964 | Validation Loss: 1.2467829256976417\n"
     ]
    },
    {
     "name": "stderr",
     "output_type": "stream",
     "text": [
      " 99%|████████████████████████████████████████████████████████████████████████████████▊ | 69/70 [04:14<00:03,  3.63s/it]"
     ]
    },
    {
     "name": "stdout",
     "output_type": "stream",
     "text": [
      "Epoch 069: | Training Loss: 1.099188332809606 | Validation Loss: 1.241078895986627\n"
     ]
    },
    {
     "name": "stderr",
     "output_type": "stream",
     "text": [
      "100%|██████████████████████████████████████████████████████████████████████████████████| 70/70 [04:17<00:00,  3.68s/it]"
     ]
    },
    {
     "name": "stdout",
     "output_type": "stream",
     "text": [
      "Epoch 070: | Training Loss: 1.099338132973652 | Validation Loss: 1.2889623242780703\n"
     ]
    },
    {
     "name": "stderr",
     "output_type": "stream",
     "text": [
      "\n"
     ]
    }
   ],
   "source": [
    "trainer.train(trainloader, valloader, batch_size=batch_size, n_epochs=n_epochs)"
   ]
  },
  {
   "cell_type": "code",
   "execution_count": 98,
   "id": "4a0166e8-07c3-472a-a89a-e6e537e9fb1d",
   "metadata": {},
   "outputs": [
    {
     "data": {
      "text/plain": [
       "[<matplotlib.lines.Line2D at 0x20629a37880>]"
      ]
     },
     "execution_count": 98,
     "metadata": {},
     "output_type": "execute_result"
    },
    {
     "data": {
      "image/png": "[encoded data removed]",
      "text/plain": [
       "<Figure size 432x288 with 1 Axes>"
      ]
     },
     "metadata": {
      "needs_background": "light"
     },
     "output_type": "display_data"
    }
   ],
   "source": [
    "# visualize training/validation loss\n",
    "plt.plot(trainer.loss_history[0])\n",
    "plt.plot(trainer.loss_history[1])\n",
    "\n",
    "# some forgetting, could rerun"
   ]
  },
  {
   "cell_type": "code",
   "execution_count": 99,
   "id": "39105e05-712d-4b2f-8ee1-0dae71ecb2bf",
   "metadata": {},
   "outputs": [],
   "source": [
    "# trainer.evaluate with testloader\n",
    "prob, pred, true = trainer.evaluate(testloader)"
   ]
  },
  {
   "cell_type": "code",
   "execution_count": 100,
   "id": "f2650600-dad5-4b4c-964f-65ac6f074452",
   "metadata": {},
   "outputs": [],
   "source": [
    "from sklearn.metrics import classification_report"
   ]
  },
  {
   "cell_type": "code",
   "execution_count": 101,
   "id": "373e59bc-d248-481d-ae38-fe68a1d2697a",
   "metadata": {},
   "outputs": [],
   "source": [
    "cr = classification_report(true, pred, target_names=ligands)"
   ]
  },
  {
   "cell_type": "code",
   "execution_count": 102,
   "id": "940c490a-d41d-4657-a36a-a08bdd677b4e",
   "metadata": {},
   "outputs": [
    {
     "name": "stdout",
     "output_type": "stream",
     "text": [
      "              precision    recall  f1-score   support\n",
      "\n",
      "         TNF       0.53      0.61      0.56      1528\n",
      "         R84       0.66      0.73      0.69      1540\n",
      "         PIC       0.58      0.56      0.57      1544\n",
      "         P3K       0.54      0.53      0.53      1577\n",
      "         FLA       0.42      0.38      0.40      1577\n",
      "         CpG       0.38      0.45      0.41      1582\n",
      "         FSL       0.36      0.20      0.26      1515\n",
      "         LPS       0.43      0.47      0.45      1542\n",
      "         UST       0.89      0.94      0.92      1503\n",
      "\n",
      "    accuracy                           0.54     13908\n",
      "   macro avg       0.53      0.54      0.53     13908\n",
      "weighted avg       0.53      0.54      0.53     13908\n",
      "\n"
     ]
    }
   ],
   "source": [
    "print(cr) # similar results to apeksha's model ~ 55% accuracy"
   ]
  },
  {
   "cell_type": "code",
   "execution_count": 106,
   "id": "9b18b50a-6cf2-4a63-9e23-10c960a428f0",
   "metadata": {},
   "outputs": [],
   "source": [
    "fraction = Fraction(true, prob)"
   ]
  },
  {
   "cell_type": "code",
   "execution_count": 107,
   "id": "bc199f6c-ecdb-4fff-a90b-40d747ec6b48",
   "metadata": {},
   "outputs": [
    {
     "data": {
      "image/png": "[encoded data removed]",
      "text/plain": [
       "<Figure size 432x288 with 2 Axes>"
      ]
     },
     "metadata": {
      "needs_background": "light"
     },
     "output_type": "display_data"
    }
   ],
   "source": [
    "cf = sns.heatmap(fraction, cmap=\"BuPu\", xticklabels=ligands)"
   ]
  },
  {
   "cell_type": "markdown",
   "id": "09a048cf-b820-4cbc-8c71-cf0f333061a0",
   "metadata": {},
   "source": [
    "## Polarization State Analysis"
   ]
  },
  {
   "cell_type": "code",
   "execution_count": 108,
   "id": "ba719f75-ed72-4d67-a597-c96d1316325e",
   "metadata": {},
   "outputs": [],
   "source": [
    "# refactor each polarization test_X and test_Y into torchdata object\n",
    "# evaluate each one separately then concat and evaluate holistically\n",
    "\n",
    "m0_test = TorchData(m0_test_X, m0_test_Y)\n",
    "ib_test = TorchData(ib_test_X, ib_test_Y)\n",
    "ig_test = TorchData(ig_test_X, ig_test_Y)\n",
    "i0_test = TorchData(i0_test_X, i0_test_Y)\n",
    "i3_test = TorchData(i3_test_X, i3_test_Y)\n",
    "i4_test = TorchData(i4_test_X, i4_test_Y)"
   ]
  },
  {
   "cell_type": "code",
   "execution_count": 109,
   "id": "9eee2428-3a3f-4a1e-96f9-32f937b8cbfd",
   "metadata": {},
   "outputs": [],
   "source": [
    "m0_loader = torch.utils.data.DataLoader(m0_test, batch_size=64, shuffle=True)\n",
    "ib_loader = torch.utils.data.DataLoader(ib_test, batch_size=64, shuffle=True)\n",
    "ig_loader = torch.utils.data.DataLoader(ig_test, batch_size=64, shuffle=True)\n",
    "i0_loader = torch.utils.data.DataLoader(i0_test, batch_size=64, shuffle=True)\n",
    "i3_loader = torch.utils.data.DataLoader(i3_test, batch_size=64, shuffle=True)\n",
    "i4_loader = torch.utils.data.DataLoader(i4_test, batch_size=64, shuffle=True)"
   ]
  },
  {
   "cell_type": "code",
   "execution_count": 110,
   "id": "f2cb97e6-a6a2-474e-a196-b72e031b053f",
   "metadata": {},
   "outputs": [],
   "source": [
    "m0_prob, m0_pred, m0_true = trainer.evaluate(m0_loader)"
   ]
  },
  {
   "cell_type": "code",
   "execution_count": 111,
   "id": "087a483b-458e-4477-969e-ef42bcdf59ee",
   "metadata": {},
   "outputs": [],
   "source": [
    "ib_prob, ib_pred, ib_true = trainer.evaluate(ib_loader)"
   ]
  },
  {
   "cell_type": "code",
   "execution_count": 112,
   "id": "37aecf6a-42e4-498a-8b6d-24caddf7f1cf",
   "metadata": {},
   "outputs": [],
   "source": [
    "ig_prob, ig_pred, ig_true = trainer.evaluate(ig_loader)"
   ]
  },
  {
   "cell_type": "code",
   "execution_count": 113,
   "id": "671dda61-5b8a-457a-a886-0ab26bc4650b",
   "metadata": {},
   "outputs": [],
   "source": [
    "i0_prob, i0_pred, i0_true = trainer.evaluate(i0_loader)"
   ]
  },
  {
   "cell_type": "code",
   "execution_count": 114,
   "id": "0a460eb8-f035-45a8-b35d-42dae84c2259",
   "metadata": {},
   "outputs": [],
   "source": [
    "i3_prob, i3_pred, i3_true = trainer.evaluate(i3_loader)"
   ]
  },
  {
   "cell_type": "code",
   "execution_count": 115,
   "id": "8dacdf5a-08ae-4d27-9a71-3341dbbee8a3",
   "metadata": {},
   "outputs": [],
   "source": [
    "i4_prob, i4_pred, i4_true = trainer.evaluate(i4_loader)"
   ]
  },
  {
   "cell_type": "markdown",
   "id": "53bf1352-99e1-422e-ade2-3db38b74d255",
   "metadata": {},
   "source": [
    "### M0"
   ]
  },
  {
   "cell_type": "code",
   "execution_count": 139,
   "id": "3c21c5ff-62d9-4324-9d8f-1ce5d4b50e3b",
   "metadata": {},
   "outputs": [
    {
     "name": "stdout",
     "output_type": "stream",
     "text": [
      "              precision    recall  f1-score      support\n",
      "TNF            0.546429  0.581749  0.563536   263.000000\n",
      "R84            0.598071  0.735178  0.659574   253.000000\n",
      "PIC            0.759259  0.750916  0.755064   273.000000\n",
      "P3K            0.448905  0.504098  0.474903   244.000000\n",
      "FLA            0.475285  0.502008  0.488281   249.000000\n",
      "CpG            0.382979  0.466667  0.420701   270.000000\n",
      "FSL            0.425373  0.220077  0.290076   259.000000\n",
      "LPS            0.495327  0.414062  0.451064   256.000000\n",
      "UST            0.954733  0.924303  0.939271   251.000000\n",
      "accuracy       0.566437  0.566437  0.566437     0.566437\n",
      "macro avg      0.565151  0.566562  0.560275  2318.000000\n",
      "weighted avg   0.565227  0.566437  0.560234  2318.000000\n"
     ]
    },
    {
     "data": {
      "text/plain": [
       "<AxesSubplot:>"
      ]
     },
     "execution_count": 139,
     "metadata": {},
     "output_type": "execute_result"
    },
    {
     "data": {
      "image/png": "[encoded data removed]",
      "text/plain": [
       "<Figure size 432x288 with 1 Axes>"
      ]
     },
     "metadata": {
      "needs_background": "light"
     },
     "output_type": "display_data"
    }
   ],
   "source": [
    "m0_cr = classification_report(m0_true, m0_pred, target_names=ligands, output_dict=True)\n",
    "m0_crdf = pd.DataFrame(m0_cr).transpose()\n",
    "print(m0_crdf)\n",
    "\n",
    "m0_crdf[:9]['f1-score'].plot()"
   ]
  },
  {
   "cell_type": "markdown",
   "id": "7966f0ba-496e-4c7e-afd0-aaada137d9b7",
   "metadata": {},
   "source": [
    "### ib"
   ]
  },
  {
   "cell_type": "code",
   "execution_count": 143,
   "id": "6bad9ce9-e22c-403c-b088-3a116412b0a8",
   "metadata": {},
   "outputs": [
    {
     "name": "stdout",
     "output_type": "stream",
     "text": [
      "              precision    recall  f1-score      support\n",
      "TNF            0.544402  0.532075  0.538168   265.000000\n",
      "R84            0.706522  0.750000  0.727612   260.000000\n",
      "PIC            0.552000  0.514925  0.532819   268.000000\n",
      "P3K            0.651982  0.552239  0.597980   268.000000\n",
      "FLA            0.493827  0.459770  0.476190   261.000000\n",
      "CpG            0.416974  0.436293  0.426415   259.000000\n",
      "FSL            0.451807  0.285171  0.349650   263.000000\n",
      "LPS            0.345845  0.551282  0.425041   234.000000\n",
      "UST            0.909091  0.958333  0.933063   240.000000\n",
      "accuracy       0.556083  0.556083  0.556083     0.556083\n",
      "macro avg      0.563606  0.560010  0.556326  2318.000000\n",
      "weighted avg   0.563179  0.556083  0.554326  2318.000000\n"
     ]
    },
    {
     "data": {
      "text/plain": [
       "<AxesSubplot:>"
      ]
     },
     "execution_count": 143,
     "metadata": {},
     "output_type": "execute_result"
    },
    {
     "data": {
      "image/png": "[encoded data removed]",
      "text/plain": [
       "<Figure size 432x288 with 1 Axes>"
      ]
     },
     "metadata": {
      "needs_background": "light"
     },
     "output_type": "display_data"
    }
   ],
   "source": [
    "ib_cr = classification_report(ib_true, ib_pred, target_names=ligands, output_dict=True)\n",
    "ib_crdf = pd.DataFrame(ib_cr).transpose()\n",
    "print(ib_crdf)\n",
    "\n",
    "ib_crdf[:9]['f1-score'].plot()"
   ]
  },
  {
   "cell_type": "markdown",
   "id": "2c80e5d8-f959-4884-8ffa-b4ef41268b6d",
   "metadata": {},
   "source": [
    "### ig"
   ]
  },
  {
   "cell_type": "code",
   "execution_count": 144,
   "id": "d5f1a71a-80bb-4367-9e2f-b616e2c1a88e",
   "metadata": {},
   "outputs": [
    {
     "name": "stdout",
     "output_type": "stream",
     "text": [
      "              precision    recall  f1-score     support\n",
      "TNF            0.600746  0.631373  0.615679   255.00000\n",
      "R84            0.670139  0.736641  0.701818   262.00000\n",
      "PIC            0.583815  0.400794  0.475294   252.00000\n",
      "P3K            0.465409  0.550186  0.504259   269.00000\n",
      "FLA            0.340426  0.252964  0.290249   253.00000\n",
      "CpG            0.297619  0.288462  0.292969   260.00000\n",
      "FSL            0.192308  0.138340  0.160920   253.00000\n",
      "LPS            0.383663  0.593870  0.466165   261.00000\n",
      "UST            0.955102  0.924901  0.939759   253.00000\n",
      "accuracy       0.503020  0.503020  0.503020     0.50302\n",
      "macro avg      0.498803  0.501948  0.494124  2318.00000\n",
      "weighted avg   0.498284  0.503020  0.494409  2318.00000\n"
     ]
    },
    {
     "data": {
      "text/plain": [
       "<AxesSubplot:>"
      ]
     },
     "execution_count": 144,
     "metadata": {},
     "output_type": "execute_result"
    },
    {
     "data": {
      "image/png": "[encoded data removed]",
      "text/plain": [
       "<Figure size 432x288 with 1 Axes>"
      ]
     },
     "metadata": {
      "needs_background": "light"
     },
     "output_type": "display_data"
    }
   ],
   "source": [
    "ig_cr = classification_report(ig_true, ig_pred, target_names=ligands, output_dict=True)\n",
    "ig_crdf = pd.DataFrame(ig_cr).transpose()\n",
    "print(ig_crdf)\n",
    "\n",
    "ig_crdf[:9]['f1-score'].plot()"
   ]
  },
  {
   "cell_type": "markdown",
   "id": "15415e8f-73ab-4734-b3ed-dd8f02224c39",
   "metadata": {},
   "source": [
    "### i0"
   ]
  },
  {
   "cell_type": "code",
   "execution_count": 140,
   "id": "cd5a767c-b588-4de2-8d7e-8da410b6a313",
   "metadata": {},
   "outputs": [
    {
     "name": "stdout",
     "output_type": "stream",
     "text": [
      "              precision    recall  f1-score      support\n",
      "TNF            0.529231  0.674510  0.593103   255.000000\n",
      "R84            0.612795  0.755187  0.676580   241.000000\n",
      "PIC            0.609959  0.588000  0.598778   250.000000\n",
      "P3K            0.441558  0.404762  0.422360   252.000000\n",
      "FLA            0.340081  0.286689  0.311111   293.000000\n",
      "CpG            0.340361  0.457490  0.390328   247.000000\n",
      "FSL            0.338983  0.241935  0.282353   248.000000\n",
      "LPS            0.443925  0.340502  0.385396   279.000000\n",
      "UST            0.952756  0.956522  0.954635   253.000000\n",
      "accuracy       0.516393  0.516393  0.516393     0.516393\n",
      "macro avg      0.512183  0.522844  0.512738  2318.000000\n",
      "weighted avg   0.508664  0.516393  0.507793  2318.000000\n"
     ]
    },
    {
     "data": {
      "text/plain": [
       "<AxesSubplot:>"
      ]
     },
     "execution_count": 140,
     "metadata": {},
     "output_type": "execute_result"
    },
    {
     "data": {
      "image/png": "[encoded data removed]",
      "text/plain": [
       "<Figure size 432x288 with 1 Axes>"
      ]
     },
     "metadata": {
      "needs_background": "light"
     },
     "output_type": "display_data"
    }
   ],
   "source": [
    "i0_cr = classification_report(i0_true, i0_pred, target_names=ligands, output_dict=True)\n",
    "i0_crdf = pd.DataFrame(i0_cr).transpose()\n",
    "print(i0_crdf)\n",
    "\n",
    "i0_crdf[:9]['f1-score'].plot()"
   ]
  },
  {
   "cell_type": "markdown",
   "id": "3a1078ad-03d3-4ec6-92bc-dd832a0ea87d",
   "metadata": {},
   "source": [
    "### i3"
   ]
  },
  {
   "cell_type": "code",
   "execution_count": 141,
   "id": "ee0cb724-d264-450b-8d22-16959ef076dc",
   "metadata": {},
   "outputs": [
    {
     "name": "stdout",
     "output_type": "stream",
     "text": [
      "              precision    recall  f1-score      support\n",
      "TNF            0.463492  0.605809  0.525180   241.000000\n",
      "R84            0.638629  0.770677  0.698467   266.000000\n",
      "PIC            0.540541  0.564516  0.552268   248.000000\n",
      "P3K            0.598291  0.500000  0.544747   280.000000\n",
      "FLA            0.415966  0.373585  0.393638   265.000000\n",
      "CpG            0.394410  0.437931  0.415033   290.000000\n",
      "FSL            0.362832  0.165992  0.227778   247.000000\n",
      "LPS            0.489796  0.493827  0.491803   243.000000\n",
      "UST            0.822878  0.936975  0.876228   238.000000\n",
      "accuracy       0.535375  0.535375  0.535375     0.535375\n",
      "macro avg      0.525204  0.538812  0.525016  2318.000000\n",
      "weighted avg   0.522971  0.535375  0.522363  2318.000000\n"
     ]
    },
    {
     "data": {
      "text/plain": [
       "<AxesSubplot:>"
      ]
     },
     "execution_count": 141,
     "metadata": {},
     "output_type": "execute_result"
    },
    {
     "data": {
      "image/png": "[encoded data removed]",
      "text/plain": [
       "<Figure size 432x288 with 1 Axes>"
      ]
     },
     "metadata": {
      "needs_background": "light"
     },
     "output_type": "display_data"
    }
   ],
   "source": [
    "i3_cr = classification_report(i3_true, i3_pred, target_names=ligands, output_dict=True)\n",
    "i3_crdf = pd.DataFrame(i3_cr).transpose()\n",
    "print(i3_crdf)\n",
    "\n",
    "i3_crdf[:9]['f1-score'].plot()"
   ]
  },
  {
   "cell_type": "markdown",
   "id": "cedac161-127c-4bbf-b90c-652ff6493d22",
   "metadata": {},
   "source": [
    "### i4"
   ]
  },
  {
   "cell_type": "code",
   "execution_count": 142,
   "id": "3975fb80-0a3d-4e36-bc7b-c73579a84d4b",
   "metadata": {},
   "outputs": [
    {
     "name": "stdout",
     "output_type": "stream",
     "text": [
      "              precision    recall  f1-score      support\n",
      "TNF            0.493671  0.626506  0.552212   249.000000\n",
      "R84            0.783920  0.604651  0.682713   258.000000\n",
      "PIC            0.438871  0.553360  0.489510   253.000000\n",
      "P3K            0.643123  0.655303  0.649156   264.000000\n",
      "FLA            0.433333  0.406250  0.419355   256.000000\n",
      "CpG            0.441176  0.585938  0.503356   256.000000\n",
      "FSL            0.447059  0.155102  0.230303   245.000000\n",
      "LPS            0.502128  0.438662  0.468254   269.000000\n",
      "UST            0.793651  0.932836  0.857633   268.000000\n",
      "accuracy       0.554357  0.554357  0.554357     0.554357\n",
      "macro avg      0.552992  0.550956  0.539166  2318.000000\n",
      "weighted avg   0.555293  0.554357  0.542411  2318.000000\n"
     ]
    },
    {
     "data": {
      "text/plain": [
       "<AxesSubplot:>"
      ]
     },
     "execution_count": 142,
     "metadata": {},
     "output_type": "execute_result"
    },
    {
     "data": {
      "image/png": "[encoded data removed]",
      "text/plain": [
       "<Figure size 432x288 with 1 Axes>"
      ]
     },
     "metadata": {
      "needs_background": "light"
     },
     "output_type": "display_data"
    }
   ],
   "source": [
    "i4_cr = classification_report(i4_true, i4_pred, target_names=ligands, output_dict=True)\n",
    "i4_crdf = pd.DataFrame(i4_cr).transpose()\n",
    "print(i4_crdf)\n",
    "\n",
    "i4_crdf[:9]['f1-score'].plot()"
   ]
  },
  {
   "cell_type": "markdown",
   "id": "8d031454-1922-4375-ae73-dfd52a948b60",
   "metadata": {},
   "source": [
    "## Holistic"
   ]
  },
  {
   "cell_type": "code",
   "execution_count": 149,
   "id": "90aff6e7-f1c1-4f62-9855-04a7c06feefe",
   "metadata": {},
   "outputs": [],
   "source": [
    "total_f1 = pd.concat([m0_crdf['f1-score'], ib_crdf['f1-score'], ig_crdf['f1-score'], i0_crdf['f1-score'], i3_crdf['f1-score'], i4_crdf['f1-score']], axis=1)\n",
    "total_f1 = total_f1.set_axis(['M0', 'IB', 'IG', 'I0', 'I3', 'I4'], axis=1)"
   ]
  },
  {
   "cell_type": "code",
   "execution_count": 154,
   "id": "a979a5a2-650e-4608-8e50-51730bfbc450",
   "metadata": {},
   "outputs": [
    {
     "data": {
      "text/html": [
       "<div>\n",
       "<style scoped>\n",
       "    .dataframe tbody tr th:only-of-type {\n",
       "        vertical-align: middle;\n",
       "    }\n",
       "\n",
       "    .dataframe tbody tr th {\n",
       "        vertical-align: top;\n",
       "    }\n",
       "\n",
       "    .dataframe thead th {\n",
       "        text-align: right;\n",
       "    }\n",
       "</style>\n",
       "<table border=\"1\" class=\"dataframe\">\n",
       "  <thead>\n",
       "    <tr style=\"text-align: right;\">\n",
       "      <th></th>\n",
       "      <th>M0</th>\n",
       "      <th>IB</th>\n",
       "      <th>IG</th>\n",
       "      <th>I0</th>\n",
       "      <th>I3</th>\n",
       "      <th>I4</th>\n",
       "    </tr>\n",
       "  </thead>\n",
       "  <tbody>\n",
       "    <tr>\n",
       "      <th>TNF</th>\n",
       "      <td>0.563536</td>\n",
       "      <td>0.538168</td>\n",
       "      <td>0.615679</td>\n",
       "      <td>0.593103</td>\n",
       "      <td>0.525180</td>\n",
       "      <td>0.552212</td>\n",
       "    </tr>\n",
       "    <tr>\n",
       "      <th>R84</th>\n",
       "      <td>0.659574</td>\n",
       "      <td>0.727612</td>\n",
       "      <td>0.701818</td>\n",
       "      <td>0.676580</td>\n",
       "      <td>0.698467</td>\n",
       "      <td>0.682713</td>\n",
       "    </tr>\n",
       "    <tr>\n",
       "      <th>PIC</th>\n",
       "      <td>0.755064</td>\n",
       "      <td>0.532819</td>\n",
       "      <td>0.475294</td>\n",
       "      <td>0.598778</td>\n",
       "      <td>0.552268</td>\n",
       "      <td>0.489510</td>\n",
       "    </tr>\n",
       "    <tr>\n",
       "      <th>P3K</th>\n",
       "      <td>0.474903</td>\n",
       "      <td>0.597980</td>\n",
       "      <td>0.504259</td>\n",
       "      <td>0.422360</td>\n",
       "      <td>0.544747</td>\n",
       "      <td>0.649156</td>\n",
       "    </tr>\n",
       "    <tr>\n",
       "      <th>FLA</th>\n",
       "      <td>0.488281</td>\n",
       "      <td>0.476190</td>\n",
       "      <td>0.290249</td>\n",
       "      <td>0.311111</td>\n",
       "      <td>0.393638</td>\n",
       "      <td>0.419355</td>\n",
       "    </tr>\n",
       "    <tr>\n",
       "      <th>CpG</th>\n",
       "      <td>0.420701</td>\n",
       "      <td>0.426415</td>\n",
       "      <td>0.292969</td>\n",
       "      <td>0.390328</td>\n",
       "      <td>0.415033</td>\n",
       "      <td>0.503356</td>\n",
       "    </tr>\n",
       "    <tr>\n",
       "      <th>FSL</th>\n",
       "      <td>0.290076</td>\n",
       "      <td>0.349650</td>\n",
       "      <td>0.160920</td>\n",
       "      <td>0.282353</td>\n",
       "      <td>0.227778</td>\n",
       "      <td>0.230303</td>\n",
       "    </tr>\n",
       "    <tr>\n",
       "      <th>LPS</th>\n",
       "      <td>0.451064</td>\n",
       "      <td>0.425041</td>\n",
       "      <td>0.466165</td>\n",
       "      <td>0.385396</td>\n",
       "      <td>0.491803</td>\n",
       "      <td>0.468254</td>\n",
       "    </tr>\n",
       "    <tr>\n",
       "      <th>UST</th>\n",
       "      <td>0.939271</td>\n",
       "      <td>0.933063</td>\n",
       "      <td>0.939759</td>\n",
       "      <td>0.954635</td>\n",
       "      <td>0.876228</td>\n",
       "      <td>0.857633</td>\n",
       "    </tr>\n",
       "  </tbody>\n",
       "</table>\n",
       "</div>"
      ],
      "text/plain": [
       "           M0        IB        IG        I0        I3        I4\n",
       "TNF  0.563536  0.538168  0.615679  0.593103  0.525180  0.552212\n",
       "R84  0.659574  0.727612  0.701818  0.676580  0.698467  0.682713\n",
       "PIC  0.755064  0.532819  0.475294  0.598778  0.552268  0.489510\n",
       "P3K  0.474903  0.597980  0.504259  0.422360  0.544747  0.649156\n",
       "FLA  0.488281  0.476190  0.290249  0.311111  0.393638  0.419355\n",
       "CpG  0.420701  0.426415  0.292969  0.390328  0.415033  0.503356\n",
       "FSL  0.290076  0.349650  0.160920  0.282353  0.227778  0.230303\n",
       "LPS  0.451064  0.425041  0.466165  0.385396  0.491803  0.468254\n",
       "UST  0.939271  0.933063  0.939759  0.954635  0.876228  0.857633"
      ]
     },
     "execution_count": 154,
     "metadata": {},
     "output_type": "execute_result"
    }
   ],
   "source": [
    "total_f1.iloc[:9]"
   ]
  },
  {
   "cell_type": "code",
   "execution_count": 156,
   "id": "c5e5b160-ca5f-4ea3-b59e-881a24a4df5c",
   "metadata": {},
   "outputs": [
    {
     "data": {
      "text/plain": [
       "<AxesSubplot:>"
      ]
     },
     "execution_count": 156,
     "metadata": {},
     "output_type": "execute_result"
    },
    {
     "data": {
      "image/png": "[encoded data removed]",
      "text/plain": [
       "<Figure size 432x288 with 1 Axes>"
      ]
     },
     "metadata": {
      "needs_background": "light"
     },
     "output_type": "display_data"
    }
   ],
   "source": [
    "total_f1.iloc[:9].plot()"
   ]
  },
  {
   "cell_type": "code",
   "execution_count": 157,
   "id": "a24d8a0c-a581-44d0-9903-a9f953ce6964",
   "metadata": {},
   "outputs": [
    {
     "data": {
      "text/plain": [
       "<AxesSubplot:>"
      ]
     },
     "execution_count": 157,
     "metadata": {},
     "output_type": "execute_result"
    },
    {
     "data": {
      "image/png": "[encoded data removed]",
      "text/plain": [
       "<Figure size 432x288 with 1 Axes>"
      ]
     },
     "metadata": {
      "needs_background": "light"
     },
     "output_type": "display_data"
    }
   ],
   "source": [
    "total_f1.iloc[:9].transpose().plot()"
   ]
  },
  {
   "cell_type": "code",
   "execution_count": 161,
   "id": "c7f8ec9d-b42d-45e9-b8c0-31466bfefb16",
   "metadata": {},
   "outputs": [
    {
     "data": {
      "text/plain": [
       "M0    0.560275\n",
       "IB    0.556326\n",
       "IG    0.494124\n",
       "I0    0.512738\n",
       "I3    0.525016\n",
       "I4    0.539166\n",
       "dtype: float64"
      ]
     },
     "execution_count": 161,
     "metadata": {},
     "output_type": "execute_result"
    }
   ],
   "source": [
    "# average f1 score for all ligands across each polarization state\n",
    "np.mean(total_f1.iloc[:9])"
   ]
  },
  {
   "cell_type": "code",
   "execution_count": 162,
   "id": "71f5d69a-03f4-4672-84b0-23a08f91adaf",
   "metadata": {},
   "outputs": [
    {
     "data": {
      "text/plain": [
       "<AxesSubplot:>"
      ]
     },
     "execution_count": 162,
     "metadata": {},
     "output_type": "execute_result"
    },
    {
     "data": {
      "image/png": "[encoded data removed]",
      "text/plain": [
       "<Figure size 432x288 with 1 Axes>"
      ]
     },
     "metadata": {
      "needs_background": "light"
     },
     "output_type": "display_data"
    }
   ],
   "source": [
    "np.mean(total_f1.iloc[:9]).plot()"
   ]
  }
 ],
 "metadata": {
  "kernelspec": {
   "display_name": "Python 3 (ipykernel)",
   "language": "python",
   "name": "python3"
  },
  "language_info": {
   "codemirror_mode": {
    "name": "ipython",
    "version": 3
   },
   "file_extension": ".py",
   "mimetype": "text/x-python",
   "name": "python",
   "nbconvert_exporter": "python",
   "pygments_lexer": "ipython3",
   "version": "3.8.12"
  }
 },
 "nbformat": 4,
 "nbformat_minor": 5
}
