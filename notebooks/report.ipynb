{
 "cells": [
  {
   "cell_type": "markdown",
   "id": "d5f0d36c-d58f-4896-bbe0-1e9225b8a697",
   "metadata": {},
   "source": [
    "<h3>Report</h3>"
   ]
  },
  {
   "cell_type": "code",
   "execution_count": 1,
   "id": "3e570a7b-c56e-4597-b17d-83baf8dc2fb0",
   "metadata": {},
   "outputs": [],
   "source": [
    "import sys\n",
    "sys.path.append('..')"
   ]
  },
  {
   "cell_type": "code",
   "execution_count": 2,
   "id": "719ef478-d5ff-4866-a5de-01ae381b5921",
   "metadata": {},
   "outputs": [],
   "source": [
    "import torch\n",
    "import torch.nn as nn\n",
    "import torch.nn.functional as F\n",
    "import pandas as pd\n",
    "import numpy as np\n",
    "import matplotlib.pyplot as plt\n",
    "import sklearn\n",
    "import sklearn.metrics\n",
    "import pickle"
   ]
  },
  {
   "cell_type": "markdown",
   "id": "cc82a02f-1614-4620-9642-0f8351a6c794",
   "metadata": {},
   "source": [
    "<h3>Loading Models</h3>"
   ]
  },
  {
   "cell_type": "code",
   "execution_count": 3,
   "id": "7357c0c0-7002-4713-aa69-4c620ed9a665",
   "metadata": {},
   "outputs": [],
   "source": [
    "from core.network import *\n",
    "from core.trainer import *"
   ]
  },
  {
   "cell_type": "code",
   "execution_count": 4,
   "id": "47700b1b-c6eb-439b-8bf6-ca91819055fc",
   "metadata": {},
   "outputs": [],
   "source": [
    "device = torch.device(\"cuda:0\")\n",
    "dir_load = '../models/'"
   ]
  },
  {
   "cell_type": "code",
   "execution_count": 5,
   "id": "82bd4abb-bdd9-4768-8191-8bbb7e4fade2",
   "metadata": {},
   "outputs": [],
   "source": [
    "net = LSTM(1, 98, 9, num_layers=3, device=device).to(device)\n",
    "model = LSTMTrainer(net, device=device)\n",
    "model2 = LSTMTrainer(net, device=device)"
   ]
  },
  {
   "cell_type": "markdown",
   "id": "4465e625-3590-4c21-ba5e-a651ab14b946",
   "metadata": {},
   "source": [
    "<h3>Dataloading for Eval</h3>"
   ]
  },
  {
   "cell_type": "code",
   "execution_count": 6,
   "id": "b64f65e1-c10d-441b-9c7d-f00238ea9ca5",
   "metadata": {},
   "outputs": [],
   "source": [
    "ligands = [\"TNF\", \"R84\", \"PIC\", \"P3K\", \"FLA\", \"CpG\", \"FSL\", \"LPS\", \"UST\"]\n",
    "polarization = [\"\", \"ib\", \"ig\", \"i0\", \"i3\", \"i4\"]\n",
    "replicas, size = 2, 1288"
   ]
  },
  {
   "cell_type": "code",
   "execution_count": 7,
   "id": "dc093b5e-2327-4ff2-a723-70eba6dc64e3",
   "metadata": {},
   "outputs": [],
   "source": [
    "from core.getdata import *\n",
    "from core.dataset import * \n",
    "from core.dataset2 import *"
   ]
  },
  {
   "cell_type": "code",
   "execution_count": 8,
   "id": "06f905e8-479f-48a4-b56d-8f3ab54032f5",
   "metadata": {},
   "outputs": [],
   "source": [
    "data = Dataset(ligands, polarization, replicas, size)\n",
    "data2 = DatasetNaive(ligands, replicas, size)"
   ]
  },
  {
   "cell_type": "code",
   "execution_count": 9,
   "id": "a4f48cbb-5572-4f08-afc9-019dbb7d4781",
   "metadata": {},
   "outputs": [],
   "source": [
    "from torch.utils.data import Dataset\n",
    "from torchvision import datasets"
   ]
  },
  {
   "cell_type": "code",
   "execution_count": 10,
   "id": "47a3f680-d012-46a5-a73a-01f4cee6c436",
   "metadata": {},
   "outputs": [
    {
     "name": "stdout",
     "output_type": "stream",
     "text": [
      "69552 17388.0\n",
      "11592 2898.0\n"
     ]
    }
   ],
   "source": [
    "print(len(data), 0.25 * len(data)) # we'll test our data on 25% of the dataset\n",
    "print(len(data2), 0.25 * len(data2))"
   ]
  },
  {
   "cell_type": "code",
   "execution_count": 11,
   "id": "c3c6210f-35e6-4fd1-92ea-c7aef68bf214",
   "metadata": {},
   "outputs": [],
   "source": [
    "_, datatest = torch.utils.data.random_split(data, [69552 - 17388 - 24, 17388 + 24])\n",
    "_, dataset2 = torch.utils.data.random_split(data2, [11592 - 2880, 2880]) # 302\n",
    "testloader = torch.utils.data.DataLoader(datatest, batch_size=32, shuffle=True)\n",
    "testloader2 = torch.utils.data.DataLoader(dataset2, batch_size=16, shuffle=True)"
   ]
  },
  {
   "cell_type": "markdown",
   "id": "837ae799-8057-46cd-b7b3-6db7aa45dfaa",
   "metadata": {},
   "source": [
    "<h3>Evaluation Loop</h3>"
   ]
  },
  {
   "cell_type": "code",
   "execution_count": 12,
   "id": "501f04ff-a7af-474f-96ca-5bd7bd5d8668",
   "metadata": {},
   "outputs": [],
   "source": [
    "model.load(dir_load + 'lstm1.pth') # polarized"
   ]
  },
  {
   "cell_type": "code",
   "execution_count": 13,
   "id": "c5a3916b-cdf7-4129-a009-8d037ce810fe",
   "metadata": {},
   "outputs": [],
   "source": [
    "polarization_true, polarization_pred, polarized_prob = np.empty([32,]).T, np.empty([32,]).T, np.empty([32,]).T"
   ]
  },
  {
   "cell_type": "code",
   "execution_count": 14,
   "id": "616349c0-bee5-4cb2-beb8-aaa62b901e68",
   "metadata": {},
   "outputs": [],
   "source": [
    "for x, y in testloader:\n",
    "    x, y = x.to(device), y.to(device)\n",
    "    y_true = y.detach().cpu().numpy()\n",
    "    polarization_true = np.hstack([polarization_true, y_true.T])\n",
    "    y_pred = model.network(x)\n",
    "    y_pred = F.softmax(y_pred, dim=1)\n",
    "    y_pred = y_pred.detach().cpu().numpy()\n",
    "    # polarized_prob = np.hstack([polarized_prob, y_prob.T])\n",
    "    y_pred = np.argmax(y_pred, axis=1)\n",
    "    #import pdb; pdb.set_trace()\n",
    "    polarization_pred = np.hstack([polarization_pred, y_pred.T])\n",
    "    #y_true = (32, ); y_pred = (32, )"
   ]
  },
  {
   "cell_type": "code",
   "execution_count": 15,
   "id": "b3775f29-c2d3-4f0c-b8c8-01c9d379a17f",
   "metadata": {},
   "outputs": [],
   "source": [
    "model2.load(dir_load + 'lstm.pth') # naive"
   ]
  },
  {
   "cell_type": "code",
   "execution_count": 16,
   "id": "c90072ee-4e1a-47ec-a81d-028c97dc0f68",
   "metadata": {},
   "outputs": [],
   "source": [
    "naive_true, naive_pred, naive_prob = np.empty([16,]).T, np.empty([16,]).T, np.empty([16,]).T"
   ]
  },
  {
   "cell_type": "code",
   "execution_count": 17,
   "id": "ba1aaa70-7a20-49c2-ba38-7266c278cedf",
   "metadata": {},
   "outputs": [],
   "source": [
    "for x2, y2 in testloader2:\n",
    "    x2, y2 = x2.to(device), y2.to(device)\n",
    "    y_true = y2.detach().cpu().numpy()\n",
    "    naive_true = np.hstack([naive_true, y_true.T])\n",
    "    y_pred = model2.network(x2)\n",
    "    y_pred = F.softmax(y_pred, dim=1)\n",
    "    y_pred = y_pred.detach().cpu().numpy()\n",
    "    # naive_prob = np.hstack([naive_prob, y_pred.T])\n",
    "    y_pred = np.argmax(y_pred, axis=1)\n",
    "    #import pdb; pdb.set_trace()\n",
    "    naive_pred = np.hstack([naive_pred, y_pred.T])\n",
    "    #y_true = (16, ); y_pred = (16, )"
   ]
  },
  {
   "cell_type": "code",
   "execution_count": 18,
   "id": "11ca07a6-3f6d-4db1-b175-06f9e86b693b",
   "metadata": {},
   "outputs": [
    {
     "name": "stdout",
     "output_type": "stream",
     "text": [
      "(2880,) (2880,) (17412,) (17412,)\n"
     ]
    }
   ],
   "source": [
    "polarization_true, polarization_pred = polarization_true[32:], polarization_pred[32:]\n",
    "naive_true, naive_pred = naive_true[16:], naive_pred[16:]\n",
    "print(naive_true.shape, naive_pred.shape, polarization_true.shape, polarization_pred.shape)"
   ]
  },
  {
   "cell_type": "code",
   "execution_count": 19,
   "id": "0779776f-0307-4c5c-98f0-b110dcab4dbe",
   "metadata": {},
   "outputs": [],
   "source": [
    "comparison = np.vstack([polarization_true, polarization_pred]).T\n",
    "comparison2 = np.vstack([naive_true, naive_pred]).T"
   ]
  },
  {
   "cell_type": "code",
   "execution_count": 20,
   "id": "73561481-2729-46ae-8fab-5e596cabf23e",
   "metadata": {},
   "outputs": [],
   "source": [
    "df, df2 = pd.DataFrame(comparison), pd.DataFrame(comparison2)"
   ]
  },
  {
   "cell_type": "code",
   "execution_count": 21,
   "id": "c53e3963-239a-4119-ab90-bccdeb9a37c3",
   "metadata": {},
   "outputs": [
    {
     "name": "stdout",
     "output_type": "stream",
     "text": [
      "         0    1\n",
      "0      0.0  0.0\n",
      "1      7.0  7.0\n",
      "2      2.0  2.0\n",
      "3      7.0  7.0\n",
      "4      5.0  5.0\n",
      "...    ...  ...\n",
      "17407  1.0  1.0\n",
      "17408  0.0  0.0\n",
      "17409  8.0  8.0\n",
      "17410  5.0  5.0\n",
      "17411  0.0  0.0\n",
      "\n",
      "[17412 rows x 2 columns]\n"
     ]
    }
   ],
   "source": [
    "print(df)"
   ]
  },
  {
   "cell_type": "code",
   "execution_count": 22,
   "id": "7f2add86-1055-4a41-8d31-3694dcb1b68e",
   "metadata": {},
   "outputs": [
    {
     "name": "stdout",
     "output_type": "stream",
     "text": [
      "        0    1\n",
      "0     4.0  4.0\n",
      "1     4.0  4.0\n",
      "2     7.0  7.0\n",
      "3     2.0  2.0\n",
      "4     2.0  2.0\n",
      "...   ...  ...\n",
      "2875  5.0  5.0\n",
      "2876  8.0  8.0\n",
      "2877  2.0  2.0\n",
      "2878  3.0  3.0\n",
      "2879  8.0  8.0\n",
      "\n",
      "[2880 rows x 2 columns]\n"
     ]
    }
   ],
   "source": [
    "print(df2)"
   ]
  },
  {
   "cell_type": "markdown",
   "id": "26d015db-dfd4-46df-a903-b889a7021e07",
   "metadata": {},
   "source": [
    "<h3>Metrics</h3>"
   ]
  },
  {
   "cell_type": "code",
   "execution_count": 23,
   "id": "c93cb332-5510-4c32-a99e-c46eabdf4fe4",
   "metadata": {},
   "outputs": [
    {
     "name": "stdout",
     "output_type": "stream",
     "text": [
      " Naive Accuracy: 0.95625 \n",
      " Polarized Accuracy: 0.912359292441994\n"
     ]
    }
   ],
   "source": [
    "# ACCURACY\n",
    "print(f' Naive Accuracy: {sum(df2[0] == df2[1])/2880} \\n Polarized Accuracy: {sum(df[0] == df[1])/17412}')"
   ]
  },
  {
   "cell_type": "code",
   "execution_count": 24,
   "id": "8092bfa6-3eea-4a1a-bc10-929810102c5b",
   "metadata": {},
   "outputs": [],
   "source": [
    "naive_report = sklearn.metrics.classification_report(df2[0], df2[1], target_names=ligands, output_dict=True)\n",
    "naive_rep = pd.DataFrame(naive_report).transpose()\n",
    "\n",
    "polarized_report = sklearn.metrics.classification_report(df[0], df[1], target_names=ligands, output_dict=True)\n",
    "polarized_rep = pd.DataFrame(polarized_report).transpose()"
   ]
  },
  {
   "cell_type": "code",
   "execution_count": 25,
   "id": "12d2a953-bf7d-4448-9ffd-1be7730fd456",
   "metadata": {},
   "outputs": [
    {
     "name": "stdout",
     "output_type": "stream",
     "text": [
      "              precision    recall  f1-score     support\n",
      "TNF            0.959627  0.965625  0.962617   320.00000\n",
      "R84            0.984962  0.839744  0.906574   312.00000\n",
      "PIC            0.990536  0.987421  0.988976   318.00000\n",
      "P3K            0.957704  0.984472  0.970904   322.00000\n",
      "FLA            0.939759  0.975000  0.957055   320.00000\n",
      "CpG            0.948387  0.930380  0.939297   316.00000\n",
      "FSL            0.903537  0.946128  0.924342   297.00000\n",
      "LPS            0.948718  0.976540  0.962428   341.00000\n",
      "UST            0.976471  0.994012  0.985163   334.00000\n",
      "accuracy       0.956250  0.956250  0.956250     0.95625\n",
      "macro avg      0.956634  0.955480  0.955262  2880.00000\n",
      "weighted avg   0.957006  0.956250  0.955851  2880.00000\n"
     ]
    }
   ],
   "source": [
    "print(naive_rep)"
   ]
  },
  {
   "cell_type": "code",
   "execution_count": 26,
   "id": "29485b78-10a6-4b8d-8842-9c0b173fd5d9",
   "metadata": {},
   "outputs": [
    {
     "name": "stdout",
     "output_type": "stream",
     "text": [
      "              precision    recall  f1-score       support\n",
      "TNF            0.934569  0.880329  0.906638   1947.000000\n",
      "R84            0.932584  0.912088  0.922222   1911.000000\n",
      "PIC            0.927932  0.954499  0.941028   1956.000000\n",
      "P3K            0.896065  0.908905  0.902439   1954.000000\n",
      "FLA            0.858486  0.893869  0.875820   1941.000000\n",
      "CpG            0.885406  0.892284  0.888832   1931.000000\n",
      "FSL            0.885111  0.894792  0.889925   1920.000000\n",
      "LPS            0.901221  0.875193  0.888017   1939.000000\n",
      "UST            0.994283  1.000000  0.997133   1913.000000\n",
      "accuracy       0.912359  0.912359  0.912359      0.912359\n",
      "macro avg      0.912851  0.912440  0.912451  17412.000000\n",
      "weighted avg   0.912744  0.912359  0.912356  17412.000000\n"
     ]
    }
   ],
   "source": [
    "print(polarized_rep)"
   ]
  },
  {
   "cell_type": "code",
   "execution_count": 27,
   "id": "d62a784a-4f6a-405b-bc19-d160d82a9836",
   "metadata": {},
   "outputs": [],
   "source": [
    "naive_confusion = sklearn.metrics.confusion_matrix(df2[0], df2[1])\n",
    "nccm = sklearn.metrics.ConfusionMatrixDisplay(naive_confusion)\n",
    "\n",
    "polarized_confusion = sklearn.metrics.confusion_matrix(df[0], df[1])\n",
    "pccm = sklearn.metrics.ConfusionMatrixDisplay(polarized_confusion)"
   ]
  },
  {
   "cell_type": "code",
   "execution_count": 28,
   "id": "ef269758-4ffa-4797-a2a9-a1de1ce29d7c",
   "metadata": {},
   "outputs": [
    {
     "data": {
      "text/plain": [
       "<sklearn.metrics._plot.confusion_matrix.ConfusionMatrixDisplay at 0x1fd9748c0d0>"
      ]
     },
     "execution_count": 28,
     "metadata": {},
     "output_type": "execute_result"
    },
    {
     "data": {
      "image/png": "[encoded data removed]",
      "text/plain": [
       "<Figure size 432x288 with 2 Axes>"
      ]
     },
     "metadata": {
      "needs_background": "light"
     },
     "output_type": "display_data"
    }
   ],
   "source": [
    "nccm.plot()"
   ]
  },
  {
   "cell_type": "code",
   "execution_count": 29,
   "id": "56ada4ec-a538-4499-ab1c-1caa95894388",
   "metadata": {},
   "outputs": [
    {
     "data": {
      "text/plain": [
       "<sklearn.metrics._plot.confusion_matrix.ConfusionMatrixDisplay at 0x1fd9748c310>"
      ]
     },
     "execution_count": 29,
     "metadata": {},
     "output_type": "execute_result"
    },
    {
     "data": {
      "image/png": "[encoded data removed]",
      "text/plain": [
       "<Figure size 432x288 with 2 Axes>"
      ]
     },
     "metadata": {
      "needs_background": "light"
     },
     "output_type": "display_data"
    }
   ],
   "source": [
    "pccm.plot()"
   ]
  }
 ],
 "metadata": {
  "kernelspec": {
   "display_name": "Python 3 (ipykernel)",
   "language": "python",
   "name": "python3"
  },
  "language_info": {
   "codemirror_mode": {
    "name": "ipython",
    "version": 3
   },
   "file_extension": ".py",
   "mimetype": "text/x-python",
   "name": "python",
   "nbconvert_exporter": "python",
   "pygments_lexer": "ipython3",
   "version": "3.8.12"
  }
 },
 "nbformat": 4,
 "nbformat_minor": 5
}
