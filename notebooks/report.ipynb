{
 "cells": [
  {
   "cell_type": "markdown",
   "id": "d5f0d36c-d58f-4896-bbe0-1e9225b8a697",
   "metadata": {},
   "source": [
    "<h3>Report</h3>"
   ]
  },
  {
   "cell_type": "code",
   "execution_count": 1,
   "id": "3e570a7b-c56e-4597-b17d-83baf8dc2fb0",
   "metadata": {},
   "outputs": [],
   "source": [
    "import sys\n",
    "sys.path.append('..')"
   ]
  },
  {
   "cell_type": "code",
   "execution_count": 2,
   "id": "719ef478-d5ff-4866-a5de-01ae381b5921",
   "metadata": {},
   "outputs": [],
   "source": [
    "import torch\n",
    "import torch.nn as nn\n",
    "import torch.nn.functional as F\n",
    "import pandas as pd\n",
    "import numpy as np\n",
    "import matplotlib.pyplot as plt\n",
    "import sklearn\n",
    "import sklearn.metrics\n",
    "import pickle"
   ]
  },
  {
   "cell_type": "markdown",
   "id": "cc82a02f-1614-4620-9642-0f8351a6c794",
   "metadata": {},
   "source": [
    "<h3>Loading Models</h3>"
   ]
  },
  {
   "cell_type": "code",
   "execution_count": 3,
   "id": "7357c0c0-7002-4713-aa69-4c620ed9a665",
   "metadata": {},
   "outputs": [],
   "source": [
    "from core.network import *\n",
    "from core.trainer import *"
   ]
  },
  {
   "cell_type": "code",
   "execution_count": 4,
   "id": "47700b1b-c6eb-439b-8bf6-ca91819055fc",
   "metadata": {},
   "outputs": [],
   "source": [
    "device = torch.device(\"cuda:0\")\n",
    "dir_load = '../models/'"
   ]
  },
  {
   "cell_type": "code",
   "execution_count": 5,
   "id": "82bd4abb-bdd9-4768-8191-8bbb7e4fade2",
   "metadata": {},
   "outputs": [],
   "source": [
    "net = LSTM(1, 98, 9, num_layers=3, device=device).to(device)\n",
    "model = LSTMTrainer(net, device=device)\n",
    "model2 = LSTMTrainer(net, device=device)"
   ]
  },
  {
   "cell_type": "markdown",
   "id": "4465e625-3590-4c21-ba5e-a651ab14b946",
   "metadata": {},
   "source": [
    "<h3>Dataloading for Eval</h3>"
   ]
  },
  {
   "cell_type": "code",
   "execution_count": 6,
   "id": "b64f65e1-c10d-441b-9c7d-f00238ea9ca5",
   "metadata": {},
   "outputs": [],
   "source": [
    "ligands = [\"TNF\", \"R84\", \"PIC\", \"P3K\", \"FLA\", \"CpG\", \"FSL\", \"LPS\", \"UST\"]\n",
    "polarization = [\"\", \"ib\", \"ig\", \"i0\", \"i3\", \"i4\"]\n",
    "replicas, size = 2, 1288"
   ]
  },
  {
   "cell_type": "code",
   "execution_count": 7,
   "id": "dc093b5e-2327-4ff2-a723-70eba6dc64e3",
   "metadata": {},
   "outputs": [],
   "source": [
    "from core.getdata import *\n",
    "from core.dataset import * \n",
    "from core.dataset2 import *"
   ]
  },
  {
   "cell_type": "code",
   "execution_count": 8,
   "id": "06f905e8-479f-48a4-b56d-8f3ab54032f5",
   "metadata": {},
   "outputs": [],
   "source": [
    "data = DatasetPolar(ligands, polarization, replicas, size)\n",
    "data2 = DatasetNaive(ligands, replicas, size)"
   ]
  },
  {
   "cell_type": "code",
   "execution_count": 9,
   "id": "a4f48cbb-5572-4f08-afc9-019dbb7d4781",
   "metadata": {},
   "outputs": [],
   "source": [
    "from torch.utils.data import Dataset\n",
    "from torchvision import datasets"
   ]
  },
  {
   "cell_type": "code",
   "execution_count": 10,
   "id": "47a3f680-d012-46a5-a73a-01f4cee6c436",
   "metadata": {},
   "outputs": [
    {
     "name": "stdout",
     "output_type": "stream",
     "text": [
      "69552 17388.0\n",
      "11592 2898.0\n"
     ]
    }
   ],
   "source": [
    "print(len(data), 0.25 * len(data)) # we'll test our data on 25% of the dataset\n",
    "print(len(data2), 0.25 * len(data2))"
   ]
  },
  {
   "cell_type": "code",
   "execution_count": 11,
   "id": "c3c6210f-35e6-4fd1-92ea-c7aef68bf214",
   "metadata": {},
   "outputs": [],
   "source": [
    "_, datatest = torch.utils.data.random_split(data, [69552 - 17388 - 24, 17388 + 24])\n",
    "_, dataset2 = torch.utils.data.random_split(data2, [11592 - 2880, 2880]) # 302\n",
    "testloader = torch.utils.data.DataLoader(datatest, batch_size=32, shuffle=True)\n",
    "testloader2 = torch.utils.data.DataLoader(dataset2, batch_size=16, shuffle=True)"
   ]
  },
  {
   "cell_type": "markdown",
   "id": "837ae799-8057-46cd-b7b3-6db7aa45dfaa",
   "metadata": {},
   "source": [
    "<h3>Evaluation Loop</h3>"
   ]
  },
  {
   "cell_type": "code",
   "execution_count": 12,
   "id": "501f04ff-a7af-474f-96ca-5bd7bd5d8668",
   "metadata": {},
   "outputs": [],
   "source": [
    "model.load(dir_load + 'lstm1.pth') # polarized"
   ]
  },
  {
   "cell_type": "code",
   "execution_count": 13,
   "id": "c5a3916b-cdf7-4129-a009-8d037ce810fe",
   "metadata": {},
   "outputs": [],
   "source": [
    "polarization_true, polarization_pred, polarized_prob = np.empty([32,]).T, np.empty([32,]).T, np.empty([32,]).T"
   ]
  },
  {
   "cell_type": "code",
   "execution_count": 14,
   "id": "616349c0-bee5-4cb2-beb8-aaa62b901e68",
   "metadata": {},
   "outputs": [],
   "source": [
    "for x, y in testloader:\n",
    "    x, y = x.to(device), y.to(device)\n",
    "    y_true = y.detach().cpu().numpy()\n",
    "    polarization_true = np.hstack([polarization_true, y_true.T])\n",
    "    y_pred = model.network(x)\n",
    "    y_pred = F.softmax(y_pred, dim=1)\n",
    "    y_pred = y_pred.detach().cpu().numpy()\n",
    "    # import pdb; pdb.set_trace()\n",
    "    y_prob = np.amax(y_pred, axis=1)\n",
    "    polarized_prob = np.hstack([polarized_prob, y_prob.T])\n",
    "    y_pred = np.argmax(y_pred, axis=1)\n",
    "    polarization_pred = np.hstack([polarization_pred, y_pred.T])\n",
    "    #y_true = (32, ); y_pred = (32, ); y_prob = (32, 9)"
   ]
  },
  {
   "cell_type": "code",
   "execution_count": 15,
   "id": "b3775f29-c2d3-4f0c-b8c8-01c9d379a17f",
   "metadata": {},
   "outputs": [],
   "source": [
    "model2.load(dir_load + 'lstm.pth') # naive"
   ]
  },
  {
   "cell_type": "code",
   "execution_count": 16,
   "id": "c90072ee-4e1a-47ec-a81d-028c97dc0f68",
   "metadata": {},
   "outputs": [],
   "source": [
    "naive_true, naive_pred, naive_prob = np.empty([16,]).T, np.empty([16,]).T, np.empty([16,]).T"
   ]
  },
  {
   "cell_type": "code",
   "execution_count": 17,
   "id": "ba1aaa70-7a20-49c2-ba38-7266c278cedf",
   "metadata": {},
   "outputs": [],
   "source": [
    "for x2, y2 in testloader2:\n",
    "    x2, y2 = x2.to(device), y2.to(device)\n",
    "    y_true = y2.detach().cpu().numpy()\n",
    "    naive_true = np.hstack([naive_true, y_true.T])\n",
    "    y_pred = model2.network(x2)\n",
    "    y_pred = F.softmax(y_pred, dim=1)\n",
    "    y_pred = y_pred.detach().cpu().numpy()\n",
    "    y_prob = np.amax(y_pred, axis=1)\n",
    "    naive_prob = np.hstack([naive_prob, y_prob.T])\n",
    "    y_pred = np.argmax(y_pred, axis=1)\n",
    "    #import pdb; pdb.set_trace()\n",
    "    naive_pred = np.hstack([naive_pred, y_pred.T])\n",
    "    #y_true = (16, ); y_pred = (16, ); y_prob = (16, 9)"
   ]
  },
  {
   "cell_type": "code",
   "execution_count": 18,
   "id": "11ca07a6-3f6d-4db1-b175-06f9e86b693b",
   "metadata": {},
   "outputs": [
    {
     "name": "stdout",
     "output_type": "stream",
     "text": [
      "(2880,) (2880,) (17412,) (17412,) (17412,) (2880,)\n"
     ]
    }
   ],
   "source": [
    "polarization_true, polarization_pred = polarization_true[32:], polarization_pred[32:]\n",
    "naive_true, naive_pred = naive_true[16:], naive_pred[16:]\n",
    "polarized_prob, naive_prob = polarized_prob[32:], naive_prob[16:]\n",
    "print(naive_true.shape, naive_pred.shape, polarization_true.shape, polarization_pred.shape, polarized_prob.shape, naive_prob.shape)"
   ]
  },
  {
   "cell_type": "code",
   "execution_count": 19,
   "id": "7714ca97-3d64-4a0e-8e5e-c06e601e40d7",
   "metadata": {},
   "outputs": [
    {
     "data": {
      "text/plain": [
       "0.9999918937683105"
      ]
     },
     "execution_count": 19,
     "metadata": {},
     "output_type": "execute_result"
    }
   ],
   "source": [
    "naive_prob[0]"
   ]
  },
  {
   "cell_type": "code",
   "execution_count": 20,
   "id": "0779776f-0307-4c5c-98f0-b110dcab4dbe",
   "metadata": {},
   "outputs": [],
   "source": [
    "comparison = np.vstack([polarization_true, polarization_pred]).T\n",
    "comparison2 = np.vstack([naive_true, naive_pred]).T\n",
    "\n",
    "comp_prob_polar = np.vstack([polarized_prob, polarization_true]).T\n",
    "comp_prob_naive = np.vstack([naive_prob, np.ones((2880,))]).T\n",
    "\n",
    "wait = np.vstack([polarized_prob[:2880], naive_prob]).T"
   ]
  },
  {
   "cell_type": "code",
   "execution_count": 21,
   "id": "73561481-2729-46ae-8fab-5e596cabf23e",
   "metadata": {},
   "outputs": [],
   "source": [
    "df, df2, df3, df4 = pd.DataFrame(comparison), pd.DataFrame(comparison2), pd.DataFrame(comp_prob_polar), pd.DataFrame(comp_prob_naive)\n",
    "df5 = pd.DataFrame(wait)"
   ]
  },
  {
   "cell_type": "code",
   "execution_count": 22,
   "id": "dca31212-564a-401e-8025-c4916090b600",
   "metadata": {},
   "outputs": [
    {
     "name": "stdout",
     "output_type": "stream",
     "text": [
      "              0    1\n",
      "0      0.781249  2.0\n",
      "1      0.999717  2.0\n",
      "2      0.497632  3.0\n",
      "3      0.873699  7.0\n",
      "4      0.930744  1.0\n",
      "...         ...  ...\n",
      "17407  0.996406  0.0\n",
      "17408  0.672733  7.0\n",
      "17409  0.999983  3.0\n",
      "17410  0.889826  5.0\n",
      "17411  0.999502  2.0\n",
      "\n",
      "[17412 rows x 2 columns]\n"
     ]
    }
   ],
   "source": [
    "print(df3)"
   ]
  },
  {
   "cell_type": "code",
   "execution_count": 23,
   "id": "c53e3963-239a-4119-ab90-bccdeb9a37c3",
   "metadata": {},
   "outputs": [
    {
     "name": "stdout",
     "output_type": "stream",
     "text": [
      "         0    1\n",
      "0      2.0  2.0\n",
      "1      2.0  2.0\n",
      "2      3.0  7.0\n",
      "3      7.0  7.0\n",
      "4      1.0  1.0\n",
      "...    ...  ...\n",
      "17407  0.0  0.0\n",
      "17408  7.0  7.0\n",
      "17409  3.0  3.0\n",
      "17410  5.0  5.0\n",
      "17411  2.0  2.0\n",
      "\n",
      "[17412 rows x 2 columns]\n"
     ]
    }
   ],
   "source": [
    "print(df)"
   ]
  },
  {
   "cell_type": "code",
   "execution_count": 24,
   "id": "7f2add86-1055-4a41-8d31-3694dcb1b68e",
   "metadata": {},
   "outputs": [
    {
     "name": "stdout",
     "output_type": "stream",
     "text": [
      "        0    1\n",
      "0     2.0  2.0\n",
      "1     7.0  7.0\n",
      "2     7.0  7.0\n",
      "3     5.0  5.0\n",
      "4     5.0  5.0\n",
      "...   ...  ...\n",
      "2875  3.0  3.0\n",
      "2876  3.0  3.0\n",
      "2877  2.0  2.0\n",
      "2878  2.0  2.0\n",
      "2879  1.0  1.0\n",
      "\n",
      "[2880 rows x 2 columns]\n"
     ]
    }
   ],
   "source": [
    "print(df2)"
   ]
  },
  {
   "cell_type": "markdown",
   "id": "26d015db-dfd4-46df-a903-b889a7021e07",
   "metadata": {},
   "source": [
    "<h3>Naive/Polarized Metrics</h3>"
   ]
  },
  {
   "cell_type": "code",
   "execution_count": 25,
   "id": "c93cb332-5510-4c32-a99e-c46eabdf4fe4",
   "metadata": {},
   "outputs": [
    {
     "name": "stdout",
     "output_type": "stream",
     "text": [
      " Naive Accuracy: 0.9611111111111111 \n",
      " Polarized Accuracy: 0.9117275442223753\n"
     ]
    }
   ],
   "source": [
    "# ACCURACY\n",
    "print(f' Naive Accuracy: {sum(df2[0] == df2[1])/2880} \\n Polarized Accuracy: {sum(df[0] == df[1])/17412}')"
   ]
  },
  {
   "cell_type": "code",
   "execution_count": 26,
   "id": "8092bfa6-3eea-4a1a-bc10-929810102c5b",
   "metadata": {},
   "outputs": [],
   "source": [
    "naive_report = sklearn.metrics.classification_report(df2[0], df2[1], target_names=ligands, output_dict=True)\n",
    "naive_rep = pd.DataFrame(naive_report).transpose()\n",
    "\n",
    "polarized_report = sklearn.metrics.classification_report(df[0], df[1], target_names=ligands, output_dict=True)\n",
    "polarized_rep = pd.DataFrame(polarized_report).transpose()"
   ]
  },
  {
   "cell_type": "code",
   "execution_count": 27,
   "id": "12d2a953-bf7d-4448-9ffd-1be7730fd456",
   "metadata": {},
   "outputs": [
    {
     "name": "stdout",
     "output_type": "stream",
     "text": [
      "              precision    recall  f1-score      support\n",
      "TNF            0.957265  0.991150  0.973913   339.000000\n",
      "R84            0.992958  0.870370  0.927632   324.000000\n",
      "PIC            0.987654  0.978593  0.983103   327.000000\n",
      "P3K            0.958333  0.967638  0.962963   309.000000\n",
      "FLA            0.956923  0.965839  0.961360   322.000000\n",
      "CpG            0.960526  0.957377  0.958949   305.000000\n",
      "FSL            0.923567  0.935484  0.929487   310.000000\n",
      "LPS            0.941176  0.985337  0.962751   341.000000\n",
      "UST            0.977346  0.996700  0.986928   303.000000\n",
      "accuracy       0.961111  0.961111  0.961111     0.961111\n",
      "macro avg      0.961750  0.960943  0.960787  2880.000000\n",
      "weighted avg   0.961733  0.961111  0.960852  2880.000000\n"
     ]
    }
   ],
   "source": [
    "print(naive_rep)"
   ]
  },
  {
   "cell_type": "code",
   "execution_count": 28,
   "id": "29485b78-10a6-4b8d-8842-9c0b173fd5d9",
   "metadata": {},
   "outputs": [
    {
     "name": "stdout",
     "output_type": "stream",
     "text": [
      "              precision    recall  f1-score       support\n",
      "TNF            0.936159  0.882650  0.908618   1977.000000\n",
      "R84            0.942902  0.911854  0.927118   1974.000000\n",
      "PIC            0.928922  0.952261  0.940447   1990.000000\n",
      "P3K            0.897918  0.901121  0.899517   1962.000000\n",
      "FLA            0.865180  0.885373  0.875160   1928.000000\n",
      "CpG            0.880661  0.887755  0.884194   1862.000000\n",
      "FSL            0.865434  0.900588  0.882661   1871.000000\n",
      "LPS            0.891189  0.881365  0.886250   1905.000000\n",
      "UST            0.996921  1.000000  0.998458   1943.000000\n",
      "accuracy       0.911728  0.911728  0.911728      0.911728\n",
      "macro avg      0.911698  0.911441  0.911380  17412.000000\n",
      "weighted avg   0.912254  0.911728  0.911800  17412.000000\n"
     ]
    }
   ],
   "source": [
    "print(polarized_rep)"
   ]
  },
  {
   "cell_type": "code",
   "execution_count": 29,
   "id": "32e55533-2c67-47e3-93dd-6af78db47b17",
   "metadata": {},
   "outputs": [],
   "source": [
    "polarizedf1, naivef1, totalf1 = polarized_rep[:9], naive_rep[:9], pd.concat([polarized_rep[:9], naive_rep[:9]], axis=1)"
   ]
  },
  {
   "cell_type": "code",
   "execution_count": 30,
   "id": "b0ae25df-3760-462d-9924-11e7fe70ab19",
   "metadata": {},
   "outputs": [
    {
     "data": {
      "text/plain": [
       "<AxesSubplot:>"
      ]
     },
     "execution_count": 30,
     "metadata": {},
     "output_type": "execute_result"
    },
    {
     "data": {
      "image/png": "[encoded data removed]",
      "text/plain": [
       "<Figure size 432x288 with 1 Axes>"
      ]
     },
     "metadata": {
      "needs_background": "light"
     },
     "output_type": "display_data"
    }
   ],
   "source": [
    "polarizedf1.plot(y='f1-score', style='o-')"
   ]
  },
  {
   "cell_type": "code",
   "execution_count": 31,
   "id": "174ef778-754b-46bd-aa3a-8332da363c43",
   "metadata": {},
   "outputs": [
    {
     "data": {
      "text/plain": [
       "<AxesSubplot:>"
      ]
     },
     "execution_count": 31,
     "metadata": {},
     "output_type": "execute_result"
    },
    {
     "data": {
      "image/png": "[encoded data removed]",
      "text/plain": [
       "<Figure size 432x288 with 1 Axes>"
      ]
     },
     "metadata": {
      "needs_background": "light"
     },
     "output_type": "display_data"
    }
   ],
   "source": [
    "naivef1.plot(y='f1-score', style='o-')"
   ]
  },
  {
   "cell_type": "code",
   "execution_count": 32,
   "id": "04605757-d4fa-40cc-816e-c9745e8ee17e",
   "metadata": {},
   "outputs": [
    {
     "data": {
      "text/plain": [
       "<AxesSubplot:>"
      ]
     },
     "execution_count": 32,
     "metadata": {},
     "output_type": "execute_result"
    },
    {
     "data": {
      "image/png": "[encoded data removed]",
      "text/plain": [
       "<Figure size 432x288 with 1 Axes>"
      ]
     },
     "metadata": {
      "needs_background": "light"
     },
     "output_type": "display_data"
    }
   ],
   "source": [
    "totalf1.plot(y='f1-score', style='o-') "
   ]
  },
  {
   "cell_type": "code",
   "execution_count": 33,
   "id": "d62a784a-4f6a-405b-bc19-d160d82a9836",
   "metadata": {},
   "outputs": [],
   "source": [
    "polarized_confusion = sklearn.metrics.confusion_matrix(df[0], df[1])\n",
    "pccm = sklearn.metrics.ConfusionMatrixDisplay(polarized_confusion)\n",
    "\n",
    "naive_confusion = sklearn.metrics.confusion_matrix(df2[0], df2[1])\n",
    "nccm = sklearn.metrics.ConfusionMatrixDisplay(naive_confusion)\n",
    "\n",
    "#polarized_fraction = sklearn.metrics.confusion_matrix(df3[0], df3[1])\n",
    "#pcfm = sklearn.metrics.ConfusionMatrixDisplay(polarized_fraction)\n",
    "\n",
    "#naive_fraction = sklearn.metrics.confusion_matrix(df4[0], df4[1])\n",
    "#ncfm = sklearn.metrics.ConfusionMatrixDisplay(naive_fraction)\n",
    "\n",
    "#test = sklearn.metrics.confusion_matrix(df5[0], df5[1])\n",
    "#kek = sklearn.metrics.ConfusionMatrixDisplay(test)"
   ]
  },
  {
   "cell_type": "code",
   "execution_count": 34,
   "id": "d2bc7ccb-6320-4048-8e43-91467cd43e93",
   "metadata": {},
   "outputs": [
    {
     "name": "stdout",
     "output_type": "stream",
     "text": [
      "             0         1\n",
      "0     0.781249  0.999992\n",
      "1     0.999717  0.999784\n",
      "2     0.497632  0.999860\n",
      "3     0.873699  0.824687\n",
      "4     0.930744  0.990801\n",
      "...        ...       ...\n",
      "2875  0.998620  0.999943\n",
      "2876  0.986070  0.971305\n",
      "2877  0.954353  0.999951\n",
      "2878  0.733176  0.983220\n",
      "2879  0.890228  0.849673\n",
      "\n",
      "[2880 rows x 2 columns]\n"
     ]
    }
   ],
   "source": [
    "print(df5)"
   ]
  },
  {
   "cell_type": "code",
   "execution_count": 35,
   "id": "ef269758-4ffa-4797-a2a9-a1de1ce29d7c",
   "metadata": {},
   "outputs": [
    {
     "data": {
      "text/plain": [
       "<sklearn.metrics._plot.confusion_matrix.ConfusionMatrixDisplay at 0x2cc14ee5400>"
      ]
     },
     "execution_count": 35,
     "metadata": {},
     "output_type": "execute_result"
    },
    {
     "data": {
      "image/png": "[encoded data removed]",
      "text/plain": [
       "<Figure size 432x288 with 2 Axes>"
      ]
     },
     "metadata": {
      "needs_background": "light"
     },
     "output_type": "display_data"
    }
   ],
   "source": [
    "nccm.plot()"
   ]
  },
  {
   "cell_type": "code",
   "execution_count": 36,
   "id": "56ada4ec-a538-4499-ab1c-1caa95894388",
   "metadata": {},
   "outputs": [
    {
     "data": {
      "text/plain": [
       "<sklearn.metrics._plot.confusion_matrix.ConfusionMatrixDisplay at 0x2cc1b852670>"
      ]
     },
     "execution_count": 36,
     "metadata": {},
     "output_type": "execute_result"
    },
    {
     "data": {
      "image/png": "[encoded data removed]",
      "text/plain": [
       "<Figure size 432x288 with 2 Axes>"
      ]
     },
     "metadata": {
      "needs_background": "light"
     },
     "output_type": "display_data"
    }
   ],
   "source": [
    "pccm.plot()"
   ]
  },
  {
   "cell_type": "code",
   "execution_count": 37,
   "id": "28b90b7b-9425-49bd-9142-eae61def7505",
   "metadata": {},
   "outputs": [],
   "source": [
    "# pcfm.plot()"
   ]
  },
  {
   "cell_type": "markdown",
   "id": "10383b19-6123-4c9b-b452-67894e77bd5a",
   "metadata": {},
   "source": [
    "<h3>Polarization State Analysis</h3>"
   ]
  },
  {
   "cell_type": "code",
   "execution_count": 38,
   "id": "0359112e-99de-4dcb-96aa-f408654858d6",
   "metadata": {},
   "outputs": [],
   "source": [
    "ligands = [\"TNF\", \"R84\", \"PIC\", \"P3K\", \"FLA\", \"CpG\", \"FSL\", \"LPS\", \"UST\"]\n",
    "polarization = [\"\", \"ib\", \"ig\", \"i0\", \"i3\", \"i4\"]\n",
    "replicas, size = 2, 1288"
   ]
  },
  {
   "cell_type": "code",
   "execution_count": 39,
   "id": "b1a21ee5-2020-4f6e-9b5c-352eda7e3b00",
   "metadata": {},
   "outputs": [],
   "source": [
    "unpolarized_data = DatasetPolar(ligands, [\"\"], replicas, size)\n",
    "ib = DatasetPolar(ligands, [\"ib\"], replicas, size)\n",
    "ig = DatasetPolar(ligands, [\"ig\"], replicas, size)\n",
    "i0 = DatasetPolar(ligands, [\"i0\"], replicas, size)\n",
    "i3 = DatasetPolar(ligands, [\"i3\"], replicas, size)\n",
    "i4 = DatasetPolar(ligands, [\"i4\"], replicas, size)"
   ]
  },
  {
   "cell_type": "code",
   "execution_count": 40,
   "id": "e5e08b2f-a0c7-4d48-99ac-021adac430e4",
   "metadata": {},
   "outputs": [
    {
     "name": "stdout",
     "output_type": "stream",
     "text": [
      "69552\n",
      "11592\n"
     ]
    }
   ],
   "source": [
    "print(len(unpolarized_data) + len(ib) + len(ig) + len(i0) + len(i3) + len(i4))\n",
    "print(len(i4))"
   ]
  },
  {
   "cell_type": "code",
   "execution_count": 41,
   "id": "ebcd61cf-853d-476a-bb83-92c8cd9387f6",
   "metadata": {},
   "outputs": [],
   "source": [
    "_, unpolarizedtest = torch.utils.data.random_split(unpolarized_data, [11592 - 3200, 3200])\n",
    "_, ibtest = torch.utils.data.random_split(unpolarized_data, [11592 - 3200, 3200])\n",
    "_, igtest = torch.utils.data.random_split(unpolarized_data, [11592 - 3200, 3200])\n",
    "_, i0test = torch.utils.data.random_split(unpolarized_data, [11592 - 3200, 3200])\n",
    "_, i3test = torch.utils.data.random_split(unpolarized_data, [11592 - 3200, 3200])\n",
    "_, i4test = torch.utils.data.random_split(unpolarized_data, [11592 - 3200, 3200])\n",
    "\n",
    "uploader = torch.utils.data.DataLoader(unpolarizedtest, batch_size=32, shuffle=True)\n",
    "ibloader = torch.utils.data.DataLoader(ibtest, batch_size=32, shuffle=True)\n",
    "igloader = torch.utils.data.DataLoader(igtest, batch_size=32, shuffle=True)\n",
    "i0loader = torch.utils.data.DataLoader(i0test, batch_size=32, shuffle=True)\n",
    "i3loader = torch.utils.data.DataLoader(i3test, batch_size=32, shuffle=True)\n",
    "i4loader = torch.utils.data.DataLoader(i4test, batch_size=32, shuffle=True)"
   ]
  },
  {
   "cell_type": "markdown",
   "id": "77df36d8-f83a-4022-ab17-17418626d83c",
   "metadata": {},
   "source": [
    "<h3>Evaluation Loop</h3>"
   ]
  },
  {
   "cell_type": "code",
   "execution_count": 42,
   "id": "251d827a-8a66-4fac-8b96-2441cdbf4a96",
   "metadata": {},
   "outputs": [],
   "source": [
    "model.load(dir_load + 'lstm1.pth') # polarized"
   ]
  },
  {
   "cell_type": "code",
   "execution_count": 43,
   "id": "71d6e092-0d8a-4c3c-8be6-2fbfc1a7e166",
   "metadata": {},
   "outputs": [],
   "source": [
    "up_true, up_pred = np.empty([32,]), np.empty([32,])\n",
    "ib_true, ib_pred = np.empty([32,]), np.empty([32,])"
   ]
  },
  {
   "cell_type": "code",
   "execution_count": 44,
   "id": "a5ca8e8a-333d-410d-acc0-23a5a6e35ac3",
   "metadata": {},
   "outputs": [],
   "source": [
    "for x, y in uploader:\n",
    "    x, y = x.to(device), y.to(device)\n",
    "    y_true = y.detach().cpu().numpy()\n",
    "    up_true = np.hstack([up_true, y_true.T])\n",
    "    y_pred = model.network(x)\n",
    "    y_pred = F.softmax(y_pred, dim=1)\n",
    "    y_pred = y_pred.detach().cpu().numpy()\n",
    "    y_pred = np.argmax(y_pred, axis=1)\n",
    "    up_pred = np.hstack([up_pred, y_pred.T])\n",
    "    #y_true = (32, ); y_pred = (32, ); y_prob = (32, 9)"
   ]
  },
  {
   "cell_type": "code",
   "execution_count": 45,
   "id": "ce7904eb-cb1c-47bc-a6c5-d66466bf22d5",
   "metadata": {},
   "outputs": [],
   "source": [
    "for x, y in ibloader:\n",
    "    x, y = x.to(device), y.to(device)\n",
    "    y_true = y.detach().cpu().numpy()\n",
    "    ib_true = np.hstack([up_true, y_true.T])\n",
    "    y_pred = model.network(x)\n",
    "    y_pred = F.softmax(y_pred, dim=1)\n",
    "    y_pred = y_pred.detach().cpu().numpy()\n",
    "    y_pred = np.argmax(y_pred, axis=1)\n",
    "    ib_pred = np.hstack([up_pred, y_pred.T])\n",
    "    #y_true = (32, ); y_pred = (32, ); y_prob = (32, 9)"
   ]
  },
  {
   "cell_type": "code",
   "execution_count": 46,
   "id": "7d0cf696-550a-48d5-a794-3b36c2ac5e60",
   "metadata": {},
   "outputs": [],
   "source": [
    "up_true, up_pred = up_true[32:], up_pred[32:]\n",
    "ib_true, ib_pred = ib_true[32:], ib_pred[32:]"
   ]
  },
  {
   "cell_type": "code",
   "execution_count": 47,
   "id": "0d407f1e-9392-49b1-822f-80764a3178c5",
   "metadata": {},
   "outputs": [],
   "source": [
    "up_df = np.vstack([up_true, up_pred]).T\n",
    "up_df = pd.DataFrame(up_df)\n",
    "\n",
    "ib_df = np.vstack([ib_true, ib_pred]).T\n",
    "ib_df = pd.DataFrame(ib_df)"
   ]
  },
  {
   "cell_type": "code",
   "execution_count": 48,
   "id": "0d81883a-aa06-47ac-a48e-c67b197abb05",
   "metadata": {},
   "outputs": [
    {
     "name": "stdout",
     "output_type": "stream",
     "text": [
      "        0    1\n",
      "0     4.0  4.0\n",
      "1     1.0  1.0\n",
      "2     3.0  4.0\n",
      "3     5.0  5.0\n",
      "4     0.0  0.0\n",
      "...   ...  ...\n",
      "3195  5.0  5.0\n",
      "3196  5.0  5.0\n",
      "3197  5.0  5.0\n",
      "3198  8.0  8.0\n",
      "3199  2.0  2.0\n",
      "\n",
      "[3200 rows x 2 columns]\n"
     ]
    }
   ],
   "source": [
    "print(up_df)"
   ]
  },
  {
   "cell_type": "code",
   "execution_count": 49,
   "id": "a2c1c47c-dc49-48b1-8891-3d36899ab176",
   "metadata": {},
   "outputs": [
    {
     "name": "stdout",
     "output_type": "stream",
     "text": [
      " Accuracy: 0.88875\n"
     ]
    }
   ],
   "source": [
    "print(f' Accuracy: {sum(up_df[0] == up_df[1])/3200}')"
   ]
  },
  {
   "cell_type": "code",
   "execution_count": 50,
   "id": "226739b7-4f21-46d5-9c9f-9b6fba71cc75",
   "metadata": {},
   "outputs": [
    {
     "name": "stdout",
     "output_type": "stream",
     "text": [
      "        0    1\n",
      "0     4.0  4.0\n",
      "1     1.0  1.0\n",
      "2     3.0  4.0\n",
      "3     5.0  5.0\n",
      "4     0.0  0.0\n",
      "...   ...  ...\n",
      "3227  0.0  0.0\n",
      "3228  7.0  7.0\n",
      "3229  7.0  7.0\n",
      "3230  4.0  4.0\n",
      "3231  0.0  0.0\n",
      "\n",
      "[3232 rows x 2 columns]\n"
     ]
    }
   ],
   "source": [
    "print(ib_df)"
   ]
  },
  {
   "cell_type": "code",
   "execution_count": 51,
   "id": "d3764272-ece5-4067-af81-e3d08d063e3b",
   "metadata": {},
   "outputs": [
    {
     "name": "stdout",
     "output_type": "stream",
     "text": [
      " Accuracy: 0.8978125\n"
     ]
    }
   ],
   "source": [
    "print(f' Accuracy: {sum(ib_df[0] == ib_df[1])/3200}')"
   ]
  },
  {
   "cell_type": "code",
   "execution_count": null,
   "id": "230f184c-b744-4231-9cfb-f06ab2af93b0",
   "metadata": {},
   "outputs": [],
   "source": []
  }
 ],
 "metadata": {
  "kernelspec": {
   "display_name": "Python 3 (ipykernel)",
   "language": "python",
   "name": "python3"
  },
  "language_info": {
   "codemirror_mode": {
    "name": "ipython",
    "version": 3
   },
   "file_extension": ".py",
   "mimetype": "text/x-python",
   "name": "python",
   "nbconvert_exporter": "python",
   "pygments_lexer": "ipython3",
   "version": "3.8.12"
  }
 },
 "nbformat": 4,
 "nbformat_minor": 5
}
