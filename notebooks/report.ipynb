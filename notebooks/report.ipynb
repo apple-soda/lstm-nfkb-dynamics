{
 "cells": [
  {
   "cell_type": "code",
   "execution_count": 2,
   "id": "3e570a7b-c56e-4597-b17d-83baf8dc2fb0",
   "metadata": {},
   "outputs": [],
   "source": [
    "import sys\n",
    "sys.path.append('..')"
   ]
  },
  {
   "cell_type": "code",
   "execution_count": 3,
   "id": "719ef478-d5ff-4866-a5de-01ae381b5921",
   "metadata": {},
   "outputs": [],
   "source": [
    "import torch\n",
    "import pandas as pd\n",
    "import numpy as np\n",
    "import sklearn\n",
    "import matplotlib.pyplot as plt\n",
    "import random\n",
    "import torch.nn as nn\n",
    "import torch.nn.functional as F"
   ]
  },
  {
   "cell_type": "markdown",
   "id": "cc82a02f-1614-4620-9642-0f8351a6c794",
   "metadata": {},
   "source": [
    "<h3>Loading Models</h3>"
   ]
  },
  {
   "cell_type": "code",
   "execution_count": 8,
   "id": "82bd4abb-bdd9-4768-8191-8bbb7e4fade2",
   "metadata": {},
   "outputs": [],
   "source": [
    "polarization_model = torch.load('../models/' + 'lstm1.pth')\n",
    "naive_model = torch.load('../models/' + 'lstm.pth')"
   ]
  },
  {
   "cell_type": "code",
   "execution_count": null,
   "id": "b7ec5398-3f4c-49d7-aa82-f6a079d4a42a",
   "metadata": {},
   "outputs": [],
   "source": []
  }
 ],
 "metadata": {
  "kernelspec": {
   "display_name": "Python 3 (ipykernel)",
   "language": "python",
   "name": "python3"
  },
  "language_info": {
   "codemirror_mode": {
    "name": "ipython",
    "version": 3
   },
   "file_extension": ".py",
   "mimetype": "text/x-python",
   "name": "python",
   "nbconvert_exporter": "python",
   "pygments_lexer": "ipython3",
   "version": "3.8.12"
  }
 },
 "nbformat": 4,
 "nbformat_minor": 5
}
