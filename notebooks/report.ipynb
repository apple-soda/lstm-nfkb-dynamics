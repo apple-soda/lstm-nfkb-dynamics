{
 "cells": [
  {
   "cell_type": "markdown",
   "id": "d5f0d36c-d58f-4896-bbe0-1e9225b8a697",
   "metadata": {},
   "source": [
    "<h3>Report</h3>"
   ]
  },
  {
   "cell_type": "code",
   "execution_count": 1,
   "id": "3e570a7b-c56e-4597-b17d-83baf8dc2fb0",
   "metadata": {},
   "outputs": [],
   "source": [
    "import sys\n",
    "sys.path.append('..')"
   ]
  },
  {
   "cell_type": "code",
   "execution_count": 2,
   "id": "719ef478-d5ff-4866-a5de-01ae381b5921",
   "metadata": {},
   "outputs": [],
   "source": [
    "import torch\n",
    "import torch.nn as nn\n",
    "import torch.nn.functional as F\n",
    "import pandas as pd\n",
    "import numpy as np\n",
    "import matplotlib.pyplot as plt\n",
    "import sklearn\n",
    "import pickle"
   ]
  },
  {
   "cell_type": "markdown",
   "id": "cc82a02f-1614-4620-9642-0f8351a6c794",
   "metadata": {},
   "source": [
    "<h3>Loading Models</h3>"
   ]
  },
  {
   "cell_type": "code",
   "execution_count": 3,
   "id": "7357c0c0-7002-4713-aa69-4c620ed9a665",
   "metadata": {},
   "outputs": [],
   "source": [
    "from core.network import *\n",
    "from core.trainer import *"
   ]
  },
  {
   "cell_type": "code",
   "execution_count": 4,
   "id": "47700b1b-c6eb-439b-8bf6-ca91819055fc",
   "metadata": {},
   "outputs": [],
   "source": [
    "device = torch.device(\"cuda:0\")\n",
    "dir_load = '../models/'"
   ]
  },
  {
   "cell_type": "code",
   "execution_count": 5,
   "id": "82bd4abb-bdd9-4768-8191-8bbb7e4fade2",
   "metadata": {},
   "outputs": [],
   "source": [
    "net = LSTM(1, 98, 9, num_layers=3, device=device).to(device)\n",
    "model = LSTMTrainer(net, device=device)"
   ]
  },
  {
   "cell_type": "code",
   "execution_count": 6,
   "id": "ee595b3f-6fba-49f7-b72d-406174e6915e",
   "metadata": {},
   "outputs": [],
   "source": [
    "if dir_load is not None:\n",
    "    model.load(dir_load + 'lstm1.pth')\n",
    "    #model.load(dir_load + 'cls.pth')"
   ]
  },
  {
   "cell_type": "markdown",
   "id": "4465e625-3590-4c21-ba5e-a651ab14b946",
   "metadata": {},
   "source": [
    "<h3>Dataloading for Eval</h3>"
   ]
  },
  {
   "cell_type": "code",
   "execution_count": 7,
   "id": "b64f65e1-c10d-441b-9c7d-f00238ea9ca5",
   "metadata": {},
   "outputs": [],
   "source": [
    "ligands = [\"TNF\", \"R84\", \"PIC\", \"P3K\", \"FLA\", \"CpG\", \"FSL\", \"LPS\", \"UST\"]\n",
    "polarization = [\"\", \"ib\", \"ig\", \"i0\", \"i3\", \"i4\"]\n",
    "replicas, size = 2, 1288"
   ]
  },
  {
   "cell_type": "code",
   "execution_count": 8,
   "id": "dc093b5e-2327-4ff2-a723-70eba6dc64e3",
   "metadata": {},
   "outputs": [],
   "source": [
    "from core.getdata import *\n",
    "from core.dataset import * \n",
    "from core.dataset2 import *"
   ]
  },
  {
   "cell_type": "code",
   "execution_count": 9,
   "id": "06f905e8-479f-48a4-b56d-8f3ab54032f5",
   "metadata": {},
   "outputs": [],
   "source": [
    "data = Dataset(ligands, polarization, replicas, size)\n",
    "data2 = DatasetNaive(ligands, replicas, size)"
   ]
  },
  {
   "cell_type": "code",
   "execution_count": 10,
   "id": "a4f48cbb-5572-4f08-afc9-019dbb7d4781",
   "metadata": {},
   "outputs": [],
   "source": [
    "from torch.utils.data import Dataset\n",
    "from torchvision import datasets"
   ]
  },
  {
   "cell_type": "code",
   "execution_count": 11,
   "id": "47a3f680-d012-46a5-a73a-01f4cee6c436",
   "metadata": {},
   "outputs": [
    {
     "name": "stdout",
     "output_type": "stream",
     "text": [
      "69552 17388.0\n"
     ]
    }
   ],
   "source": [
    "print(len(data), 0.25 * len(data)) # we'll test our data on 25% of the dataset"
   ]
  },
  {
   "cell_type": "code",
   "execution_count": 32,
   "id": "c3c6210f-35e6-4fd1-92ea-c7aef68bf214",
   "metadata": {},
   "outputs": [],
   "source": [
    "_, datatest = torch.utils.data.random_split(data, [69552 - 17388 - 24, 17388 + 24])\n",
    "testloader = torch.utils.data.DataLoader(datatest, batch_size=32, shuffle=True)"
   ]
  },
  {
   "cell_type": "markdown",
   "id": "837ae799-8057-46cd-b7b3-6db7aa45dfaa",
   "metadata": {},
   "source": [
    "<h3>Evaluation Loop</h3>"
   ]
  },
  {
   "cell_type": "code",
   "execution_count": 63,
   "id": "c5a3916b-cdf7-4129-a009-8d037ce810fe",
   "metadata": {},
   "outputs": [],
   "source": [
    "polarization_true, polarization_pred = np.empty([32,]).T, np.empty([32,]).T"
   ]
  },
  {
   "cell_type": "code",
   "execution_count": 64,
   "id": "616349c0-bee5-4cb2-beb8-aaa62b901e68",
   "metadata": {},
   "outputs": [],
   "source": [
    "for x, y in testloader:\n",
    "    x, y = x.to(device), y.to(device)\n",
    "    y_true = y.detach().cpu().numpy()\n",
    "    polarization_true = np.hstack([polarization_true, y_true.T])\n",
    "    y_pred = model.network(x)\n",
    "    y_pred = F.softmax(y_pred, dim=1)\n",
    "    y_pred = y_pred.detach().cpu().numpy()\n",
    "    y_pred = np.argmax(y_pred, axis=1)\n",
    "    #import pdb; pdb.set_trace()\n",
    "    polarization_pred = np.hstack([polarization_pred, y_pred.T])\n",
    "    #y_true = (32, ); y_pred = (32, )"
   ]
  },
  {
   "cell_type": "code",
   "execution_count": 65,
   "id": "6f4055ca-dd5e-4363-8d9b-69afccd815ac",
   "metadata": {},
   "outputs": [
    {
     "name": "stdout",
     "output_type": "stream",
     "text": [
      "(17412,) (17412,)\n"
     ]
    }
   ],
   "source": [
    "polarization_true, polarization_pred = polarization_true[32:], polarization_pred[32:]\n",
    "print(polarization_true.shape, polarization_pred.shape)"
   ]
  },
  {
   "cell_type": "code",
   "execution_count": 74,
   "id": "a593c045-87e0-4685-9b35-cd2bbbf00f29",
   "metadata": {},
   "outputs": [],
   "source": [
    "comparison = np.vstack([polarization_true, polarization_pred]).T"
   ]
  },
  {
   "cell_type": "code",
   "execution_count": 77,
   "id": "7e084302-27b2-4f70-ae02-3140d760cce0",
   "metadata": {},
   "outputs": [],
   "source": [
    "df = pd.DataFrame(comparison)"
   ]
  },
  {
   "cell_type": "code",
   "execution_count": 78,
   "id": "b70aab04-efba-4f44-a083-17dffc2c3026",
   "metadata": {},
   "outputs": [
    {
     "data": {
      "text/html": [
       "<div>\n",
       "<style scoped>\n",
       "    .dataframe tbody tr th:only-of-type {\n",
       "        vertical-align: middle;\n",
       "    }\n",
       "\n",
       "    .dataframe tbody tr th {\n",
       "        vertical-align: top;\n",
       "    }\n",
       "\n",
       "    .dataframe thead th {\n",
       "        text-align: right;\n",
       "    }\n",
       "</style>\n",
       "<table border=\"1\" class=\"dataframe\">\n",
       "  <thead>\n",
       "    <tr style=\"text-align: right;\">\n",
       "      <th></th>\n",
       "      <th>0</th>\n",
       "      <th>1</th>\n",
       "    </tr>\n",
       "  </thead>\n",
       "  <tbody>\n",
       "    <tr>\n",
       "      <th>0</th>\n",
       "      <td>7.0</td>\n",
       "      <td>7.0</td>\n",
       "    </tr>\n",
       "    <tr>\n",
       "      <th>1</th>\n",
       "      <td>4.0</td>\n",
       "      <td>4.0</td>\n",
       "    </tr>\n",
       "    <tr>\n",
       "      <th>2</th>\n",
       "      <td>0.0</td>\n",
       "      <td>0.0</td>\n",
       "    </tr>\n",
       "    <tr>\n",
       "      <th>3</th>\n",
       "      <td>1.0</td>\n",
       "      <td>1.0</td>\n",
       "    </tr>\n",
       "    <tr>\n",
       "      <th>4</th>\n",
       "      <td>5.0</td>\n",
       "      <td>6.0</td>\n",
       "    </tr>\n",
       "    <tr>\n",
       "      <th>...</th>\n",
       "      <td>...</td>\n",
       "      <td>...</td>\n",
       "    </tr>\n",
       "    <tr>\n",
       "      <th>17407</th>\n",
       "      <td>5.0</td>\n",
       "      <td>5.0</td>\n",
       "    </tr>\n",
       "    <tr>\n",
       "      <th>17408</th>\n",
       "      <td>3.0</td>\n",
       "      <td>3.0</td>\n",
       "    </tr>\n",
       "    <tr>\n",
       "      <th>17409</th>\n",
       "      <td>0.0</td>\n",
       "      <td>0.0</td>\n",
       "    </tr>\n",
       "    <tr>\n",
       "      <th>17410</th>\n",
       "      <td>4.0</td>\n",
       "      <td>4.0</td>\n",
       "    </tr>\n",
       "    <tr>\n",
       "      <th>17411</th>\n",
       "      <td>4.0</td>\n",
       "      <td>4.0</td>\n",
       "    </tr>\n",
       "  </tbody>\n",
       "</table>\n",
       "<p>17412 rows × 2 columns</p>\n",
       "</div>"
      ],
      "text/plain": [
       "         0    1\n",
       "0      7.0  7.0\n",
       "1      4.0  4.0\n",
       "2      0.0  0.0\n",
       "3      1.0  1.0\n",
       "4      5.0  6.0\n",
       "...    ...  ...\n",
       "17407  5.0  5.0\n",
       "17408  3.0  3.0\n",
       "17409  0.0  0.0\n",
       "17410  4.0  4.0\n",
       "17411  4.0  4.0\n",
       "\n",
       "[17412 rows x 2 columns]"
      ]
     },
     "execution_count": 78,
     "metadata": {},
     "output_type": "execute_result"
    }
   ],
   "source": [
    "df"
   ]
  },
  {
   "cell_type": "code",
   "execution_count": 83,
   "id": "7128eb34-31b1-49e8-b8b9-670300f7fb9e",
   "metadata": {},
   "outputs": [
    {
     "name": "stdout",
     "output_type": "stream",
     "text": [
      " Accuracy: 0.9147714220078107\n"
     ]
    }
   ],
   "source": [
    "print(f' Accuracy: {sum(df[0] == df[1])/17412}')"
   ]
  },
  {
   "cell_type": "code",
   "execution_count": null,
   "id": "ceeff768-5d32-477e-a4c7-124a04f56d79",
   "metadata": {},
   "outputs": [],
   "source": []
  }
 ],
 "metadata": {
  "kernelspec": {
   "display_name": "Python 3 (ipykernel)",
   "language": "python",
   "name": "python3"
  },
  "language_info": {
   "codemirror_mode": {
    "name": "ipython",
    "version": 3
   },
   "file_extension": ".py",
   "mimetype": "text/x-python",
   "name": "python",
   "nbconvert_exporter": "python",
   "pygments_lexer": "ipython3",
   "version": "3.8.12"
  }
 },
 "nbformat": 4,
 "nbformat_minor": 5
}
