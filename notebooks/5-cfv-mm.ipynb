{
 "cells": [
  {
   "cell_type": "markdown",
   "id": "d7e137dd-893c-4fa7-942d-de3253704052",
   "metadata": {},
   "source": [
    "### 5 Crossfold Validation for 1-layer Model\n",
    "##### 80:20 split for each crossfold validation step"
   ]
  },
  {
   "cell_type": "code",
   "execution_count": 1,
   "id": "9fe563e7-bfcc-442d-94dd-a50597b24e80",
   "metadata": {},
   "outputs": [],
   "source": [
    "import sys\n",
    "sys.path.append('..')"
   ]
  },
  {
   "cell_type": "code",
   "execution_count": 2,
   "id": "e565af28-486d-4430-af43-8532a507ac03",
   "metadata": {},
   "outputs": [],
   "source": [
    "import torch\n",
    "import torch.nn as nn\n",
    "import torch.nn.functional as F\n",
    "import pandas as pd\n",
    "import numpy as np\n",
    "import sklearn\n",
    "import matplotlib.pyplot as plt\n",
    "import seaborn as sns"
   ]
  },
  {
   "cell_type": "code",
   "execution_count": 19,
   "id": "edd65332-1716-4aa5-8472-3db617b3aa30",
   "metadata": {},
   "outputs": [],
   "source": [
    "from core.getdata import *\n",
    "from core.dataset import *\n",
    "from core.network import *\n",
    "from core.trainer import *\n",
    "from core.visualization import *\n",
    "\n",
    "from torch.utils.data import Dataset\n",
    "from torchvision import datasets\n",
    "from torchvision.transforms import ToTensor"
   ]
  },
  {
   "cell_type": "code",
   "execution_count": 4,
   "id": "083a0767-db34-4680-a5eb-e7401fe9e04c",
   "metadata": {},
   "outputs": [],
   "source": [
    "ligands = [\"TNF\", \"R84\", \"PIC\", \"P3K\", \"FLA\", \"CpG\", \"FSL\", \"LPS\", \"UST\"]\n",
    "polarization = [\"\", \"ib\", \"ig\", \"i0\", \"i3\", \"i4\"]\n",
    "replicas, size = 2, 1288"
   ]
  },
  {
   "cell_type": "code",
   "execution_count": 23,
   "id": "96955d6d-556f-4b65-bf60-b160804cc1d6",
   "metadata": {},
   "outputs": [],
   "source": [
    "load_dir = '../models/cfv/'\n",
    "save_dir = '../models/cfv/'"
   ]
  },
  {
   "cell_type": "code",
   "execution_count": 20,
   "id": "c726087e-42c3-4a2a-b0e5-3f3e9548ab9e",
   "metadata": {},
   "outputs": [],
   "source": [
    "#model parameters\n",
    "input_size = 1\n",
    "hidden_sizes = 98\n",
    "output_size = 9\n",
    "num_layers = 1\n",
    "\n",
    "#training parameters\n",
    "n_epochs = 80\n",
    "batch_size = 64\n",
    "learning_rate = 1e-3\n",
    "\n",
    "#device\n",
    "torch.cuda.is_available()\n",
    "device = torch.device(\"cuda:0\")"
   ]
  },
  {
   "cell_type": "markdown",
   "id": "29ae0e9f-5f84-4ac2-a3c4-1d81f2c516fa",
   "metadata": {},
   "source": [
    "### STEP 1"
   ]
  },
  {
   "cell_type": "code",
   "execution_count": 17,
   "id": "3c214599-67c2-4897-8ae1-0d340b155b62",
   "metadata": {},
   "outputs": [],
   "source": [
    "data1 = DatasetPolar(ligands, polarization, replicas, size)\n",
    "\n",
    "dataset_train, dataset_val = torch.utils.data.random_split(data1, [55600, 13952])\n",
    "\n",
    "dataloader_train = torch.utils.data.DataLoader(dataset_train, batch_size=64, shuffle=True)\n",
    "dataloader_val = torch.utils.data.DataLoader(dataset_train, batch_size=64, shuffle=True)"
   ]
  },
  {
   "cell_type": "code",
   "execution_count": 24,
   "id": "f3fc61ba-9c39-47f8-9f9c-0981e1bee111",
   "metadata": {},
   "outputs": [
    {
     "data": {
      "text/plain": [
       "LSTM(\n",
       "  (lstm): LSTM(1, 98, batch_first=True)\n",
       "  (fc1): Linear(in_features=98, out_features=9, bias=True)\n",
       ")"
      ]
     },
     "execution_count": 24,
     "metadata": {},
     "output_type": "execute_result"
    }
   ],
   "source": [
    "net1 = LSTM(input_size, hidden_sizes, output_size, num_layers=num_layers, device=device)\n",
    "net1.train()"
   ]
  },
  {
   "cell_type": "code",
   "execution_count": 26,
   "id": "39733d9c-3079-45dc-975e-ae0d5d3da314",
   "metadata": {},
   "outputs": [],
   "source": [
    "model1 = LSTMTrainer(model=net, device=device)"
   ]
  },
  {
   "cell_type": "code",
   "execution_count": null,
   "id": "5d899831-7880-4230-b205-41132c1ef51d",
   "metadata": {},
   "outputs": [],
   "source": []
  }
 ],
 "metadata": {
  "kernelspec": {
   "display_name": "Python 3 (ipykernel)",
   "language": "python",
   "name": "python3"
  },
  "language_info": {
   "codemirror_mode": {
    "name": "ipython",
    "version": 3
   },
   "file_extension": ".py",
   "mimetype": "text/x-python",
   "name": "python",
   "nbconvert_exporter": "python",
   "pygments_lexer": "ipython3",
   "version": "3.8.12"
  }
 },
 "nbformat": 4,
 "nbformat_minor": 5
}
