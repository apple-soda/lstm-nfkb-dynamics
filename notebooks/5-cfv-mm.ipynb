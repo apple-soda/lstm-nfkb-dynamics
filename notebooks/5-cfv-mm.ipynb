{
 "cells": [
  {
   "cell_type": "markdown",
   "id": "d7e137dd-893c-4fa7-942d-de3253704052",
   "metadata": {},
   "source": [
    "### 5 Crossfold Validation for 1-layer Model\n",
    "##### 80:20 split for each crossfold validation step"
   ]
  },
  {
   "cell_type": "code",
   "execution_count": 1,
   "id": "9fe563e7-bfcc-442d-94dd-a50597b24e80",
   "metadata": {},
   "outputs": [],
   "source": [
    "import sys\n",
    "sys.path.append('..')"
   ]
  },
  {
   "cell_type": "code",
   "execution_count": 2,
   "id": "e565af28-486d-4430-af43-8532a507ac03",
   "metadata": {},
   "outputs": [],
   "source": [
    "import torch\n",
    "import torch.nn as nn\n",
    "import torch.nn.functional as F\n",
    "import pandas as pd\n",
    "import numpy as np\n",
    "import sklearn\n",
    "import matplotlib.pyplot as plt\n",
    "import seaborn as sns"
   ]
  },
  {
   "cell_type": "code",
   "execution_count": 3,
   "id": "edd65332-1716-4aa5-8472-3db617b3aa30",
   "metadata": {},
   "outputs": [],
   "source": [
    "from core.getdata import *\n",
    "from core.dataset import *\n",
    "from core.network import *\n",
    "from core.trainer import *\n",
    "from core.visualization import *\n",
    "\n",
    "from torch.utils.data import Dataset\n",
    "from torchvision import datasets\n",
    "from torchvision.transforms import ToTensor"
   ]
  },
  {
   "cell_type": "code",
   "execution_count": 4,
   "id": "083a0767-db34-4680-a5eb-e7401fe9e04c",
   "metadata": {},
   "outputs": [],
   "source": [
    "ligands = [\"TNF\", \"R84\", \"PIC\", \"P3K\", \"FLA\", \"CpG\", \"FSL\", \"LPS\", \"UST\"]\n",
    "polarization = [\"\", \"ib\", \"ig\", \"i0\", \"i3\", \"i4\"]\n",
    "replicas, size = 2, 1288"
   ]
  },
  {
   "cell_type": "code",
   "execution_count": 5,
   "id": "96955d6d-556f-4b65-bf60-b160804cc1d6",
   "metadata": {},
   "outputs": [],
   "source": [
    "load_dir = '../models/cfv/'\n",
    "save_dir = '../models/cfv/'\n",
    "save_name = 'mmkfcv'"
   ]
  },
  {
   "cell_type": "code",
   "execution_count": 6,
   "id": "c726087e-42c3-4a2a-b0e5-3f3e9548ab9e",
   "metadata": {},
   "outputs": [],
   "source": [
    "#model parameters\n",
    "input_size = 1 \n",
    "hidden_sizes = 98\n",
    "output_size = 9\n",
    "num_layers = 1\n",
    "\n",
    "#training parameters\n",
    "n_epochs = 80\n",
    "batch_size = 65\n",
    "learning_rate = 1e-3\n",
    "\n",
    "#device\n",
    "torch.cuda.is_available()\n",
    "device = torch.device(\"cuda:0\")"
   ]
  },
  {
   "cell_type": "markdown",
   "id": "25dac65a-fe00-4e97-a115-f3ba58a65aca",
   "metadata": {
    "tags": []
   },
   "source": [
    "### Empty Model for CV\n",
    "* only need to execute this cell once"
   ]
  },
  {
   "cell_type": "code",
   "execution_count": 7,
   "id": "57ba18d7-c7f0-42bd-a4e3-cae8385222b7",
   "metadata": {},
   "outputs": [],
   "source": [
    "# net = LSTM(input_size, hidden_sizes, output_size, num_layers=num_layers, device=device)\n",
    "# net.train()\n",
    "# model = LSTMTrainer(model=net, device=device)"
   ]
  },
  {
   "cell_type": "code",
   "execution_count": 8,
   "id": "346a3e15-8217-4a4f-ab8b-5f4d522a1eb6",
   "metadata": {},
   "outputs": [],
   "source": [
    "# model.save('../models/' + 'empty.pth')"
   ]
  },
  {
   "cell_type": "markdown",
   "id": "068357a6-a1d3-4f30-8ec4-588016429af4",
   "metadata": {},
   "source": [
    "### CFV 1"
   ]
  },
  {
   "cell_type": "code",
   "execution_count": 9,
   "id": "f9f42a05-7414-4251-8661-ea11023f72a6",
   "metadata": {},
   "outputs": [],
   "source": [
    "data1 = DatasetPolar(ligands, polarization, replicas, size)\n",
    "k = 5"
   ]
  },
  {
   "cell_type": "code",
   "execution_count": 10,
   "id": "f3fc61ba-9c39-47f8-9f9c-0981e1bee111",
   "metadata": {},
   "outputs": [
    {
     "data": {
      "text/plain": [
       "LSTM(\n",
       "  (lstm): LSTM(1, 98, batch_first=True)\n",
       "  (fc1): Linear(in_features=98, out_features=9, bias=True)\n",
       ")"
      ]
     },
     "execution_count": 10,
     "metadata": {},
     "output_type": "execute_result"
    }
   ],
   "source": [
    "net1 = LSTM(input_size, hidden_sizes, output_size, num_layers=num_layers, device=device)\n",
    "net1.train()"
   ]
  },
  {
   "cell_type": "code",
   "execution_count": 11,
   "id": "39733d9c-3079-45dc-975e-ae0d5d3da314",
   "metadata": {},
   "outputs": [],
   "source": [
    "model1 = LSTMTrainer(model=net1, device=device)"
   ]
  },
  {
   "cell_type": "code",
   "execution_count": 12,
   "id": "5d899831-7880-4230-b205-41132c1ef51d",
   "metadata": {},
   "outputs": [
    {
     "name": "stderr",
     "output_type": "stream",
     "text": [
      "  1%|█                                                                                  | 1/80 [00:06<08:15,  6.27s/it]"
     ]
    },
    {
     "name": "stdout",
     "output_type": "stream",
     "text": [
      "Epoch 001: | Training Loss: 2.1207124706462164 | Validation Loss: 2.11233077985104\n"
     ]
    },
    {
     "name": "stderr",
     "output_type": "stream",
     "text": [
      "  2%|██                                                                                 | 2/80 [00:11<07:34,  5.83s/it]"
     ]
    },
    {
     "name": "stdout",
     "output_type": "stream",
     "text": [
      "Epoch 002: | Training Loss: 2.132062260653371 | Validation Loss: 2.098253051254237\n"
     ]
    },
    {
     "name": "stderr",
     "output_type": "stream",
     "text": [
      "  4%|███                                                                                | 3/80 [00:17<07:14,  5.64s/it]"
     ]
    },
    {
     "name": "stdout",
     "output_type": "stream",
     "text": [
      "Epoch 003: | Training Loss: 2.101598839614993 | Validation Loss: 2.1891270541699135\n"
     ]
    },
    {
     "name": "stderr",
     "output_type": "stream",
     "text": [
      "  5%|████▏                                                                              | 4/80 [00:23<07:37,  6.02s/it]"
     ]
    },
    {
     "name": "stdout",
     "output_type": "stream",
     "text": [
      "Epoch 004: | Training Loss: 2.1804367788484162 | Validation Loss: 2.0970092020302173\n"
     ]
    },
    {
     "name": "stderr",
     "output_type": "stream",
     "text": [
      "  6%|█████▏                                                                             | 5/80 [00:31<08:25,  6.74s/it]"
     ]
    },
    {
     "name": "stdout",
     "output_type": "stream",
     "text": [
      "Epoch 005: | Training Loss: 1.9556865271563841 | Validation Loss: 1.8488152890561897\n"
     ]
    },
    {
     "name": "stderr",
     "output_type": "stream",
     "text": [
      "  8%|██████▏                                                                            | 6/80 [00:40<08:57,  7.26s/it]"
     ]
    },
    {
     "name": "stdout",
     "output_type": "stream",
     "text": [
      "Epoch 006: | Training Loss: 1.8265183999716679 | Validation Loss: 1.8013377356752056\n"
     ]
    },
    {
     "name": "stderr",
     "output_type": "stream",
     "text": [
      "  9%|███████▎                                                                           | 7/80 [00:48<09:15,  7.61s/it]"
     ]
    },
    {
     "name": "stdout",
     "output_type": "stream",
     "text": [
      "Epoch 007: | Training Loss: 1.747670546034786 | Validation Loss: 1.7302524776102226\n"
     ]
    },
    {
     "name": "stderr",
     "output_type": "stream",
     "text": [
      " 10%|████████▎                                                                          | 8/80 [00:56<09:26,  7.87s/it]"
     ]
    },
    {
     "name": "stdout",
     "output_type": "stream",
     "text": [
      "Epoch 008: | Training Loss: 1.698553997083245 | Validation Loss: 1.6761747492808048\n"
     ]
    },
    {
     "name": "stderr",
     "output_type": "stream",
     "text": [
      " 11%|█████████▎                                                                         | 9/80 [01:05<09:28,  8.01s/it]"
     ]
    },
    {
     "name": "stdout",
     "output_type": "stream",
     "text": [
      "Epoch 009: | Training Loss: 1.657294596745589 | Validation Loss: 1.6233002108948253\n"
     ]
    },
    {
     "name": "stderr",
     "output_type": "stream",
     "text": [
      " 12%|██████████▎                                                                       | 10/80 [01:13<09:27,  8.10s/it]"
     ]
    },
    {
     "name": "stdout",
     "output_type": "stream",
     "text": [
      "Epoch 010: | Training Loss: 1.625351560450046 | Validation Loss: 1.6111224421830934\n"
     ]
    },
    {
     "name": "stderr",
     "output_type": "stream",
     "text": [
      " 14%|███████████▎                                                                      | 11/80 [01:21<09:24,  8.18s/it]"
     ]
    },
    {
     "name": "stdout",
     "output_type": "stream",
     "text": [
      "Epoch 011: | Training Loss: 1.5963335787860033 | Validation Loss: 1.578599421220405\n"
     ]
    },
    {
     "name": "stderr",
     "output_type": "stream",
     "text": [
      " 15%|████████████▎                                                                     | 12/80 [01:30<09:19,  8.22s/it]"
     ]
    },
    {
     "name": "stdout",
     "output_type": "stream",
     "text": [
      "Epoch 012: | Training Loss: 1.5711725989234782 | Validation Loss: 1.560860651118733\n"
     ]
    },
    {
     "name": "stderr",
     "output_type": "stream",
     "text": [
      " 16%|█████████████▎                                                                    | 13/80 [01:38<09:12,  8.25s/it]"
     ]
    },
    {
     "name": "stdout",
     "output_type": "stream",
     "text": [
      "Epoch 013: | Training Loss: 1.5528079126482812 | Validation Loss: 1.544118105808151\n"
     ]
    },
    {
     "name": "stderr",
     "output_type": "stream",
     "text": [
      " 18%|██████████████▎                                                                   | 14/80 [01:46<09:06,  8.29s/it]"
     ]
    },
    {
     "name": "stdout",
     "output_type": "stream",
     "text": [
      "Epoch 014: | Training Loss: 1.5330818908236852 | Validation Loss: 1.5268523793354212\n"
     ]
    },
    {
     "name": "stderr",
     "output_type": "stream",
     "text": [
      " 19%|███████████████▍                                                                  | 15/80 [01:55<08:59,  8.30s/it]"
     ]
    },
    {
     "name": "stdout",
     "output_type": "stream",
     "text": [
      "Epoch 015: | Training Loss: 1.514660596708271 | Validation Loss: 1.5241350542719119\n"
     ]
    },
    {
     "name": "stderr",
     "output_type": "stream",
     "text": [
      " 20%|████████████████▍                                                                 | 16/80 [02:03<08:51,  8.31s/it]"
     ]
    },
    {
     "name": "stdout",
     "output_type": "stream",
     "text": [
      "Epoch 016: | Training Loss: 1.486078790972166 | Validation Loss: 1.4743105011565663\n"
     ]
    },
    {
     "name": "stderr",
     "output_type": "stream",
     "text": [
      " 21%|█████████████████▍                                                                | 17/80 [02:11<08:44,  8.33s/it]"
     ]
    },
    {
     "name": "stdout",
     "output_type": "stream",
     "text": [
      "Epoch 017: | Training Loss: 1.468662980978734 | Validation Loss: 1.4788475465551716\n"
     ]
    },
    {
     "name": "stderr",
     "output_type": "stream",
     "text": [
      " 22%|██████████████████▍                                                               | 18/80 [02:20<08:35,  8.32s/it]"
     ]
    },
    {
     "name": "stdout",
     "output_type": "stream",
     "text": [
      "Epoch 018: | Training Loss: 1.4422072553746055 | Validation Loss: 1.425377448585546\n"
     ]
    },
    {
     "name": "stderr",
     "output_type": "stream",
     "text": [
      " 24%|███████████████████▍                                                              | 19/80 [02:28<08:26,  8.31s/it]"
     ]
    },
    {
     "name": "stdout",
     "output_type": "stream",
     "text": [
      "Epoch 019: | Training Loss: 1.4136068646874382 | Validation Loss: 1.4316605825290503\n"
     ]
    },
    {
     "name": "stderr",
     "output_type": "stream",
     "text": [
      " 25%|████████████████████▌                                                             | 20/80 [02:36<08:20,  8.34s/it]"
     ]
    },
    {
     "name": "stdout",
     "output_type": "stream",
     "text": [
      "Epoch 020: | Training Loss: 1.3965894784604278 | Validation Loss: 1.4019093658322486\n"
     ]
    },
    {
     "name": "stderr",
     "output_type": "stream",
     "text": [
      " 26%|█████████████████████▌                                                            | 21/80 [02:45<08:13,  8.36s/it]"
     ]
    },
    {
     "name": "stdout",
     "output_type": "stream",
     "text": [
      "Epoch 021: | Training Loss: 1.3807145431637764 | Validation Loss: 1.391339893653014\n"
     ]
    },
    {
     "name": "stderr",
     "output_type": "stream",
     "text": [
      " 28%|██████████████████████▌                                                           | 22/80 [02:53<08:09,  8.43s/it]"
     ]
    },
    {
     "name": "stdout",
     "output_type": "stream",
     "text": [
      "Epoch 022: | Training Loss: 1.3803057371873722 | Validation Loss: 1.3870128309615304\n"
     ]
    },
    {
     "name": "stderr",
     "output_type": "stream",
     "text": [
      " 29%|███████████████████████▌                                                          | 23/80 [03:02<07:58,  8.39s/it]"
     ]
    },
    {
     "name": "stdout",
     "output_type": "stream",
     "text": [
      "Epoch 023: | Training Loss: 1.353253546371081 | Validation Loss: 1.34834999235991\n"
     ]
    },
    {
     "name": "stderr",
     "output_type": "stream",
     "text": [
      " 30%|████████████████████████▌                                                         | 24/80 [03:10<07:49,  8.38s/it]"
     ]
    },
    {
     "name": "stdout",
     "output_type": "stream",
     "text": [
      "Epoch 024: | Training Loss: 1.3390435164219865 | Validation Loss: 1.346453967216973\n"
     ]
    },
    {
     "name": "stderr",
     "output_type": "stream",
     "text": [
      " 31%|█████████████████████████▋                                                        | 25/80 [03:18<07:41,  8.39s/it]"
     ]
    },
    {
     "name": "stdout",
     "output_type": "stream",
     "text": [
      "Epoch 025: | Training Loss: 1.3292847496466103 | Validation Loss: 1.3900124358239574\n"
     ]
    },
    {
     "name": "stderr",
     "output_type": "stream",
     "text": [
      " 32%|██████████████████████████▋                                                       | 26/80 [03:27<07:30,  8.35s/it]"
     ]
    },
    {
     "name": "stdout",
     "output_type": "stream",
     "text": [
      "Epoch 026: | Training Loss: 1.3119919110681408 | Validation Loss: 1.3181236570126542\n"
     ]
    },
    {
     "name": "stderr",
     "output_type": "stream",
     "text": [
      " 34%|███████████████████████████▋                                                      | 27/80 [03:35<07:18,  8.28s/it]"
     ]
    },
    {
     "name": "stdout",
     "output_type": "stream",
     "text": [
      "Epoch 027: | Training Loss: 1.2990895659427777 | Validation Loss: 1.3147291529958494\n"
     ]
    },
    {
     "name": "stderr",
     "output_type": "stream",
     "text": [
      " 35%|████████████████████████████▋                                                     | 28/80 [03:43<07:12,  8.33s/it]"
     ]
    },
    {
     "name": "stdout",
     "output_type": "stream",
     "text": [
      "Epoch 028: | Training Loss: 1.286265109952922 | Validation Loss: 1.3120735830792756\n"
     ]
    },
    {
     "name": "stderr",
     "output_type": "stream",
     "text": [
      " 36%|█████████████████████████████▋                                                    | 29/80 [03:52<07:05,  8.34s/it]"
     ]
    },
    {
     "name": "stdout",
     "output_type": "stream",
     "text": [
      "Epoch 029: | Training Loss: 1.272100763830626 | Validation Loss: 1.3220991236027155\n"
     ]
    },
    {
     "name": "stderr",
     "output_type": "stream",
     "text": [
      " 38%|██████████████████████████████▊                                                   | 30/80 [04:00<06:54,  8.29s/it]"
     ]
    },
    {
     "name": "stdout",
     "output_type": "stream",
     "text": [
      "Epoch 030: | Training Loss: 1.2635982064443214 | Validation Loss: 1.290941465402318\n"
     ]
    },
    {
     "name": "stderr",
     "output_type": "stream",
     "text": [
      " 39%|███████████████████████████████▊                                                  | 31/80 [04:08<06:47,  8.31s/it]"
     ]
    },
    {
     "name": "stdout",
     "output_type": "stream",
     "text": [
      "Epoch 031: | Training Loss: 1.2558398554536785 | Validation Loss: 1.3346634977888838\n"
     ]
    },
    {
     "name": "stderr",
     "output_type": "stream",
     "text": [
      " 40%|████████████████████████████████▊                                                 | 32/80 [04:16<06:31,  8.16s/it]"
     ]
    },
    {
     "name": "stdout",
     "output_type": "stream",
     "text": [
      "Epoch 032: | Training Loss: 1.2489665348396124 | Validation Loss: 1.307119829353885\n"
     ]
    },
    {
     "name": "stderr",
     "output_type": "stream",
     "text": [
      " 41%|█████████████████████████████████▊                                                | 33/80 [04:23<06:03,  7.74s/it]"
     ]
    },
    {
     "name": "stdout",
     "output_type": "stream",
     "text": [
      "Epoch 033: | Training Loss: 1.240866489499529 | Validation Loss: 1.288164649889848\n"
     ]
    },
    {
     "name": "stderr",
     "output_type": "stream",
     "text": [
      " 42%|██████████████████████████████████▊                                               | 34/80 [04:31<06:05,  7.95s/it]"
     ]
    },
    {
     "name": "stdout",
     "output_type": "stream",
     "text": [
      "Epoch 034: | Training Loss: 1.2289494105449348 | Validation Loss: 1.2810651910639255\n"
     ]
    },
    {
     "name": "stderr",
     "output_type": "stream",
     "text": [
      " 44%|███████████████████████████████████▉                                              | 35/80 [04:40<06:03,  8.07s/it]"
     ]
    },
    {
     "name": "stdout",
     "output_type": "stream",
     "text": [
      "Epoch 035: | Training Loss: 1.212344937305027 | Validation Loss: 1.2864832883683321\n"
     ]
    },
    {
     "name": "stderr",
     "output_type": "stream",
     "text": [
      " 45%|████████████████████████████████████▉                                             | 36/80 [04:48<05:58,  8.15s/it]"
     ]
    },
    {
     "name": "stdout",
     "output_type": "stream",
     "text": [
      "Epoch 036: | Training Loss: 1.2054648180709822 | Validation Loss: 1.2810211086941656\n"
     ]
    },
    {
     "name": "stderr",
     "output_type": "stream",
     "text": [
      " 46%|█████████████████████████████████████▉                                            | 37/80 [04:56<05:53,  8.21s/it]"
     ]
    },
    {
     "name": "stdout",
     "output_type": "stream",
     "text": [
      "Epoch 037: | Training Loss: 1.2071102268506433 | Validation Loss: 1.2596194161989978\n"
     ]
    },
    {
     "name": "stderr",
     "output_type": "stream",
     "text": [
      " 48%|██████████████████████████████████████▉                                           | 38/80 [05:04<05:45,  8.23s/it]"
     ]
    },
    {
     "name": "stdout",
     "output_type": "stream",
     "text": [
      "Epoch 038: | Training Loss: 1.1979128922396731 | Validation Loss: 1.2891026100265646\n"
     ]
    },
    {
     "name": "stderr",
     "output_type": "stream",
     "text": [
      " 49%|███████████████████████████████████████▉                                          | 39/80 [05:13<05:38,  8.26s/it]"
     ]
    },
    {
     "name": "stdout",
     "output_type": "stream",
     "text": [
      "Epoch 039: | Training Loss: 1.1758263076995021 | Validation Loss: 1.2694933846175114\n"
     ]
    },
    {
     "name": "stderr",
     "output_type": "stream",
     "text": [
      " 50%|█████████████████████████████████████████                                         | 40/80 [05:19<05:03,  7.59s/it]"
     ]
    },
    {
     "name": "stdout",
     "output_type": "stream",
     "text": [
      "Epoch 040: | Training Loss: 1.169534950682493 | Validation Loss: 1.2517876870164246\n"
     ]
    },
    {
     "name": "stderr",
     "output_type": "stream",
     "text": [
      " 51%|██████████████████████████████████████████                                        | 41/80 [05:24<04:28,  6.89s/it]"
     ]
    },
    {
     "name": "stdout",
     "output_type": "stream",
     "text": [
      "Epoch 041: | Training Loss: 1.1615635222781484 | Validation Loss: 1.2257434121359174\n"
     ]
    },
    {
     "name": "stderr",
     "output_type": "stream",
     "text": [
      " 52%|███████████████████████████████████████████                                       | 42/80 [05:29<03:58,  6.28s/it]"
     ]
    },
    {
     "name": "stdout",
     "output_type": "stream",
     "text": [
      "Epoch 042: | Training Loss: 1.1602036230196462 | Validation Loss: 1.2371724027896596\n"
     ]
    },
    {
     "name": "stderr",
     "output_type": "stream",
     "text": [
      " 54%|████████████████████████████████████████████                                      | 43/80 [05:34<03:34,  5.81s/it]"
     ]
    },
    {
     "name": "stdout",
     "output_type": "stream",
     "text": [
      "Epoch 043: | Training Loss: 1.1474990046052176 | Validation Loss: 1.2250280427598508\n"
     ]
    },
    {
     "name": "stderr",
     "output_type": "stream",
     "text": [
      " 55%|█████████████████████████████████████████████                                     | 44/80 [05:38<03:17,  5.49s/it]"
     ]
    },
    {
     "name": "stdout",
     "output_type": "stream",
     "text": [
      "Epoch 044: | Training Loss: 1.1370205036669134 | Validation Loss: 1.2355804014428753\n"
     ]
    },
    {
     "name": "stderr",
     "output_type": "stream",
     "text": [
      " 56%|██████████████████████████████████████████████▏                                   | 45/80 [05:43<03:03,  5.25s/it]"
     ]
    },
    {
     "name": "stdout",
     "output_type": "stream",
     "text": [
      "Epoch 045: | Training Loss: 1.1354194885102389 | Validation Loss: 1.2230330577520567\n"
     ]
    },
    {
     "name": "stderr",
     "output_type": "stream",
     "text": [
      " 57%|███████████████████████████████████████████████▏                                  | 46/80 [05:48<02:53,  5.09s/it]"
     ]
    },
    {
     "name": "stdout",
     "output_type": "stream",
     "text": [
      "Epoch 046: | Training Loss: 1.1256475243195194 | Validation Loss: 1.2031756578204789\n"
     ]
    },
    {
     "name": "stderr",
     "output_type": "stream",
     "text": [
      " 59%|████████████████████████████████████████████████▏                                 | 47/80 [05:52<02:43,  4.94s/it]"
     ]
    },
    {
     "name": "stdout",
     "output_type": "stream",
     "text": [
      "Epoch 047: | Training Loss: 1.126217465952178 | Validation Loss: 1.2344933553276776\n"
     ]
    },
    {
     "name": "stderr",
     "output_type": "stream",
     "text": [
      " 60%|█████████████████████████████████████████████████▏                                | 48/80 [05:57<02:34,  4.83s/it]"
     ]
    },
    {
     "name": "stdout",
     "output_type": "stream",
     "text": [
      "Epoch 048: | Training Loss: 1.1165662661334064 | Validation Loss: 1.2043365295802322\n"
     ]
    },
    {
     "name": "stderr",
     "output_type": "stream",
     "text": [
      " 61%|██████████████████████████████████████████████████▏                               | 49/80 [06:02<02:28,  4.78s/it]"
     ]
    },
    {
     "name": "stdout",
     "output_type": "stream",
     "text": [
      "Epoch 049: | Training Loss: 1.1035861954371506 | Validation Loss: 1.20322667911788\n"
     ]
    },
    {
     "name": "stderr",
     "output_type": "stream",
     "text": [
      " 62%|███████████████████████████████████████████████████▎                              | 50/80 [06:06<02:21,  4.72s/it]"
     ]
    },
    {
     "name": "stdout",
     "output_type": "stream",
     "text": [
      "Epoch 050: | Training Loss: 1.1054779180438719 | Validation Loss: 1.1978138350994787\n"
     ]
    },
    {
     "name": "stderr",
     "output_type": "stream",
     "text": [
      " 64%|████████████████████████████████████████████████████▎                             | 51/80 [06:11<02:15,  4.68s/it]"
     ]
    },
    {
     "name": "stdout",
     "output_type": "stream",
     "text": [
      "Epoch 051: | Training Loss: 1.1069441430061777 | Validation Loss: 1.2001950988702685\n"
     ]
    },
    {
     "name": "stderr",
     "output_type": "stream",
     "text": [
      " 65%|█████████████████████████████████████████████████████▎                            | 52/80 [06:15<02:10,  4.64s/it]"
     ]
    },
    {
     "name": "stdout",
     "output_type": "stream",
     "text": [
      "Epoch 052: | Training Loss: 1.1096438743243708 | Validation Loss: 1.1974669970641627\n"
     ]
    },
    {
     "name": "stderr",
     "output_type": "stream",
     "text": [
      " 66%|██████████████████████████████████████████████████████▎                           | 53/80 [06:20<02:04,  4.62s/it]"
     ]
    },
    {
     "name": "stdout",
     "output_type": "stream",
     "text": [
      "Epoch 053: | Training Loss: 1.0829471949244214 | Validation Loss: 1.2023855929619798\n"
     ]
    },
    {
     "name": "stderr",
     "output_type": "stream",
     "text": [
      " 68%|███████████████████████████████████████████████████████▎                          | 54/80 [06:25<01:59,  4.62s/it]"
     ]
    },
    {
     "name": "stdout",
     "output_type": "stream",
     "text": [
      "Epoch 054: | Training Loss: 1.073767597499852 | Validation Loss: 1.2526953858192835\n"
     ]
    },
    {
     "name": "stderr",
     "output_type": "stream",
     "text": [
      " 69%|████████████████████████████████████████████████████████▍                         | 55/80 [06:29<01:55,  4.61s/it]"
     ]
    },
    {
     "name": "stdout",
     "output_type": "stream",
     "text": [
      "Epoch 055: | Training Loss: 1.083275028199793 | Validation Loss: 1.2207103327055957\n"
     ]
    },
    {
     "name": "stderr",
     "output_type": "stream",
     "text": [
      " 70%|█████████████████████████████████████████████████████████▍                        | 56/80 [06:34<01:50,  4.59s/it]"
     ]
    },
    {
     "name": "stdout",
     "output_type": "stream",
     "text": [
      "Epoch 056: | Training Loss: 1.069570557327471 | Validation Loss: 1.2100936826144424\n"
     ]
    },
    {
     "name": "stderr",
     "output_type": "stream",
     "text": [
      " 71%|██████████████████████████████████████████████████████████▍                       | 57/80 [06:38<01:45,  4.59s/it]"
     ]
    },
    {
     "name": "stdout",
     "output_type": "stream",
     "text": [
      "Epoch 057: | Training Loss: 1.0689461179007993 | Validation Loss: 1.174155316898756\n"
     ]
    },
    {
     "name": "stderr",
     "output_type": "stream",
     "text": [
      " 72%|███████████████████████████████████████████████████████████▍                      | 58/80 [06:43<01:40,  4.58s/it]"
     ]
    },
    {
     "name": "stdout",
     "output_type": "stream",
     "text": [
      "Epoch 058: | Training Loss: 1.0610322811614687 | Validation Loss: 1.1689147475723909\n"
     ]
    },
    {
     "name": "stderr",
     "output_type": "stream",
     "text": [
      " 74%|████████████████████████████████████████████████████████████▍                     | 59/80 [06:47<01:36,  4.58s/it]"
     ]
    },
    {
     "name": "stdout",
     "output_type": "stream",
     "text": [
      "Epoch 059: | Training Loss: 1.0591305607111654 | Validation Loss: 1.1984591567627738\n"
     ]
    },
    {
     "name": "stderr",
     "output_type": "stream",
     "text": [
      " 75%|█████████████████████████████████████████████████████████████▌                    | 60/80 [06:52<01:31,  4.57s/it]"
     ]
    },
    {
     "name": "stdout",
     "output_type": "stream",
     "text": [
      "Epoch 060: | Training Loss: 1.0403312091654706 | Validation Loss: 1.160025977085684\n"
     ]
    },
    {
     "name": "stderr",
     "output_type": "stream",
     "text": [
      " 76%|██████████████████████████████████████████████████████████████▌                   | 61/80 [06:57<01:27,  4.58s/it]"
     ]
    },
    {
     "name": "stdout",
     "output_type": "stream",
     "text": [
      "Epoch 061: | Training Loss: 1.0261457016534894 | Validation Loss: 1.1567900526189359\n"
     ]
    },
    {
     "name": "stderr",
     "output_type": "stream",
     "text": [
      " 78%|███████████████████████████████████████████████████████████████▌                  | 62/80 [07:01<01:22,  4.59s/it]"
     ]
    },
    {
     "name": "stdout",
     "output_type": "stream",
     "text": [
      "Epoch 062: | Training Loss: 1.048266715674757 | Validation Loss: 1.1676971892887187\n"
     ]
    },
    {
     "name": "stderr",
     "output_type": "stream",
     "text": [
      " 79%|████████████████████████████████████████████████████████████████▌                 | 63/80 [07:06<01:18,  4.59s/it]"
     ]
    },
    {
     "name": "stdout",
     "output_type": "stream",
     "text": [
      "Epoch 063: | Training Loss: 1.0553454852828354 | Validation Loss: 1.1862611868114115\n"
     ]
    },
    {
     "name": "stderr",
     "output_type": "stream",
     "text": [
      " 80%|█████████████████████████████████████████████████████████████████▌                | 64/80 [07:10<01:13,  4.58s/it]"
     ]
    },
    {
     "name": "stdout",
     "output_type": "stream",
     "text": [
      "Epoch 064: | Training Loss: 1.017795017110967 | Validation Loss: 1.1519318983376583\n"
     ]
    },
    {
     "name": "stderr",
     "output_type": "stream",
     "text": [
      " 81%|██████████████████████████████████████████████████████████████████▋               | 65/80 [07:15<01:08,  4.56s/it]"
     ]
    },
    {
     "name": "stdout",
     "output_type": "stream",
     "text": [
      "Epoch 065: | Training Loss: 1.0128401164835859 | Validation Loss: 1.182074023741428\n"
     ]
    },
    {
     "name": "stderr",
     "output_type": "stream",
     "text": [
      " 82%|███████████████████████████████████████████████████████████████████▋              | 66/80 [07:19<01:03,  4.56s/it]"
     ]
    },
    {
     "name": "stdout",
     "output_type": "stream",
     "text": [
      "Epoch 066: | Training Loss: 1.0070143027979637 | Validation Loss: 1.1579293046042183\n"
     ]
    },
    {
     "name": "stderr",
     "output_type": "stream",
     "text": [
      " 84%|████████████████████████████████████████████████████████████████████▋             | 67/80 [07:24<00:59,  4.55s/it]"
     ]
    },
    {
     "name": "stdout",
     "output_type": "stream",
     "text": [
      "Epoch 067: | Training Loss: 1.0331815307106926 | Validation Loss: 1.5483866406378346\n"
     ]
    },
    {
     "name": "stderr",
     "output_type": "stream",
     "text": [
      " 85%|█████████████████████████████████████████████████████████████████████▋            | 68/80 [07:29<00:54,  4.58s/it]"
     ]
    },
    {
     "name": "stdout",
     "output_type": "stream",
     "text": [
      "Epoch 068: | Training Loss: 1.161755219589327 | Validation Loss: 1.2058014532673025\n"
     ]
    },
    {
     "name": "stderr",
     "output_type": "stream",
     "text": [
      " 86%|██████████████████████████████████████████████████████████████████████▋           | 69/80 [07:33<00:50,  4.62s/it]"
     ]
    },
    {
     "name": "stdout",
     "output_type": "stream",
     "text": [
      "Epoch 069: | Training Loss: 1.0217089022849208 | Validation Loss: 1.1478056345030525\n"
     ]
    },
    {
     "name": "stderr",
     "output_type": "stream",
     "text": [
      " 88%|███████████████████████████████████████████████████████████████████████▊          | 70/80 [07:38<00:46,  4.60s/it]"
     ]
    },
    {
     "name": "stdout",
     "output_type": "stream",
     "text": [
      "Epoch 070: | Training Loss: 0.9895100096397311 | Validation Loss: 1.147673562865391\n"
     ]
    },
    {
     "name": "stderr",
     "output_type": "stream",
     "text": [
      " 89%|████████████████████████████████████████████████████████████████████████▊         | 71/80 [07:42<00:41,  4.59s/it]"
     ]
    },
    {
     "name": "stdout",
     "output_type": "stream",
     "text": [
      "Epoch 071: | Training Loss: 0.9910596274187632 | Validation Loss: 1.1612109631021446\n"
     ]
    },
    {
     "name": "stderr",
     "output_type": "stream",
     "text": [
      " 90%|█████████████████████████████████████████████████████████████████████████▊        | 72/80 [07:47<00:36,  4.60s/it]"
     ]
    },
    {
     "name": "stdout",
     "output_type": "stream",
     "text": [
      "Epoch 072: | Training Loss: 0.9769249717208827 | Validation Loss: 1.1643375698651108\n"
     ]
    },
    {
     "name": "stderr",
     "output_type": "stream",
     "text": [
      " 91%|██████████████████████████████████████████████████████████████████████████▊       | 73/80 [07:52<00:32,  4.62s/it]"
     ]
    },
    {
     "name": "stdout",
     "output_type": "stream",
     "text": [
      "Epoch 073: | Training Loss: 0.9736132075157121 | Validation Loss: 1.127799083974874\n"
     ]
    },
    {
     "name": "stderr",
     "output_type": "stream",
     "text": [
      " 92%|███████████████████████████████████████████████████████████████████████████▊      | 74/80 [07:57<00:28,  4.69s/it]"
     ]
    },
    {
     "name": "stdout",
     "output_type": "stream",
     "text": [
      "Epoch 074: | Training Loss: 0.9944235613552209 | Validation Loss: 1.1324278854321097\n"
     ]
    },
    {
     "name": "stderr",
     "output_type": "stream",
     "text": [
      " 94%|████████████████████████████████████████████████████████████████████████████▉     | 75/80 [08:01<00:23,  4.66s/it]"
     ]
    },
    {
     "name": "stdout",
     "output_type": "stream",
     "text": [
      "Epoch 075: | Training Loss: 0.995011392110419 | Validation Loss: 1.1795660741975373\n"
     ]
    },
    {
     "name": "stderr",
     "output_type": "stream",
     "text": [
      " 95%|█████████████████████████████████████████████████████████████████████████████▉    | 76/80 [08:06<00:18,  4.62s/it]"
     ]
    },
    {
     "name": "stdout",
     "output_type": "stream",
     "text": [
      "Epoch 076: | Training Loss: 0.9647735509081422 | Validation Loss: 1.128770132766706\n"
     ]
    },
    {
     "name": "stderr",
     "output_type": "stream",
     "text": [
      " 96%|██████████████████████████████████████████████████████████████████████████████▉   | 77/80 [08:10<00:13,  4.60s/it]"
     ]
    },
    {
     "name": "stdout",
     "output_type": "stream",
     "text": [
      "Epoch 077: | Training Loss: 0.9711453840136528 | Validation Loss: 1.130139658384234\n"
     ]
    },
    {
     "name": "stderr",
     "output_type": "stream",
     "text": [
      " 98%|███████████████████████████████████████████████████████████████████████████████▉  | 78/80 [08:15<00:09,  4.59s/it]"
     ]
    },
    {
     "name": "stdout",
     "output_type": "stream",
     "text": [
      "Epoch 078: | Training Loss: 0.9537389584790881 | Validation Loss: 1.1113199090289179\n"
     ]
    },
    {
     "name": "stderr",
     "output_type": "stream",
     "text": [
      " 99%|████████████████████████████████████████████████████████████████████████████████▉ | 79/80 [08:19<00:04,  4.58s/it]"
     ]
    },
    {
     "name": "stdout",
     "output_type": "stream",
     "text": [
      "Epoch 079: | Training Loss: 0.9420805161940717 | Validation Loss: 1.120396478153835\n"
     ]
    },
    {
     "name": "stderr",
     "output_type": "stream",
     "text": [
      "100%|██████████████████████████████████████████████████████████████████████████████████| 80/80 [08:24<00:00,  6.31s/it]"
     ]
    },
    {
     "name": "stdout",
     "output_type": "stream",
     "text": [
      "Epoch 080: | Training Loss: 0.9583158612112018 | Validation Loss: 1.1293964976462247\n"
     ]
    },
    {
     "name": "stderr",
     "output_type": "stream",
     "text": [
      "\n"
     ]
    },
    {
     "ename": "UnboundLocalError",
     "evalue": "local variable 'y_pred' referenced before assignment",
     "output_type": "error",
     "traceback": [
      "\u001b[1;31m---------------------------------------------------------------------------\u001b[0m",
      "\u001b[1;31mUnboundLocalError\u001b[0m                         Traceback (most recent call last)",
      "\u001b[1;32m~\\AppData\\Local\\Temp/ipykernel_7904/2312189103.py\u001b[0m in \u001b[0;36m<module>\u001b[1;34m\u001b[0m\n\u001b[1;32m----> 1\u001b[1;33m \u001b[0mmodel1\u001b[0m\u001b[1;33m.\u001b[0m\u001b[0mkfcv\u001b[0m\u001b[1;33m(\u001b[0m\u001b[0mdata1\u001b[0m\u001b[1;33m,\u001b[0m \u001b[0mk\u001b[0m\u001b[1;33m,\u001b[0m \u001b[0msave_name\u001b[0m\u001b[1;33m,\u001b[0m \u001b[0mbatch_size\u001b[0m\u001b[1;33m=\u001b[0m\u001b[0mbatch_size\u001b[0m\u001b[1;33m,\u001b[0m \u001b[0mn_epochs\u001b[0m\u001b[1;33m=\u001b[0m\u001b[0mn_epochs\u001b[0m\u001b[1;33m)\u001b[0m\u001b[1;33m\u001b[0m\u001b[1;33m\u001b[0m\u001b[0m\n\u001b[0m",
      "\u001b[1;32m~\\Research\\hoffmanlab\\timeseriesmodel\\notebooks\\..\\core\\trainer.py\u001b[0m in \u001b[0;36mkfcv\u001b[1;34m(self, dataset, k, save_dir, batch_size, n_epochs)\u001b[0m\n\u001b[0;32m    126\u001b[0m         \u001b[0mself\u001b[0m\u001b[1;33m.\u001b[0m\u001b[0mtrain\u001b[0m\u001b[1;33m(\u001b[0m\u001b[0mdataloader_train\u001b[0m\u001b[1;33m,\u001b[0m \u001b[0mdataloader_val\u001b[0m\u001b[1;33m,\u001b[0m \u001b[0mbatch_size\u001b[0m\u001b[1;33m=\u001b[0m\u001b[0mbatch_size\u001b[0m\u001b[1;33m,\u001b[0m \u001b[0mn_epochs\u001b[0m\u001b[1;33m=\u001b[0m\u001b[0mn_epochs\u001b[0m\u001b[1;33m)\u001b[0m\u001b[1;33m\u001b[0m\u001b[1;33m\u001b[0m\u001b[0m\n\u001b[0;32m    127\u001b[0m         \u001b[0mself\u001b[0m\u001b[1;33m.\u001b[0m\u001b[0mkfcv_histories\u001b[0m\u001b[1;33m[\u001b[0m\u001b[1;36m0\u001b[0m\u001b[1;33m]\u001b[0m \u001b[1;33m=\u001b[0m \u001b[0mself\u001b[0m\u001b[1;33m.\u001b[0m\u001b[0mloss_history\u001b[0m\u001b[1;33m\u001b[0m\u001b[1;33m\u001b[0m\u001b[0m\n\u001b[1;32m--> 128\u001b[1;33m         \u001b[0mself\u001b[0m\u001b[1;33m.\u001b[0m\u001b[0mkfcv_prob\u001b[0m\u001b[1;33m[\u001b[0m\u001b[1;36m0\u001b[0m\u001b[1;33m]\u001b[0m\u001b[1;33m,\u001b[0m \u001b[0mself\u001b[0m\u001b[1;33m.\u001b[0m\u001b[0mkfcv_pred\u001b[0m\u001b[1;33m[\u001b[0m\u001b[1;36m0\u001b[0m\u001b[1;33m]\u001b[0m\u001b[1;33m,\u001b[0m \u001b[0mself\u001b[0m\u001b[1;33m.\u001b[0m\u001b[0mkfcv_true\u001b[0m\u001b[1;33m[\u001b[0m\u001b[1;36m0\u001b[0m\u001b[1;33m]\u001b[0m \u001b[1;33m=\u001b[0m \u001b[0mself\u001b[0m\u001b[1;33m.\u001b[0m\u001b[0mevaluate\u001b[0m\u001b[1;33m(\u001b[0m\u001b[0mdataloader_val\u001b[0m\u001b[1;33m,\u001b[0m \u001b[0mbatch_size\u001b[0m\u001b[1;33m=\u001b[0m\u001b[1;36m65\u001b[0m\u001b[1;33m,\u001b[0m \u001b[0mprobability_size\u001b[0m\u001b[1;33m=\u001b[0m\u001b[1;36m9\u001b[0m\u001b[1;33m)\u001b[0m\u001b[1;33m\u001b[0m\u001b[1;33m\u001b[0m\u001b[0m\n\u001b[0m\u001b[0;32m    129\u001b[0m         \u001b[0mself\u001b[0m\u001b[1;33m.\u001b[0m\u001b[0mloss_history\u001b[0m \u001b[1;33m=\u001b[0m \u001b[1;33m[\u001b[0m\u001b[1;33m[\u001b[0m\u001b[1;33m]\u001b[0m\u001b[1;33m,\u001b[0m \u001b[1;33m[\u001b[0m\u001b[1;33m]\u001b[0m\u001b[1;33m]\u001b[0m\u001b[1;33m\u001b[0m\u001b[1;33m\u001b[0m\u001b[0m\n\u001b[0;32m    130\u001b[0m         \u001b[0mself\u001b[0m\u001b[1;33m.\u001b[0m\u001b[0msave\u001b[0m\u001b[1;33m(\u001b[0m\u001b[1;34m'../models/cfv/'\u001b[0m \u001b[1;33m+\u001b[0m \u001b[0msave_dir\u001b[0m \u001b[1;33m+\u001b[0m \u001b[1;34m'1'\u001b[0m \u001b[1;33m+\u001b[0m \u001b[1;34m'.pth'\u001b[0m\u001b[1;33m)\u001b[0m\u001b[1;33m\u001b[0m\u001b[1;33m\u001b[0m\u001b[0m\n",
      "\u001b[1;32m~\\Research\\hoffmanlab\\timeseriesmodel\\notebooks\\..\\core\\trainer.py\u001b[0m in \u001b[0;36mevaluate\u001b[1;34m(self, dataloader_val, batch_size, probability_size)\u001b[0m\n\u001b[0;32m     87\u001b[0m             \u001b[0mself\u001b[0m\u001b[1;33m.\u001b[0m\u001b[0my_true\u001b[0m \u001b[1;33m=\u001b[0m \u001b[0mnp\u001b[0m\u001b[1;33m.\u001b[0m\u001b[0mhstack\u001b[0m\u001b[1;33m(\u001b[0m\u001b[1;33m[\u001b[0m\u001b[0mself\u001b[0m\u001b[1;33m.\u001b[0m\u001b[0my_true\u001b[0m\u001b[1;33m,\u001b[0m \u001b[0my_true\u001b[0m\u001b[1;33m.\u001b[0m\u001b[0mT\u001b[0m\u001b[1;33m]\u001b[0m\u001b[1;33m)\u001b[0m\u001b[1;33m\u001b[0m\u001b[1;33m\u001b[0m\u001b[0m\n\u001b[0;32m     88\u001b[0m             \u001b[0mself\u001b[0m\u001b[1;33m.\u001b[0m\u001b[0my_pred\u001b[0m \u001b[1;33m=\u001b[0m \u001b[0mself\u001b[0m\u001b[1;33m.\u001b[0m\u001b[0mnetwork\u001b[0m\u001b[1;33m(\u001b[0m\u001b[0mx\u001b[0m\u001b[1;33m)\u001b[0m\u001b[1;33m\u001b[0m\u001b[1;33m\u001b[0m\u001b[0m\n\u001b[1;32m---> 89\u001b[1;33m             \u001b[0my_pred\u001b[0m \u001b[1;33m=\u001b[0m \u001b[0mF\u001b[0m\u001b[1;33m.\u001b[0m\u001b[0msoftmax\u001b[0m\u001b[1;33m(\u001b[0m\u001b[0my_pred\u001b[0m\u001b[1;33m,\u001b[0m \u001b[0mdim\u001b[0m\u001b[1;33m=\u001b[0m\u001b[1;36m1\u001b[0m\u001b[1;33m)\u001b[0m\u001b[1;33m\u001b[0m\u001b[1;33m\u001b[0m\u001b[0m\n\u001b[0m\u001b[0;32m     90\u001b[0m             \u001b[0mself\u001b[0m\u001b[1;33m.\u001b[0m\u001b[0my_pred\u001b[0m \u001b[1;33m=\u001b[0m \u001b[0my_pred\u001b[0m\u001b[1;33m.\u001b[0m\u001b[0mdetach\u001b[0m\u001b[1;33m(\u001b[0m\u001b[1;33m)\u001b[0m\u001b[1;33m.\u001b[0m\u001b[0mcpu\u001b[0m\u001b[1;33m(\u001b[0m\u001b[1;33m)\u001b[0m\u001b[1;33m.\u001b[0m\u001b[0mnumpy\u001b[0m\u001b[1;33m(\u001b[0m\u001b[1;33m)\u001b[0m\u001b[1;33m\u001b[0m\u001b[1;33m\u001b[0m\u001b[0m\n\u001b[0;32m     91\u001b[0m             \u001b[0mself\u001b[0m\u001b[1;33m.\u001b[0m\u001b[0my_prob\u001b[0m \u001b[1;33m=\u001b[0m \u001b[0mnp\u001b[0m\u001b[1;33m.\u001b[0m\u001b[0mvstack\u001b[0m\u001b[1;33m(\u001b[0m\u001b[1;33m[\u001b[0m\u001b[0mself\u001b[0m\u001b[1;33m.\u001b[0m\u001b[0my_prob\u001b[0m\u001b[1;33m,\u001b[0m \u001b[0my_pred\u001b[0m\u001b[1;33m]\u001b[0m\u001b[1;33m)\u001b[0m\u001b[1;33m\u001b[0m\u001b[1;33m\u001b[0m\u001b[0m\n",
      "\u001b[1;31mUnboundLocalError\u001b[0m: local variable 'y_pred' referenced before assignment"
     ]
    }
   ],
   "source": [
    "model1.kfcv(data1, k, save_name, batch_size=batch_size, n_epochs=n_epochs)"
   ]
  },
  {
   "cell_type": "code",
   "execution_count": null,
   "id": "c284d0bf-54ed-4358-a11a-1fa6d62c0d76",
   "metadata": {},
   "outputs": [],
   "source": [
    "len(model1.kfcv_histories)"
   ]
  },
  {
   "cell_type": "code",
   "execution_count": null,
   "id": "f93ba7f5-6b64-413a-91f9-174955e7529c",
   "metadata": {},
   "outputs": [],
   "source": []
  },
  {
   "cell_type": "code",
   "execution_count": null,
   "id": "ab5ac4f3-4a12-44ef-837d-960ea052e539",
   "metadata": {},
   "outputs": [],
   "source": [
    "plt.plot(model1.kfcv_histories[0][0])\n",
    "plt.plot(model1.kfcv_histories[0][1])"
   ]
  },
  {
   "cell_type": "code",
   "execution_count": null,
   "id": "6026cafa-fefb-49ba-a532-5fd32c1fce84",
   "metadata": {},
   "outputs": [],
   "source": []
  }
 ],
 "metadata": {
  "kernelspec": {
   "display_name": "Python 3 (ipykernel)",
   "language": "python",
   "name": "python3"
  },
  "language_info": {
   "codemirror_mode": {
    "name": "ipython",
    "version": 3
   },
   "file_extension": ".py",
   "mimetype": "text/x-python",
   "name": "python",
   "nbconvert_exporter": "python",
   "pygments_lexer": "ipython3",
   "version": "3.8.12"
  }
 },
 "nbformat": 4,
 "nbformat_minor": 5
}
