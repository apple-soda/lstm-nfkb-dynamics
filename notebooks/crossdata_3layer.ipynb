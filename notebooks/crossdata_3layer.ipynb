{
 "cells": [
  {
   "cell_type": "code",
   "execution_count": 1,
   "id": "3345819e-150e-41c6-8abe-8a57141af47e",
   "metadata": {},
   "outputs": [],
   "source": [
    "import sys\n",
    "sys.path.append('..')"
   ]
  },
  {
   "cell_type": "code",
   "execution_count": 2,
   "id": "2fd53b3c-993d-44e0-b59e-5a9dbed7a054",
   "metadata": {},
   "outputs": [],
   "source": [
    "import torch\n",
    "import pandas as pd\n",
    "import numpy as np\n",
    "import sklearn\n",
    "import matplotlib.pyplot as plt\n",
    "import random\n",
    "import torch.nn as nn\n",
    "import torch.nn.functional as F\n",
    "import seaborn as sns"
   ]
  },
  {
   "cell_type": "code",
   "execution_count": 3,
   "id": "d2247126-4fe0-442e-81e4-b62f214974dc",
   "metadata": {},
   "outputs": [],
   "source": [
    "from core.getdata import *\n",
    "from core.dataset import *\n",
    "from core.dataset2 import * \n",
    "from core.network import *\n",
    "from core.trainer import *\n",
    "from core.visualization import *"
   ]
  },
  {
   "cell_type": "code",
   "execution_count": 4,
   "id": "7d166c53-94cf-408e-8b60-1b0f2cf5836b",
   "metadata": {},
   "outputs": [],
   "source": [
    "from torch.utils.data import Dataset\n",
    "from torchvision import datasets\n",
    "from torchvision.transforms import ToTensor"
   ]
  },
  {
   "cell_type": "code",
   "execution_count": 5,
   "id": "e7d58b41-eada-40bf-bdf4-f78b2d3fa864",
   "metadata": {},
   "outputs": [],
   "source": [
    "ligands = [\"TNF\", \"R84\", \"PIC\", \"P3K\", \"FLA\", \"CpG\", \"FSL\", \"LPS\", \"UST\"]\n",
    "polarization = [\"\", \"ib\", \"ig\", \"i0\", \"i3\", \"i4\"]\n",
    "size = 1288 # replicated"
   ]
  },
  {
   "cell_type": "code",
   "execution_count": 6,
   "id": "2dd25604-f904-4cbe-9dd4-d88f82600eee",
   "metadata": {},
   "outputs": [],
   "source": [
    "data1 = DatasetSplit(ligands, polarization, 1, size)\n",
    "data2 = DatasetSplit(ligands, polarization, 2, size)"
   ]
  },
  {
   "cell_type": "code",
   "execution_count": 7,
   "id": "c899b083-0fa3-4f44-b427-9f3b7b412ea6",
   "metadata": {},
   "outputs": [
    {
     "name": "stdout",
     "output_type": "stream",
     "text": [
      "(69552, 98, 1) (69552, 98, 1)\n"
     ]
    }
   ],
   "source": [
    "print(data1.data.shape, data2.data.shape)"
   ]
  },
  {
   "cell_type": "code",
   "execution_count": 8,
   "id": "c6d32eab-57d0-45a0-928b-44915a7f3ede",
   "metadata": {},
   "outputs": [],
   "source": [
    "train1, test1, val1 = torch.utils.data.random_split(data1, [41732, 13910, 13910])\n",
    "train2, test2, val2 = torch.utils.data.random_split(data2, [41732, 13910, 13910])"
   ]
  },
  {
   "cell_type": "code",
   "execution_count": 9,
   "id": "5e8aa733-e806-4591-9238-e3dfb1478085",
   "metadata": {},
   "outputs": [],
   "source": [
    "trainloader1 = torch.utils.data.DataLoader(train1, batch_size=64, shuffle=True)\n",
    "testloader1 = torch.utils.data.DataLoader(test1, batch_size=64, shuffle=True)\n",
    "valloader1 = torch.utils.data.DataLoader(val1, batch_size=64, shuffle=True)\n",
    "\n",
    "trainloader2 = torch.utils.data.DataLoader(train2, batch_size=64, shuffle=True)\n",
    "testloader2 = torch.utils.data.DataLoader(test2, batch_size=64, shuffle=True)\n",
    "valloader2 = torch.utils.data.DataLoader(val2, batch_size=64, shuffle=True)"
   ]
  },
  {
   "cell_type": "code",
   "execution_count": 10,
   "id": "448c1e4c-619e-494a-8586-7dcf3cd44f1c",
   "metadata": {},
   "outputs": [],
   "source": [
    "# hyperparameters\n",
    "input_size = 1\n",
    "hidden_size = 98\n",
    "output_size = 9\n",
    "\n",
    "lr = 0.001\n",
    "epochs = 70\n",
    "batch_size = 64\n",
    "\n",
    "device = torch.device('cuda')"
   ]
  },
  {
   "cell_type": "code",
   "execution_count": 11,
   "id": "5a23a388-c7b6-4a69-a339-e9399f8b0494",
   "metadata": {},
   "outputs": [],
   "source": [
    "net = LSTM(input_size=input_size, hidden_sizes=hidden_size, output_size=output_size, num_layers=3, device=device)"
   ]
  },
  {
   "cell_type": "code",
   "execution_count": 12,
   "id": "e1eafe21-19a3-4696-a5b4-703f604f51bd",
   "metadata": {},
   "outputs": [
    {
     "data": {
      "text/plain": [
       "LSTM(\n",
       "  (lstm): LSTM(1, 98, num_layers=3, batch_first=True)\n",
       "  (fc1): Linear(in_features=98, out_features=9, bias=True)\n",
       ")"
      ]
     },
     "execution_count": 12,
     "metadata": {},
     "output_type": "execute_result"
    }
   ],
   "source": [
    "net.train()"
   ]
  },
  {
   "cell_type": "code",
   "execution_count": 13,
   "id": "64643c7a-19bf-4739-b970-a08da9cb98cc",
   "metadata": {},
   "outputs": [],
   "source": [
    "trainer = LSTMTrainer(model=net, device=device)"
   ]
  },
  {
   "cell_type": "code",
   "execution_count": null,
   "id": "eee74d59-a016-45be-b810-c2c20c89ec1c",
   "metadata": {
    "scrolled": true,
    "tags": []
   },
   "outputs": [
    {
     "name": "stderr",
     "output_type": "stream",
     "text": [
      "  1%|█▏                                                                                 | 1/70 [00:08<09:44,  8.47s/it]"
     ]
    },
    {
     "name": "stdout",
     "output_type": "stream",
     "text": [
      "Epoch 001: | Training Loss: 2.142954780350783 | Validation Loss: 2.1869931986572544\n"
     ]
    },
    {
     "name": "stderr",
     "output_type": "stream",
     "text": [
      "  3%|██▎                                                                                | 2/70 [00:16<09:06,  8.03s/it]"
     ]
    },
    {
     "name": "stdout",
     "output_type": "stream",
     "text": [
      "Epoch 002: | Training Loss: 2.137690861046223 | Validation Loss: 2.1200444359298145\n"
     ]
    },
    {
     "name": "stderr",
     "output_type": "stream",
     "text": [
      "  4%|███▌                                                                               | 3/70 [00:23<08:48,  7.89s/it]"
     ]
    },
    {
     "name": "stdout",
     "output_type": "stream",
     "text": [
      "Epoch 003: | Training Loss: 2.0938243610387923 | Validation Loss: 2.094157924345874\n"
     ]
    },
    {
     "name": "stderr",
     "output_type": "stream",
     "text": [
      "  6%|████▋                                                                              | 4/70 [00:31<08:37,  7.84s/it]"
     ]
    },
    {
     "name": "stdout",
     "output_type": "stream",
     "text": [
      "Epoch 004: | Training Loss: 2.089852597958096 | Validation Loss: 2.1036573735945816\n"
     ]
    },
    {
     "name": "stderr",
     "output_type": "stream",
     "text": [
      "  7%|█████▉                                                                             | 5/70 [00:39<08:26,  7.79s/it]"
     ]
    },
    {
     "name": "stdout",
     "output_type": "stream",
     "text": [
      "Epoch 005: | Training Loss: 2.08750686966807 | Validation Loss: 2.050514864265372\n"
     ]
    },
    {
     "name": "stderr",
     "output_type": "stream",
     "text": [
      "  9%|███████                                                                            | 6/70 [00:47<08:16,  7.75s/it]"
     ]
    },
    {
     "name": "stdout",
     "output_type": "stream",
     "text": [
      "Epoch 006: | Training Loss: 2.0523567825875273 | Validation Loss: 2.06751866406257\n"
     ]
    },
    {
     "name": "stderr",
     "output_type": "stream",
     "text": [
      " 10%|████████▎                                                                          | 7/70 [00:54<08:09,  7.77s/it]"
     ]
    },
    {
     "name": "stdout",
     "output_type": "stream",
     "text": [
      "Epoch 007: | Training Loss: 2.0330637592999166 | Validation Loss: 2.003397150870857\n"
     ]
    },
    {
     "name": "stderr",
     "output_type": "stream",
     "text": [
      " 11%|█████████▍                                                                         | 8/70 [01:02<08:00,  7.75s/it]"
     ]
    },
    {
     "name": "stdout",
     "output_type": "stream",
     "text": [
      "Epoch 008: | Training Loss: 2.001590660118582 | Validation Loss: 1.9803557220948946\n"
     ]
    },
    {
     "name": "stderr",
     "output_type": "stream",
     "text": [
      " 13%|██████████▋                                                                        | 9/70 [01:10<07:52,  7.74s/it]"
     ]
    },
    {
     "name": "stdout",
     "output_type": "stream",
     "text": [
      "Epoch 009: | Training Loss: 1.9574064501942026 | Validation Loss: 1.9428576395052288\n"
     ]
    },
    {
     "name": "stderr",
     "output_type": "stream",
     "text": [
      " 14%|███████████▋                                                                      | 10/70 [01:17<07:43,  7.73s/it]"
     ]
    },
    {
     "name": "stdout",
     "output_type": "stream",
     "text": [
      "Epoch 010: | Training Loss: 1.9136637578879527 | Validation Loss: 1.886624799409044\n"
     ]
    },
    {
     "name": "stderr",
     "output_type": "stream",
     "text": [
      " 16%|████████████▉                                                                     | 11/70 [01:25<07:35,  7.71s/it]"
     ]
    },
    {
     "name": "stdout",
     "output_type": "stream",
     "text": [
      "Epoch 011: | Training Loss: 1.8778830113126161 | Validation Loss: 1.8252892751212513\n"
     ]
    },
    {
     "name": "stderr",
     "output_type": "stream",
     "text": [
      " 17%|██████████████                                                                    | 12/70 [01:33<07:27,  7.72s/it]"
     ]
    },
    {
     "name": "stdout",
     "output_type": "stream",
     "text": [
      "Epoch 012: | Training Loss: 1.7735091676025625 | Validation Loss: 1.718226380304459\n"
     ]
    },
    {
     "name": "stderr",
     "output_type": "stream",
     "text": [
      " 19%|███████████████▏                                                                  | 13/70 [01:41<07:20,  7.73s/it]"
     ]
    },
    {
     "name": "stdout",
     "output_type": "stream",
     "text": [
      "Epoch 013: | Training Loss: 1.7213080882295897 | Validation Loss: 1.715647292793344\n"
     ]
    },
    {
     "name": "stderr",
     "output_type": "stream",
     "text": [
      " 20%|████████████████▍                                                                 | 14/70 [01:48<07:12,  7.72s/it]"
     ]
    },
    {
     "name": "stdout",
     "output_type": "stream",
     "text": [
      "Epoch 014: | Training Loss: 1.6851536723775118 | Validation Loss: 1.6482895935347321\n"
     ]
    },
    {
     "name": "stderr",
     "output_type": "stream",
     "text": [
      " 21%|█████████████████▌                                                                | 15/70 [01:56<07:05,  7.73s/it]"
     ]
    },
    {
     "name": "stdout",
     "output_type": "stream",
     "text": [
      "Epoch 015: | Training Loss: 1.648014932916504 | Validation Loss: 1.6465200568557878\n"
     ]
    },
    {
     "name": "stderr",
     "output_type": "stream",
     "text": [
      " 23%|██████████████████▋                                                               | 16/70 [02:04<06:57,  7.73s/it]"
     ]
    },
    {
     "name": "stdout",
     "output_type": "stream",
     "text": [
      "Epoch 016: | Training Loss: 1.6269603618984019 | Validation Loss: 1.5854761037257834\n"
     ]
    },
    {
     "name": "stderr",
     "output_type": "stream",
     "text": [
      " 24%|███████████████████▉                                                              | 17/70 [02:12<06:49,  7.74s/it]"
     ]
    },
    {
     "name": "stdout",
     "output_type": "stream",
     "text": [
      "Epoch 017: | Training Loss: 1.5994544180757602 | Validation Loss: 1.5826087227655112\n"
     ]
    },
    {
     "name": "stderr",
     "output_type": "stream",
     "text": [
      " 26%|█████████████████████                                                             | 18/70 [02:19<06:43,  7.76s/it]"
     ]
    },
    {
     "name": "stdout",
     "output_type": "stream",
     "text": [
      "Epoch 018: | Training Loss: 1.5828110538251914 | Validation Loss: 1.5556921417560052\n"
     ]
    },
    {
     "name": "stderr",
     "output_type": "stream",
     "text": [
      " 27%|██████████████████████▎                                                           | 19/70 [02:27<06:35,  7.75s/it]"
     ]
    },
    {
     "name": "stdout",
     "output_type": "stream",
     "text": [
      "Epoch 019: | Training Loss: 1.7692210166779265 | Validation Loss: 1.6986677537270642\n"
     ]
    },
    {
     "name": "stderr",
     "output_type": "stream",
     "text": [
      " 29%|███████████████████████▍                                                          | 20/70 [02:35<06:31,  7.84s/it]"
     ]
    },
    {
     "name": "stdout",
     "output_type": "stream",
     "text": [
      "Epoch 020: | Training Loss: 1.6643774281234507 | Validation Loss: 1.6876699957278891\n"
     ]
    },
    {
     "name": "stderr",
     "output_type": "stream",
     "text": [
      " 30%|████████████████████████▌                                                         | 21/70 [02:43<06:22,  7.81s/it]"
     ]
    },
    {
     "name": "stdout",
     "output_type": "stream",
     "text": [
      "Epoch 021: | Training Loss: 1.61061221425055 | Validation Loss: 1.563052301559973\n"
     ]
    },
    {
     "name": "stderr",
     "output_type": "stream",
     "text": [
      " 31%|█████████████████████████▊                                                        | 22/70 [02:51<06:13,  7.79s/it]"
     ]
    },
    {
     "name": "stdout",
     "output_type": "stream",
     "text": [
      "Epoch 022: | Training Loss: 1.5496212256812758 | Validation Loss: 1.5146875463494467\n"
     ]
    },
    {
     "name": "stderr",
     "output_type": "stream",
     "text": [
      " 33%|██████████████████████████▉                                                       | 23/70 [02:58<06:05,  7.78s/it]"
     ]
    },
    {
     "name": "stdout",
     "output_type": "stream",
     "text": [
      "Epoch 023: | Training Loss: 1.5184115220722707 | Validation Loss: 1.5188389179903432\n"
     ]
    },
    {
     "name": "stderr",
     "output_type": "stream",
     "text": [
      " 34%|████████████████████████████                                                      | 24/70 [03:06<05:57,  7.78s/it]"
     ]
    },
    {
     "name": "stdout",
     "output_type": "stream",
     "text": [
      "Epoch 024: | Training Loss: 1.497642653276873 | Validation Loss: 1.4874251227860058\n"
     ]
    },
    {
     "name": "stderr",
     "output_type": "stream",
     "text": [
      " 36%|█████████████████████████████▎                                                    | 25/70 [03:14<05:52,  7.83s/it]"
     ]
    },
    {
     "name": "stdout",
     "output_type": "stream",
     "text": [
      "Epoch 025: | Training Loss: 1.471426273286799 | Validation Loss: 1.4647803322984538\n"
     ]
    },
    {
     "name": "stderr",
     "output_type": "stream",
     "text": [
      " 37%|██████████████████████████████▍                                                   | 26/70 [03:22<05:46,  7.88s/it]"
     ]
    },
    {
     "name": "stdout",
     "output_type": "stream",
     "text": [
      "Epoch 026: | Training Loss: 1.4496838767167073 | Validation Loss: 1.43380056772757\n"
     ]
    },
    {
     "name": "stderr",
     "output_type": "stream",
     "text": [
      " 39%|███████████████████████████████▋                                                  | 27/70 [03:30<05:38,  7.88s/it]"
     ]
    },
    {
     "name": "stdout",
     "output_type": "stream",
     "text": [
      "Epoch 027: | Training Loss: 1.4256781743094895 | Validation Loss: 1.4403559478051071\n"
     ]
    },
    {
     "name": "stderr",
     "output_type": "stream",
     "text": [
      " 40%|████████████████████████████████▊                                                 | 28/70 [03:38<05:29,  7.85s/it]"
     ]
    },
    {
     "name": "stdout",
     "output_type": "stream",
     "text": [
      "Epoch 028: | Training Loss: 1.4106137851113383 | Validation Loss: 1.4101062493586758\n"
     ]
    },
    {
     "name": "stderr",
     "output_type": "stream",
     "text": [
      " 41%|█████████████████████████████████▉                                                | 29/70 [03:46<05:20,  7.82s/it]"
     ]
    },
    {
     "name": "stdout",
     "output_type": "stream",
     "text": [
      "Epoch 029: | Training Loss: 1.3968122478283564 | Validation Loss: 1.4082669167343629\n"
     ]
    },
    {
     "name": "stderr",
     "output_type": "stream",
     "text": [
      " 43%|███████████████████████████████████▏                                              | 30/70 [03:53<05:11,  7.80s/it]"
     ]
    },
    {
     "name": "stdout",
     "output_type": "stream",
     "text": [
      "Epoch 030: | Training Loss: 1.3634216970725592 | Validation Loss: 1.360573024924742\n"
     ]
    },
    {
     "name": "stderr",
     "output_type": "stream",
     "text": [
      " 44%|████████████████████████████████████▎                                             | 31/70 [04:01<05:03,  7.79s/it]"
     ]
    },
    {
     "name": "stdout",
     "output_type": "stream",
     "text": [
      "Epoch 031: | Training Loss: 1.3455914686138744 | Validation Loss: 1.3525903700688564\n"
     ]
    },
    {
     "name": "stderr",
     "output_type": "stream",
     "text": [
      " 46%|█████████████████████████████████████▍                                            | 32/70 [04:09<04:56,  7.80s/it]"
     ]
    },
    {
     "name": "stdout",
     "output_type": "stream",
     "text": [
      "Epoch 032: | Training Loss: 1.3196132428613228 | Validation Loss: 1.3367671961084417\n"
     ]
    },
    {
     "name": "stderr",
     "output_type": "stream",
     "text": [
      " 47%|██████████████████████████████████████▋                                           | 33/70 [04:17<04:48,  7.79s/it]"
     ]
    },
    {
     "name": "stdout",
     "output_type": "stream",
     "text": [
      "Epoch 033: | Training Loss: 1.3068502915033338 | Validation Loss: 1.3190919510815122\n"
     ]
    },
    {
     "name": "stderr",
     "output_type": "stream",
     "text": [
      " 49%|███████████████████████████████████████▊                                          | 34/70 [04:24<04:40,  7.80s/it]"
     ]
    },
    {
     "name": "stdout",
     "output_type": "stream",
     "text": [
      "Epoch 034: | Training Loss: 1.280086721614528 | Validation Loss: 1.3082175891880596\n"
     ]
    },
    {
     "name": "stderr",
     "output_type": "stream",
     "text": [
      " 50%|█████████████████████████████████████████                                         | 35/70 [04:32<04:32,  7.79s/it]"
     ]
    },
    {
     "name": "stdout",
     "output_type": "stream",
     "text": [
      "Epoch 035: | Training Loss: 1.253887371848955 | Validation Loss: 1.2909075131110095\n"
     ]
    },
    {
     "name": "stderr",
     "output_type": "stream",
     "text": [
      " 51%|██████████████████████████████████████████▏                                       | 36/70 [04:40<04:24,  7.77s/it]"
     ]
    },
    {
     "name": "stdout",
     "output_type": "stream",
     "text": [
      "Epoch 036: | Training Loss: 1.2236305809313086 | Validation Loss: 1.2710066817769217\n"
     ]
    },
    {
     "name": "stderr",
     "output_type": "stream",
     "text": [
      " 53%|███████████████████████████████████████████▎                                      | 37/70 [04:48<04:16,  7.77s/it]"
     ]
    },
    {
     "name": "stdout",
     "output_type": "stream",
     "text": [
      "Epoch 037: | Training Loss: 1.2028140467670025 | Validation Loss: 1.2603924597075227\n"
     ]
    },
    {
     "name": "stderr",
     "output_type": "stream",
     "text": [
      " 54%|████████████████████████████████████████████▌                                     | 38/70 [04:55<04:08,  7.75s/it]"
     ]
    },
    {
     "name": "stdout",
     "output_type": "stream",
     "text": [
      "Epoch 038: | Training Loss: 1.1830848474597493 | Validation Loss: 1.2591587892912943\n"
     ]
    },
    {
     "name": "stderr",
     "output_type": "stream",
     "text": [
      " 56%|█████████████████████████████████████████████▋                                    | 39/70 [05:03<04:00,  7.75s/it]"
     ]
    },
    {
     "name": "stdout",
     "output_type": "stream",
     "text": [
      "Epoch 039: | Training Loss: 1.1593395261633086 | Validation Loss: 1.264518641003775\n"
     ]
    },
    {
     "name": "stderr",
     "output_type": "stream",
     "text": [
      " 57%|██████████████████████████████████████████████▊                                   | 40/70 [05:11<03:53,  7.78s/it]"
     ]
    },
    {
     "name": "stdout",
     "output_type": "stream",
     "text": [
      "Epoch 040: | Training Loss: 1.1401107428997619 | Validation Loss: 1.2273428325259357\n"
     ]
    },
    {
     "name": "stderr",
     "output_type": "stream",
     "text": [
      " 59%|████████████████████████████████████████████████                                  | 41/70 [05:19<03:45,  7.77s/it]"
     ]
    },
    {
     "name": "stdout",
     "output_type": "stream",
     "text": [
      "Epoch 041: | Training Loss: 1.1246691542416583 | Validation Loss: 1.2274574951841197\n"
     ]
    },
    {
     "name": "stderr",
     "output_type": "stream",
     "text": [
      " 60%|█████████████████████████████████████████████████▏                                | 42/70 [05:27<03:37,  7.77s/it]"
     ]
    },
    {
     "name": "stdout",
     "output_type": "stream",
     "text": [
      "Epoch 042: | Training Loss: 1.09689630693535 | Validation Loss: 1.200551865024304\n"
     ]
    },
    {
     "name": "stderr",
     "output_type": "stream",
     "text": [
      " 61%|██████████████████████████████████████████████████▎                               | 43/70 [05:34<03:29,  7.77s/it]"
     ]
    },
    {
     "name": "stdout",
     "output_type": "stream",
     "text": [
      "Epoch 043: | Training Loss: 1.0895998927937167 | Validation Loss: 1.2055739943587451\n"
     ]
    }
   ],
   "source": [
    "trainer.train(trainloader1, valloader1, batch_size=batch_size, n_epochs=epochs)"
   ]
  },
  {
   "cell_type": "code",
   "execution_count": null,
   "id": "ae5cd5b4-422d-4d62-a720-ae1b4ddf0280",
   "metadata": {},
   "outputs": [],
   "source": [
    "plt.plot(trainer.loss_history[0])\n",
    "plt.plot(trainer.loss_history[1])"
   ]
  },
  {
   "cell_type": "code",
   "execution_count": null,
   "id": "885b618f-ee54-43c0-8d9c-c54b7805670e",
   "metadata": {},
   "outputs": [],
   "source": [
    "y_prob, y_pred, y_true = trainer.evaluate(testloader1)"
   ]
  },
  {
   "cell_type": "code",
   "execution_count": null,
   "id": "2975e228-2a65-4b78-a893-07349d5e9696",
   "metadata": {},
   "outputs": [],
   "source": [
    "# evaluated on test dataset from replica 1\n",
    "cr = sklearn.metrics.classification_report(y_true, y_pred, target_names=ligands, output_dict=True)\n",
    "cr_df = pd.DataFrame(cr).transpose()\n",
    "print(cr_df)"
   ]
  },
  {
   "cell_type": "code",
   "execution_count": null,
   "id": "9185437b-c22f-4652-b013-468cfdc738fb",
   "metadata": {},
   "outputs": [],
   "source": [
    "y_prob_cross, y_pred_cross, y_true_cross = trainer.evaluate(testloader2)"
   ]
  },
  {
   "cell_type": "code",
   "execution_count": null,
   "id": "8f83b251-d89e-4fbc-8a9a-6b8b5f1208dc",
   "metadata": {},
   "outputs": [],
   "source": [
    "# evaluated on test dataset from replica 2\n",
    "cr_cross = sklearn.metrics.classification_report(y_true_cross, y_pred_cross, target_names=ligands, output_dict=True)\n",
    "cr_cross_df = pd.DataFrame(cr_cross).transpose()\n",
    "print(cr_cross_df)"
   ]
  },
  {
   "cell_type": "code",
   "execution_count": null,
   "id": "6ecbe20a-d974-4ed4-86ef-c6b508558fba",
   "metadata": {},
   "outputs": [],
   "source": [
    "cr_cross_df"
   ]
  },
  {
   "cell_type": "code",
   "execution_count": null,
   "id": "8fe045ba-d9ca-4380-a480-31530a3b037e",
   "metadata": {},
   "outputs": [],
   "source": [
    "net2 = LSTM(input_size=input_size, hidden_sizes=hidden_size, output_size=output_size, num_layers=3, device=device)"
   ]
  },
  {
   "cell_type": "code",
   "execution_count": null,
   "id": "2a2a96af-1fd6-489d-99f8-9f330b5a8a2b",
   "metadata": {},
   "outputs": [],
   "source": [
    "net2.train()"
   ]
  },
  {
   "cell_type": "code",
   "execution_count": null,
   "id": "56aa8564-ba12-4385-aa8d-8c87a2194ed0",
   "metadata": {},
   "outputs": [],
   "source": [
    "trainer2 = LSTMTrainer(model=net2, device=device)"
   ]
  },
  {
   "cell_type": "code",
   "execution_count": null,
   "id": "4fd28702-4497-4a30-979a-f55ebb89a75b",
   "metadata": {
    "scrolled": true,
    "tags": []
   },
   "outputs": [],
   "source": [
    "trainer2.train(trainloader2, valloader2, batch_size=batch_size, n_epochs=epochs)"
   ]
  },
  {
   "cell_type": "code",
   "execution_count": null,
   "id": "ef53fb53-6918-4b68-927b-bafbf6575530",
   "metadata": {},
   "outputs": [],
   "source": [
    "plt.plot(trainer2.loss_history[0])\n",
    "plt.plot(trainer2.loss_history[1])"
   ]
  },
  {
   "cell_type": "code",
   "execution_count": null,
   "id": "a3ebecdf-3087-4bdc-8ba6-b23970f98fe7",
   "metadata": {},
   "outputs": [],
   "source": [
    "y_prob2, y_pred2, y_true2 = trainer2.evaluate(testloader2)"
   ]
  },
  {
   "cell_type": "code",
   "execution_count": null,
   "id": "55402563-d351-4ccb-bb25-6748312bba7f",
   "metadata": {},
   "outputs": [],
   "source": [
    "cr2 = sklearn.metrics.classification_report(y_true2, y_pred2, target_names=ligands, output_dict=True)\n",
    "cr2_df = pd.DataFrame(cr2).transpose()\n",
    "print(cr2_df)"
   ]
  },
  {
   "cell_type": "code",
   "execution_count": null,
   "id": "b5bb914e-242e-41c3-8f50-10e4f13737b7",
   "metadata": {},
   "outputs": [],
   "source": [
    "y_prob2_cross, y_pred2_cross, y_true2_cross = trainer2.evaluate(testloader1)"
   ]
  },
  {
   "cell_type": "code",
   "execution_count": null,
   "id": "a3911b76-3cfc-4a6e-be41-0a1912fd30b5",
   "metadata": {},
   "outputs": [],
   "source": [
    "cr2_cross = sklearn.metrics.classification_report(y_true2_cross, y_pred2_cross, target_names=ligands, output_dict=True)\n",
    "cr2_df_cross = pd.DataFrame(cr2_cross).transpose()\n",
    "print(cr2_df_cross)"
   ]
  },
  {
   "cell_type": "code",
   "execution_count": null,
   "id": "0bb2f9b6-0d83-4f4f-a711-700f7915ad6c",
   "metadata": {},
   "outputs": [],
   "source": [
    "# maybe some more plots here"
   ]
  },
  {
   "cell_type": "code",
   "execution_count": null,
   "id": "ede5df43-6614-4fc0-aa73-734cb3e3ad93",
   "metadata": {},
   "outputs": [],
   "source": []
  }
 ],
 "metadata": {
  "kernelspec": {
   "display_name": "Python 3 (ipykernel)",
   "language": "python",
   "name": "python3"
  },
  "language_info": {
   "codemirror_mode": {
    "name": "ipython",
    "version": 3
   },
   "file_extension": ".py",
   "mimetype": "text/x-python",
   "name": "python",
   "nbconvert_exporter": "python",
   "pygments_lexer": "ipython3",
   "version": "3.8.12"
  }
 },
 "nbformat": 4,
 "nbformat_minor": 5
}
