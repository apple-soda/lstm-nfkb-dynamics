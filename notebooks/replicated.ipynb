{
 "cells": [
  {
   "cell_type": "code",
   "execution_count": 1,
   "id": "abbbdaaf-51f8-4221-8419-a7532b7314fd",
   "metadata": {},
   "outputs": [],
   "source": [
    "import sys\n",
    "sys.path.append('..')"
   ]
  },
  {
   "cell_type": "code",
   "execution_count": 2,
   "id": "c4161d1f-8e2a-404d-9d70-26088dc75927",
   "metadata": {},
   "outputs": [],
   "source": [
    "import torch\n",
    "import pandas as pd\n",
    "import numpy as np\n",
    "import sklearn\n",
    "import matplotlib.pyplot as plt\n",
    "import random\n",
    "import torch.nn as nn\n",
    "import torch.nn.functional as F"
   ]
  },
  {
   "cell_type": "code",
   "execution_count": 3,
   "id": "63af8126-651f-4b4c-b911-4149d2f6c0ee",
   "metadata": {},
   "outputs": [],
   "source": [
    "ligands = [\"TNF\", \"R84\", \"PIC\", \"P3K\", \"FLA\", \"CpG\", \"FSL\", \"LPS\", \"UST\"]\n",
    "polarization = [\"\", \"ib\", \"ig\", \"i0\", \"i3\", \"i4\"]\n",
    "replicas, size = 2, 1288 # replicated"
   ]
  },
  {
   "cell_type": "code",
   "execution_count": 4,
   "id": "db49037a-3cf4-4ef8-9c2b-c6a5989999e0",
   "metadata": {},
   "outputs": [],
   "source": [
    "from core.getdata import *\n",
    "from core.dataset import *"
   ]
  },
  {
   "cell_type": "markdown",
   "id": "decfae6b-d66b-438f-926e-726468b45878",
   "metadata": {},
   "source": [
    "<h3>Example of GetData</h3>"
   ]
  },
  {
   "cell_type": "code",
   "execution_count": 5,
   "id": "857176ea-c822-4ef4-99ba-6f5dea763833",
   "metadata": {},
   "outputs": [
    {
     "data": {
      "text/plain": [
       "(1288, 98)"
      ]
     },
     "execution_count": 5,
     "metadata": {},
     "output_type": "execute_result"
    }
   ],
   "source": [
    "TNFib1 = GetData(ligands[0], polarization[1], replicas, size)\n",
    "TNFib1.X.shape"
   ]
  },
  {
   "cell_type": "markdown",
   "id": "2a347ad7-6d34-4e08-8547-e5aca2b0cf86",
   "metadata": {},
   "source": [
    "<h3>Example of Dataset</h3>"
   ]
  },
  {
   "cell_type": "code",
   "execution_count": 6,
   "id": "7d8c34e5-076a-4a4d-b10a-208fb24729a5",
   "metadata": {},
   "outputs": [],
   "source": [
    "data = Dataset(ligands, polarization, replicas, size)"
   ]
  },
  {
   "cell_type": "code",
   "execution_count": 7,
   "id": "54d2e8d3-6af1-4da3-ae73-6390e1e422a2",
   "metadata": {},
   "outputs": [
    {
     "name": "stdout",
     "output_type": "stream",
     "text": [
      "Wall time: 41.5 ms\n"
     ]
    }
   ],
   "source": [
    "%%time\n",
    "for _ in data:\n",
    "    pass"
   ]
  },
  {
   "cell_type": "code",
   "execution_count": 8,
   "id": "55cbc610-dbf0-4aa0-a919-a0e33a887d4d",
   "metadata": {},
   "outputs": [
    {
     "data": {
      "text/plain": [
       "(69552, 98, 1)"
      ]
     },
     "execution_count": 8,
     "metadata": {},
     "output_type": "execute_result"
    }
   ],
   "source": [
    "data.data.shape"
   ]
  },
  {
   "cell_type": "code",
   "execution_count": 9,
   "id": "f0f61405-e394-4a9d-a872-727aee3b392e",
   "metadata": {},
   "outputs": [
    {
     "name": "stdout",
     "output_type": "stream",
     "text": [
      "<class 'numpy.ndarray'> <class 'numpy.ndarray'>\n"
     ]
    }
   ],
   "source": [
    "print(type(data.data), type(data.labels))"
   ]
  },
  {
   "cell_type": "code",
   "execution_count": 10,
   "id": "3b728e40-cb9f-4d34-973e-393bc4c3fc3b",
   "metadata": {},
   "outputs": [
    {
     "name": "stdout",
     "output_type": "stream",
     "text": [
      "[0 0 0 ... 8 8 8] (69552,)\n"
     ]
    }
   ],
   "source": [
    "print(data.labels, data.labels.shape) #labels are multi-hot encoded"
   ]
  },
  {
   "cell_type": "markdown",
   "id": "1528860b-18b7-4501-a9e6-af504b5d59f3",
   "metadata": {},
   "source": [
    "<h3>Initializing Dataloaders</h3>"
   ]
  },
  {
   "cell_type": "code",
   "execution_count": 11,
   "id": "36f86ae4-56ee-4a59-8e86-2e0be1fb5e5c",
   "metadata": {},
   "outputs": [],
   "source": [
    "from torch.utils.data import Dataset\n",
    "from torchvision import datasets\n",
    "from torchvision.transforms import ToTensor"
   ]
  },
  {
   "cell_type": "code",
   "execution_count": 12,
   "id": "d0511860-f810-40ed-905d-950f9f31103b",
   "metadata": {},
   "outputs": [
    {
     "name": "stdout",
     "output_type": "stream",
     "text": [
      "62596 6955 56336 6259\n",
      "69551 69552\n"
     ]
    }
   ],
   "source": [
    "X_len, test_len = int(len(data.data) * 0.9), int(len(data.data) * 0.1)\n",
    "train_len, val_len = int(X_len * 0.9), int(X_len * 0.1)\n",
    "print(X_len, test_len, train_len, val_len) #lengths\n",
    "print(X_len + test_len, len(data.data))"
   ]
  },
  {
   "cell_type": "code",
   "execution_count": 13,
   "id": "0ce3d948-86dd-49e2-9fac-c73dcb735e45",
   "metadata": {},
   "outputs": [],
   "source": [
    "training_data = data.data.reshape(data.data.shape[0], data.data.shape[1], 1) #adds extra dimension"
   ]
  },
  {
   "cell_type": "code",
   "execution_count": 14,
   "id": "ec07a63b-10fc-4ee4-b18b-f1bbe21c6a81",
   "metadata": {},
   "outputs": [
    {
     "data": {
      "text/plain": [
       "69552"
      ]
     },
     "execution_count": 14,
     "metadata": {},
     "output_type": "execute_result"
    }
   ],
   "source": [
    "data.data[1000].shape\n",
    "len(data)"
   ]
  },
  {
   "cell_type": "code",
   "execution_count": 15,
   "id": "b32d6314-dd53-43bf-b25f-37704741b435",
   "metadata": {},
   "outputs": [],
   "source": [
    "dataset_X, dataset_val = torch.utils.data.random_split(data, [X_len, test_len + 1]) # need separate data and labels for LSTM?"
   ]
  },
  {
   "cell_type": "code",
   "execution_count": 16,
   "id": "7ac0a68b-692a-4773-b83e-3ede14b768fe",
   "metadata": {},
   "outputs": [],
   "source": [
    "dataloader_train = torch.utils.data.DataLoader(dataset_X, batch_size=64, shuffle=True)\n",
    "dataloader_val = torch.utils.data.DataLoader(dataset_val, batch_size=64, shuffle=True)"
   ]
  },
  {
   "cell_type": "code",
   "execution_count": 17,
   "id": "387ae2bf-5805-4fa9-8f89-6007a41bd539",
   "metadata": {},
   "outputs": [
    {
     "name": "stdout",
     "output_type": "stream",
     "text": [
      "979 109 1088\n"
     ]
    }
   ],
   "source": [
    "print(len(dataloader_train), len(dataloader_val), len(dataloader_train) + len(dataloader_val))\n",
    "###\n",
    "#data[0:10]"
   ]
  },
  {
   "cell_type": "markdown",
   "id": "8de10af5-c1e5-4a20-bbbc-27ace3667ad2",
   "metadata": {},
   "source": [
    "<h3>Model Training</h3>"
   ]
  },
  {
   "cell_type": "code",
   "execution_count": 18,
   "id": "d43ece0f-9510-4728-a520-05da75c50218",
   "metadata": {},
   "outputs": [],
   "source": [
    "from core.network import *\n",
    "from core.trainer import *"
   ]
  },
  {
   "cell_type": "code",
   "execution_count": 19,
   "id": "900bf9d3-f6eb-490b-9135-5bef35147077",
   "metadata": {},
   "outputs": [
    {
     "data": {
      "text/plain": [
       "True"
      ]
     },
     "execution_count": 19,
     "metadata": {},
     "output_type": "execute_result"
    }
   ],
   "source": [
    "torch.cuda.is_available()"
   ]
  },
  {
   "cell_type": "code",
   "execution_count": 20,
   "id": "a6573c04-8653-4dfd-8d96-5542d2860e36",
   "metadata": {},
   "outputs": [],
   "source": [
    "#model parameters\n",
    "input_size = 1\n",
    "hidden_sizes = 98\n",
    "output_size = 9\n",
    "\n",
    "#training parameters\n",
    "n_epochs = 80\n",
    "batch_size = 64\n",
    "learning_rate = 1e-3"
   ]
  },
  {
   "cell_type": "code",
   "execution_count": 21,
   "id": "5a41d15a-a573-45a3-9a2b-a0d881b2bf66",
   "metadata": {},
   "outputs": [
    {
     "data": {
      "text/plain": [
       "LSTM(\n",
       "  (lstm): LSTM(1, 98, num_layers=3, batch_first=True)\n",
       "  (fc1): Linear(in_features=98, out_features=9, bias=True)\n",
       ")"
      ]
     },
     "execution_count": 21,
     "metadata": {},
     "output_type": "execute_result"
    }
   ],
   "source": [
    "model = LSTM(input_size, hidden_sizes, output_size, num_layers=3, device=\"cuda:0\")\n",
    "model.train()"
   ]
  },
  {
   "cell_type": "code",
   "execution_count": 22,
   "id": "03d3fe18-57c0-422f-8169-4cf119dd9ad2",
   "metadata": {},
   "outputs": [],
   "source": [
    "trainer = LSTMTrainer(model=model, device=\"cuda:0\")"
   ]
  },
  {
   "cell_type": "code",
   "execution_count": 23,
   "id": "5a666ce0-520c-4250-a9f8-75ba180ec404",
   "metadata": {
    "tags": []
   },
   "outputs": [
    {
     "name": "stderr",
     "output_type": "stream",
     "text": [
      "  1%|█                                                                                  | 1/80 [00:16<21:28, 16.31s/it]"
     ]
    },
    {
     "name": "stdout",
     "output_type": "stream",
     "text": [
      "Epoch 001: | Training Loss: 2.1096911048012443 | Validation Loss: 2.111623607644247\n"
     ]
    },
    {
     "name": "stderr",
     "output_type": "stream",
     "text": [
      "  2%|██                                                                                 | 2/80 [00:30<19:30, 15.00s/it]"
     ]
    },
    {
     "name": "stdout",
     "output_type": "stream",
     "text": [
      "Epoch 002: | Training Loss: 2.1955153228557145 | Validation Loss: 2.198388786490904\n"
     ]
    },
    {
     "name": "stderr",
     "output_type": "stream",
     "text": [
      "  4%|███                                                                                | 3/80 [00:44<18:51, 14.69s/it]"
     ]
    },
    {
     "name": "stdout",
     "output_type": "stream",
     "text": [
      "Epoch 003: | Training Loss: 2.173398382938919 | Validation Loss: 2.0996900315678446\n"
     ]
    },
    {
     "name": "stderr",
     "output_type": "stream",
     "text": [
      "  5%|████▏                                                                              | 4/80 [00:59<18:38, 14.72s/it]"
     ]
    },
    {
     "name": "stdout",
     "output_type": "stream",
     "text": [
      "Epoch 004: | Training Loss: 2.0557265906338795 | Validation Loss: 1.9906917613580686\n"
     ]
    },
    {
     "name": "stderr",
     "output_type": "stream",
     "text": [
      "  6%|█████▏                                                                             | 5/80 [01:13<18:12, 14.57s/it]"
     ]
    },
    {
     "name": "stdout",
     "output_type": "stream",
     "text": [
      "Epoch 005: | Training Loss: 1.8855379851529255 | Validation Loss: 1.7635230329058587\n"
     ]
    },
    {
     "name": "stderr",
     "output_type": "stream",
     "text": [
      "  8%|██████▏                                                                            | 6/80 [01:28<17:52, 14.49s/it]"
     ]
    },
    {
     "name": "stdout",
     "output_type": "stream",
     "text": [
      "Epoch 006: | Training Loss: 1.7058745475297563 | Validation Loss: 1.6783990192850795\n"
     ]
    },
    {
     "name": "stderr",
     "output_type": "stream",
     "text": [
      "  9%|███████▎                                                                           | 7/80 [01:42<17:29, 14.38s/it]"
     ]
    },
    {
     "name": "stdout",
     "output_type": "stream",
     "text": [
      "Epoch 007: | Training Loss: 1.631793905936174 | Validation Loss: 1.5993205133928072\n"
     ]
    },
    {
     "name": "stderr",
     "output_type": "stream",
     "text": [
      " 10%|████████▎                                                                          | 8/80 [01:56<17:13, 14.35s/it]"
     ]
    },
    {
     "name": "stdout",
     "output_type": "stream",
     "text": [
      "Epoch 008: | Training Loss: 1.5668236967004965 | Validation Loss: 1.5396640771025911\n"
     ]
    },
    {
     "name": "stderr",
     "output_type": "stream",
     "text": [
      " 11%|█████████▎                                                                         | 9/80 [02:10<16:56, 14.32s/it]"
     ]
    },
    {
     "name": "stdout",
     "output_type": "stream",
     "text": [
      "Epoch 009: | Training Loss: 1.5039736703418736 | Validation Loss: 1.4714594926309148\n"
     ]
    },
    {
     "name": "stderr",
     "output_type": "stream",
     "text": [
      " 12%|██████████▎                                                                       | 10/80 [02:25<16:45, 14.37s/it]"
     ]
    },
    {
     "name": "stdout",
     "output_type": "stream",
     "text": [
      "Epoch 010: | Training Loss: 1.448209410181328 | Validation Loss: 1.4491840447854558\n"
     ]
    },
    {
     "name": "stderr",
     "output_type": "stream",
     "text": [
      " 14%|███████████▎                                                                      | 11/80 [02:39<16:33, 14.39s/it]"
     ]
    },
    {
     "name": "stdout",
     "output_type": "stream",
     "text": [
      "Epoch 011: | Training Loss: 1.3962030018070015 | Validation Loss: 1.3731178056209459\n"
     ]
    },
    {
     "name": "stderr",
     "output_type": "stream",
     "text": [
      " 15%|████████████▎                                                                     | 12/80 [02:54<16:17, 14.37s/it]"
     ]
    },
    {
     "name": "stdout",
     "output_type": "stream",
     "text": [
      "Epoch 012: | Training Loss: 1.3462854138555518 | Validation Loss: 1.325589714793984\n"
     ]
    },
    {
     "name": "stderr",
     "output_type": "stream",
     "text": [
      " 16%|█████████████▎                                                                    | 13/80 [03:08<16:06, 14.42s/it]"
     ]
    },
    {
     "name": "stdout",
     "output_type": "stream",
     "text": [
      "Epoch 013: | Training Loss: 1.3032209991921686 | Validation Loss: 1.2951900335626865\n"
     ]
    },
    {
     "name": "stderr",
     "output_type": "stream",
     "text": [
      " 18%|██████████████▎                                                                   | 14/80 [03:23<15:54, 14.46s/it]"
     ]
    },
    {
     "name": "stdout",
     "output_type": "stream",
     "text": [
      "Epoch 014: | Training Loss: 1.2681782428285562 | Validation Loss: 1.262926195739606\n"
     ]
    },
    {
     "name": "stderr",
     "output_type": "stream",
     "text": [
      " 19%|███████████████▍                                                                  | 15/80 [03:37<15:36, 14.41s/it]"
     ]
    },
    {
     "name": "stdout",
     "output_type": "stream",
     "text": [
      "Epoch 015: | Training Loss: 1.2262710183097831 | Validation Loss: 1.2426010474152522\n"
     ]
    },
    {
     "name": "stderr",
     "output_type": "stream",
     "text": [
      " 20%|████████████████▍                                                                 | 16/80 [03:51<15:23, 14.43s/it]"
     ]
    },
    {
     "name": "stdout",
     "output_type": "stream",
     "text": [
      "Epoch 016: | Training Loss: 1.1982989498129661 | Validation Loss: 1.2156787388915316\n"
     ]
    },
    {
     "name": "stderr",
     "output_type": "stream",
     "text": [
      " 21%|█████████████████▍                                                                | 17/80 [04:06<15:09, 14.44s/it]"
     ]
    },
    {
     "name": "stdout",
     "output_type": "stream",
     "text": [
      "Epoch 017: | Training Loss: 1.1655502830145916 | Validation Loss: 1.2216582577162927\n"
     ]
    },
    {
     "name": "stderr",
     "output_type": "stream",
     "text": [
      " 22%|██████████████████▍                                                               | 18/80 [04:20<14:53, 14.41s/it]"
     ]
    },
    {
     "name": "stdout",
     "output_type": "stream",
     "text": [
      "Epoch 018: | Training Loss: 1.1339706664065905 | Validation Loss: 1.16934558612491\n"
     ]
    },
    {
     "name": "stderr",
     "output_type": "stream",
     "text": [
      " 24%|███████████████████▍                                                              | 19/80 [04:35<14:39, 14.41s/it]"
     ]
    },
    {
     "name": "stdout",
     "output_type": "stream",
     "text": [
      "Epoch 019: | Training Loss: 1.1109222999266877 | Validation Loss: 1.1732120541257596\n"
     ]
    },
    {
     "name": "stderr",
     "output_type": "stream",
     "text": [
      " 25%|████████████████████▌                                                             | 20/80 [04:49<14:24, 14.41s/it]"
     ]
    },
    {
     "name": "stdout",
     "output_type": "stream",
     "text": [
      "Epoch 020: | Training Loss: 1.0746796790499 | Validation Loss: 1.1338663051981446\n"
     ]
    },
    {
     "name": "stderr",
     "output_type": "stream",
     "text": [
      " 26%|█████████████████████▌                                                            | 21/80 [05:03<14:03, 14.30s/it]"
     ]
    },
    {
     "name": "stdout",
     "output_type": "stream",
     "text": [
      "Epoch 021: | Training Loss: 1.040780669395965 | Validation Loss: 1.1104785734360372\n"
     ]
    },
    {
     "name": "stderr",
     "output_type": "stream",
     "text": [
      " 28%|██████████████████████▌                                                           | 22/80 [05:18<13:53, 14.36s/it]"
     ]
    },
    {
     "name": "stdout",
     "output_type": "stream",
     "text": [
      "Epoch 022: | Training Loss: 1.0056797625826133 | Validation Loss: 1.1261125644412608\n"
     ]
    },
    {
     "name": "stderr",
     "output_type": "stream",
     "text": [
      " 29%|███████████████████████▌                                                          | 23/80 [05:32<13:35, 14.32s/it]"
     ]
    },
    {
     "name": "stdout",
     "output_type": "stream",
     "text": [
      "Epoch 023: | Training Loss: 0.9840713296774337 | Validation Loss: 1.0807918326570354\n"
     ]
    },
    {
     "name": "stderr",
     "output_type": "stream",
     "text": [
      " 30%|████████████████████████▌                                                         | 24/80 [05:47<13:29, 14.45s/it]"
     ]
    },
    {
     "name": "stdout",
     "output_type": "stream",
     "text": [
      "Epoch 024: | Training Loss: 0.9536903043933007 | Validation Loss: 1.0543127278669164\n"
     ]
    },
    {
     "name": "stderr",
     "output_type": "stream",
     "text": [
      " 31%|█████████████████████████▋                                                        | 25/80 [06:01<13:11, 14.38s/it]"
     ]
    },
    {
     "name": "stdout",
     "output_type": "stream",
     "text": [
      "Epoch 025: | Training Loss: 0.9231984367835753 | Validation Loss: 1.0161516420338133\n"
     ]
    },
    {
     "name": "stderr",
     "output_type": "stream",
     "text": [
      " 32%|██████████████████████████▋                                                       | 26/80 [06:15<12:56, 14.39s/it]"
     ]
    },
    {
     "name": "stdout",
     "output_type": "stream",
     "text": [
      "Epoch 026: | Training Loss: 0.887049980986715 | Validation Loss: 0.9924949161503294\n"
     ]
    },
    {
     "name": "stderr",
     "output_type": "stream",
     "text": [
      " 34%|███████████████████████████▋                                                      | 27/80 [06:29<12:41, 14.36s/it]"
     ]
    },
    {
     "name": "stdout",
     "output_type": "stream",
     "text": [
      "Epoch 027: | Training Loss: 0.8458519767326768 | Validation Loss: 0.99870631180772\n"
     ]
    },
    {
     "name": "stderr",
     "output_type": "stream",
     "text": [
      " 35%|████████████████████████████▋                                                     | 28/80 [06:44<12:31, 14.45s/it]"
     ]
    },
    {
     "name": "stdout",
     "output_type": "stream",
     "text": [
      "Epoch 028: | Training Loss: 0.8275424372005268 | Validation Loss: 0.985096515865501\n"
     ]
    },
    {
     "name": "stderr",
     "output_type": "stream",
     "text": [
      " 36%|█████████████████████████████▋                                                    | 29/80 [06:59<12:26, 14.63s/it]"
     ]
    },
    {
     "name": "stdout",
     "output_type": "stream",
     "text": [
      "Epoch 029: | Training Loss: 0.7898359051520296 | Validation Loss: 0.9418377920028267\n"
     ]
    },
    {
     "name": "stderr",
     "output_type": "stream",
     "text": [
      " 38%|██████████████████████████████▊                                                   | 30/80 [07:14<12:09, 14.60s/it]"
     ]
    },
    {
     "name": "stdout",
     "output_type": "stream",
     "text": [
      "Epoch 030: | Training Loss: 0.7551513329772346 | Validation Loss: 0.941327884109742\n"
     ]
    },
    {
     "name": "stderr",
     "output_type": "stream",
     "text": [
      " 39%|███████████████████████████████▊                                                  | 31/80 [07:28<11:53, 14.56s/it]"
     ]
    },
    {
     "name": "stdout",
     "output_type": "stream",
     "text": [
      "Epoch 031: | Training Loss: 0.7301598835405461 | Validation Loss: 0.9201685567514613\n"
     ]
    },
    {
     "name": "stderr",
     "output_type": "stream",
     "text": [
      " 40%|████████████████████████████████▊                                                 | 32/80 [07:43<11:43, 14.65s/it]"
     ]
    },
    {
     "name": "stdout",
     "output_type": "stream",
     "text": [
      "Epoch 032: | Training Loss: 0.7131331874717852 | Validation Loss: 0.9094414803959908\n"
     ]
    },
    {
     "name": "stderr",
     "output_type": "stream",
     "text": [
      " 41%|█████████████████████████████████▊                                                | 33/80 [07:57<11:24, 14.56s/it]"
     ]
    },
    {
     "name": "stdout",
     "output_type": "stream",
     "text": [
      "Epoch 033: | Training Loss: 0.6673615228715786 | Validation Loss: 0.9340373212044392\n"
     ]
    },
    {
     "name": "stderr",
     "output_type": "stream",
     "text": [
      " 42%|██████████████████████████████████▊                                               | 34/80 [08:12<11:05, 14.48s/it]"
     ]
    },
    {
     "name": "stdout",
     "output_type": "stream",
     "text": [
      "Epoch 034: | Training Loss: 0.6600817321696004 | Validation Loss: 0.8793038354007476\n"
     ]
    },
    {
     "name": "stderr",
     "output_type": "stream",
     "text": [
      " 44%|███████████████████████████████████▉                                              | 35/80 [08:26<10:50, 14.46s/it]"
     ]
    },
    {
     "name": "stdout",
     "output_type": "stream",
     "text": [
      "Epoch 035: | Training Loss: 0.6284779153756638 | Validation Loss: 0.9019105981249328\n"
     ]
    },
    {
     "name": "stderr",
     "output_type": "stream",
     "text": [
      " 45%|████████████████████████████████████▉                                             | 36/80 [08:41<10:38, 14.52s/it]"
     ]
    },
    {
     "name": "stdout",
     "output_type": "stream",
     "text": [
      "Epoch 036: | Training Loss: 0.620174988723751 | Validation Loss: 0.8670412602774594\n"
     ]
    },
    {
     "name": "stderr",
     "output_type": "stream",
     "text": [
      " 46%|█████████████████████████████████████▉                                            | 37/80 [08:55<10:24, 14.51s/it]"
     ]
    },
    {
     "name": "stdout",
     "output_type": "stream",
     "text": [
      "Epoch 037: | Training Loss: 0.5799467623827407 | Validation Loss: 0.8494560595499266\n"
     ]
    },
    {
     "name": "stderr",
     "output_type": "stream",
     "text": [
      " 48%|██████████████████████████████████████▉                                           | 38/80 [09:10<10:08, 14.50s/it]"
     ]
    },
    {
     "name": "stdout",
     "output_type": "stream",
     "text": [
      "Epoch 038: | Training Loss: 0.5664338542260724 | Validation Loss: 0.851698626072035\n"
     ]
    },
    {
     "name": "stderr",
     "output_type": "stream",
     "text": [
      " 49%|███████████████████████████████████████▉                                          | 39/80 [09:24<09:53, 14.47s/it]"
     ]
    },
    {
     "name": "stdout",
     "output_type": "stream",
     "text": [
      "Epoch 039: | Training Loss: 0.5641475500076614 | Validation Loss: 0.8220791882331219\n"
     ]
    },
    {
     "name": "stderr",
     "output_type": "stream",
     "text": [
      " 50%|█████████████████████████████████████████                                         | 40/80 [09:39<09:39, 14.49s/it]"
     ]
    },
    {
     "name": "stdout",
     "output_type": "stream",
     "text": [
      "Epoch 040: | Training Loss: 0.5378196670562485 | Validation Loss: 0.7985085393857518\n"
     ]
    },
    {
     "name": "stderr",
     "output_type": "stream",
     "text": [
      " 51%|██████████████████████████████████████████                                        | 41/80 [09:53<09:25, 14.50s/it]"
     ]
    },
    {
     "name": "stdout",
     "output_type": "stream",
     "text": [
      "Epoch 041: | Training Loss: 0.4984321142789414 | Validation Loss: 0.7996074251078684\n"
     ]
    },
    {
     "name": "stderr",
     "output_type": "stream",
     "text": [
      " 52%|███████████████████████████████████████████                                       | 42/80 [10:08<09:18, 14.69s/it]"
     ]
    },
    {
     "name": "stdout",
     "output_type": "stream",
     "text": [
      "Epoch 042: | Training Loss: 0.5166358261448126 | Validation Loss: 0.787634308731884\n"
     ]
    },
    {
     "name": "stderr",
     "output_type": "stream",
     "text": [
      " 54%|████████████████████████████████████████████                                      | 43/80 [10:23<08:58, 14.56s/it]"
     ]
    },
    {
     "name": "stdout",
     "output_type": "stream",
     "text": [
      "Epoch 043: | Training Loss: 0.4774526916101834 | Validation Loss: 0.7849833224344691\n"
     ]
    },
    {
     "name": "stderr",
     "output_type": "stream",
     "text": [
      " 55%|█████████████████████████████████████████████                                     | 44/80 [10:37<08:45, 14.59s/it]"
     ]
    },
    {
     "name": "stdout",
     "output_type": "stream",
     "text": [
      "Epoch 044: | Training Loss: 0.45905237096201046 | Validation Loss: 0.8171512569309375\n"
     ]
    },
    {
     "name": "stderr",
     "output_type": "stream",
     "text": [
      " 56%|██████████████████████████████████████████████▏                                   | 45/80 [10:52<08:32, 14.65s/it]"
     ]
    },
    {
     "name": "stdout",
     "output_type": "stream",
     "text": [
      "Epoch 045: | Training Loss: 0.4567701611116117 | Validation Loss: 0.9716869455958725\n"
     ]
    },
    {
     "name": "stderr",
     "output_type": "stream",
     "text": [
      " 57%|███████████████████████████████████████████████▏                                  | 46/80 [11:06<08:14, 14.54s/it]"
     ]
    },
    {
     "name": "stdout",
     "output_type": "stream",
     "text": [
      "Epoch 046: | Training Loss: 0.44149612292145074 | Validation Loss: 0.7808649206380232\n"
     ]
    },
    {
     "name": "stderr",
     "output_type": "stream",
     "text": [
      " 59%|████████████████████████████████████████████████▏                                 | 47/80 [11:21<08:04, 14.68s/it]"
     ]
    },
    {
     "name": "stdout",
     "output_type": "stream",
     "text": [
      "Epoch 047: | Training Loss: 0.4142529244959902 | Validation Loss: 0.7828635182402549\n"
     ]
    },
    {
     "name": "stderr",
     "output_type": "stream",
     "text": [
      " 60%|█████████████████████████████████████████████████▏                                | 48/80 [11:36<07:46, 14.59s/it]"
     ]
    },
    {
     "name": "stdout",
     "output_type": "stream",
     "text": [
      "Epoch 048: | Training Loss: 0.4039839580959514 | Validation Loss: 0.80031342407979\n"
     ]
    },
    {
     "name": "stderr",
     "output_type": "stream",
     "text": [
      " 61%|██████████████████████████████████████████████████▏                               | 49/80 [11:50<07:31, 14.56s/it]"
     ]
    },
    {
     "name": "stdout",
     "output_type": "stream",
     "text": [
      "Epoch 049: | Training Loss: 0.40051224786670264 | Validation Loss: 0.7450399087109697\n"
     ]
    },
    {
     "name": "stderr",
     "output_type": "stream",
     "text": [
      " 62%|███████████████████████████████████████████████████▎                              | 50/80 [12:05<07:18, 14.61s/it]"
     ]
    },
    {
     "name": "stdout",
     "output_type": "stream",
     "text": [
      "Epoch 050: | Training Loss: 0.3715718205299027 | Validation Loss: 0.7432107668404185\n"
     ]
    },
    {
     "name": "stderr",
     "output_type": "stream",
     "text": [
      " 64%|████████████████████████████████████████████████████▎                             | 51/80 [12:19<07:00, 14.49s/it]"
     ]
    },
    {
     "name": "stdout",
     "output_type": "stream",
     "text": [
      "Epoch 051: | Training Loss: 0.37686736373358287 | Validation Loss: 0.7727084750429206\n"
     ]
    },
    {
     "name": "stderr",
     "output_type": "stream",
     "text": [
      " 65%|█████████████████████████████████████████████████████▎                            | 52/80 [12:34<06:45, 14.50s/it]"
     ]
    },
    {
     "name": "stdout",
     "output_type": "stream",
     "text": [
      "Epoch 052: | Training Loss: 0.36366582483783805 | Validation Loss: 0.770083728459997\n"
     ]
    },
    {
     "name": "stderr",
     "output_type": "stream",
     "text": [
      " 66%|██████████████████████████████████████████████████████▎                           | 53/80 [12:48<06:32, 14.54s/it]"
     ]
    },
    {
     "name": "stdout",
     "output_type": "stream",
     "text": [
      "Epoch 053: | Training Loss: 0.36157969507912935 | Validation Loss: 0.7484944183892066\n"
     ]
    },
    {
     "name": "stderr",
     "output_type": "stream",
     "text": [
      " 68%|███████████████████████████████████████████████████████▎                          | 54/80 [13:04<06:29, 14.99s/it]"
     ]
    },
    {
     "name": "stdout",
     "output_type": "stream",
     "text": [
      "Epoch 054: | Training Loss: 0.3375141481822309 | Validation Loss: 0.7478130071535023\n"
     ]
    },
    {
     "name": "stderr",
     "output_type": "stream",
     "text": [
      " 69%|████████████████████████████████████████████████████████▍                         | 55/80 [13:19<06:12, 14.90s/it]"
     ]
    },
    {
     "name": "stdout",
     "output_type": "stream",
     "text": [
      "Epoch 055: | Training Loss: 0.3357458331748706 | Validation Loss: 0.701405094304216\n"
     ]
    },
    {
     "name": "stderr",
     "output_type": "stream",
     "text": [
      " 70%|█████████████████████████████████████████████████████████▍                        | 56/80 [13:33<05:53, 14.72s/it]"
     ]
    },
    {
     "name": "stdout",
     "output_type": "stream",
     "text": [
      "Epoch 056: | Training Loss: 0.3385641813902251 | Validation Loss: 0.7038026047409127\n"
     ]
    },
    {
     "name": "stderr",
     "output_type": "stream",
     "text": [
      " 71%|██████████████████████████████████████████████████████████▍                       | 57/80 [13:48<05:40, 14.80s/it]"
     ]
    },
    {
     "name": "stdout",
     "output_type": "stream",
     "text": [
      "Epoch 057: | Training Loss: 0.29349716297285183 | Validation Loss: 0.708464591601573\n"
     ]
    },
    {
     "name": "stderr",
     "output_type": "stream",
     "text": [
      " 72%|███████████████████████████████████████████████████████████▍                      | 58/80 [14:04<05:30, 15.00s/it]"
     ]
    },
    {
     "name": "stdout",
     "output_type": "stream",
     "text": [
      "Epoch 058: | Training Loss: 0.2999366374840471 | Validation Loss: 0.6958848336421022\n"
     ]
    },
    {
     "name": "stderr",
     "output_type": "stream",
     "text": [
      " 74%|████████████████████████████████████████████████████████████▍                     | 59/80 [14:19<05:16, 15.06s/it]"
     ]
    },
    {
     "name": "stdout",
     "output_type": "stream",
     "text": [
      "Epoch 059: | Training Loss: 0.30489199340868595 | Validation Loss: 0.7298894904622244\n"
     ]
    },
    {
     "name": "stderr",
     "output_type": "stream",
     "text": [
      " 75%|█████████████████████████████████████████████████████████████▌                    | 60/80 [14:33<04:57, 14.89s/it]"
     ]
    },
    {
     "name": "stdout",
     "output_type": "stream",
     "text": [
      "Epoch 060: | Training Loss: 0.2741278049681598 | Validation Loss: 0.6969376682141505\n"
     ]
    },
    {
     "name": "stderr",
     "output_type": "stream",
     "text": [
      " 76%|██████████████████████████████████████████████████████████████▌                   | 61/80 [14:49<04:44, 14.96s/it]"
     ]
    },
    {
     "name": "stdout",
     "output_type": "stream",
     "text": [
      "Epoch 061: | Training Loss: 0.3007917523125341 | Validation Loss: 0.6732748889048165\n"
     ]
    },
    {
     "name": "stderr",
     "output_type": "stream",
     "text": [
      " 78%|███████████████████████████████████████████████████████████████▌                  | 62/80 [15:03<04:26, 14.81s/it]"
     ]
    },
    {
     "name": "stdout",
     "output_type": "stream",
     "text": [
      "Epoch 062: | Training Loss: 0.25838192123101605 | Validation Loss: 0.6938682718014498\n"
     ]
    },
    {
     "name": "stderr",
     "output_type": "stream",
     "text": [
      " 79%|████████████████████████████████████████████████████████████████▌                 | 63/80 [15:18<04:10, 14.74s/it]"
     ]
    },
    {
     "name": "stdout",
     "output_type": "stream",
     "text": [
      "Epoch 063: | Training Loss: 0.27419574023723847 | Validation Loss: 0.7086837704575389\n"
     ]
    },
    {
     "name": "stderr",
     "output_type": "stream",
     "text": [
      " 80%|█████████████████████████████████████████████████████████████████▌                | 64/80 [15:32<03:55, 14.69s/it]"
     ]
    },
    {
     "name": "stdout",
     "output_type": "stream",
     "text": [
      "Epoch 064: | Training Loss: 0.269672910076879 | Validation Loss: 0.669672719245657\n"
     ]
    },
    {
     "name": "stderr",
     "output_type": "stream",
     "text": [
      " 81%|██████████████████████████████████████████████████████████████████▋               | 65/80 [15:47<03:40, 14.67s/it]"
     ]
    },
    {
     "name": "stdout",
     "output_type": "stream",
     "text": [
      "Epoch 065: | Training Loss: 0.28167364665661937 | Validation Loss: 0.7251566097550436\n"
     ]
    },
    {
     "name": "stderr",
     "output_type": "stream",
     "text": [
      " 82%|███████████████████████████████████████████████████████████████████▋              | 66/80 [16:01<03:24, 14.59s/it]"
     ]
    },
    {
     "name": "stdout",
     "output_type": "stream",
     "text": [
      "Epoch 066: | Training Loss: 0.2645844205133274 | Validation Loss: 0.6899475051995811\n"
     ]
    },
    {
     "name": "stderr",
     "output_type": "stream",
     "text": [
      " 84%|████████████████████████████████████████████████████████████████████▋             | 67/80 [16:16<03:08, 14.53s/it]"
     ]
    },
    {
     "name": "stdout",
     "output_type": "stream",
     "text": [
      "Epoch 067: | Training Loss: 0.2364246750457842 | Validation Loss: 0.7394115859215412\n"
     ]
    },
    {
     "name": "stderr",
     "output_type": "stream",
     "text": [
      " 85%|█████████████████████████████████████████████████████████████████████▋            | 68/80 [16:30<02:54, 14.53s/it]"
     ]
    },
    {
     "name": "stdout",
     "output_type": "stream",
     "text": [
      "Epoch 068: | Training Loss: 0.23718382592053286 | Validation Loss: 0.7241305305596886\n"
     ]
    },
    {
     "name": "stderr",
     "output_type": "stream",
     "text": [
      " 86%|██████████████████████████████████████████████████████████████████████▋           | 69/80 [16:45<02:41, 14.65s/it]"
     ]
    },
    {
     "name": "stdout",
     "output_type": "stream",
     "text": [
      "Epoch 069: | Training Loss: 0.23225312250779526 | Validation Loss: 0.6962689210515504\n"
     ]
    },
    {
     "name": "stderr",
     "output_type": "stream",
     "text": [
      " 88%|███████████████████████████████████████████████████████████████████████▊          | 70/80 [17:00<02:27, 14.77s/it]"
     ]
    },
    {
     "name": "stdout",
     "output_type": "stream",
     "text": [
      "Epoch 070: | Training Loss: 0.2406433503523058 | Validation Loss: 0.7010301998175612\n"
     ]
    },
    {
     "name": "stderr",
     "output_type": "stream",
     "text": [
      " 89%|████████████████████████████████████████████████████████████████████████▊         | 71/80 [17:15<02:13, 14.81s/it]"
     ]
    },
    {
     "name": "stdout",
     "output_type": "stream",
     "text": [
      "Epoch 071: | Training Loss: 0.20347335293082344 | Validation Loss: 0.7267929203466538\n"
     ]
    },
    {
     "name": "stderr",
     "output_type": "stream",
     "text": [
      " 90%|█████████████████████████████████████████████████████████████████████████▊        | 72/80 [17:30<01:58, 14.81s/it]"
     ]
    },
    {
     "name": "stdout",
     "output_type": "stream",
     "text": [
      "Epoch 072: | Training Loss: 0.2262642210210551 | Validation Loss: 0.7490515263255583\n"
     ]
    },
    {
     "name": "stderr",
     "output_type": "stream",
     "text": [
      " 91%|██████████████████████████████████████████████████████████████████████████▊       | 73/80 [17:45<01:43, 14.76s/it]"
     ]
    },
    {
     "name": "stdout",
     "output_type": "stream",
     "text": [
      "Epoch 073: | Training Loss: 0.238046437132803 | Validation Loss: 0.7525444692427959\n"
     ]
    },
    {
     "name": "stderr",
     "output_type": "stream",
     "text": [
      " 92%|███████████████████████████████████████████████████████████████████████████▊      | 74/80 [17:59<01:28, 14.71s/it]"
     ]
    },
    {
     "name": "stdout",
     "output_type": "stream",
     "text": [
      "Epoch 074: | Training Loss: 0.20242311204502986 | Validation Loss: 0.7191086719068912\n"
     ]
    },
    {
     "name": "stderr",
     "output_type": "stream",
     "text": [
      " 94%|████████████████████████████████████████████████████████████████████████████▉     | 75/80 [18:14<01:13, 14.75s/it]"
     ]
    },
    {
     "name": "stdout",
     "output_type": "stream",
     "text": [
      "Epoch 075: | Training Loss: 0.24793572566901032 | Validation Loss: 0.7030651677365697\n"
     ]
    },
    {
     "name": "stderr",
     "output_type": "stream",
     "text": [
      " 95%|█████████████████████████████████████████████████████████████████████████████▉    | 76/80 [18:29<00:58, 14.73s/it]"
     ]
    },
    {
     "name": "stdout",
     "output_type": "stream",
     "text": [
      "Epoch 076: | Training Loss: 0.17287685286036794 | Validation Loss: 0.8039891013038267\n"
     ]
    },
    {
     "name": "stderr",
     "output_type": "stream",
     "text": [
      " 96%|██████████████████████████████████████████████████████████████████████████████▉   | 77/80 [18:43<00:43, 14.62s/it]"
     ]
    },
    {
     "name": "stdout",
     "output_type": "stream",
     "text": [
      "Epoch 077: | Training Loss: 0.21795037417721091 | Validation Loss: 0.7356063076935777\n"
     ]
    },
    {
     "name": "stderr",
     "output_type": "stream",
     "text": [
      " 98%|███████████████████████████████████████████████████████████████████████████████▉  | 78/80 [18:57<00:29, 14.51s/it]"
     ]
    },
    {
     "name": "stdout",
     "output_type": "stream",
     "text": [
      "Epoch 078: | Training Loss: 0.1942069430067846 | Validation Loss: 0.7456264307192706\n"
     ]
    },
    {
     "name": "stderr",
     "output_type": "stream",
     "text": [
      " 99%|████████████████████████████████████████████████████████████████████████████████▉ | 79/80 [19:12<00:14, 14.55s/it]"
     ]
    },
    {
     "name": "stdout",
     "output_type": "stream",
     "text": [
      "Epoch 079: | Training Loss: 0.2112284858689184 | Validation Loss: 0.7131978606959002\n"
     ]
    },
    {
     "name": "stderr",
     "output_type": "stream",
     "text": [
      "100%|██████████████████████████████████████████████████████████████████████████████████| 80/80 [19:27<00:00, 14.60s/it]"
     ]
    },
    {
     "name": "stdout",
     "output_type": "stream",
     "text": [
      "Epoch 080: | Training Loss: 0.1710324375029269 | Validation Loss: 0.7243580324660748\n"
     ]
    },
    {
     "name": "stderr",
     "output_type": "stream",
     "text": [
      "\n"
     ]
    }
   ],
   "source": [
    "trainer.train(dataloader_train, dataloader_val, batch_size=batch_size, n_epochs=n_epochs)"
   ]
  },
  {
   "cell_type": "markdown",
   "id": "773b1049-aad4-457d-ba98-a4e523b08888",
   "metadata": {},
   "source": [
    "<h3>Evaluation</h3>"
   ]
  },
  {
   "cell_type": "code",
   "execution_count": 24,
   "id": "a3a6e9c5-755e-4e2a-9a03-41c5e490c051",
   "metadata": {},
   "outputs": [],
   "source": [
    "torch.cuda.empty_cache()\n",
    "x_batch, y_batch = dataset_val[0:10000]\n",
    "# to do : convert x_batch to tensor and send to gpu \n",
    "x_batch = torch.tensor(x_batch, device=torch.device(\"cuda:0\"))\n",
    "y_pred = trainer.network(x_batch)\n",
    "y_pred = F.softmax(y_pred, dim=1)\n",
    "# to do : convert to np array and vstack it to y_pred\n",
    "y_pred = y_pred.detach().cpu().numpy()\n",
    "y_pred = np.argmax(y_pred, axis=1)\n",
    "dic = {\"y_pred\": y_pred, \"y_true\": y_batch}\n",
    "\n",
    "df = pd.DataFrame(dic)"
   ]
  },
  {
   "cell_type": "code",
   "execution_count": 25,
   "id": "f1b45cc3-b4b8-40cc-8885-a35128d2ced6",
   "metadata": {},
   "outputs": [
    {
     "data": {
      "text/html": [
       "<div>\n",
       "<style scoped>\n",
       "    .dataframe tbody tr th:only-of-type {\n",
       "        vertical-align: middle;\n",
       "    }\n",
       "\n",
       "    .dataframe tbody tr th {\n",
       "        vertical-align: top;\n",
       "    }\n",
       "\n",
       "    .dataframe thead th {\n",
       "        text-align: right;\n",
       "    }\n",
       "</style>\n",
       "<table border=\"1\" class=\"dataframe\">\n",
       "  <thead>\n",
       "    <tr style=\"text-align: right;\">\n",
       "      <th></th>\n",
       "      <th>y_pred</th>\n",
       "      <th>y_true</th>\n",
       "    </tr>\n",
       "  </thead>\n",
       "  <tbody>\n",
       "    <tr>\n",
       "      <th>0</th>\n",
       "      <td>2</td>\n",
       "      <td>2</td>\n",
       "    </tr>\n",
       "    <tr>\n",
       "      <th>1</th>\n",
       "      <td>1</td>\n",
       "      <td>1</td>\n",
       "    </tr>\n",
       "    <tr>\n",
       "      <th>2</th>\n",
       "      <td>2</td>\n",
       "      <td>2</td>\n",
       "    </tr>\n",
       "    <tr>\n",
       "      <th>3</th>\n",
       "      <td>6</td>\n",
       "      <td>6</td>\n",
       "    </tr>\n",
       "    <tr>\n",
       "      <th>4</th>\n",
       "      <td>8</td>\n",
       "      <td>8</td>\n",
       "    </tr>\n",
       "    <tr>\n",
       "      <th>...</th>\n",
       "      <td>...</td>\n",
       "      <td>...</td>\n",
       "    </tr>\n",
       "    <tr>\n",
       "      <th>6951</th>\n",
       "      <td>3</td>\n",
       "      <td>3</td>\n",
       "    </tr>\n",
       "    <tr>\n",
       "      <th>6952</th>\n",
       "      <td>5</td>\n",
       "      <td>5</td>\n",
       "    </tr>\n",
       "    <tr>\n",
       "      <th>6953</th>\n",
       "      <td>2</td>\n",
       "      <td>0</td>\n",
       "    </tr>\n",
       "    <tr>\n",
       "      <th>6954</th>\n",
       "      <td>2</td>\n",
       "      <td>2</td>\n",
       "    </tr>\n",
       "    <tr>\n",
       "      <th>6955</th>\n",
       "      <td>0</td>\n",
       "      <td>0</td>\n",
       "    </tr>\n",
       "  </tbody>\n",
       "</table>\n",
       "<p>6956 rows × 2 columns</p>\n",
       "</div>"
      ],
      "text/plain": [
       "      y_pred  y_true\n",
       "0          2       2\n",
       "1          1       1\n",
       "2          2       2\n",
       "3          6       6\n",
       "4          8       8\n",
       "...      ...     ...\n",
       "6951       3       3\n",
       "6952       5       5\n",
       "6953       2       0\n",
       "6954       2       2\n",
       "6955       0       0\n",
       "\n",
       "[6956 rows x 2 columns]"
      ]
     },
     "execution_count": 25,
     "metadata": {},
     "output_type": "execute_result"
    }
   ],
   "source": [
    "df"
   ]
  },
  {
   "cell_type": "code",
   "execution_count": 37,
   "id": "d90d5fd6-27a9-423a-a6c9-3f883c502ab6",
   "metadata": {},
   "outputs": [
    {
     "name": "stdout",
     "output_type": "stream",
     "text": [
      " Accuracy: 0.8494824611845888\n"
     ]
    }
   ],
   "source": [
    "print(f' Accuracy: {sum(df[\"y_pred\"] == df[\"y_true\"])/6956}')"
   ]
  },
  {
   "cell_type": "code",
   "execution_count": 33,
   "id": "59cbd3fa-ed14-4994-a189-facce53fd58f",
   "metadata": {},
   "outputs": [],
   "source": [
    "dir_save = '../models/'\n",
    "trainer.save(dir_save + 'lstm1.pth')# model trained on replicated dataset"
   ]
  },
  {
   "cell_type": "markdown",
   "id": "63030266-017e-4a9c-9b82-5ccb96c24af7",
   "metadata": {},
   "source": [
    "<h3>Plots & Evaluation</h3>"
   ]
  },
  {
   "cell_type": "code",
   "execution_count": 28,
   "id": "65a18d77-63d0-4ba4-815c-8299a49a60ba",
   "metadata": {},
   "outputs": [],
   "source": [
    "import sklearn.metrics"
   ]
  },
  {
   "cell_type": "code",
   "execution_count": 29,
   "id": "e5fe7023-e147-443c-a5c3-9ccc8fc65d0c",
   "metadata": {},
   "outputs": [
    {
     "data": {
      "text/plain": [
       "[<matplotlib.lines.Line2D at 0x1658ec24af0>]"
      ]
     },
     "execution_count": 29,
     "metadata": {},
     "output_type": "execute_result"
    },
    {
     "data": {
      "image/png": "[encoded data removed]",
      "text/plain": [
       "<Figure size 432x288 with 1 Axes>"
      ]
     },
     "metadata": {
      "needs_background": "light"
     },
     "output_type": "display_data"
    }
   ],
   "source": [
    "plt.plot(trainer.loss_history[0])\n",
    "plt.plot(trainer.loss_history[1])"
   ]
  },
  {
   "cell_type": "markdown",
   "id": "35131aa8-6019-40f1-9e53-08aaadc66753",
   "metadata": {},
   "source": [
    "Overfitting seems to occur ~60 epochs"
   ]
  },
  {
   "cell_type": "code",
   "execution_count": 30,
   "id": "2afe7929-ba69-4a94-8936-11934607be75",
   "metadata": {},
   "outputs": [
    {
     "data": {
      "text/html": [
       "<div>\n",
       "<style scoped>\n",
       "    .dataframe tbody tr th:only-of-type {\n",
       "        vertical-align: middle;\n",
       "    }\n",
       "\n",
       "    .dataframe tbody tr th {\n",
       "        vertical-align: top;\n",
       "    }\n",
       "\n",
       "    .dataframe thead th {\n",
       "        text-align: right;\n",
       "    }\n",
       "</style>\n",
       "<table border=\"1\" class=\"dataframe\">\n",
       "  <thead>\n",
       "    <tr style=\"text-align: right;\">\n",
       "      <th></th>\n",
       "      <th>precision</th>\n",
       "      <th>recall</th>\n",
       "      <th>f1-score</th>\n",
       "      <th>support</th>\n",
       "    </tr>\n",
       "  </thead>\n",
       "  <tbody>\n",
       "    <tr>\n",
       "      <th>TNF</th>\n",
       "      <td>0.843707</td>\n",
       "      <td>0.776081</td>\n",
       "      <td>0.808482</td>\n",
       "      <td>786.000000</td>\n",
       "    </tr>\n",
       "    <tr>\n",
       "      <th>R84</th>\n",
       "      <td>0.877688</td>\n",
       "      <td>0.843669</td>\n",
       "      <td>0.860343</td>\n",
       "      <td>774.000000</td>\n",
       "    </tr>\n",
       "    <tr>\n",
       "      <th>PIC</th>\n",
       "      <td>0.878628</td>\n",
       "      <td>0.893960</td>\n",
       "      <td>0.886228</td>\n",
       "      <td>745.000000</td>\n",
       "    </tr>\n",
       "    <tr>\n",
       "      <th>P3K</th>\n",
       "      <td>0.826031</td>\n",
       "      <td>0.858099</td>\n",
       "      <td>0.841760</td>\n",
       "      <td>747.000000</td>\n",
       "    </tr>\n",
       "    <tr>\n",
       "      <th>FLA</th>\n",
       "      <td>0.766332</td>\n",
       "      <td>0.798429</td>\n",
       "      <td>0.782051</td>\n",
       "      <td>764.000000</td>\n",
       "    </tr>\n",
       "    <tr>\n",
       "      <th>CpG</th>\n",
       "      <td>0.826297</td>\n",
       "      <td>0.824308</td>\n",
       "      <td>0.825301</td>\n",
       "      <td>831.000000</td>\n",
       "    </tr>\n",
       "    <tr>\n",
       "      <th>FSL</th>\n",
       "      <td>0.804668</td>\n",
       "      <td>0.849546</td>\n",
       "      <td>0.826498</td>\n",
       "      <td>771.000000</td>\n",
       "    </tr>\n",
       "    <tr>\n",
       "      <th>LPS</th>\n",
       "      <td>0.847594</td>\n",
       "      <td>0.809706</td>\n",
       "      <td>0.828217</td>\n",
       "      <td>783.000000</td>\n",
       "    </tr>\n",
       "    <tr>\n",
       "      <th>UST</th>\n",
       "      <td>0.983073</td>\n",
       "      <td>1.000000</td>\n",
       "      <td>0.991464</td>\n",
       "      <td>755.000000</td>\n",
       "    </tr>\n",
       "    <tr>\n",
       "      <th>accuracy</th>\n",
       "      <td>0.849482</td>\n",
       "      <td>0.849482</td>\n",
       "      <td>0.849482</td>\n",
       "      <td>0.849482</td>\n",
       "    </tr>\n",
       "    <tr>\n",
       "      <th>macro avg</th>\n",
       "      <td>0.850446</td>\n",
       "      <td>0.850422</td>\n",
       "      <td>0.850038</td>\n",
       "      <td>6956.000000</td>\n",
       "    </tr>\n",
       "    <tr>\n",
       "      <th>weighted avg</th>\n",
       "      <td>0.849989</td>\n",
       "      <td>0.849482</td>\n",
       "      <td>0.849338</td>\n",
       "      <td>6956.000000</td>\n",
       "    </tr>\n",
       "  </tbody>\n",
       "</table>\n",
       "</div>"
      ],
      "text/plain": [
       "              precision    recall  f1-score      support\n",
       "TNF            0.843707  0.776081  0.808482   786.000000\n",
       "R84            0.877688  0.843669  0.860343   774.000000\n",
       "PIC            0.878628  0.893960  0.886228   745.000000\n",
       "P3K            0.826031  0.858099  0.841760   747.000000\n",
       "FLA            0.766332  0.798429  0.782051   764.000000\n",
       "CpG            0.826297  0.824308  0.825301   831.000000\n",
       "FSL            0.804668  0.849546  0.826498   771.000000\n",
       "LPS            0.847594  0.809706  0.828217   783.000000\n",
       "UST            0.983073  1.000000  0.991464   755.000000\n",
       "accuracy       0.849482  0.849482  0.849482     0.849482\n",
       "macro avg      0.850446  0.850422  0.850038  6956.000000\n",
       "weighted avg   0.849989  0.849482  0.849338  6956.000000"
      ]
     },
     "execution_count": 30,
     "metadata": {},
     "output_type": "execute_result"
    }
   ],
   "source": [
    "report = sklearn.metrics.classification_report(dic[\"y_true\"], dic[\"y_pred\"], target_names=ligands, output_dict=True)\n",
    "rep = pd.DataFrame(report).transpose()\n",
    "rep"
   ]
  },
  {
   "cell_type": "code",
   "execution_count": 31,
   "id": "b09a8e75-069d-4eb4-8f1b-e0de609d47fd",
   "metadata": {},
   "outputs": [],
   "source": [
    "confusion = sklearn.metrics.confusion_matrix(dic[\"y_true\"], dic[\"y_pred\"])\n",
    "confusion = sklearn.metrics.ConfusionMatrixDisplay(confusion)"
   ]
  },
  {
   "cell_type": "code",
   "execution_count": 32,
   "id": "44f20852-6c54-4b02-b9c1-f73c90602576",
   "metadata": {},
   "outputs": [
    {
     "data": {
      "text/plain": [
       "<sklearn.metrics._plot.confusion_matrix.ConfusionMatrixDisplay at 0x165a1c041c0>"
      ]
     },
     "execution_count": 32,
     "metadata": {},
     "output_type": "execute_result"
    },
    {
     "data": {
      "image/png": "[encoded data removed]",
      "text/plain": [
       "<Figure size 432x288 with 2 Axes>"
      ]
     },
     "metadata": {
      "needs_background": "light"
     },
     "output_type": "display_data"
    }
   ],
   "source": [
    "confusion.plot()"
   ]
  }
 ],
 "metadata": {
  "kernelspec": {
   "display_name": "Python 3 (ipykernel)",
   "language": "python",
   "name": "python3"
  },
  "language_info": {
   "codemirror_mode": {
    "name": "ipython",
    "version": 3
   },
   "file_extension": ".py",
   "mimetype": "text/x-python",
   "name": "python",
   "nbconvert_exporter": "python",
   "pygments_lexer": "ipython3",
   "version": "3.8.12"
  }
 },
 "nbformat": 4,
 "nbformat_minor": 5
}
