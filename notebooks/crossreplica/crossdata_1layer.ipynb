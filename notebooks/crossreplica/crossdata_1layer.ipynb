{
 "cells": [
  {
   "cell_type": "code",
   "execution_count": 1,
   "id": "3345819e-150e-41c6-8abe-8a57141af47e",
   "metadata": {},
   "outputs": [],
   "source": [
    "import sys\n",
    "sys.path.append('..')"
   ]
  },
  {
   "cell_type": "code",
   "execution_count": 2,
   "id": "2fd53b3c-993d-44e0-b59e-5a9dbed7a054",
   "metadata": {},
   "outputs": [],
   "source": [
    "import torch\n",
    "import pandas as pd\n",
    "import numpy as np\n",
    "import sklearn\n",
    "import matplotlib.pyplot as plt\n",
    "import random\n",
    "import torch.nn as nn\n",
    "import torch.nn.functional as F\n",
    "import seaborn as sns"
   ]
  },
  {
   "cell_type": "code",
   "execution_count": 3,
   "id": "d2247126-4fe0-442e-81e4-b62f214974dc",
   "metadata": {},
   "outputs": [],
   "source": [
    "from core.getdata import *\n",
    "from core.dataset import *\n",
    "from core.dataset2 import * \n",
    "from core.network import *\n",
    "from core.trainer import *\n",
    "from core.visualization import *"
   ]
  },
  {
   "cell_type": "code",
   "execution_count": 4,
   "id": "7d166c53-94cf-408e-8b60-1b0f2cf5836b",
   "metadata": {},
   "outputs": [],
   "source": [
    "from torch.utils.data import Dataset\n",
    "from torchvision import datasets\n",
    "from torchvision.transforms import ToTensor"
   ]
  },
  {
   "cell_type": "code",
   "execution_count": 5,
   "id": "e7d58b41-eada-40bf-bdf4-f78b2d3fa864",
   "metadata": {},
   "outputs": [],
   "source": [
    "ligands = [\"TNF\", \"R84\", \"PIC\", \"P3K\", \"FLA\", \"CpG\", \"FSL\", \"LPS\", \"UST\"]\n",
    "polarization = [\"\", \"ib\", \"ig\", \"i0\", \"i3\", \"i4\"]\n",
    "size = 1288 # replicated"
   ]
  },
  {
   "cell_type": "code",
   "execution_count": 7,
   "id": "2dd25604-f904-4cbe-9dd4-d88f82600eee",
   "metadata": {},
   "outputs": [],
   "source": [
    "data1 = DatasetSplit(ligands, polarization, 1, size)\n",
    "data2 = DatasetSplit(ligands, polarization, 2, size)"
   ]
  },
  {
   "cell_type": "code",
   "execution_count": 11,
   "id": "c899b083-0fa3-4f44-b427-9f3b7b412ea6",
   "metadata": {},
   "outputs": [
    {
     "name": "stdout",
     "output_type": "stream",
     "text": [
      "(69552, 98, 1) (69552, 98, 1)\n"
     ]
    }
   ],
   "source": [
    "print(data1.data.shape, data2.data.shape)"
   ]
  },
  {
   "cell_type": "code",
   "execution_count": 13,
   "id": "c6d32eab-57d0-45a0-928b-44915a7f3ede",
   "metadata": {},
   "outputs": [],
   "source": [
    "train1, test1, val1 = torch.utils.data.random_split(data1, [41732, 13910, 13910])\n",
    "train2, test2, val2 = torch.utils.data.random_split(data2, [41732, 13910, 13910])"
   ]
  },
  {
   "cell_type": "code",
   "execution_count": 14,
   "id": "5e8aa733-e806-4591-9238-e3dfb1478085",
   "metadata": {},
   "outputs": [],
   "source": [
    "trainloader1 = torch.utils.data.DataLoader(train1, batch_size=64, shuffle=True)\n",
    "testloader1 = torch.utils.data.DataLoader(test1, batch_size=64, shuffle=True)\n",
    "valloader1 = torch.utils.data.DataLoader(val1, batch_size=64, shuffle=True)\n",
    "\n",
    "trainloader2 = torch.utils.data.DataLoader(train2, batch_size=64, shuffle=True)\n",
    "testloader2 = torch.utils.data.DataLoader(test2, batch_size=64, shuffle=True)\n",
    "valloader2 = torch.utils.data.DataLoader(val2, batch_size=64, shuffle=True)"
   ]
  },
  {
   "cell_type": "code",
   "execution_count": 17,
   "id": "448c1e4c-619e-494a-8586-7dcf3cd44f1c",
   "metadata": {},
   "outputs": [],
   "source": [
    "# hyperparameters\n",
    "input_size = 1\n",
    "hidden_size = 98\n",
    "output_size = 9\n",
    "\n",
    "lr = 0.001\n",
    "epochs = 70\n",
    "batch_size = 64\n",
    "\n",
    "device = torch.device('cuda')"
   ]
  },
  {
   "cell_type": "code",
   "execution_count": 20,
   "id": "5a23a388-c7b6-4a69-a339-e9399f8b0494",
   "metadata": {},
   "outputs": [],
   "source": [
    "net = LSTM(input_size=input_size, hidden_sizes=hidden_size, output_size=output_size, num_layers=1, device=device)"
   ]
  },
  {
   "cell_type": "code",
   "execution_count": 21,
   "id": "e1eafe21-19a3-4696-a5b4-703f604f51bd",
   "metadata": {},
   "outputs": [
    {
     "data": {
      "text/plain": [
       "LSTM(\n",
       "  (lstm): LSTM(1, 98, batch_first=True)\n",
       "  (fc1): Linear(in_features=98, out_features=9, bias=True)\n",
       ")"
      ]
     },
     "execution_count": 21,
     "metadata": {},
     "output_type": "execute_result"
    }
   ],
   "source": [
    "net.train()"
   ]
  },
  {
   "cell_type": "code",
   "execution_count": 22,
   "id": "64643c7a-19bf-4739-b970-a08da9cb98cc",
   "metadata": {},
   "outputs": [],
   "source": [
    "trainer = LSTMTrainer(model=net, device=device)"
   ]
  },
  {
   "cell_type": "code",
   "execution_count": 24,
   "id": "eee74d59-a016-45be-b810-c2c20c89ec1c",
   "metadata": {
    "scrolled": true,
    "tags": []
   },
   "outputs": [
    {
     "name": "stderr",
     "output_type": "stream",
     "text": [
      "  1%|█▏                                                                                 | 1/70 [00:05<06:30,  5.65s/it]"
     ]
    },
    {
     "name": "stdout",
     "output_type": "stream",
     "text": [
      "Epoch 001: | Training Loss: 2.137444796459963 | Validation Loss: 2.168098649847398\n"
     ]
    },
    {
     "name": "stderr",
     "output_type": "stream",
     "text": [
      "  3%|██▎                                                                                | 2/70 [00:09<05:04,  4.47s/it]"
     ]
    },
    {
     "name": "stdout",
     "output_type": "stream",
     "text": [
      "Epoch 002: | Training Loss: 2.1590850079406456 | Validation Loss: 2.190386620136576\n"
     ]
    },
    {
     "name": "stderr",
     "output_type": "stream",
     "text": [
      "  4%|███▌                                                                               | 3/70 [00:12<04:33,  4.09s/it]"
     ]
    },
    {
     "name": "stdout",
     "output_type": "stream",
     "text": [
      "Epoch 003: | Training Loss: 2.180414212973158 | Validation Loss: 2.18227966116109\n"
     ]
    },
    {
     "name": "stderr",
     "output_type": "stream",
     "text": [
      "  6%|████▋                                                                              | 4/70 [00:16<04:17,  3.90s/it]"
     ]
    },
    {
     "name": "stdout",
     "output_type": "stream",
     "text": [
      "Epoch 004: | Training Loss: 2.149754463439696 | Validation Loss: 2.1075860086931\n"
     ]
    },
    {
     "name": "stderr",
     "output_type": "stream",
     "text": [
      "  7%|█████▉                                                                             | 5/70 [00:20<04:04,  3.75s/it]"
     ]
    },
    {
     "name": "stdout",
     "output_type": "stream",
     "text": [
      "Epoch 005: | Training Loss: 2.116754088248447 | Validation Loss: 2.103407927609365\n"
     ]
    },
    {
     "name": "stderr",
     "output_type": "stream",
     "text": [
      "  9%|███████                                                                            | 6/70 [00:23<03:54,  3.67s/it]"
     ]
    },
    {
     "name": "stdout",
     "output_type": "stream",
     "text": [
      "Epoch 006: | Training Loss: 2.170846912616245 | Validation Loss: 2.178437829017639\n"
     ]
    },
    {
     "name": "stderr",
     "output_type": "stream",
     "text": [
      " 10%|████████▎                                                                          | 7/70 [00:27<03:48,  3.62s/it]"
     ]
    },
    {
     "name": "stdout",
     "output_type": "stream",
     "text": [
      "Epoch 007: | Training Loss: 2.161646833828726 | Validation Loss: 2.1872306471570915\n"
     ]
    },
    {
     "name": "stderr",
     "output_type": "stream",
     "text": [
      " 11%|█████████▍                                                                         | 8/70 [00:30<03:41,  3.58s/it]"
     ]
    },
    {
     "name": "stdout",
     "output_type": "stream",
     "text": [
      "Epoch 008: | Training Loss: 2.1426571038013944 | Validation Loss: 2.128388804033262\n"
     ]
    },
    {
     "name": "stderr",
     "output_type": "stream",
     "text": [
      " 13%|██████████▋                                                                        | 9/70 [00:34<03:36,  3.55s/it]"
     ]
    },
    {
     "name": "stdout",
     "output_type": "stream",
     "text": [
      "Epoch 009: | Training Loss: 2.1016993173961436 | Validation Loss: 2.0999142013558556\n"
     ]
    },
    {
     "name": "stderr",
     "output_type": "stream",
     "text": [
      " 14%|███████████▋                                                                      | 10/70 [00:37<03:31,  3.52s/it]"
     ]
    },
    {
     "name": "stdout",
     "output_type": "stream",
     "text": [
      "Epoch 010: | Training Loss: 1.9815858620779438 | Validation Loss: 1.9274948933802614\n"
     ]
    },
    {
     "name": "stderr",
     "output_type": "stream",
     "text": [
      " 16%|████████████▉                                                                     | 11/70 [00:40<03:27,  3.51s/it]"
     ]
    },
    {
     "name": "stdout",
     "output_type": "stream",
     "text": [
      "Epoch 011: | Training Loss: 1.9105615772843179 | Validation Loss: 1.902728611176167\n"
     ]
    },
    {
     "name": "stderr",
     "output_type": "stream",
     "text": [
      " 17%|██████████████                                                                    | 12/70 [00:44<03:23,  3.50s/it]"
     ]
    },
    {
     "name": "stdout",
     "output_type": "stream",
     "text": [
      "Epoch 012: | Training Loss: 1.8404096863353783 | Validation Loss: 1.7857094631282562\n"
     ]
    },
    {
     "name": "stderr",
     "output_type": "stream",
     "text": [
      " 19%|███████████████▏                                                                  | 13/70 [00:47<03:19,  3.49s/it]"
     ]
    },
    {
     "name": "stdout",
     "output_type": "stream",
     "text": [
      "Epoch 013: | Training Loss: 1.8253783035059252 | Validation Loss: 1.77577518705928\n"
     ]
    },
    {
     "name": "stderr",
     "output_type": "stream",
     "text": [
      " 20%|████████████████▍                                                                 | 14/70 [00:51<03:15,  3.49s/it]"
     ]
    },
    {
     "name": "stdout",
     "output_type": "stream",
     "text": [
      "Epoch 014: | Training Loss: 1.738209199029125 | Validation Loss: 1.6554694427262753\n"
     ]
    },
    {
     "name": "stderr",
     "output_type": "stream",
     "text": [
      " 21%|█████████████████▌                                                                | 15/70 [00:54<03:12,  3.49s/it]"
     ]
    },
    {
     "name": "stdout",
     "output_type": "stream",
     "text": [
      "Epoch 015: | Training Loss: 1.6753832794623207 | Validation Loss: 1.8204521679003305\n"
     ]
    },
    {
     "name": "stderr",
     "output_type": "stream",
     "text": [
      " 23%|██████████████████▋                                                               | 16/70 [00:58<03:08,  3.49s/it]"
     ]
    },
    {
     "name": "stdout",
     "output_type": "stream",
     "text": [
      "Epoch 016: | Training Loss: 1.6940749587910464 | Validation Loss: 1.6594919491251674\n"
     ]
    },
    {
     "name": "stderr",
     "output_type": "stream",
     "text": [
      " 24%|███████████████████▉                                                              | 17/70 [01:01<03:04,  3.49s/it]"
     ]
    },
    {
     "name": "stdout",
     "output_type": "stream",
     "text": [
      "Epoch 017: | Training Loss: 1.623140729587257 | Validation Loss: 1.5746104804747696\n"
     ]
    },
    {
     "name": "stderr",
     "output_type": "stream",
     "text": [
      " 26%|█████████████████████                                                             | 18/70 [01:05<03:02,  3.51s/it]"
     ]
    },
    {
     "name": "stdout",
     "output_type": "stream",
     "text": [
      "Epoch 018: | Training Loss: 1.564843521548997 | Validation Loss: 1.55009683228414\n"
     ]
    },
    {
     "name": "stderr",
     "output_type": "stream",
     "text": [
      " 27%|██████████████████████▎                                                           | 19/70 [01:08<02:58,  3.51s/it]"
     ]
    },
    {
     "name": "stdout",
     "output_type": "stream",
     "text": [
      "Epoch 019: | Training Loss: 1.5317672240971423 | Validation Loss: 1.5195252818798801\n"
     ]
    },
    {
     "name": "stderr",
     "output_type": "stream",
     "text": [
      " 29%|███████████████████████▍                                                          | 20/70 [01:12<02:54,  3.50s/it]"
     ]
    },
    {
     "name": "stdout",
     "output_type": "stream",
     "text": [
      "Epoch 020: | Training Loss: 1.5066200500242926 | Validation Loss: 1.5050773019090704\n"
     ]
    },
    {
     "name": "stderr",
     "output_type": "stream",
     "text": [
      " 30%|████████████████████████▌                                                         | 21/70 [01:15<02:51,  3.50s/it]"
     ]
    },
    {
     "name": "stdout",
     "output_type": "stream",
     "text": [
      "Epoch 021: | Training Loss: 1.4884393405038037 | Validation Loss: 1.482725422316735\n"
     ]
    },
    {
     "name": "stderr",
     "output_type": "stream",
     "text": [
      " 31%|█████████████████████████▊                                                        | 22/70 [01:19<02:47,  3.49s/it]"
     ]
    },
    {
     "name": "stdout",
     "output_type": "stream",
     "text": [
      "Epoch 022: | Training Loss: 1.4673095240527236 | Validation Loss: 1.45096573260946\n"
     ]
    },
    {
     "name": "stderr",
     "output_type": "stream",
     "text": [
      " 33%|██████████████████████████▉                                                       | 23/70 [01:22<02:44,  3.50s/it]"
     ]
    },
    {
     "name": "stdout",
     "output_type": "stream",
     "text": [
      "Epoch 023: | Training Loss: 1.4492843198557177 | Validation Loss: 1.449348298234677\n"
     ]
    },
    {
     "name": "stderr",
     "output_type": "stream",
     "text": [
      " 34%|████████████████████████████                                                      | 24/70 [01:26<02:41,  3.51s/it]"
     ]
    },
    {
     "name": "stdout",
     "output_type": "stream",
     "text": [
      "Epoch 024: | Training Loss: 1.4359754504690125 | Validation Loss: 1.433490787624219\n"
     ]
    },
    {
     "name": "stderr",
     "output_type": "stream",
     "text": [
      " 36%|█████████████████████████████▎                                                    | 25/70 [01:29<02:37,  3.50s/it]"
     ]
    },
    {
     "name": "stdout",
     "output_type": "stream",
     "text": [
      "Epoch 025: | Training Loss: 1.4207647633589062 | Validation Loss: 1.407097895211036\n"
     ]
    },
    {
     "name": "stderr",
     "output_type": "stream",
     "text": [
      " 37%|██████████████████████████████▍                                                   | 26/70 [01:33<02:33,  3.49s/it]"
     ]
    },
    {
     "name": "stdout",
     "output_type": "stream",
     "text": [
      "Epoch 026: | Training Loss: 1.3991740279321832 | Validation Loss: 1.4201403889087363\n"
     ]
    },
    {
     "name": "stderr",
     "output_type": "stream",
     "text": [
      " 39%|███████████████████████████████▋                                                  | 27/70 [01:36<02:30,  3.50s/it]"
     ]
    },
    {
     "name": "stdout",
     "output_type": "stream",
     "text": [
      "Epoch 027: | Training Loss: 1.3888173503130903 | Validation Loss: 1.3978972549832196\n"
     ]
    },
    {
     "name": "stderr",
     "output_type": "stream",
     "text": [
      " 40%|████████████████████████████████▊                                                 | 28/70 [01:40<02:28,  3.53s/it]"
     ]
    },
    {
     "name": "stdout",
     "output_type": "stream",
     "text": [
      "Epoch 028: | Training Loss: 1.376391159721392 | Validation Loss: 1.394659393424288\n"
     ]
    },
    {
     "name": "stderr",
     "output_type": "stream",
     "text": [
      " 41%|█████████████████████████████████▉                                                | 29/70 [01:44<02:24,  3.54s/it]"
     ]
    },
    {
     "name": "stdout",
     "output_type": "stream",
     "text": [
      "Epoch 029: | Training Loss: 1.3603297102323535 | Validation Loss: 1.3916467034488642\n"
     ]
    },
    {
     "name": "stderr",
     "output_type": "stream",
     "text": [
      " 43%|███████████████████████████████████▏                                              | 30/70 [01:47<02:20,  3.52s/it]"
     ]
    },
    {
     "name": "stdout",
     "output_type": "stream",
     "text": [
      "Epoch 030: | Training Loss: 1.3503067665954462 | Validation Loss: 1.3534426544237574\n"
     ]
    },
    {
     "name": "stderr",
     "output_type": "stream",
     "text": [
      " 44%|████████████████████████████████████▎                                             | 31/70 [01:50<02:16,  3.50s/it]"
     ]
    },
    {
     "name": "stdout",
     "output_type": "stream",
     "text": [
      "Epoch 031: | Training Loss: 1.335279548241205 | Validation Loss: 1.364266674999797\n"
     ]
    },
    {
     "name": "stderr",
     "output_type": "stream",
     "text": [
      " 46%|█████████████████████████████████████▍                                            | 32/70 [01:54<02:12,  3.49s/it]"
     ]
    },
    {
     "name": "stdout",
     "output_type": "stream",
     "text": [
      "Epoch 032: | Training Loss: 1.3186377992491263 | Validation Loss: 1.344206864407303\n"
     ]
    },
    {
     "name": "stderr",
     "output_type": "stream",
     "text": [
      " 47%|██████████████████████████████████████▋                                           | 33/70 [01:57<02:08,  3.49s/it]"
     ]
    },
    {
     "name": "stdout",
     "output_type": "stream",
     "text": [
      "Epoch 033: | Training Loss: 1.3082068633248212 | Validation Loss: 1.3288488297834309\n"
     ]
    },
    {
     "name": "stderr",
     "output_type": "stream",
     "text": [
      " 49%|███████████████████████████████████████▊                                          | 34/70 [02:01<02:05,  3.49s/it]"
     ]
    },
    {
     "name": "stdout",
     "output_type": "stream",
     "text": [
      "Epoch 034: | Training Loss: 1.2951361361725588 | Validation Loss: 1.3193191779316018\n"
     ]
    },
    {
     "name": "stderr",
     "output_type": "stream",
     "text": [
      " 50%|█████████████████████████████████████████                                         | 35/70 [02:04<02:02,  3.49s/it]"
     ]
    },
    {
     "name": "stdout",
     "output_type": "stream",
     "text": [
      "Epoch 035: | Training Loss: 1.2811273521705207 | Validation Loss: 1.3166293496385626\n"
     ]
    },
    {
     "name": "stderr",
     "output_type": "stream",
     "text": [
      " 51%|██████████████████████████████████████████▏                                       | 36/70 [02:08<01:58,  3.49s/it]"
     ]
    },
    {
     "name": "stdout",
     "output_type": "stream",
     "text": [
      "Epoch 036: | Training Loss: 1.2776099508243168 | Validation Loss: 1.3423236146432544\n"
     ]
    },
    {
     "name": "stderr",
     "output_type": "stream",
     "text": [
      " 53%|███████████████████████████████████████████▎                                      | 37/70 [02:11<01:55,  3.49s/it]"
     ]
    },
    {
     "name": "stdout",
     "output_type": "stream",
     "text": [
      "Epoch 037: | Training Loss: 1.2580991432549942 | Validation Loss: 1.2862466858067643\n"
     ]
    },
    {
     "name": "stderr",
     "output_type": "stream",
     "text": [
      " 54%|████████████████████████████████████████████▌                                     | 38/70 [02:15<01:52,  3.52s/it]"
     ]
    },
    {
     "name": "stdout",
     "output_type": "stream",
     "text": [
      "Epoch 038: | Training Loss: 1.2500440256518939 | Validation Loss: 1.2856410408238752\n"
     ]
    },
    {
     "name": "stderr",
     "output_type": "stream",
     "text": [
      " 56%|█████████████████████████████████████████████▋                                    | 39/70 [02:19<01:50,  3.56s/it]"
     ]
    },
    {
     "name": "stdout",
     "output_type": "stream",
     "text": [
      "Epoch 039: | Training Loss: 1.2426897541122086 | Validation Loss: 1.2714506508013523\n"
     ]
    },
    {
     "name": "stderr",
     "output_type": "stream",
     "text": [
      " 57%|██████████████████████████████████████████████▊                                   | 40/70 [02:22<01:46,  3.54s/it]"
     ]
    },
    {
     "name": "stdout",
     "output_type": "stream",
     "text": [
      "Epoch 040: | Training Loss: 1.234358679919659 | Validation Loss: 1.3033762883155717\n"
     ]
    },
    {
     "name": "stderr",
     "output_type": "stream",
     "text": [
      " 59%|████████████████████████████████████████████████                                  | 41/70 [02:26<01:42,  3.53s/it]"
     ]
    },
    {
     "name": "stdout",
     "output_type": "stream",
     "text": [
      "Epoch 041: | Training Loss: 1.2189324882457668 | Validation Loss: 1.2753329082913356\n"
     ]
    },
    {
     "name": "stderr",
     "output_type": "stream",
     "text": [
      " 60%|█████████████████████████████████████████████████▏                                | 42/70 [02:29<01:38,  3.52s/it]"
     ]
    },
    {
     "name": "stdout",
     "output_type": "stream",
     "text": [
      "Epoch 042: | Training Loss: 1.2110062605754157 | Validation Loss: 1.271953279272132\n"
     ]
    },
    {
     "name": "stderr",
     "output_type": "stream",
     "text": [
      " 61%|██████████████████████████████████████████████████▎                               | 43/70 [02:33<01:34,  3.51s/it]"
     ]
    },
    {
     "name": "stdout",
     "output_type": "stream",
     "text": [
      "Epoch 043: | Training Loss: 1.1929323988157976 | Validation Loss: 1.2590032878818862\n"
     ]
    },
    {
     "name": "stderr",
     "output_type": "stream",
     "text": [
      " 63%|███████████████████████████████████████████████████▌                              | 44/70 [02:36<01:31,  3.52s/it]"
     ]
    },
    {
     "name": "stdout",
     "output_type": "stream",
     "text": [
      "Epoch 044: | Training Loss: 1.1968675468453587 | Validation Loss: 1.25511068406455\n"
     ]
    },
    {
     "name": "stderr",
     "output_type": "stream",
     "text": [
      " 64%|████████████████████████████████████████████████████▋                             | 45/70 [02:40<01:27,  3.51s/it]"
     ]
    },
    {
     "name": "stdout",
     "output_type": "stream",
     "text": [
      "Epoch 045: | Training Loss: 1.1837084637484179 | Validation Loss: 1.2515790066040984\n"
     ]
    },
    {
     "name": "stderr",
     "output_type": "stream",
     "text": [
      " 66%|█████████████████████████████████████████████████████▉                            | 46/70 [02:43<01:24,  3.51s/it]"
     ]
    },
    {
     "name": "stdout",
     "output_type": "stream",
     "text": [
      "Epoch 046: | Training Loss: 1.170256748316299 | Validation Loss: 1.252832974589199\n"
     ]
    },
    {
     "name": "stderr",
     "output_type": "stream",
     "text": [
      " 67%|███████████████████████████████████████████████████████                           | 47/70 [02:47<01:21,  3.53s/it]"
     ]
    },
    {
     "name": "stdout",
     "output_type": "stream",
     "text": [
      "Epoch 047: | Training Loss: 1.1644207051117972 | Validation Loss: 1.2309721355591345\n"
     ]
    },
    {
     "name": "stderr",
     "output_type": "stream",
     "text": [
      " 69%|████████████████████████████████████████████████████████▏                         | 48/70 [02:50<01:17,  3.51s/it]"
     ]
    },
    {
     "name": "stdout",
     "output_type": "stream",
     "text": [
      "Epoch 048: | Training Loss: 1.149696634702989 | Validation Loss: 1.2220506009158738\n"
     ]
    },
    {
     "name": "stderr",
     "output_type": "stream",
     "text": [
      " 70%|█████████████████████████████████████████████████████████▍                        | 49/70 [02:54<01:13,  3.51s/it]"
     ]
    },
    {
     "name": "stdout",
     "output_type": "stream",
     "text": [
      "Epoch 049: | Training Loss: 1.157230449398298 | Validation Loss: 1.2288237148468648\n"
     ]
    },
    {
     "name": "stderr",
     "output_type": "stream",
     "text": [
      " 71%|██████████████████████████████████████████████████████████▌                       | 50/70 [02:57<01:10,  3.51s/it]"
     ]
    },
    {
     "name": "stdout",
     "output_type": "stream",
     "text": [
      "Epoch 050: | Training Loss: 1.1352172424563223 | Validation Loss: 1.2490623276168054\n"
     ]
    },
    {
     "name": "stderr",
     "output_type": "stream",
     "text": [
      " 73%|███████████████████████████████████████████████████████████▋                      | 51/70 [03:01<01:06,  3.52s/it]"
     ]
    },
    {
     "name": "stdout",
     "output_type": "stream",
     "text": [
      "Epoch 051: | Training Loss: 1.13256685383287 | Validation Loss: 1.221080060125491\n"
     ]
    },
    {
     "name": "stderr",
     "output_type": "stream",
     "text": [
      " 74%|████████████████████████████████████████████████████████████▉                     | 52/70 [03:04<01:03,  3.52s/it]"
     ]
    },
    {
     "name": "stdout",
     "output_type": "stream",
     "text": [
      "Epoch 052: | Training Loss: 1.125839919810273 | Validation Loss: 1.243158789402848\n"
     ]
    },
    {
     "name": "stderr",
     "output_type": "stream",
     "text": [
      " 76%|██████████████████████████████████████████████████████████████                    | 53/70 [03:08<01:00,  3.53s/it]"
     ]
    },
    {
     "name": "stdout",
     "output_type": "stream",
     "text": [
      "Epoch 053: | Training Loss: 1.1261466046935018 | Validation Loss: 1.2068693440988523\n"
     ]
    },
    {
     "name": "stderr",
     "output_type": "stream",
     "text": [
      " 77%|███████████████████████████████████████████████████████████████▎                  | 54/70 [03:11<00:56,  3.55s/it]"
     ]
    },
    {
     "name": "stdout",
     "output_type": "stream",
     "text": [
      "Epoch 054: | Training Loss: 1.1109363356374125 | Validation Loss: 1.2229846685851387\n"
     ]
    },
    {
     "name": "stderr",
     "output_type": "stream",
     "text": [
      " 79%|████████████████████████████████████████████████████████████████▍                 | 55/70 [03:15<00:53,  3.56s/it]"
     ]
    },
    {
     "name": "stdout",
     "output_type": "stream",
     "text": [
      "Epoch 055: | Training Loss: 1.106863486821582 | Validation Loss: 1.1949701500595162\n"
     ]
    },
    {
     "name": "stderr",
     "output_type": "stream",
     "text": [
      " 80%|█████████████████████████████████████████████████████████████████▌                | 56/70 [03:19<00:49,  3.55s/it]"
     ]
    },
    {
     "name": "stdout",
     "output_type": "stream",
     "text": [
      "Epoch 056: | Training Loss: 1.1064192378867823 | Validation Loss: 1.1911269070905284\n"
     ]
    },
    {
     "name": "stderr",
     "output_type": "stream",
     "text": [
      " 81%|██████████████████████████████████████████████████████████████████▊               | 57/70 [03:22<00:46,  3.54s/it]"
     ]
    },
    {
     "name": "stdout",
     "output_type": "stream",
     "text": [
      "Epoch 057: | Training Loss: 1.0833870759419242 | Validation Loss: 1.2019695111917794\n"
     ]
    },
    {
     "name": "stderr",
     "output_type": "stream",
     "text": [
      " 83%|███████████████████████████████████████████████████████████████████▉              | 58/70 [03:26<00:42,  3.54s/it]"
     ]
    },
    {
     "name": "stdout",
     "output_type": "stream",
     "text": [
      "Epoch 058: | Training Loss: 1.0892695173917832 | Validation Loss: 1.1891959306843785\n"
     ]
    },
    {
     "name": "stderr",
     "output_type": "stream",
     "text": [
      " 84%|█████████████████████████████████████████████████████████████████████             | 59/70 [03:29<00:38,  3.53s/it]"
     ]
    },
    {
     "name": "stdout",
     "output_type": "stream",
     "text": [
      "Epoch 059: | Training Loss: 1.0786734115657544 | Validation Loss: 1.186959140891329\n"
     ]
    },
    {
     "name": "stderr",
     "output_type": "stream",
     "text": [
      " 86%|██████████████████████████████████████████████████████████████████████▎           | 60/70 [03:33<00:35,  3.53s/it]"
     ]
    },
    {
     "name": "stdout",
     "output_type": "stream",
     "text": [
      "Epoch 060: | Training Loss: 1.0656434317642842 | Validation Loss: 1.1982451283603632\n"
     ]
    },
    {
     "name": "stderr",
     "output_type": "stream",
     "text": [
      " 87%|███████████████████████████████████████████████████████████████████████▍          | 61/70 [03:36<00:31,  3.54s/it]"
     ]
    },
    {
     "name": "stdout",
     "output_type": "stream",
     "text": [
      "Epoch 061: | Training Loss: 1.0615781123933894 | Validation Loss: 1.2000198829064674\n"
     ]
    },
    {
     "name": "stderr",
     "output_type": "stream",
     "text": [
      " 89%|████████████████████████████████████████████████████████████████████████▋         | 62/70 [03:40<00:28,  3.54s/it]"
     ]
    },
    {
     "name": "stdout",
     "output_type": "stream",
     "text": [
      "Epoch 062: | Training Loss: 1.0765676645370938 | Validation Loss: 1.2028493126597972\n"
     ]
    },
    {
     "name": "stderr",
     "output_type": "stream",
     "text": [
      " 90%|█████████████████████████████████████████████████████████████████████████▊        | 63/70 [03:43<00:24,  3.54s/it]"
     ]
    },
    {
     "name": "stdout",
     "output_type": "stream",
     "text": [
      "Epoch 063: | Training Loss: 1.0386694220178525 | Validation Loss: 1.1752406219276814\n"
     ]
    },
    {
     "name": "stderr",
     "output_type": "stream",
     "text": [
      " 91%|██████████████████████████████████████████████████████████████████████████▉       | 64/70 [03:47<00:21,  3.53s/it]"
     ]
    },
    {
     "name": "stdout",
     "output_type": "stream",
     "text": [
      "Epoch 064: | Training Loss: 1.0376015402273964 | Validation Loss: 1.1891227498513843\n"
     ]
    },
    {
     "name": "stderr",
     "output_type": "stream",
     "text": [
      " 93%|████████████████████████████████████████████████████████████████████████████▏     | 65/70 [03:50<00:17,  3.54s/it]"
     ]
    },
    {
     "name": "stdout",
     "output_type": "stream",
     "text": [
      "Epoch 065: | Training Loss: 1.0419464837902355 | Validation Loss: 1.1994705085360675\n"
     ]
    },
    {
     "name": "stderr",
     "output_type": "stream",
     "text": [
      " 94%|█████████████████████████████████████████████████████████████████████████████▎    | 66/70 [03:54<00:14,  3.55s/it]"
     ]
    },
    {
     "name": "stdout",
     "output_type": "stream",
     "text": [
      "Epoch 066: | Training Loss: 1.0290272336276347 | Validation Loss: 1.1637062938935165\n"
     ]
    },
    {
     "name": "stderr",
     "output_type": "stream",
     "text": [
      " 96%|██████████████████████████████████████████████████████████████████████████████▍   | 67/70 [03:57<00:10,  3.54s/it]"
     ]
    },
    {
     "name": "stdout",
     "output_type": "stream",
     "text": [
      "Epoch 067: | Training Loss: 1.0198943958165634 | Validation Loss: 1.1890016542662174\n"
     ]
    },
    {
     "name": "stderr",
     "output_type": "stream",
     "text": [
      " 97%|███████████████████████████████████████████████████████████████████████████████▋  | 68/70 [04:01<00:07,  3.52s/it]"
     ]
    },
    {
     "name": "stdout",
     "output_type": "stream",
     "text": [
      "Epoch 068: | Training Loss: 1.0182772099880493 | Validation Loss: 1.1654155678158507\n"
     ]
    },
    {
     "name": "stderr",
     "output_type": "stream",
     "text": [
      " 99%|████████████████████████████████████████████████████████████████████████████████▊ | 69/70 [04:04<00:03,  3.51s/it]"
     ]
    },
    {
     "name": "stdout",
     "output_type": "stream",
     "text": [
      "Epoch 069: | Training Loss: 1.0182393617688423 | Validation Loss: 1.1624135921854493\n"
     ]
    },
    {
     "name": "stderr",
     "output_type": "stream",
     "text": [
      "100%|██████████████████████████████████████████████████████████████████████████████████| 70/70 [04:08<00:00,  3.55s/it]"
     ]
    },
    {
     "name": "stdout",
     "output_type": "stream",
     "text": [
      "Epoch 070: | Training Loss: 1.003979698987321 | Validation Loss: 1.1570077308821023\n"
     ]
    },
    {
     "name": "stderr",
     "output_type": "stream",
     "text": [
      "\n"
     ]
    }
   ],
   "source": [
    "trainer.train(trainloader1, valloader1, batch_size=batch_size, n_epochs=epochs)"
   ]
  },
  {
   "cell_type": "code",
   "execution_count": 25,
   "id": "ae5cd5b4-422d-4d62-a720-ae1b4ddf0280",
   "metadata": {},
   "outputs": [
    {
     "data": {
      "text/plain": [
       "[<matplotlib.lines.Line2D at 0x22981d21b80>]"
      ]
     },
     "execution_count": 25,
     "metadata": {},
     "output_type": "execute_result"
    },
    {
     "data": {
      "image/png": "[encoded data removed]",
      "text/plain": [
       "<Figure size 432x288 with 1 Axes>"
      ]
     },
     "metadata": {
      "needs_background": "light"
     },
     "output_type": "display_data"
    }
   ],
   "source": [
    "plt.plot(trainer.loss_history[0])\n",
    "plt.plot(trainer.loss_history[1])"
   ]
  },
  {
   "cell_type": "code",
   "execution_count": 39,
   "id": "885b618f-ee54-43c0-8d9c-c54b7805670e",
   "metadata": {},
   "outputs": [],
   "source": [
    "y_prob, y_pred, y_true = trainer.evaluate(testloader1)"
   ]
  },
  {
   "cell_type": "code",
   "execution_count": 45,
   "id": "2975e228-2a65-4b78-a893-07349d5e9696",
   "metadata": {},
   "outputs": [
    {
     "name": "stdout",
     "output_type": "stream",
     "text": [
      "              precision    recall  f1-score       support\n",
      "TNF            0.655934  0.687624  0.671405   1511.000000\n",
      "R84            0.714036  0.775459  0.743481   1581.000000\n",
      "PIC            0.618193  0.649123  0.633281   1539.000000\n",
      "P3K            0.607422  0.605058  0.606238   1542.000000\n",
      "FLA            0.432990  0.426540  0.429741   1477.000000\n",
      "CpG            0.426362  0.375730  0.399448   1541.000000\n",
      "FSL            0.379556  0.279450  0.321900   1528.000000\n",
      "LPS            0.495838  0.520274  0.507763   1603.000000\n",
      "UST            0.835057  0.965995  0.895766   1588.000000\n",
      "accuracy       0.589576  0.589576  0.589576      0.589576\n",
      "macro avg      0.573932  0.587250  0.578780  13910.000000\n",
      "weighted avg   0.575518  0.589576  0.580729  13910.000000\n"
     ]
    }
   ],
   "source": [
    "# evaluated on test dataset from replica 1\n",
    "cr = sklearn.metrics.classification_report(y_true, y_pred, target_names=ligands, output_dict=True)\n",
    "cr_df = pd.DataFrame(cr).transpose()\n",
    "print(cr_df)"
   ]
  },
  {
   "cell_type": "code",
   "execution_count": 35,
   "id": "9185437b-c22f-4652-b013-468cfdc738fb",
   "metadata": {},
   "outputs": [],
   "source": [
    "y_prob_cross, y_pred_cross, y_true_cross = trainer.evaluate(testloader2)"
   ]
  },
  {
   "cell_type": "code",
   "execution_count": 46,
   "id": "8f83b251-d89e-4fbc-8a9a-6b8b5f1208dc",
   "metadata": {},
   "outputs": [
    {
     "name": "stdout",
     "output_type": "stream",
     "text": [
      "              precision    recall  f1-score       support\n",
      "TNF            0.539653  0.546424  0.543017   1594.000000\n",
      "R84            0.591837  0.635719  0.612993   1551.000000\n",
      "PIC            0.369663  0.497634  0.424207   1479.000000\n",
      "P3K            0.448191  0.353208  0.395071   1543.000000\n",
      "FLA            0.297861  0.351912  0.322638   1543.000000\n",
      "CpG            0.251389  0.231015  0.240772   1567.000000\n",
      "FSL            0.231405  0.181700  0.203562   1541.000000\n",
      "LPS            0.330997  0.401832  0.362991   1528.000000\n",
      "UST            0.573516  0.401535  0.472358   1564.000000\n",
      "accuracy       0.400072  0.400072  0.400072      0.400072\n",
      "macro avg      0.403835  0.400109  0.397512  13910.000000\n",
      "weighted avg   0.404694  0.400072  0.397955  13910.000000\n"
     ]
    }
   ],
   "source": [
    "# evaluated on test dataset from replica 2\n",
    "cr_cross = sklearn.metrics.classification_report(y_true_cross, y_pred_cross, target_names=ligands, output_dict=True)\n",
    "cr_cross_df = pd.DataFrame(cr_cross).transpose()\n",
    "print(cr_cross_df)"
   ]
  },
  {
   "cell_type": "code",
   "execution_count": 52,
   "id": "6ecbe20a-d974-4ed4-86ef-c6b508558fba",
   "metadata": {},
   "outputs": [
    {
     "data": {
      "text/html": [
       "<div>\n",
       "<style scoped>\n",
       "    .dataframe tbody tr th:only-of-type {\n",
       "        vertical-align: middle;\n",
       "    }\n",
       "\n",
       "    .dataframe tbody tr th {\n",
       "        vertical-align: top;\n",
       "    }\n",
       "\n",
       "    .dataframe thead th {\n",
       "        text-align: right;\n",
       "    }\n",
       "</style>\n",
       "<table border=\"1\" class=\"dataframe\">\n",
       "  <thead>\n",
       "    <tr style=\"text-align: right;\">\n",
       "      <th></th>\n",
       "      <th>precision</th>\n",
       "      <th>recall</th>\n",
       "      <th>f1-score</th>\n",
       "      <th>support</th>\n",
       "    </tr>\n",
       "  </thead>\n",
       "  <tbody>\n",
       "    <tr>\n",
       "      <th>TNF</th>\n",
       "      <td>0.539653</td>\n",
       "      <td>0.546424</td>\n",
       "      <td>0.543017</td>\n",
       "      <td>1594.000000</td>\n",
       "    </tr>\n",
       "    <tr>\n",
       "      <th>R84</th>\n",
       "      <td>0.591837</td>\n",
       "      <td>0.635719</td>\n",
       "      <td>0.612993</td>\n",
       "      <td>1551.000000</td>\n",
       "    </tr>\n",
       "    <tr>\n",
       "      <th>PIC</th>\n",
       "      <td>0.369663</td>\n",
       "      <td>0.497634</td>\n",
       "      <td>0.424207</td>\n",
       "      <td>1479.000000</td>\n",
       "    </tr>\n",
       "    <tr>\n",
       "      <th>P3K</th>\n",
       "      <td>0.448191</td>\n",
       "      <td>0.353208</td>\n",
       "      <td>0.395071</td>\n",
       "      <td>1543.000000</td>\n",
       "    </tr>\n",
       "    <tr>\n",
       "      <th>FLA</th>\n",
       "      <td>0.297861</td>\n",
       "      <td>0.351912</td>\n",
       "      <td>0.322638</td>\n",
       "      <td>1543.000000</td>\n",
       "    </tr>\n",
       "    <tr>\n",
       "      <th>CpG</th>\n",
       "      <td>0.251389</td>\n",
       "      <td>0.231015</td>\n",
       "      <td>0.240772</td>\n",
       "      <td>1567.000000</td>\n",
       "    </tr>\n",
       "    <tr>\n",
       "      <th>FSL</th>\n",
       "      <td>0.231405</td>\n",
       "      <td>0.181700</td>\n",
       "      <td>0.203562</td>\n",
       "      <td>1541.000000</td>\n",
       "    </tr>\n",
       "    <tr>\n",
       "      <th>LPS</th>\n",
       "      <td>0.330997</td>\n",
       "      <td>0.401832</td>\n",
       "      <td>0.362991</td>\n",
       "      <td>1528.000000</td>\n",
       "    </tr>\n",
       "    <tr>\n",
       "      <th>UST</th>\n",
       "      <td>0.573516</td>\n",
       "      <td>0.401535</td>\n",
       "      <td>0.472358</td>\n",
       "      <td>1564.000000</td>\n",
       "    </tr>\n",
       "    <tr>\n",
       "      <th>accuracy</th>\n",
       "      <td>0.400072</td>\n",
       "      <td>0.400072</td>\n",
       "      <td>0.400072</td>\n",
       "      <td>0.400072</td>\n",
       "    </tr>\n",
       "    <tr>\n",
       "      <th>macro avg</th>\n",
       "      <td>0.403835</td>\n",
       "      <td>0.400109</td>\n",
       "      <td>0.397512</td>\n",
       "      <td>13910.000000</td>\n",
       "    </tr>\n",
       "    <tr>\n",
       "      <th>weighted avg</th>\n",
       "      <td>0.404694</td>\n",
       "      <td>0.400072</td>\n",
       "      <td>0.397955</td>\n",
       "      <td>13910.000000</td>\n",
       "    </tr>\n",
       "  </tbody>\n",
       "</table>\n",
       "</div>"
      ],
      "text/plain": [
       "              precision    recall  f1-score       support\n",
       "TNF            0.539653  0.546424  0.543017   1594.000000\n",
       "R84            0.591837  0.635719  0.612993   1551.000000\n",
       "PIC            0.369663  0.497634  0.424207   1479.000000\n",
       "P3K            0.448191  0.353208  0.395071   1543.000000\n",
       "FLA            0.297861  0.351912  0.322638   1543.000000\n",
       "CpG            0.251389  0.231015  0.240772   1567.000000\n",
       "FSL            0.231405  0.181700  0.203562   1541.000000\n",
       "LPS            0.330997  0.401832  0.362991   1528.000000\n",
       "UST            0.573516  0.401535  0.472358   1564.000000\n",
       "accuracy       0.400072  0.400072  0.400072      0.400072\n",
       "macro avg      0.403835  0.400109  0.397512  13910.000000\n",
       "weighted avg   0.404694  0.400072  0.397955  13910.000000"
      ]
     },
     "execution_count": 52,
     "metadata": {},
     "output_type": "execute_result"
    }
   ],
   "source": [
    "cr_cross_df"
   ]
  },
  {
   "cell_type": "code",
   "execution_count": 58,
   "id": "8fe045ba-d9ca-4380-a480-31530a3b037e",
   "metadata": {},
   "outputs": [],
   "source": [
    "net2 = LSTM(input_size=input_size, hidden_sizes=hidden_size, output_size=output_size, num_layers=1, device=device)"
   ]
  },
  {
   "cell_type": "code",
   "execution_count": 59,
   "id": "2a2a96af-1fd6-489d-99f8-9f330b5a8a2b",
   "metadata": {},
   "outputs": [
    {
     "data": {
      "text/plain": [
       "LSTM(\n",
       "  (lstm): LSTM(1, 98, batch_first=True)\n",
       "  (fc1): Linear(in_features=98, out_features=9, bias=True)\n",
       ")"
      ]
     },
     "execution_count": 59,
     "metadata": {},
     "output_type": "execute_result"
    }
   ],
   "source": [
    "net2.train()"
   ]
  },
  {
   "cell_type": "code",
   "execution_count": 60,
   "id": "56aa8564-ba12-4385-aa8d-8c87a2194ed0",
   "metadata": {},
   "outputs": [],
   "source": [
    "trainer2 = LSTMTrainer(model=net2, device=device)"
   ]
  },
  {
   "cell_type": "code",
   "execution_count": 61,
   "id": "4fd28702-4497-4a30-979a-f55ebb89a75b",
   "metadata": {
    "scrolled": true,
    "tags": []
   },
   "outputs": [
    {
     "name": "stderr",
     "output_type": "stream",
     "text": [
      "  1%|█▏                                                                                 | 1/70 [00:03<04:22,  3.81s/it]"
     ]
    },
    {
     "name": "stdout",
     "output_type": "stream",
     "text": [
      "Epoch 001: | Training Loss: 2.1527929156334076 | Validation Loss: 2.104259980381082\n"
     ]
    },
    {
     "name": "stderr",
     "output_type": "stream",
     "text": [
      "  3%|██▎                                                                                | 2/70 [00:07<04:12,  3.71s/it]"
     ]
    },
    {
     "name": "stdout",
     "output_type": "stream",
     "text": [
      "Epoch 002: | Training Loss: 2.174167239465173 | Validation Loss: 2.1784239318392693\n"
     ]
    },
    {
     "name": "stderr",
     "output_type": "stream",
     "text": [
      "  4%|███▌                                                                               | 3/70 [00:10<04:03,  3.63s/it]"
     ]
    },
    {
     "name": "stdout",
     "output_type": "stream",
     "text": [
      "Epoch 003: | Training Loss: 2.152417160102821 | Validation Loss: 2.105757011186092\n"
     ]
    },
    {
     "name": "stderr",
     "output_type": "stream",
     "text": [
      "  6%|████▋                                                                              | 4/70 [00:14<03:55,  3.57s/it]"
     ]
    },
    {
     "name": "stdout",
     "output_type": "stream",
     "text": [
      "Epoch 004: | Training Loss: 2.1865545469257768 | Validation Loss: 2.1835648532307474\n"
     ]
    },
    {
     "name": "stderr",
     "output_type": "stream",
     "text": [
      "  7%|█████▉                                                                             | 5/70 [00:17<03:51,  3.56s/it]"
     ]
    },
    {
     "name": "stdout",
     "output_type": "stream",
     "text": [
      "Epoch 005: | Training Loss: 2.1790797443886447 | Validation Loss: 2.15711948084175\n"
     ]
    },
    {
     "name": "stderr",
     "output_type": "stream",
     "text": [
      "  9%|███████                                                                            | 6/70 [00:21<03:46,  3.54s/it]"
     ]
    },
    {
     "name": "stdout",
     "output_type": "stream",
     "text": [
      "Epoch 006: | Training Loss: 2.1586049099611104 | Validation Loss: 2.1464731977620257\n"
     ]
    },
    {
     "name": "stderr",
     "output_type": "stream",
     "text": [
      " 10%|████████▎                                                                          | 7/70 [00:25<03:42,  3.54s/it]"
     ]
    },
    {
     "name": "stdout",
     "output_type": "stream",
     "text": [
      "Epoch 007: | Training Loss: 2.1736455706688385 | Validation Loss: 2.1915794851583077\n"
     ]
    },
    {
     "name": "stderr",
     "output_type": "stream",
     "text": [
      " 11%|█████████▍                                                                         | 8/70 [00:28<03:41,  3.58s/it]"
     ]
    },
    {
     "name": "stdout",
     "output_type": "stream",
     "text": [
      "Epoch 008: | Training Loss: 2.160012919723896 | Validation Loss: 2.087802609719268\n"
     ]
    },
    {
     "name": "stderr",
     "output_type": "stream",
     "text": [
      " 13%|██████████▋                                                                        | 9/70 [00:32<03:36,  3.55s/it]"
     ]
    },
    {
     "name": "stdout",
     "output_type": "stream",
     "text": [
      "Epoch 009: | Training Loss: 2.115905799507912 | Validation Loss: 2.161422294214231\n"
     ]
    },
    {
     "name": "stderr",
     "output_type": "stream",
     "text": [
      " 14%|███████████▋                                                                      | 10/70 [00:35<03:35,  3.59s/it]"
     ]
    },
    {
     "name": "stdout",
     "output_type": "stream",
     "text": [
      "Epoch 010: | Training Loss: 2.1228686877815868 | Validation Loss: 2.082486730103099\n"
     ]
    },
    {
     "name": "stderr",
     "output_type": "stream",
     "text": [
      " 16%|████████████▉                                                                     | 11/70 [00:39<03:32,  3.60s/it]"
     ]
    },
    {
     "name": "stdout",
     "output_type": "stream",
     "text": [
      "Epoch 011: | Training Loss: 2.050366312767426 | Validation Loss: 1.983254775541638\n"
     ]
    },
    {
     "name": "stderr",
     "output_type": "stream",
     "text": [
      " 17%|██████████████                                                                    | 12/70 [00:43<03:29,  3.61s/it]"
     ]
    },
    {
     "name": "stdout",
     "output_type": "stream",
     "text": [
      "Epoch 012: | Training Loss: 1.939983080576244 | Validation Loss: 1.9146364085171201\n"
     ]
    },
    {
     "name": "stderr",
     "output_type": "stream",
     "text": [
      " 19%|███████████████▏                                                                  | 13/70 [00:46<03:24,  3.59s/it]"
     ]
    },
    {
     "name": "stdout",
     "output_type": "stream",
     "text": [
      "Epoch 013: | Training Loss: 1.8571436974757662 | Validation Loss: 1.8146227702088313\n"
     ]
    },
    {
     "name": "stderr",
     "output_type": "stream",
     "text": [
      " 20%|████████████████▍                                                                 | 14/70 [00:50<03:20,  3.59s/it]"
     ]
    },
    {
     "name": "stdout",
     "output_type": "stream",
     "text": [
      "Epoch 014: | Training Loss: 1.7806059855962055 | Validation Loss: 1.7540596559507038\n"
     ]
    },
    {
     "name": "stderr",
     "output_type": "stream",
     "text": [
      " 21%|█████████████████▌                                                                | 15/70 [00:53<03:16,  3.58s/it]"
     ]
    },
    {
     "name": "stdout",
     "output_type": "stream",
     "text": [
      "Epoch 015: | Training Loss: 1.7525097421993705 | Validation Loss: 1.7020018581950336\n"
     ]
    },
    {
     "name": "stderr",
     "output_type": "stream",
     "text": [
      " 23%|██████████████████▋                                                               | 16/70 [00:57<03:13,  3.58s/it]"
     ]
    },
    {
     "name": "stdout",
     "output_type": "stream",
     "text": [
      "Epoch 016: | Training Loss: 1.689902428646 | Validation Loss: 1.680523595678697\n"
     ]
    },
    {
     "name": "stderr",
     "output_type": "stream",
     "text": [
      " 24%|███████████████████▉                                                              | 17/70 [01:00<03:09,  3.57s/it]"
     ]
    },
    {
     "name": "stdout",
     "output_type": "stream",
     "text": [
      "Epoch 017: | Training Loss: 1.6572846939151173 | Validation Loss: 1.6358447638126687\n"
     ]
    },
    {
     "name": "stderr",
     "output_type": "stream",
     "text": [
      " 26%|█████████████████████                                                             | 18/70 [01:04<03:04,  3.55s/it]"
     ]
    },
    {
     "name": "stdout",
     "output_type": "stream",
     "text": [
      "Epoch 018: | Training Loss: 1.6293399359511744 | Validation Loss: 1.627225110837079\n"
     ]
    },
    {
     "name": "stderr",
     "output_type": "stream",
     "text": [
      " 27%|██████████████████████▎                                                           | 19/70 [01:07<03:00,  3.55s/it]"
     ]
    },
    {
     "name": "stdout",
     "output_type": "stream",
     "text": [
      "Epoch 019: | Training Loss: 1.608590520176734 | Validation Loss: 1.591550152783\n"
     ]
    },
    {
     "name": "stderr",
     "output_type": "stream",
     "text": [
      " 29%|███████████████████████▍                                                          | 20/70 [01:11<02:56,  3.54s/it]"
     ]
    },
    {
     "name": "stdout",
     "output_type": "stream",
     "text": [
      "Epoch 020: | Training Loss: 1.587970157312215 | Validation Loss: 1.5914774274607317\n"
     ]
    },
    {
     "name": "stderr",
     "output_type": "stream",
     "text": [
      " 30%|████████████████████████▌                                                         | 21/70 [01:14<02:52,  3.53s/it]"
     ]
    },
    {
     "name": "stdout",
     "output_type": "stream",
     "text": [
      "Epoch 021: | Training Loss: 1.5630728811436372 | Validation Loss: 1.5753106710013993\n"
     ]
    },
    {
     "name": "stderr",
     "output_type": "stream",
     "text": [
      " 31%|█████████████████████████▊                                                        | 22/70 [01:18<02:48,  3.52s/it]"
     ]
    },
    {
     "name": "stdout",
     "output_type": "stream",
     "text": [
      "Epoch 022: | Training Loss: 1.543876789612938 | Validation Loss: 1.5421432655885678\n"
     ]
    },
    {
     "name": "stderr",
     "output_type": "stream",
     "text": [
      " 33%|██████████████████████████▉                                                       | 23/70 [01:22<02:45,  3.52s/it]"
     ]
    },
    {
     "name": "stdout",
     "output_type": "stream",
     "text": [
      "Epoch 023: | Training Loss: 1.5808874085705276 | Validation Loss: 1.5446315899901433\n"
     ]
    },
    {
     "name": "stderr",
     "output_type": "stream",
     "text": [
      " 34%|████████████████████████████                                                      | 24/70 [01:25<02:41,  3.52s/it]"
     ]
    },
    {
     "name": "stdout",
     "output_type": "stream",
     "text": [
      "Epoch 024: | Training Loss: 1.518998209039066 | Validation Loss: 1.567803191482474\n"
     ]
    },
    {
     "name": "stderr",
     "output_type": "stream",
     "text": [
      " 36%|█████████████████████████████▎                                                    | 25/70 [01:29<02:38,  3.51s/it]"
     ]
    },
    {
     "name": "stdout",
     "output_type": "stream",
     "text": [
      "Epoch 025: | Training Loss: 1.5079136968206666 | Validation Loss: 1.5176713247911646\n"
     ]
    },
    {
     "name": "stderr",
     "output_type": "stream",
     "text": [
      " 37%|██████████████████████████████▍                                                   | 26/70 [01:32<02:34,  3.52s/it]"
     ]
    },
    {
     "name": "stdout",
     "output_type": "stream",
     "text": [
      "Epoch 026: | Training Loss: 1.493729339076768 | Validation Loss: 1.5074631287417282\n"
     ]
    },
    {
     "name": "stderr",
     "output_type": "stream",
     "text": [
      " 39%|███████████████████████████████▋                                                  | 27/70 [01:36<02:31,  3.52s/it]"
     ]
    },
    {
     "name": "stdout",
     "output_type": "stream",
     "text": [
      "Epoch 027: | Training Loss: 1.4786635856350931 | Validation Loss: 1.4772797844825534\n"
     ]
    },
    {
     "name": "stderr",
     "output_type": "stream",
     "text": [
      " 40%|████████████████████████████████▊                                                 | 28/70 [01:39<02:27,  3.52s/it]"
     ]
    },
    {
     "name": "stdout",
     "output_type": "stream",
     "text": [
      "Epoch 028: | Training Loss: 1.4647804800803226 | Validation Loss: 1.4611152935465541\n"
     ]
    },
    {
     "name": "stderr",
     "output_type": "stream",
     "text": [
      " 41%|█████████████████████████████████▉                                                | 29/70 [01:43<02:24,  3.52s/it]"
     ]
    },
    {
     "name": "stdout",
     "output_type": "stream",
     "text": [
      "Epoch 029: | Training Loss: 1.4511815997761934 | Validation Loss: 1.4634069548834354\n"
     ]
    },
    {
     "name": "stderr",
     "output_type": "stream",
     "text": [
      " 43%|███████████████████████████████████▏                                              | 30/70 [01:46<02:21,  3.53s/it]"
     ]
    },
    {
     "name": "stdout",
     "output_type": "stream",
     "text": [
      "Epoch 030: | Training Loss: 1.437615850252908 | Validation Loss: 1.4475650842036676\n"
     ]
    },
    {
     "name": "stderr",
     "output_type": "stream",
     "text": [
      " 44%|████████████████████████████████████▎                                             | 31/70 [01:50<02:17,  3.54s/it]"
     ]
    },
    {
     "name": "stdout",
     "output_type": "stream",
     "text": [
      "Epoch 031: | Training Loss: 1.4227218008150915 | Validation Loss: 1.4475021334963107\n"
     ]
    },
    {
     "name": "stderr",
     "output_type": "stream",
     "text": [
      " 46%|█████████████████████████████████████▍                                            | 32/70 [01:53<02:14,  3.54s/it]"
     ]
    },
    {
     "name": "stdout",
     "output_type": "stream",
     "text": [
      "Epoch 032: | Training Loss: 1.40995585644592 | Validation Loss: 1.4256776199428314\n"
     ]
    },
    {
     "name": "stderr",
     "output_type": "stream",
     "text": [
      " 47%|██████████████████████████████████████▋                                           | 33/70 [01:57<02:10,  3.53s/it]"
     ]
    },
    {
     "name": "stdout",
     "output_type": "stream",
     "text": [
      "Epoch 033: | Training Loss: 1.3978153387766337 | Validation Loss: 1.40789128880982\n"
     ]
    },
    {
     "name": "stderr",
     "output_type": "stream",
     "text": [
      " 49%|███████████████████████████████████████▊                                          | 34/70 [02:00<02:08,  3.57s/it]"
     ]
    },
    {
     "name": "stdout",
     "output_type": "stream",
     "text": [
      "Epoch 034: | Training Loss: 1.3890510271738352 | Validation Loss: 1.4062112203431785\n"
     ]
    },
    {
     "name": "stderr",
     "output_type": "stream",
     "text": [
      " 50%|█████████████████████████████████████████                                         | 35/70 [02:04<02:06,  3.61s/it]"
     ]
    },
    {
     "name": "stdout",
     "output_type": "stream",
     "text": [
      "Epoch 035: | Training Loss: 1.3715213771801082 | Validation Loss: 1.3883101590182803\n"
     ]
    },
    {
     "name": "stderr",
     "output_type": "stream",
     "text": [
      " 51%|██████████████████████████████████████████▏                                       | 36/70 [02:08<02:02,  3.59s/it]"
     ]
    },
    {
     "name": "stdout",
     "output_type": "stream",
     "text": [
      "Epoch 036: | Training Loss: 1.3622188803612911 | Validation Loss: 1.3982259762396507\n"
     ]
    },
    {
     "name": "stderr",
     "output_type": "stream",
     "text": [
      " 53%|███████████████████████████████████████████▎                                      | 37/70 [02:11<01:58,  3.58s/it]"
     ]
    },
    {
     "name": "stdout",
     "output_type": "stream",
     "text": [
      "Epoch 037: | Training Loss: 1.3461189325699214 | Validation Loss: 1.3797729824661116\n"
     ]
    },
    {
     "name": "stderr",
     "output_type": "stream",
     "text": [
      " 54%|████████████████████████████████████████████▌                                     | 38/70 [02:15<01:54,  3.58s/it]"
     ]
    },
    {
     "name": "stdout",
     "output_type": "stream",
     "text": [
      "Epoch 038: | Training Loss: 1.3450904394547023 | Validation Loss: 1.3760223159002603\n"
     ]
    },
    {
     "name": "stderr",
     "output_type": "stream",
     "text": [
      " 56%|█████████████████████████████████████████████▋                                    | 39/70 [02:18<01:50,  3.57s/it]"
     ]
    },
    {
     "name": "stdout",
     "output_type": "stream",
     "text": [
      "Epoch 039: | Training Loss: 1.346922106892555 | Validation Loss: 1.3566350510360998\n"
     ]
    },
    {
     "name": "stderr",
     "output_type": "stream",
     "text": [
      " 57%|██████████████████████████████████████████████▊                                   | 40/70 [02:22<01:46,  3.55s/it]"
     ]
    },
    {
     "name": "stdout",
     "output_type": "stream",
     "text": [
      "Epoch 040: | Training Loss: 1.3198843467838002 | Validation Loss: 1.343931717063309\n"
     ]
    },
    {
     "name": "stderr",
     "output_type": "stream",
     "text": [
      " 59%|████████████████████████████████████████████████                                  | 41/70 [02:25<01:42,  3.55s/it]"
     ]
    },
    {
     "name": "stdout",
     "output_type": "stream",
     "text": [
      "Epoch 041: | Training Loss: 1.3152290796247776 | Validation Loss: 1.355860588747427\n"
     ]
    },
    {
     "name": "stderr",
     "output_type": "stream",
     "text": [
      " 60%|█████████████████████████████████████████████████▏                                | 42/70 [02:29<01:39,  3.55s/it]"
     ]
    },
    {
     "name": "stdout",
     "output_type": "stream",
     "text": [
      "Epoch 042: | Training Loss: 1.30279843621013 | Validation Loss: 1.333307083593596\n"
     ]
    },
    {
     "name": "stderr",
     "output_type": "stream",
     "text": [
      " 61%|██████████████████████████████████████████████████▎                               | 43/70 [02:33<01:35,  3.55s/it]"
     ]
    },
    {
     "name": "stdout",
     "output_type": "stream",
     "text": [
      "Epoch 043: | Training Loss: 1.29424057382902 | Validation Loss: 1.3730650396522033\n"
     ]
    },
    {
     "name": "stderr",
     "output_type": "stream",
     "text": [
      " 63%|███████████████████████████████████████████████████▌                              | 44/70 [02:36<01:32,  3.55s/it]"
     ]
    },
    {
     "name": "stdout",
     "output_type": "stream",
     "text": [
      "Epoch 044: | Training Loss: 1.3075202489885036 | Validation Loss: 1.3322138127383836\n"
     ]
    },
    {
     "name": "stderr",
     "output_type": "stream",
     "text": [
      " 64%|████████████████████████████████████████████████████▋                             | 45/70 [02:40<01:28,  3.55s/it]"
     ]
    },
    {
     "name": "stdout",
     "output_type": "stream",
     "text": [
      "Epoch 045: | Training Loss: 1.2779663050886683 | Validation Loss: 1.3458799183915515\n"
     ]
    },
    {
     "name": "stderr",
     "output_type": "stream",
     "text": [
      " 66%|█████████████████████████████████████████████████████▉                            | 46/70 [02:43<01:25,  3.55s/it]"
     ]
    },
    {
     "name": "stdout",
     "output_type": "stream",
     "text": [
      "Epoch 046: | Training Loss: 1.2711059319662645 | Validation Loss: 1.3094771496199686\n"
     ]
    },
    {
     "name": "stderr",
     "output_type": "stream",
     "text": [
      " 67%|███████████████████████████████████████████████████████                           | 47/70 [02:47<01:22,  3.57s/it]"
     ]
    },
    {
     "name": "stdout",
     "output_type": "stream",
     "text": [
      "Epoch 047: | Training Loss: 1.2652404290063457 | Validation Loss: 1.318092498484008\n"
     ]
    },
    {
     "name": "stderr",
     "output_type": "stream",
     "text": [
      " 69%|████████████████████████████████████████████████████████▏                         | 48/70 [02:50<01:18,  3.56s/it]"
     ]
    },
    {
     "name": "stdout",
     "output_type": "stream",
     "text": [
      "Epoch 048: | Training Loss: 1.2511062774504855 | Validation Loss: 1.3038923330263261\n"
     ]
    },
    {
     "name": "stderr",
     "output_type": "stream",
     "text": [
      " 70%|█████████████████████████████████████████████████████████▍                        | 49/70 [02:54<01:14,  3.55s/it]"
     ]
    },
    {
     "name": "stdout",
     "output_type": "stream",
     "text": [
      "Epoch 049: | Training Loss: 1.2463021992176635 | Validation Loss: 1.3029038375670756\n"
     ]
    },
    {
     "name": "stderr",
     "output_type": "stream",
     "text": [
      " 71%|██████████████████████████████████████████████████████████▌                       | 50/70 [02:57<01:11,  3.57s/it]"
     ]
    },
    {
     "name": "stdout",
     "output_type": "stream",
     "text": [
      "Epoch 050: | Training Loss: 1.2415379334189809 | Validation Loss: 1.2887379540762771\n"
     ]
    },
    {
     "name": "stderr",
     "output_type": "stream",
     "text": [
      " 73%|███████████████████████████████████████████████████████████▋                      | 51/70 [03:01<01:08,  3.59s/it]"
     ]
    },
    {
     "name": "stdout",
     "output_type": "stream",
     "text": [
      "Epoch 051: | Training Loss: 1.2230146357512948 | Validation Loss: 1.2907866277825941\n"
     ]
    },
    {
     "name": "stderr",
     "output_type": "stream",
     "text": [
      " 74%|████████████████████████████████████████████████████████████▉                     | 52/70 [03:05<01:04,  3.58s/it]"
     ]
    },
    {
     "name": "stdout",
     "output_type": "stream",
     "text": [
      "Epoch 052: | Training Loss: 1.2218827323197954 | Validation Loss: 1.2888496649374657\n"
     ]
    },
    {
     "name": "stderr",
     "output_type": "stream",
     "text": [
      " 76%|██████████████████████████████████████████████████████████████                    | 53/70 [03:08<01:00,  3.59s/it]"
     ]
    },
    {
     "name": "stdout",
     "output_type": "stream",
     "text": [
      "Epoch 053: | Training Loss: 1.2214552619555825 | Validation Loss: 1.2929179846146786\n"
     ]
    },
    {
     "name": "stderr",
     "output_type": "stream",
     "text": [
      " 77%|███████████████████████████████████████████████████████████████▎                  | 54/70 [03:12<00:56,  3.56s/it]"
     ]
    },
    {
     "name": "stdout",
     "output_type": "stream",
     "text": [
      "Epoch 054: | Training Loss: 1.22039406441985 | Validation Loss: 1.2764016980424933\n"
     ]
    },
    {
     "name": "stderr",
     "output_type": "stream",
     "text": [
      " 79%|████████████████████████████████████████████████████████████████▍                 | 55/70 [03:15<00:53,  3.53s/it]"
     ]
    },
    {
     "name": "stdout",
     "output_type": "stream",
     "text": [
      "Epoch 055: | Training Loss: 1.2242167205029206 | Validation Loss: 1.273356617864119\n"
     ]
    },
    {
     "name": "stderr",
     "output_type": "stream",
     "text": [
      " 80%|█████████████████████████████████████████████████████████████████▌                | 56/70 [03:19<00:49,  3.52s/it]"
     ]
    },
    {
     "name": "stdout",
     "output_type": "stream",
     "text": [
      "Epoch 056: | Training Loss: 1.191629742316411 | Validation Loss: 1.2842804961795107\n"
     ]
    },
    {
     "name": "stderr",
     "output_type": "stream",
     "text": [
      " 81%|██████████████████████████████████████████████████████████████████▊               | 57/70 [03:22<00:45,  3.53s/it]"
     ]
    },
    {
     "name": "stdout",
     "output_type": "stream",
     "text": [
      "Epoch 057: | Training Loss: 1.1818220241146467 | Validation Loss: 1.2846357461509355\n"
     ]
    },
    {
     "name": "stderr",
     "output_type": "stream",
     "text": [
      " 83%|███████████████████████████████████████████████████████████████████▉              | 58/70 [03:26<00:42,  3.54s/it]"
     ]
    },
    {
     "name": "stdout",
     "output_type": "stream",
     "text": [
      "Epoch 058: | Training Loss: 1.1936856463528702 | Validation Loss: 1.2801279466633404\n"
     ]
    },
    {
     "name": "stderr",
     "output_type": "stream",
     "text": [
      " 84%|█████████████████████████████████████████████████████████████████████             | 59/70 [03:29<00:39,  3.55s/it]"
     ]
    },
    {
     "name": "stdout",
     "output_type": "stream",
     "text": [
      "Epoch 059: | Training Loss: 1.196286664348649 | Validation Loss: 1.3244877233417756\n"
     ]
    },
    {
     "name": "stderr",
     "output_type": "stream",
     "text": [
      " 86%|██████████████████████████████████████████████████████████████████████▎           | 60/70 [03:33<00:35,  3.60s/it]"
     ]
    },
    {
     "name": "stdout",
     "output_type": "stream",
     "text": [
      "Epoch 060: | Training Loss: 1.1939948859295106 | Validation Loss: 1.2654874417759956\n"
     ]
    },
    {
     "name": "stderr",
     "output_type": "stream",
     "text": [
      " 87%|███████████████████████████████████████████████████████████████████████▍          | 61/70 [03:37<00:32,  3.61s/it]"
     ]
    },
    {
     "name": "stdout",
     "output_type": "stream",
     "text": [
      "Epoch 061: | Training Loss: 1.164240432004651 | Validation Loss: 1.2702399916058287\n"
     ]
    },
    {
     "name": "stderr",
     "output_type": "stream",
     "text": [
      " 89%|████████████████████████████████████████████████████████████████████████▋         | 62/70 [03:40<00:28,  3.58s/it]"
     ]
    },
    {
     "name": "stdout",
     "output_type": "stream",
     "text": [
      "Epoch 062: | Training Loss: 1.1547102606862465 | Validation Loss: 1.2433034239012166\n"
     ]
    },
    {
     "name": "stderr",
     "output_type": "stream",
     "text": [
      " 90%|█████████████████████████████████████████████████████████████████████████▊        | 63/70 [03:44<00:25,  3.58s/it]"
     ]
    },
    {
     "name": "stdout",
     "output_type": "stream",
     "text": [
      "Epoch 063: | Training Loss: 1.1528635554437798 | Validation Loss: 1.258305527474902\n"
     ]
    },
    {
     "name": "stderr",
     "output_type": "stream",
     "text": [
      " 91%|██████████████████████████████████████████████████████████████████████████▉       | 64/70 [03:47<00:21,  3.57s/it]"
     ]
    },
    {
     "name": "stdout",
     "output_type": "stream",
     "text": [
      "Epoch 064: | Training Loss: 1.1740040236921443 | Validation Loss: 1.26559207636282\n"
     ]
    },
    {
     "name": "stderr",
     "output_type": "stream",
     "text": [
      " 93%|████████████████████████████████████████████████████████████████████████████▏     | 65/70 [03:51<00:17,  3.57s/it]"
     ]
    },
    {
     "name": "stdout",
     "output_type": "stream",
     "text": [
      "Epoch 065: | Training Loss: 1.1529348932583152 | Validation Loss: 1.24122487049584\n"
     ]
    },
    {
     "name": "stderr",
     "output_type": "stream",
     "text": [
      " 94%|█████████████████████████████████████████████████████████████████████████████▎    | 66/70 [03:55<00:14,  3.56s/it]"
     ]
    },
    {
     "name": "stdout",
     "output_type": "stream",
     "text": [
      "Epoch 066: | Training Loss: 1.1297696921945897 | Validation Loss: 1.2281531721626946\n"
     ]
    },
    {
     "name": "stderr",
     "output_type": "stream",
     "text": [
      " 96%|██████████████████████████████████████████████████████████████████████████████▍   | 67/70 [03:58<00:10,  3.56s/it]"
     ]
    },
    {
     "name": "stdout",
     "output_type": "stream",
     "text": [
      "Epoch 067: | Training Loss: 1.125589937838807 | Validation Loss: 1.2271313861422581\n"
     ]
    },
    {
     "name": "stderr",
     "output_type": "stream",
     "text": [
      " 97%|███████████████████████████████████████████████████████████████████████████████▋  | 68/70 [04:02<00:07,  3.55s/it]"
     ]
    },
    {
     "name": "stdout",
     "output_type": "stream",
     "text": [
      "Epoch 068: | Training Loss: 1.1294728543090236 | Validation Loss: 1.2299537541122612\n"
     ]
    },
    {
     "name": "stderr",
     "output_type": "stream",
     "text": [
      " 99%|████████████████████████████████████████████████████████████████████████████████▊ | 69/70 [04:05<00:03,  3.56s/it]"
     ]
    },
    {
     "name": "stdout",
     "output_type": "stream",
     "text": [
      "Epoch 069: | Training Loss: 1.1174909460599354 | Validation Loss: 1.2330991737886305\n"
     ]
    },
    {
     "name": "stderr",
     "output_type": "stream",
     "text": [
      "100%|██████████████████████████████████████████████████████████████████████████████████| 70/70 [04:09<00:00,  3.56s/it]"
     ]
    },
    {
     "name": "stdout",
     "output_type": "stream",
     "text": [
      "Epoch 070: | Training Loss: 1.1038978198859812 | Validation Loss: 1.2575551224957913\n"
     ]
    },
    {
     "name": "stderr",
     "output_type": "stream",
     "text": [
      "\n"
     ]
    }
   ],
   "source": [
    "trainer2.train(trainloader2, valloader2, batch_size=batch_size, n_epochs=epochs)"
   ]
  },
  {
   "cell_type": "code",
   "execution_count": 62,
   "id": "ef53fb53-6918-4b68-927b-bafbf6575530",
   "metadata": {},
   "outputs": [
    {
     "data": {
      "text/plain": [
       "[<matplotlib.lines.Line2D at 0x22aa3043940>]"
      ]
     },
     "execution_count": 62,
     "metadata": {},
     "output_type": "execute_result"
    },
    {
     "data": {
      "image/png": "[encoded data removed]",
      "text/plain": [
       "<Figure size 432x288 with 1 Axes>"
      ]
     },
     "metadata": {
      "needs_background": "light"
     },
     "output_type": "display_data"
    }
   ],
   "source": [
    "plt.plot(trainer2.loss_history[0])\n",
    "plt.plot(trainer2.loss_history[1])"
   ]
  },
  {
   "cell_type": "code",
   "execution_count": 63,
   "id": "a3ebecdf-3087-4bdc-8ba6-b23970f98fe7",
   "metadata": {},
   "outputs": [],
   "source": [
    "y_prob2, y_pred2, y_true2 = trainer2.evaluate(testloader2)"
   ]
  },
  {
   "cell_type": "code",
   "execution_count": 64,
   "id": "55402563-d351-4ccb-bb25-6748312bba7f",
   "metadata": {},
   "outputs": [
    {
     "name": "stdout",
     "output_type": "stream",
     "text": [
      "              precision    recall  f1-score       support\n",
      "TNF            0.621136  0.542033  0.578894   1594.000000\n",
      "R84            0.626168  0.777563  0.693701   1551.000000\n",
      "PIC            0.517966  0.633536  0.569951   1479.000000\n",
      "P3K            0.543437  0.555412  0.549359   1543.000000\n",
      "FLA            0.426197  0.415424  0.420742   1543.000000\n",
      "CpG            0.473312  0.384812  0.424498   1567.000000\n",
      "FSL            0.349558  0.205062  0.258487   1541.000000\n",
      "LPS            0.434373  0.482984  0.457391   1528.000000\n",
      "UST            0.847207  0.989130  0.912684   1564.000000\n",
      "accuracy       0.554206  0.554206  0.554206      0.554206\n",
      "macro avg      0.537706  0.553995  0.540634  13910.000000\n",
      "weighted avg   0.538648  0.554206  0.541219  13910.000000\n"
     ]
    }
   ],
   "source": [
    "cr2 = sklearn.metrics.classification_report(y_true2, y_pred2, target_names=ligands, output_dict=True)\n",
    "cr2_df = pd.DataFrame(cr2).transpose()\n",
    "print(cr2_df)"
   ]
  },
  {
   "cell_type": "code",
   "execution_count": 65,
   "id": "b5bb914e-242e-41c3-8f50-10e4f13737b7",
   "metadata": {},
   "outputs": [],
   "source": [
    "y_prob2_cross, y_pred2_cross, y_true2_cross = trainer2.evaluate(testloader1)"
   ]
  },
  {
   "cell_type": "code",
   "execution_count": 66,
   "id": "a3911b76-3cfc-4a6e-be41-0a1912fd30b5",
   "metadata": {},
   "outputs": [
    {
     "name": "stdout",
     "output_type": "stream",
     "text": [
      "              precision    recall  f1-score       support\n",
      "TNF            0.516470  0.549967  0.532692   1511.000000\n",
      "R84            0.583494  0.764706  0.661922   1581.000000\n",
      "PIC            0.360131  0.570500  0.441539   1539.000000\n",
      "P3K            0.438770  0.518158  0.475171   1542.000000\n",
      "FLA            0.334294  0.314150  0.323909   1477.000000\n",
      "CpG            0.255556  0.194030  0.220583   1541.000000\n",
      "FSL            0.237991  0.142670  0.178396   1528.000000\n",
      "LPS            0.347826  0.379289  0.362877   1603.000000\n",
      "UST            0.540107  0.254408  0.345890   1588.000000\n",
      "accuracy       0.410496  0.410496  0.410496      0.410496\n",
      "macro avg      0.401627  0.409764  0.393664  13910.000000\n",
      "weighted avg   0.402601  0.410496  0.394358  13910.000000\n"
     ]
    }
   ],
   "source": [
    "cr2_cross = sklearn.metrics.classification_report(y_true2_cross, y_pred2_cross, target_names=ligands, output_dict=True)\n",
    "cr2_df_cross = pd.DataFrame(cr2_cross).transpose()\n",
    "print(cr2_df_cross)"
   ]
  },
  {
   "cell_type": "code",
   "execution_count": 67,
   "id": "0bb2f9b6-0d83-4f4f-a711-700f7915ad6c",
   "metadata": {},
   "outputs": [],
   "source": [
    "# maybe some more plots here"
   ]
  },
  {
   "cell_type": "code",
   "execution_count": null,
   "id": "ede5df43-6614-4fc0-aa73-734cb3e3ad93",
   "metadata": {},
   "outputs": [],
   "source": []
  }
 ],
 "metadata": {
  "kernelspec": {
   "display_name": "Python 3 (ipykernel)",
   "language": "python",
   "name": "python3"
  },
  "language_info": {
   "codemirror_mode": {
    "name": "ipython",
    "version": 3
   },
   "file_extension": ".py",
   "mimetype": "text/x-python",
   "name": "python",
   "nbconvert_exporter": "python",
   "pygments_lexer": "ipython3",
   "version": "3.8.12"
  }
 },
 "nbformat": 4,
 "nbformat_minor": 5
}
