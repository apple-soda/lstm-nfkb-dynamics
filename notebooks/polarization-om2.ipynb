{
 "cells": [
  {
   "cell_type": "markdown",
   "id": "cf82402d-5006-425f-a60d-66a9482fb4f2",
   "metadata": {},
   "source": [
    "# Same notebook as polarization.ipynb but rerun"
   ]
  },
  {
   "cell_type": "markdown",
   "id": "0c82eba7-d819-4dd9-8b7a-754680a6f61b",
   "metadata": {},
   "source": [
    "# This new ML pipeline enables equal representation of each polarization state in each train, test, and validation dataset\n",
    "### In the future, if needed, refactor into functions for efficiency"
   ]
  },
  {
   "cell_type": "code",
   "execution_count": 1,
   "id": "4b7fbbbe-58fa-4350-9750-0071dfc7b1a7",
   "metadata": {},
   "outputs": [],
   "source": [
    "import sys\n",
    "sys.path.append('..')"
   ]
  },
  {
   "cell_type": "code",
   "execution_count": 2,
   "id": "56e8f11b-cd15-496d-ae81-1c78f3b783a3",
   "metadata": {},
   "outputs": [],
   "source": [
    "import torch\n",
    "import pandas as pd\n",
    "import numpy as np\n",
    "import sklearn\n",
    "import matplotlib.pyplot as plt\n",
    "import random\n",
    "import torch.nn as nn\n",
    "import torch.nn.functional as F\n",
    "import seaborn as sns"
   ]
  },
  {
   "cell_type": "code",
   "execution_count": 3,
   "id": "5691cff9-96fa-44c1-8aed-c88af943a8fa",
   "metadata": {},
   "outputs": [],
   "source": [
    "from core.getdata import *\n",
    "from core.dataset import *\n",
    "from core.network import *\n",
    "from core.trainer import *\n",
    "from core.visualization import *"
   ]
  },
  {
   "cell_type": "code",
   "execution_count": 4,
   "id": "8281c4c0-62ed-4141-94ea-d61d83ab19f8",
   "metadata": {},
   "outputs": [],
   "source": [
    "from torch.utils.data import Dataset\n",
    "from torchvision import datasets\n",
    "from torchvision.transforms import ToTensor"
   ]
  },
  {
   "cell_type": "code",
   "execution_count": 5,
   "id": "bed85b4f-a0a8-443c-ad9a-8c698cb38c28",
   "metadata": {},
   "outputs": [],
   "source": [
    "ligands = [\"TNF\", \"R84\", \"PIC\", \"P3K\", \"FLA\", \"CpG\", \"FSL\", \"LPS\", \"UST\"]\n",
    "polarization = [\"\", \"ib\", \"ig\", \"i0\", \"i3\", \"i4\"]\n",
    "replicas, size = 2, 1288 # replicated"
   ]
  },
  {
   "cell_type": "code",
   "execution_count": 6,
   "id": "8888ef2d-13ed-4dbb-af39-3bdcb94c467d",
   "metadata": {},
   "outputs": [],
   "source": [
    "asd = DatasetPolar(ligands, polarization, replicas, size)"
   ]
  },
  {
   "cell_type": "code",
   "execution_count": 7,
   "id": "f33b3323-2e3d-48d3-bb0a-93c1f4e7d980",
   "metadata": {},
   "outputs": [
    {
     "data": {
      "text/plain": [
       "(69552,)"
      ]
     },
     "execution_count": 7,
     "metadata": {},
     "output_type": "execute_result"
    }
   ],
   "source": [
    "asd.labels.shape"
   ]
  },
  {
   "cell_type": "code",
   "execution_count": 8,
   "id": "9914ae36-f4d8-421a-a2c7-969b3c94205d",
   "metadata": {},
   "outputs": [],
   "source": [
    "m0 = DatasetPolar(ligands, [\"\"], replicas, size)\n",
    "ib = DatasetPolar(ligands, [\"ib\"], replicas, size)\n",
    "ig = DatasetPolar(ligands, [\"ig\"], replicas, size)\n",
    "i0 = DatasetPolar(ligands, [\"i0\"], replicas, size)\n",
    "i3 = DatasetPolar(ligands, [\"i3\"], replicas, size)\n",
    "i4 = DatasetPolar(ligands, [\"i4\"], replicas, size)"
   ]
  },
  {
   "cell_type": "code",
   "execution_count": 9,
   "id": "487b1378-f48b-4000-9277-d5139d59ade8",
   "metadata": {},
   "outputs": [
    {
     "name": "stdout",
     "output_type": "stream",
     "text": [
      "11592 11592 11592 11592 11592 11592\n"
     ]
    }
   ],
   "source": [
    "print(len(m0), len(ib), len(ig), len(i0), len(i3), len(i4))"
   ]
  },
  {
   "cell_type": "code",
   "execution_count": 10,
   "id": "87da8cb2-3772-406d-b22c-5072d326f172",
   "metadata": {},
   "outputs": [],
   "source": [
    "m0_train, m0_val, m0_test = torch.utils.data.random_split(m0, [6956, 2318, 2318])\n",
    "ib_train, ib_val, ib_test = torch.utils.data.random_split(ib, [6956, 2318, 2318])\n",
    "ig_train, ig_val, ig_test = torch.utils.data.random_split(ig, [6956, 2318, 2318])\n",
    "i0_train, i0_val, i0_test = torch.utils.data.random_split(i0, [6956, 2318, 2318])\n",
    "i3_train, i3_val, i3_test = torch.utils.data.random_split(i3, [6956, 2318, 2318])\n",
    "i4_train, i4_val, i4_test = torch.utils.data.random_split(i4, [6956, 2318, 2318])"
   ]
  },
  {
   "cell_type": "code",
   "execution_count": 11,
   "id": "0afc4931-c4c7-42a3-b4db-4e55cafec745",
   "metadata": {},
   "outputs": [],
   "source": [
    "# extract all data and labels from each torch subset object and refactor into my own objects\n",
    "\n",
    "def extract_xy(subsets):\n",
    "    train, val, test = subsets # unpack tuple\n",
    "    train_X = [item[0] for item in train]\n",
    "    train_Y = [item[1] for item in train]\n",
    "    val_X = [item[0] for item in val]\n",
    "    val_Y = [item[1] for item in val]\n",
    "    test_X = [item[0] for item in test]\n",
    "    test_Y = [item[1] for item in test]\n",
    "    \n",
    "    return train_X, train_Y, val_X, val_Y, test_X, test_Y"
   ]
  },
  {
   "cell_type": "code",
   "execution_count": 12,
   "id": "00cbcb18-5e0a-493b-b11f-8c1a37562111",
   "metadata": {},
   "outputs": [],
   "source": [
    "m0_train_X, m0_train_Y, m0_val_X, m0_val_Y, m0_test_X, m0_test_Y = extract_xy((m0_train, m0_val, m0_test))\n",
    "ib_train_X, ib_train_Y, ib_val_X, ib_val_Y, ib_test_X, ib_test_Y = extract_xy((ib_train, ib_val, ib_test))\n",
    "ig_train_X, ig_train_Y, ig_val_X, ig_val_Y, ig_test_X, ig_test_Y = extract_xy((ig_train, ig_val, ig_test))\n",
    "i0_train_X, i0_train_Y, i0_val_X, i0_val_Y, i0_test_X, i0_test_Y = extract_xy((i0_train, i0_val, i0_test))\n",
    "i3_train_X, i3_train_Y, i3_val_X, i3_val_Y, i3_test_X, i3_test_Y = extract_xy((i3_train, i3_val, i3_test))\n",
    "i4_train_X, i4_train_Y, i4_val_X, i4_val_Y, i4_test_X, i4_test_Y = extract_xy((i4_train, i4_val, i4_test))"
   ]
  },
  {
   "cell_type": "code",
   "execution_count": 13,
   "id": "54c09c51-0d4d-4445-8583-9d74dff36bc7",
   "metadata": {},
   "outputs": [],
   "source": [
    "# split into 60/20/20 for each polarization dataset\n",
    "# more empirical method to analyze model metrics across each polarization\n",
    "\n",
    "# X = np.vstack([m0.data, ib.data, ig.data, i0.data, i3.data, i4.data])\n",
    "# Y = np.hstack([m0.labels, ib.labels, ig.labels, i0.labels, i3.labels, i4.labels])"
   ]
  },
  {
   "cell_type": "code",
   "execution_count": 14,
   "id": "b1b48196-cd03-4844-a280-4e0a6282cc73",
   "metadata": {},
   "outputs": [],
   "source": [
    "class TorchData:\n",
    "    def __init__(self, data, labels):\n",
    "        self.data = data\n",
    "        self.labels = labels\n",
    "        \n",
    "    def __len__(self):\n",
    "        return len(self.data)\n",
    "    \n",
    "    def __getitem__(self, idx):\n",
    "        return self.data[idx], self.labels[idx]"
   ]
  },
  {
   "cell_type": "code",
   "execution_count": 15,
   "id": "5317d177-5862-42a4-a3c0-54f9b0a5ddaf",
   "metadata": {},
   "outputs": [],
   "source": [
    "# need to concat all train_X and train_Y into one dataset for training\n",
    "train_X = np.vstack([m0_train_X, ib_train_X, ig_train_X, i0_train_X, i3_train_X, i4_train_X])\n",
    "train_Y = np.hstack([m0_train_Y, ib_train_Y, ig_train_Y, i0_train_Y, i3_train_Y, i4_train_Y])\n",
    "\n",
    "val_X = np.vstack([m0_val_X, ib_val_X, ig_val_X, i0_val_X, i3_val_X, i4_val_X])\n",
    "val_Y = np.hstack([m0_val_Y, ib_val_Y, ig_val_Y, i0_val_Y, i3_val_Y, i4_val_Y])\n",
    "\n",
    "test_X = np.vstack([m0_test_X, ib_test_X, ig_test_X, i0_test_X, i3_test_X, i4_test_X])\n",
    "test_Y = np.hstack([m0_test_Y, ib_test_Y, ig_test_Y, i0_test_Y, i3_test_Y, i4_test_Y])"
   ]
  },
  {
   "cell_type": "code",
   "execution_count": 16,
   "id": "88d31a75-c69e-4e1f-b226-a42d347c5546",
   "metadata": {},
   "outputs": [
    {
     "name": "stdout",
     "output_type": "stream",
     "text": [
      "(41736, 98, 1) (41736,)\n",
      "(13908, 98, 1) (13908,)\n",
      "(13908, 98, 1) (13908,)\n"
     ]
    }
   ],
   "source": [
    "print(train_X.shape, train_Y.shape)\n",
    "print(val_X.shape, val_Y.shape)\n",
    "print(test_X.shape, test_Y.shape)"
   ]
  },
  {
   "cell_type": "code",
   "execution_count": 17,
   "id": "20600a43-b8f7-48fe-9ae5-89e0c9de5828",
   "metadata": {},
   "outputs": [],
   "source": [
    "train = TorchData(train_X, train_Y)\n",
    "val = TorchData(val_X, val_Y)\n",
    "test = TorchData(test_X, test_Y)"
   ]
  },
  {
   "cell_type": "code",
   "execution_count": 18,
   "id": "c7bfddca-9b56-4487-b3d8-bba7a313e2aa",
   "metadata": {},
   "outputs": [],
   "source": [
    "trainloader = torch.utils.data.DataLoader(train, batch_size=64, shuffle=True)\n",
    "valloader = torch.utils.data.DataLoader(val, batch_size=64, shuffle=True)\n",
    "testloader = torch.utils.data.DataLoader(test, batch_size=64, shuffle=True)"
   ]
  },
  {
   "cell_type": "code",
   "execution_count": 19,
   "id": "9919155f-d1f4-4c18-8ef0-d775c609cc32",
   "metadata": {},
   "outputs": [],
   "source": [
    "# hyperparameters\n",
    "input_size = 1\n",
    "hidden_size = 98\n",
    "output_size = 9\n",
    "\n",
    "lr = 0.001\n",
    "n_epochs = 70\n",
    "batch_size = 64\n",
    "device = torch.device('cuda')"
   ]
  },
  {
   "cell_type": "code",
   "execution_count": 20,
   "id": "a61f9484-e2d2-40dd-b711-b511c4a4ef06",
   "metadata": {},
   "outputs": [],
   "source": [
    "net = LSTM(input_size=input_size, hidden_sizes=hidden_size, output_size=output_size, num_layers=3, device=device)"
   ]
  },
  {
   "cell_type": "code",
   "execution_count": 21,
   "id": "9773aa39-3996-44ea-9072-5dd8b7adda1d",
   "metadata": {},
   "outputs": [
    {
     "data": {
      "text/plain": [
       "LSTM(\n",
       "  (lstm): LSTM(1, 98, num_layers=3, batch_first=True)\n",
       "  (fc1): Linear(in_features=98, out_features=9, bias=True)\n",
       ")"
      ]
     },
     "execution_count": 21,
     "metadata": {},
     "output_type": "execute_result"
    }
   ],
   "source": [
    "net.train()"
   ]
  },
  {
   "cell_type": "code",
   "execution_count": 22,
   "id": "795b3f2b-cd9f-42dd-9465-f404e58a4656",
   "metadata": {},
   "outputs": [],
   "source": [
    "trainer = LSTMTrainer(model=net, device=device)"
   ]
  },
  {
   "cell_type": "code",
   "execution_count": 23,
   "id": "852b0ba2-689d-4eb4-b57d-29849b6d234f",
   "metadata": {
    "scrolled": true,
    "tags": []
   },
   "outputs": [
    {
     "name": "stderr",
     "output_type": "stream",
     "text": [
      "  1%|█▏                                                                                 | 1/70 [00:08<10:12,  8.88s/it]"
     ]
    },
    {
     "name": "stdout",
     "output_type": "stream",
     "text": [
      "Epoch 001: | Training Loss: 2.1889120849679475 | Validation Loss: 2.1973868739714315\n"
     ]
    },
    {
     "name": "stderr",
     "output_type": "stream",
     "text": [
      "  3%|██▎                                                                                | 2/70 [00:16<09:27,  8.35s/it]"
     ]
    },
    {
     "name": "stdout",
     "output_type": "stream",
     "text": [
      "Epoch 002: | Training Loss: 2.1930736053227284 | Validation Loss: 2.1978027426868403\n"
     ]
    },
    {
     "name": "stderr",
     "output_type": "stream",
     "text": [
      "  4%|███▌                                                                               | 3/70 [00:25<09:14,  8.28s/it]"
     ]
    },
    {
     "name": "stdout",
     "output_type": "stream",
     "text": [
      "Epoch 003: | Training Loss: 2.1874619360904783 | Validation Loss: 2.1631973741251396\n"
     ]
    },
    {
     "name": "stderr",
     "output_type": "stream",
     "text": [
      "  6%|████▋                                                                              | 4/70 [00:34<09:48,  8.92s/it]"
     ]
    },
    {
     "name": "stdout",
     "output_type": "stream",
     "text": [
      "Epoch 004: | Training Loss: 2.1542148907735923 | Validation Loss: 2.0673160498295355\n"
     ]
    },
    {
     "name": "stderr",
     "output_type": "stream",
     "text": [
      "  7%|█████▉                                                                             | 5/70 [00:45<10:12,  9.42s/it]"
     ]
    },
    {
     "name": "stdout",
     "output_type": "stream",
     "text": [
      "Epoch 005: | Training Loss: 2.0848125317925517 | Validation Loss: 2.076764787009003\n"
     ]
    },
    {
     "name": "stderr",
     "output_type": "stream",
     "text": [
      "  9%|███████                                                                            | 6/70 [00:55<10:21,  9.72s/it]"
     ]
    },
    {
     "name": "stdout",
     "output_type": "stream",
     "text": [
      "Epoch 006: | Training Loss: 2.1145666052700003 | Validation Loss: 2.1232732501598672\n"
     ]
    },
    {
     "name": "stderr",
     "output_type": "stream",
     "text": [
      " 10%|████████▎                                                                          | 7/70 [01:05<10:26,  9.95s/it]"
     ]
    },
    {
     "name": "stdout",
     "output_type": "stream",
     "text": [
      "Epoch 007: | Training Loss: 2.0456049046144003 | Validation Loss: 1.953678115245399\n"
     ]
    },
    {
     "name": "stderr",
     "output_type": "stream",
     "text": [
      " 11%|█████████▍                                                                         | 8/70 [01:16<10:24, 10.07s/it]"
     ]
    },
    {
     "name": "stdout",
     "output_type": "stream",
     "text": [
      "Epoch 008: | Training Loss: 1.8875662674400013 | Validation Loss: 1.78723481816983\n"
     ]
    },
    {
     "name": "stderr",
     "output_type": "stream",
     "text": [
      " 13%|██████████▋                                                                        | 9/70 [01:26<10:16, 10.11s/it]"
     ]
    },
    {
     "name": "stdout",
     "output_type": "stream",
     "text": [
      "Epoch 009: | Training Loss: 1.7513390348662279 | Validation Loss: 1.7121539208867134\n"
     ]
    },
    {
     "name": "stderr",
     "output_type": "stream",
     "text": [
      " 14%|███████████▋                                                                      | 10/70 [01:36<10:10, 10.18s/it]"
     ]
    },
    {
     "name": "stdout",
     "output_type": "stream",
     "text": [
      "Epoch 010: | Training Loss: 1.6744175568839128 | Validation Loss: 1.6248248864751342\n"
     ]
    },
    {
     "name": "stderr",
     "output_type": "stream",
     "text": [
      " 16%|████████████▉                                                                     | 11/70 [01:47<10:05, 10.26s/it]"
     ]
    },
    {
     "name": "stdout",
     "output_type": "stream",
     "text": [
      "Epoch 011: | Training Loss: 1.617750819572811 | Validation Loss: 1.6186249250665716\n"
     ]
    },
    {
     "name": "stderr",
     "output_type": "stream",
     "text": [
      " 17%|██████████████                                                                    | 12/70 [01:57<09:54, 10.25s/it]"
     ]
    },
    {
     "name": "stdout",
     "output_type": "stream",
     "text": [
      "Epoch 012: | Training Loss: 1.572113661817168 | Validation Loss: 1.5452086012297814\n"
     ]
    },
    {
     "name": "stderr",
     "output_type": "stream",
     "text": [
      " 19%|███████████████▏                                                                  | 13/70 [02:07<09:45, 10.28s/it]"
     ]
    },
    {
     "name": "stdout",
     "output_type": "stream",
     "text": [
      "Epoch 013: | Training Loss: 1.532598544225941 | Validation Loss: 1.515818202167476\n"
     ]
    },
    {
     "name": "stderr",
     "output_type": "stream",
     "text": [
      " 20%|████████████████▍                                                                 | 14/70 [02:18<09:36, 10.30s/it]"
     ]
    },
    {
     "name": "stdout",
     "output_type": "stream",
     "text": [
      "Epoch 014: | Training Loss: 1.5007984457483337 | Validation Loss: 1.5186028650047583\n"
     ]
    },
    {
     "name": "stderr",
     "output_type": "stream",
     "text": [
      " 21%|█████████████████▌                                                                | 15/70 [02:28<09:29, 10.35s/it]"
     ]
    },
    {
     "name": "stdout",
     "output_type": "stream",
     "text": [
      "Epoch 015: | Training Loss: 1.4696081975335185 | Validation Loss: 1.4428245408819356\n"
     ]
    },
    {
     "name": "stderr",
     "output_type": "stream",
     "text": [
      " 23%|██████████████████▋                                                               | 16/70 [02:39<09:20, 10.38s/it]"
     ]
    },
    {
     "name": "stdout",
     "output_type": "stream",
     "text": [
      "Epoch 016: | Training Loss: 1.4330528815709065 | Validation Loss: 1.4355539345960004\n"
     ]
    },
    {
     "name": "stderr",
     "output_type": "stream",
     "text": [
      " 24%|███████████████████▉                                                              | 17/70 [02:49<09:12, 10.42s/it]"
     ]
    },
    {
     "name": "stdout",
     "output_type": "stream",
     "text": [
      "Epoch 017: | Training Loss: 1.4090445749975091 | Validation Loss: 1.4071788651133896\n"
     ]
    },
    {
     "name": "stderr",
     "output_type": "stream",
     "text": [
      " 26%|█████████████████████                                                             | 18/70 [03:00<09:02, 10.43s/it]"
     ]
    },
    {
     "name": "stdout",
     "output_type": "stream",
     "text": [
      "Epoch 018: | Training Loss: 1.3665533096830476 | Validation Loss: 1.3700239149802322\n"
     ]
    },
    {
     "name": "stderr",
     "output_type": "stream",
     "text": [
      " 27%|██████████████████████▎                                                           | 19/70 [03:10<08:52, 10.45s/it]"
     ]
    },
    {
     "name": "stdout",
     "output_type": "stream",
     "text": [
      "Epoch 019: | Training Loss: 1.336368304299359 | Validation Loss: 1.3768178694838777\n"
     ]
    },
    {
     "name": "stderr",
     "output_type": "stream",
     "text": [
      " 29%|███████████████████████▍                                                          | 20/70 [03:20<08:40, 10.40s/it]"
     ]
    },
    {
     "name": "stdout",
     "output_type": "stream",
     "text": [
      "Epoch 020: | Training Loss: 1.3060707545755104 | Validation Loss: 1.323083139340812\n"
     ]
    },
    {
     "name": "stderr",
     "output_type": "stream",
     "text": [
      " 30%|████████████████████████▌                                                         | 21/70 [03:31<08:29, 10.40s/it]"
     ]
    },
    {
     "name": "stdout",
     "output_type": "stream",
     "text": [
      "Epoch 021: | Training Loss: 1.281182594722847 | Validation Loss: 1.3037763309041295\n"
     ]
    },
    {
     "name": "stderr",
     "output_type": "stream",
     "text": [
      " 31%|█████████████████████████▊                                                        | 22/70 [03:41<08:20, 10.42s/it]"
     ]
    },
    {
     "name": "stdout",
     "output_type": "stream",
     "text": [
      "Epoch 022: | Training Loss: 1.2551180764142806 | Validation Loss: 1.2984894194187375\n"
     ]
    },
    {
     "name": "stderr",
     "output_type": "stream",
     "text": [
      " 33%|██████████████████████████▉                                                       | 23/70 [03:52<08:08, 10.40s/it]"
     ]
    },
    {
     "name": "stdout",
     "output_type": "stream",
     "text": [
      "Epoch 023: | Training Loss: 1.228371306090041 | Validation Loss: 1.2907694291084184\n"
     ]
    },
    {
     "name": "stderr",
     "output_type": "stream",
     "text": [
      " 34%|████████████████████████████                                                      | 24/70 [04:02<07:59, 10.41s/it]"
     ]
    },
    {
     "name": "stdout",
     "output_type": "stream",
     "text": [
      "Epoch 024: | Training Loss: 1.2044623845569207 | Validation Loss: 1.2519876494866993\n"
     ]
    },
    {
     "name": "stderr",
     "output_type": "stream",
     "text": [
      " 36%|█████████████████████████████▎                                                    | 25/70 [04:12<07:46, 10.37s/it]"
     ]
    },
    {
     "name": "stdout",
     "output_type": "stream",
     "text": [
      "Epoch 025: | Training Loss: 1.1954554981148444 | Validation Loss: 1.2469040478041413\n"
     ]
    },
    {
     "name": "stderr",
     "output_type": "stream",
     "text": [
      " 37%|██████████████████████████████▍                                                   | 26/70 [04:23<07:35, 10.36s/it]"
     ]
    },
    {
     "name": "stdout",
     "output_type": "stream",
     "text": [
      "Epoch 026: | Training Loss: 1.158438485395306 | Validation Loss: 1.2324609064727747\n"
     ]
    },
    {
     "name": "stderr",
     "output_type": "stream",
     "text": [
      " 39%|███████████████████████████████▋                                                  | 27/70 [04:33<07:26, 10.38s/it]"
     ]
    },
    {
     "name": "stdout",
     "output_type": "stream",
     "text": [
      "Epoch 027: | Training Loss: 1.1377802214615196 | Validation Loss: 1.2416058136235684\n"
     ]
    },
    {
     "name": "stderr",
     "output_type": "stream",
     "text": [
      " 40%|████████████████████████████████▊                                                 | 28/70 [04:43<07:15, 10.37s/it]"
     ]
    },
    {
     "name": "stdout",
     "output_type": "stream",
     "text": [
      "Epoch 028: | Training Loss: 1.1155551042162442 | Validation Loss: 1.2086375711161061\n"
     ]
    },
    {
     "name": "stderr",
     "output_type": "stream",
     "text": [
      " 41%|█████████████████████████████████▉                                                | 29/70 [04:54<07:04, 10.35s/it]"
     ]
    },
    {
     "name": "stdout",
     "output_type": "stream",
     "text": [
      "Epoch 029: | Training Loss: 1.098691468855871 | Validation Loss: 1.1750990639039136\n"
     ]
    },
    {
     "name": "stderr",
     "output_type": "stream",
     "text": [
      " 43%|███████████████████████████████████▏                                              | 30/70 [05:04<06:55, 10.39s/it]"
     ]
    },
    {
     "name": "stdout",
     "output_type": "stream",
     "text": [
      "Epoch 030: | Training Loss: 1.0737426460793336 | Validation Loss: 1.1641077287153367\n"
     ]
    },
    {
     "name": "stderr",
     "output_type": "stream",
     "text": [
      " 44%|████████████████████████████████████▎                                             | 31/70 [05:15<06:45, 10.40s/it]"
     ]
    },
    {
     "name": "stdout",
     "output_type": "stream",
     "text": [
      "Epoch 031: | Training Loss: 1.047389587892325 | Validation Loss: 1.1691393803019043\n"
     ]
    },
    {
     "name": "stderr",
     "output_type": "stream",
     "text": [
      " 46%|█████████████████████████████████████▍                                            | 32/70 [05:25<06:36, 10.43s/it]"
     ]
    },
    {
     "name": "stdout",
     "output_type": "stream",
     "text": [
      "Epoch 032: | Training Loss: 1.0501798065935488 | Validation Loss: 1.1767427235021504\n"
     ]
    },
    {
     "name": "stderr",
     "output_type": "stream",
     "text": [
      " 47%|██████████████████████████████████████▋                                           | 33/70 [05:36<06:25, 10.43s/it]"
     ]
    },
    {
     "name": "stdout",
     "output_type": "stream",
     "text": [
      "Epoch 033: | Training Loss: 1.0002402193148323 | Validation Loss: 1.1269328030971213\n"
     ]
    },
    {
     "name": "stderr",
     "output_type": "stream",
     "text": [
      " 49%|███████████████████████████████████████▊                                          | 34/70 [05:46<06:15, 10.43s/it]"
     ]
    },
    {
     "name": "stdout",
     "output_type": "stream",
     "text": [
      "Epoch 034: | Training Loss: 0.9888312730818394 | Validation Loss: 1.1534584361478823\n"
     ]
    },
    {
     "name": "stderr",
     "output_type": "stream",
     "text": [
      " 50%|█████████████████████████████████████████                                         | 35/70 [05:56<06:04, 10.42s/it]"
     ]
    },
    {
     "name": "stdout",
     "output_type": "stream",
     "text": [
      "Epoch 035: | Training Loss: 0.9609363242458968 | Validation Loss: 1.1336802263325507\n"
     ]
    },
    {
     "name": "stderr",
     "output_type": "stream",
     "text": [
      " 51%|██████████████████████████████████████████▏                                       | 36/70 [06:07<05:54, 10.41s/it]"
     ]
    },
    {
     "name": "stdout",
     "output_type": "stream",
     "text": [
      "Epoch 036: | Training Loss: 0.9241322116501298 | Validation Loss: 1.1073195565184322\n"
     ]
    },
    {
     "name": "stderr",
     "output_type": "stream",
     "text": [
      " 53%|███████████████████████████████████████████▎                                      | 37/70 [06:17<05:43, 10.41s/it]"
     ]
    },
    {
     "name": "stdout",
     "output_type": "stream",
     "text": [
      "Epoch 037: | Training Loss: 0.913897993371096 | Validation Loss: 1.1154564118713415\n"
     ]
    },
    {
     "name": "stderr",
     "output_type": "stream",
     "text": [
      " 54%|████████████████████████████████████████████▌                                     | 38/70 [06:28<05:33, 10.43s/it]"
     ]
    },
    {
     "name": "stdout",
     "output_type": "stream",
     "text": [
      "Epoch 038: | Training Loss: 0.8778421954575578 | Validation Loss: 1.088725776027102\n"
     ]
    },
    {
     "name": "stderr",
     "output_type": "stream",
     "text": [
      " 56%|█████████████████████████████████████████████▋                                    | 39/70 [06:38<05:22, 10.40s/it]"
     ]
    },
    {
     "name": "stdout",
     "output_type": "stream",
     "text": [
      "Epoch 039: | Training Loss: 0.8596977545875503 | Validation Loss: 1.0619839227527654\n"
     ]
    },
    {
     "name": "stderr",
     "output_type": "stream",
     "text": [
      " 57%|██████████████████████████████████████████████▊                                   | 40/70 [06:48<05:11, 10.39s/it]"
     ]
    },
    {
     "name": "stdout",
     "output_type": "stream",
     "text": [
      "Epoch 040: | Training Loss: 0.8367036895036333 | Validation Loss: 1.0642258038214587\n"
     ]
    },
    {
     "name": "stderr",
     "output_type": "stream",
     "text": [
      " 59%|████████████████████████████████████████████████                                  | 41/70 [06:59<05:02, 10.44s/it]"
     ]
    },
    {
     "name": "stdout",
     "output_type": "stream",
     "text": [
      "Epoch 041: | Training Loss: 0.8187460329549053 | Validation Loss: 1.0577771075821798\n"
     ]
    },
    {
     "name": "stderr",
     "output_type": "stream",
     "text": [
      " 60%|█████████████████████████████████████████████████▏                                | 42/70 [07:09<04:51, 10.42s/it]"
     ]
    },
    {
     "name": "stdout",
     "output_type": "stream",
     "text": [
      "Epoch 042: | Training Loss: 0.7924737356158165 | Validation Loss: 1.06132132443813\n"
     ]
    },
    {
     "name": "stderr",
     "output_type": "stream",
     "text": [
      " 61%|██████████████████████████████████████████████████▎                               | 43/70 [07:20<04:41, 10.43s/it]"
     ]
    },
    {
     "name": "stdout",
     "output_type": "stream",
     "text": [
      "Epoch 043: | Training Loss: 0.768273050031107 | Validation Loss: 1.0553244601149079\n"
     ]
    },
    {
     "name": "stderr",
     "output_type": "stream",
     "text": [
      " 63%|███████████████████████████████████████████████████▌                              | 44/70 [07:30<04:31, 10.44s/it]"
     ]
    },
    {
     "name": "stdout",
     "output_type": "stream",
     "text": [
      "Epoch 044: | Training Loss: 0.7609518707072388 | Validation Loss: 1.060218673507008\n"
     ]
    },
    {
     "name": "stderr",
     "output_type": "stream",
     "text": [
      " 64%|████████████████████████████████████████████████████▋                             | 45/70 [07:41<04:20, 10.42s/it]"
     ]
    },
    {
     "name": "stdout",
     "output_type": "stream",
     "text": [
      "Epoch 045: | Training Loss: 0.7194276918952351 | Validation Loss: 1.0828728238377003\n"
     ]
    },
    {
     "name": "stderr",
     "output_type": "stream",
     "text": [
      " 66%|█████████████████████████████████████████████████████▉                            | 46/70 [07:51<04:10, 10.46s/it]"
     ]
    },
    {
     "name": "stdout",
     "output_type": "stream",
     "text": [
      "Epoch 046: | Training Loss: 0.6967540323551727 | Validation Loss: 1.0457567515176371\n"
     ]
    },
    {
     "name": "stderr",
     "output_type": "stream",
     "text": [
      " 67%|███████████████████████████████████████████████████████                           | 47/70 [08:00<03:49,  9.96s/it]"
     ]
    },
    {
     "name": "stdout",
     "output_type": "stream",
     "text": [
      "Epoch 047: | Training Loss: 0.6873814677662725 | Validation Loss: 1.0316449411965292\n"
     ]
    },
    {
     "name": "stderr",
     "output_type": "stream",
     "text": [
      " 69%|████████████████████████████████████████████████████████▏                         | 48/70 [08:08<03:26,  9.40s/it]"
     ]
    },
    {
     "name": "stdout",
     "output_type": "stream",
     "text": [
      "Epoch 048: | Training Loss: 0.6775672014055354 | Validation Loss: 1.015015475793716\n"
     ]
    },
    {
     "name": "stderr",
     "output_type": "stream",
     "text": [
      " 70%|█████████████████████████████████████████████████████████▍                        | 49/70 [08:16<03:08,  9.00s/it]"
     ]
    },
    {
     "name": "stdout",
     "output_type": "stream",
     "text": [
      "Epoch 049: | Training Loss: 0.6739654580265237 | Validation Loss: 1.095986216986945\n"
     ]
    },
    {
     "name": "stderr",
     "output_type": "stream",
     "text": [
      " 71%|██████████████████████████████████████████████████████████▌                       | 50/70 [08:24<02:53,  8.68s/it]"
     ]
    },
    {
     "name": "stdout",
     "output_type": "stream",
     "text": [
      "Epoch 050: | Training Loss: 0.6381023169294068 | Validation Loss: 1.0288599893587445\n"
     ]
    },
    {
     "name": "stderr",
     "output_type": "stream",
     "text": [
      " 73%|███████████████████████████████████████████████████████████▋                      | 51/70 [08:32<02:40,  8.46s/it]"
     ]
    },
    {
     "name": "stdout",
     "output_type": "stream",
     "text": [
      "Epoch 051: | Training Loss: 0.6027682468317916 | Validation Loss: 1.0207471795585177\n"
     ]
    },
    {
     "name": "stderr",
     "output_type": "stream",
     "text": [
      " 74%|████████████████████████████████████████████████████████████▉                     | 52/70 [08:40<02:29,  8.31s/it]"
     ]
    },
    {
     "name": "stdout",
     "output_type": "stream",
     "text": [
      "Epoch 052: | Training Loss: 0.5938343627985915 | Validation Loss: 0.9821951851385449\n"
     ]
    },
    {
     "name": "stderr",
     "output_type": "stream",
     "text": [
      " 76%|██████████████████████████████████████████████████████████████                    | 53/70 [08:48<02:19,  8.23s/it]"
     ]
    },
    {
     "name": "stdout",
     "output_type": "stream",
     "text": [
      "Epoch 053: | Training Loss: 0.578515231677803 | Validation Loss: 1.0509435529008917\n"
     ]
    },
    {
     "name": "stderr",
     "output_type": "stream",
     "text": [
      " 77%|███████████████████████████████████████████████████████████████▎                  | 54/70 [08:56<02:10,  8.14s/it]"
     ]
    },
    {
     "name": "stdout",
     "output_type": "stream",
     "text": [
      "Epoch 054: | Training Loss: 0.5558634587259789 | Validation Loss: 0.9956787130154601\n"
     ]
    },
    {
     "name": "stderr",
     "output_type": "stream",
     "text": [
      " 79%|████████████████████████████████████████████████████████████████▍                 | 55/70 [09:04<02:01,  8.11s/it]"
     ]
    },
    {
     "name": "stdout",
     "output_type": "stream",
     "text": [
      "Epoch 055: | Training Loss: 0.5285924014280255 | Validation Loss: 1.013893400583792\n"
     ]
    },
    {
     "name": "stderr",
     "output_type": "stream",
     "text": [
      " 80%|█████████████████████████████████████████████████████████████████▌                | 56/70 [09:12<01:52,  8.06s/it]"
     ]
    },
    {
     "name": "stdout",
     "output_type": "stream",
     "text": [
      "Epoch 056: | Training Loss: 0.5111360482837303 | Validation Loss: 0.9800931499638689\n"
     ]
    },
    {
     "name": "stderr",
     "output_type": "stream",
     "text": [
      " 81%|██████████████████████████████████████████████████████████████████▊               | 57/70 [09:20<01:44,  8.02s/it]"
     ]
    },
    {
     "name": "stdout",
     "output_type": "stream",
     "text": [
      "Epoch 057: | Training Loss: 0.5145039835211694 | Validation Loss: 0.9798763425798591\n"
     ]
    },
    {
     "name": "stderr",
     "output_type": "stream",
     "text": [
      " 83%|███████████████████████████████████████████████████████████████████▉              | 58/70 [09:28<01:36,  8.00s/it]"
     ]
    },
    {
     "name": "stdout",
     "output_type": "stream",
     "text": [
      "Epoch 058: | Training Loss: 0.47754434490459435 | Validation Loss: 0.9821885999189605\n"
     ]
    },
    {
     "name": "stderr",
     "output_type": "stream",
     "text": [
      " 84%|█████████████████████████████████████████████████████████████████████             | 59/70 [09:36<01:27,  7.98s/it]"
     ]
    },
    {
     "name": "stdout",
     "output_type": "stream",
     "text": [
      "Epoch 059: | Training Loss: 0.47977415699323506 | Validation Loss: 0.9806669482944208\n"
     ]
    },
    {
     "name": "stderr",
     "output_type": "stream",
     "text": [
      " 86%|██████████████████████████████████████████████████████████████████████▎           | 60/70 [09:44<01:20,  8.00s/it]"
     ]
    },
    {
     "name": "stdout",
     "output_type": "stream",
     "text": [
      "Epoch 060: | Training Loss: 0.4758664145723419 | Validation Loss: 0.9834228439615407\n"
     ]
    },
    {
     "name": "stderr",
     "output_type": "stream",
     "text": [
      " 87%|███████████████████████████████████████████████████████████████████████▍          | 61/70 [09:52<01:12,  8.03s/it]"
     ]
    },
    {
     "name": "stdout",
     "output_type": "stream",
     "text": [
      "Epoch 061: | Training Loss: 0.437591088653341 | Validation Loss: 1.0040978115359578\n"
     ]
    },
    {
     "name": "stderr",
     "output_type": "stream",
     "text": [
      " 89%|████████████████████████████████████████████████████████████████████████▋         | 62/70 [10:00<01:04,  8.02s/it]"
     ]
    },
    {
     "name": "stdout",
     "output_type": "stream",
     "text": [
      "Epoch 062: | Training Loss: 0.42626816196335765 | Validation Loss: 0.9722456457691455\n"
     ]
    },
    {
     "name": "stderr",
     "output_type": "stream",
     "text": [
      " 90%|█████████████████████████████████████████████████████████████████████████▊        | 63/70 [10:08<00:56,  8.00s/it]"
     ]
    },
    {
     "name": "stdout",
     "output_type": "stream",
     "text": [
      "Epoch 063: | Training Loss: 0.42380689518101183 | Validation Loss: 0.9797316317984818\n"
     ]
    },
    {
     "name": "stderr",
     "output_type": "stream",
     "text": [
      " 91%|██████████████████████████████████████████████████████████████████████████▉       | 64/70 [10:16<00:48,  8.02s/it]"
     ]
    },
    {
     "name": "stdout",
     "output_type": "stream",
     "text": [
      "Epoch 064: | Training Loss: 0.4373308786891321 | Validation Loss: 0.9407964246262104\n"
     ]
    },
    {
     "name": "stderr",
     "output_type": "stream",
     "text": [
      " 93%|████████████████████████████████████████████████████████████████████████████▏     | 65/70 [10:24<00:40,  8.02s/it]"
     ]
    },
    {
     "name": "stdout",
     "output_type": "stream",
     "text": [
      "Epoch 065: | Training Loss: 0.42362479425133825 | Validation Loss: 0.9794571328600612\n"
     ]
    },
    {
     "name": "stderr",
     "output_type": "stream",
     "text": [
      " 94%|█████████████████████████████████████████████████████████████████████████████▎    | 66/70 [10:32<00:32,  8.03s/it]"
     ]
    },
    {
     "name": "stdout",
     "output_type": "stream",
     "text": [
      "Epoch 066: | Training Loss: 0.3799879014104103 | Validation Loss: 0.9804137891859089\n"
     ]
    },
    {
     "name": "stderr",
     "output_type": "stream",
     "text": [
      " 96%|██████████████████████████████████████████████████████████████████████████████▍   | 67/70 [10:40<00:24,  8.02s/it]"
     ]
    },
    {
     "name": "stdout",
     "output_type": "stream",
     "text": [
      "Epoch 067: | Training Loss: 0.3778781495406471 | Validation Loss: 0.9891856892393269\n"
     ]
    },
    {
     "name": "stderr",
     "output_type": "stream",
     "text": [
      " 97%|███████████████████████████████████████████████████████████████████████████████▋  | 68/70 [10:48<00:15,  7.99s/it]"
     ]
    },
    {
     "name": "stdout",
     "output_type": "stream",
     "text": [
      "Epoch 068: | Training Loss: 0.37539518541252814 | Validation Loss: 0.9940326398392336\n"
     ]
    },
    {
     "name": "stderr",
     "output_type": "stream",
     "text": [
      " 99%|████████████████████████████████████████████████████████████████████████████████▊ | 69/70 [10:56<00:07,  7.95s/it]"
     ]
    },
    {
     "name": "stdout",
     "output_type": "stream",
     "text": [
      "Epoch 069: | Training Loss: 0.38402905088106304 | Validation Loss: 0.9828211386269385\n"
     ]
    },
    {
     "name": "stderr",
     "output_type": "stream",
     "text": [
      "100%|██████████████████████████████████████████████████████████████████████████████████| 70/70 [11:04<00:00,  9.49s/it]"
     ]
    },
    {
     "name": "stdout",
     "output_type": "stream",
     "text": [
      "Epoch 070: | Training Loss: 0.3279603679092518 | Validation Loss: 0.9926595239464296\n"
     ]
    },
    {
     "name": "stderr",
     "output_type": "stream",
     "text": [
      "\n"
     ]
    }
   ],
   "source": [
    "trainer.train(trainloader, valloader, batch_size=batch_size, n_epochs=n_epochs)"
   ]
  },
  {
   "cell_type": "code",
   "execution_count": 24,
   "id": "4a0166e8-07c3-472a-a89a-e6e537e9fb1d",
   "metadata": {},
   "outputs": [
    {
     "data": {
      "text/plain": [
       "[<matplotlib.lines.Line2D at 0x215c1607e20>]"
      ]
     },
     "execution_count": 24,
     "metadata": {},
     "output_type": "execute_result"
    },
    {
     "data": {
      "image/png": "[encoded data removed]",
      "text/plain": [
       "<Figure size 432x288 with 1 Axes>"
      ]
     },
     "metadata": {
      "needs_background": "light"
     },
     "output_type": "display_data"
    }
   ],
   "source": [
    "# visualize training/validation loss\n",
    "plt.plot(trainer.loss_history[0])\n",
    "plt.plot(trainer.loss_history[1])\n",
    "\n",
    "# some forgetting, could rerun"
   ]
  },
  {
   "cell_type": "code",
   "execution_count": 25,
   "id": "39105e05-712d-4b2f-8ee1-0dae71ecb2bf",
   "metadata": {},
   "outputs": [],
   "source": [
    "# trainer.evaluate with testloader\n",
    "prob, pred, true = trainer.evaluate(testloader)"
   ]
  },
  {
   "cell_type": "code",
   "execution_count": 26,
   "id": "f2650600-dad5-4b4c-964f-65ac6f074452",
   "metadata": {},
   "outputs": [],
   "source": [
    "from sklearn.metrics import classification_report"
   ]
  },
  {
   "cell_type": "code",
   "execution_count": 27,
   "id": "373e59bc-d248-481d-ae38-fe68a1d2697a",
   "metadata": {},
   "outputs": [],
   "source": [
    "cr = classification_report(true, pred, target_names=ligands)"
   ]
  },
  {
   "cell_type": "code",
   "execution_count": 28,
   "id": "940c490a-d41d-4657-a36a-a08bdd677b4e",
   "metadata": {},
   "outputs": [
    {
     "name": "stdout",
     "output_type": "stream",
     "text": [
      "              precision    recall  f1-score   support\n",
      "\n",
      "         TNF       0.74      0.71      0.72      1526\n",
      "         R84       0.84      0.79      0.81      1563\n",
      "         PIC       0.80      0.79      0.80      1552\n",
      "         P3K       0.73      0.76      0.75      1568\n",
      "         FLA       0.69      0.64      0.67      1549\n",
      "         CpG       0.67      0.66      0.67      1506\n",
      "         FSL       0.66      0.65      0.66      1521\n",
      "         LPS       0.64      0.71      0.67      1568\n",
      "         UST       0.96      1.00      0.98      1555\n",
      "\n",
      "    accuracy                           0.75     13908\n",
      "   macro avg       0.75      0.75      0.75     13908\n",
      "weighted avg       0.75      0.75      0.75     13908\n",
      "\n"
     ]
    }
   ],
   "source": [
    "print(cr) # similar results to apeksha's model ~ 55% accuracy"
   ]
  },
  {
   "cell_type": "code",
   "execution_count": 29,
   "id": "9b18b50a-6cf2-4a63-9e23-10c960a428f0",
   "metadata": {},
   "outputs": [],
   "source": [
    "fraction = Fraction(true, prob)"
   ]
  },
  {
   "cell_type": "code",
   "execution_count": 30,
   "id": "bc199f6c-ecdb-4fff-a90b-40d747ec6b48",
   "metadata": {},
   "outputs": [
    {
     "data": {
      "image/png": "[encoded data removed]",
      "text/plain": [
       "<Figure size 432x288 with 2 Axes>"
      ]
     },
     "metadata": {
      "needs_background": "light"
     },
     "output_type": "display_data"
    }
   ],
   "source": [
    "cf = sns.heatmap(fraction, cmap=\"BuPu\", xticklabels=ligands)"
   ]
  },
  {
   "cell_type": "markdown",
   "id": "09a048cf-b820-4cbc-8c71-cf0f333061a0",
   "metadata": {},
   "source": [
    "## Polarization State Analysis"
   ]
  },
  {
   "cell_type": "code",
   "execution_count": 31,
   "id": "ba719f75-ed72-4d67-a597-c96d1316325e",
   "metadata": {},
   "outputs": [],
   "source": [
    "# refactor each polarization test_X and test_Y into torchdata object\n",
    "# evaluate each one separately then concat and evaluate holistically\n",
    "\n",
    "m0_test = TorchData(m0_test_X, m0_test_Y)\n",
    "ib_test = TorchData(ib_test_X, ib_test_Y)\n",
    "ig_test = TorchData(ig_test_X, ig_test_Y)\n",
    "i0_test = TorchData(i0_test_X, i0_test_Y)\n",
    "i3_test = TorchData(i3_test_X, i3_test_Y)\n",
    "i4_test = TorchData(i4_test_X, i4_test_Y)"
   ]
  },
  {
   "cell_type": "code",
   "execution_count": 32,
   "id": "9eee2428-3a3f-4a1e-96f9-32f937b8cbfd",
   "metadata": {},
   "outputs": [],
   "source": [
    "m0_loader = torch.utils.data.DataLoader(m0_test, batch_size=64, shuffle=True)\n",
    "ib_loader = torch.utils.data.DataLoader(ib_test, batch_size=64, shuffle=True)\n",
    "ig_loader = torch.utils.data.DataLoader(ig_test, batch_size=64, shuffle=True)\n",
    "i0_loader = torch.utils.data.DataLoader(i0_test, batch_size=64, shuffle=True)\n",
    "i3_loader = torch.utils.data.DataLoader(i3_test, batch_size=64, shuffle=True)\n",
    "i4_loader = torch.utils.data.DataLoader(i4_test, batch_size=64, shuffle=True)"
   ]
  },
  {
   "cell_type": "code",
   "execution_count": 33,
   "id": "f2cb97e6-a6a2-474e-a196-b72e031b053f",
   "metadata": {},
   "outputs": [],
   "source": [
    "m0_prob, m0_pred, m0_true = trainer.evaluate(m0_loader)"
   ]
  },
  {
   "cell_type": "code",
   "execution_count": 34,
   "id": "087a483b-458e-4477-969e-ef42bcdf59ee",
   "metadata": {},
   "outputs": [],
   "source": [
    "ib_prob, ib_pred, ib_true = trainer.evaluate(ib_loader)"
   ]
  },
  {
   "cell_type": "code",
   "execution_count": 35,
   "id": "37aecf6a-42e4-498a-8b6d-24caddf7f1cf",
   "metadata": {},
   "outputs": [],
   "source": [
    "ig_prob, ig_pred, ig_true = trainer.evaluate(ig_loader)"
   ]
  },
  {
   "cell_type": "code",
   "execution_count": 36,
   "id": "671dda61-5b8a-457a-a886-0ab26bc4650b",
   "metadata": {},
   "outputs": [],
   "source": [
    "i0_prob, i0_pred, i0_true = trainer.evaluate(i0_loader)"
   ]
  },
  {
   "cell_type": "code",
   "execution_count": 37,
   "id": "0a460eb8-f035-45a8-b35d-42dae84c2259",
   "metadata": {},
   "outputs": [],
   "source": [
    "i3_prob, i3_pred, i3_true = trainer.evaluate(i3_loader)"
   ]
  },
  {
   "cell_type": "code",
   "execution_count": 38,
   "id": "8dacdf5a-08ae-4d27-9a71-3341dbbee8a3",
   "metadata": {},
   "outputs": [],
   "source": [
    "i4_prob, i4_pred, i4_true = trainer.evaluate(i4_loader)"
   ]
  },
  {
   "cell_type": "markdown",
   "id": "53bf1352-99e1-422e-ade2-3db38b74d255",
   "metadata": {},
   "source": [
    "### M0"
   ]
  },
  {
   "cell_type": "code",
   "execution_count": 39,
   "id": "3c21c5ff-62d9-4324-9d8f-1ce5d4b50e3b",
   "metadata": {},
   "outputs": [
    {
     "name": "stdout",
     "output_type": "stream",
     "text": [
      "              precision    recall  f1-score     support\n",
      "TNF            0.683206  0.716000  0.699219   250.00000\n",
      "R84            0.780142  0.830189  0.804388   265.00000\n",
      "PIC            0.817544  0.896154  0.855046   260.00000\n",
      "P3K            0.535593  0.683983  0.600760   231.00000\n",
      "FLA            0.612000  0.566667  0.588462   270.00000\n",
      "CpG            0.504132  0.480315  0.491935   254.00000\n",
      "FSL            0.512821  0.400000  0.449438   250.00000\n",
      "LPS            0.686992  0.605735  0.643810   279.00000\n",
      "UST            0.992337  1.000000  0.996154   259.00000\n",
      "accuracy       0.687230  0.687230  0.687230     0.68723\n",
      "macro avg      0.680530  0.686560  0.681023  2318.00000\n",
      "weighted avg   0.683349  0.687230  0.682863  2318.00000\n"
     ]
    },
    {
     "data": {
      "text/plain": [
       "<AxesSubplot:>"
      ]
     },
     "execution_count": 39,
     "metadata": {},
     "output_type": "execute_result"
    },
    {
     "data": {
      "image/png": "[encoded data removed]",
      "text/plain": [
       "<Figure size 432x288 with 1 Axes>"
      ]
     },
     "metadata": {
      "needs_background": "light"
     },
     "output_type": "display_data"
    }
   ],
   "source": [
    "m0_cr = classification_report(m0_true, m0_pred, target_names=ligands, output_dict=True)\n",
    "m0_crdf = pd.DataFrame(m0_cr).transpose()\n",
    "print(m0_crdf)\n",
    "\n",
    "m0_crdf[:9]['f1-score'].plot()"
   ]
  },
  {
   "cell_type": "markdown",
   "id": "7966f0ba-496e-4c7e-afd0-aaada137d9b7",
   "metadata": {},
   "source": [
    "### ib"
   ]
  },
  {
   "cell_type": "code",
   "execution_count": 40,
   "id": "6bad9ce9-e22c-403c-b088-3a116412b0a8",
   "metadata": {},
   "outputs": [
    {
     "name": "stdout",
     "output_type": "stream",
     "text": [
      "              precision    recall  f1-score      support\n",
      "TNF            0.698565  0.605809  0.648889   241.000000\n",
      "R84            0.881633  0.818182  0.848723   264.000000\n",
      "PIC            0.732218  0.670498  0.700000   261.000000\n",
      "P3K            0.803738  0.659004  0.724211   261.000000\n",
      "FLA            0.683824  0.712644  0.697936   261.000000\n",
      "CpG            0.693396  0.592742  0.639130   248.000000\n",
      "FSL            0.614035  0.683594  0.646950   256.000000\n",
      "LPS            0.584270  0.825397  0.684211   252.000000\n",
      "UST            0.958042  1.000000  0.978571   274.000000\n",
      "accuracy       0.732959  0.732959  0.732959     0.732959\n",
      "macro avg      0.738858  0.729763  0.729847  2318.000000\n",
      "weighted avg   0.741744  0.732959  0.732959  2318.000000\n"
     ]
    },
    {
     "data": {
      "text/plain": [
       "<AxesSubplot:>"
      ]
     },
     "execution_count": 40,
     "metadata": {},
     "output_type": "execute_result"
    },
    {
     "data": {
      "image/png": "[encoded data removed]",
      "text/plain": [
       "<Figure size 432x288 with 1 Axes>"
      ]
     },
     "metadata": {
      "needs_background": "light"
     },
     "output_type": "display_data"
    }
   ],
   "source": [
    "ib_cr = classification_report(ib_true, ib_pred, target_names=ligands, output_dict=True)\n",
    "ib_crdf = pd.DataFrame(ib_cr).transpose()\n",
    "print(ib_crdf)\n",
    "\n",
    "ib_crdf[:9]['f1-score'].plot()"
   ]
  },
  {
   "cell_type": "markdown",
   "id": "2c80e5d8-f959-4884-8ffa-b4ef41268b6d",
   "metadata": {},
   "source": [
    "### ig"
   ]
  },
  {
   "cell_type": "code",
   "execution_count": 41,
   "id": "d5f1a71a-80bb-4367-9e2f-b616e2c1a88e",
   "metadata": {},
   "outputs": [
    {
     "name": "stdout",
     "output_type": "stream",
     "text": [
      "              precision    recall  f1-score      support\n",
      "TNF            0.790179  0.678161  0.729897   261.000000\n",
      "R84            0.769504  0.783394  0.776386   277.000000\n",
      "PIC            0.820755  0.679688  0.743590   256.000000\n",
      "P3K            0.589091  0.632812  0.610169   256.000000\n",
      "FLA            0.561111  0.410569  0.474178   246.000000\n",
      "CpG            0.567568  0.578740  0.573099   254.000000\n",
      "FSL            0.544304  0.483146  0.511905   267.000000\n",
      "LPS            0.474619  0.739130  0.578053   253.000000\n",
      "UST            0.972549  1.000000  0.986083   248.000000\n",
      "accuracy       0.665229  0.665229  0.665229     0.665229\n",
      "macro avg      0.676631  0.665071  0.664818  2318.000000\n",
      "weighted avg   0.676922  0.665229  0.665148  2318.000000\n"
     ]
    },
    {
     "data": {
      "text/plain": [
       "<AxesSubplot:>"
      ]
     },
     "execution_count": 41,
     "metadata": {},
     "output_type": "execute_result"
    },
    {
     "data": {
      "image/png": "[encoded data removed]",
      "text/plain": [
       "<Figure size 432x288 with 1 Axes>"
      ]
     },
     "metadata": {
      "needs_background": "light"
     },
     "output_type": "display_data"
    }
   ],
   "source": [
    "ig_cr = classification_report(ig_true, ig_pred, target_names=ligands, output_dict=True)\n",
    "ig_crdf = pd.DataFrame(ig_cr).transpose()\n",
    "print(ig_crdf)\n",
    "\n",
    "ig_crdf[:9]['f1-score'].plot()"
   ]
  },
  {
   "cell_type": "markdown",
   "id": "15415e8f-73ab-4734-b3ed-dd8f02224c39",
   "metadata": {},
   "source": [
    "### i0"
   ]
  },
  {
   "cell_type": "code",
   "execution_count": 42,
   "id": "cd5a767c-b588-4de2-8d7e-8da410b6a313",
   "metadata": {},
   "outputs": [
    {
     "name": "stdout",
     "output_type": "stream",
     "text": [
      "              precision    recall  f1-score      support\n",
      "TNF            0.746888  0.708661  0.727273   254.000000\n",
      "R84            0.878924  0.734082  0.800000   267.000000\n",
      "PIC            0.840304  0.853282  0.846743   259.000000\n",
      "P3K            0.782918  0.805861  0.794224   273.000000\n",
      "FLA            0.663507  0.544747  0.598291   257.000000\n",
      "CpG            0.744262  0.883268  0.807829   257.000000\n",
      "FSL            0.742373  0.872510  0.802198   251.000000\n",
      "LPS            0.607287  0.597610  0.602410   251.000000\n",
      "UST            0.988095  1.000000  0.994012   249.000000\n",
      "accuracy       0.777394  0.777394  0.777394     0.777394\n",
      "macro avg      0.777173  0.777780  0.774775  2318.000000\n",
      "weighted avg   0.777547  0.777394  0.774761  2318.000000\n"
     ]
    },
    {
     "data": {
      "text/plain": [
       "<AxesSubplot:>"
      ]
     },
     "execution_count": 42,
     "metadata": {},
     "output_type": "execute_result"
    },
    {
     "data": {
      "image/png": "[encoded data removed]",
      "text/plain": [
       "<Figure size 432x288 with 1 Axes>"
      ]
     },
     "metadata": {
      "needs_background": "light"
     },
     "output_type": "display_data"
    }
   ],
   "source": [
    "i0_cr = classification_report(i0_true, i0_pred, target_names=ligands, output_dict=True)\n",
    "i0_crdf = pd.DataFrame(i0_cr).transpose()\n",
    "print(i0_crdf)\n",
    "\n",
    "i0_crdf[:9]['f1-score'].plot()"
   ]
  },
  {
   "cell_type": "markdown",
   "id": "3a1078ad-03d3-4ec6-92bc-dd832a0ea87d",
   "metadata": {},
   "source": [
    "### i3"
   ]
  },
  {
   "cell_type": "code",
   "execution_count": 43,
   "id": "ee0cb724-d264-450b-8d22-16959ef076dc",
   "metadata": {},
   "outputs": [
    {
     "name": "stdout",
     "output_type": "stream",
     "text": [
      "              precision    recall  f1-score      support\n",
      "TNF            0.776923  0.789062  0.782946   256.000000\n",
      "R84            0.860000  0.849802  0.854871   253.000000\n",
      "PIC            0.819495  0.866412  0.842301   262.000000\n",
      "P3K            0.810409  0.822642  0.816479   265.000000\n",
      "FLA            0.772727  0.764045  0.768362   267.000000\n",
      "CpG            0.738589  0.712000  0.725051   250.000000\n",
      "FSL            0.745968  0.745968  0.745968   248.000000\n",
      "LPS            0.811966  0.725191  0.766129   262.000000\n",
      "UST            0.927273  1.000000  0.962264   255.000000\n",
      "accuracy       0.808456  0.808456  0.808456     0.808456\n",
      "macro avg      0.807039  0.808347  0.807152  2318.000000\n",
      "weighted avg   0.807202  0.808456  0.807284  2318.000000\n"
     ]
    },
    {
     "data": {
      "text/plain": [
       "<AxesSubplot:>"
      ]
     },
     "execution_count": 43,
     "metadata": {},
     "output_type": "execute_result"
    },
    {
     "data": {
      "image/png": "[encoded data removed]",
      "text/plain": [
       "<Figure size 432x288 with 1 Axes>"
      ]
     },
     "metadata": {
      "needs_background": "light"
     },
     "output_type": "display_data"
    }
   ],
   "source": [
    "i3_cr = classification_report(i3_true, i3_pred, target_names=ligands, output_dict=True)\n",
    "i3_crdf = pd.DataFrame(i3_cr).transpose()\n",
    "print(i3_crdf)\n",
    "\n",
    "i3_crdf[:9]['f1-score'].plot()"
   ]
  },
  {
   "cell_type": "markdown",
   "id": "cedac161-127c-4bbf-b90c-652ff6493d22",
   "metadata": {},
   "source": [
    "### i4"
   ]
  },
  {
   "cell_type": "code",
   "execution_count": 44,
   "id": "3975fb80-0a3d-4e36-bc7b-c73579a84d4b",
   "metadata": {},
   "outputs": [
    {
     "name": "stdout",
     "output_type": "stream",
     "text": [
      "              precision    recall  f1-score      support\n",
      "TNF            0.738636  0.738636  0.738636   264.000000\n",
      "R84            0.898396  0.708861  0.792453   237.000000\n",
      "PIC            0.743590  0.799213  0.770398   254.000000\n",
      "P3K            0.872964  0.950355  0.910017   282.000000\n",
      "FLA            0.776173  0.866935  0.819048   248.000000\n",
      "CpG            0.784141  0.732510  0.757447   243.000000\n",
      "FSL            0.783898  0.742972  0.762887   249.000000\n",
      "LPS            0.813953  0.774908  0.793951   271.000000\n",
      "UST            0.934256  1.000000  0.966011   270.000000\n",
      "accuracy       0.816221  0.816221  0.816221     0.816221\n",
      "macro avg      0.816223  0.812710  0.812316  2318.000000\n",
      "weighted avg   0.817095  0.816221  0.814600  2318.000000\n"
     ]
    },
    {
     "data": {
      "text/plain": [
       "<AxesSubplot:>"
      ]
     },
     "execution_count": 44,
     "metadata": {},
     "output_type": "execute_result"
    },
    {
     "data": {
      "image/png": "[encoded data removed]",
      "text/plain": [
       "<Figure size 432x288 with 1 Axes>"
      ]
     },
     "metadata": {
      "needs_background": "light"
     },
     "output_type": "display_data"
    }
   ],
   "source": [
    "i4_cr = classification_report(i4_true, i4_pred, target_names=ligands, output_dict=True)\n",
    "i4_crdf = pd.DataFrame(i4_cr).transpose()\n",
    "print(i4_crdf)\n",
    "\n",
    "i4_crdf[:9]['f1-score'].plot()"
   ]
  },
  {
   "cell_type": "markdown",
   "id": "8d031454-1922-4375-ae73-dfd52a948b60",
   "metadata": {},
   "source": [
    "## Holistic"
   ]
  },
  {
   "cell_type": "code",
   "execution_count": 45,
   "id": "90aff6e7-f1c1-4f62-9855-04a7c06feefe",
   "metadata": {},
   "outputs": [],
   "source": [
    "total_f1 = pd.concat([m0_crdf['f1-score'], ib_crdf['f1-score'], ig_crdf['f1-score'], i0_crdf['f1-score'], i3_crdf['f1-score'], i4_crdf['f1-score']], axis=1)\n",
    "total_f1 = total_f1.set_axis(['M0', 'IB', 'IG', 'I0', 'I3', 'I4'], axis=1)"
   ]
  },
  {
   "cell_type": "code",
   "execution_count": 46,
   "id": "a979a5a2-650e-4608-8e50-51730bfbc450",
   "metadata": {},
   "outputs": [
    {
     "data": {
      "text/html": [
       "<div>\n",
       "<style scoped>\n",
       "    .dataframe tbody tr th:only-of-type {\n",
       "        vertical-align: middle;\n",
       "    }\n",
       "\n",
       "    .dataframe tbody tr th {\n",
       "        vertical-align: top;\n",
       "    }\n",
       "\n",
       "    .dataframe thead th {\n",
       "        text-align: right;\n",
       "    }\n",
       "</style>\n",
       "<table border=\"1\" class=\"dataframe\">\n",
       "  <thead>\n",
       "    <tr style=\"text-align: right;\">\n",
       "      <th></th>\n",
       "      <th>M0</th>\n",
       "      <th>IB</th>\n",
       "      <th>IG</th>\n",
       "      <th>I0</th>\n",
       "      <th>I3</th>\n",
       "      <th>I4</th>\n",
       "    </tr>\n",
       "  </thead>\n",
       "  <tbody>\n",
       "    <tr>\n",
       "      <th>TNF</th>\n",
       "      <td>0.699219</td>\n",
       "      <td>0.648889</td>\n",
       "      <td>0.729897</td>\n",
       "      <td>0.727273</td>\n",
       "      <td>0.782946</td>\n",
       "      <td>0.738636</td>\n",
       "    </tr>\n",
       "    <tr>\n",
       "      <th>R84</th>\n",
       "      <td>0.804388</td>\n",
       "      <td>0.848723</td>\n",
       "      <td>0.776386</td>\n",
       "      <td>0.800000</td>\n",
       "      <td>0.854871</td>\n",
       "      <td>0.792453</td>\n",
       "    </tr>\n",
       "    <tr>\n",
       "      <th>PIC</th>\n",
       "      <td>0.855046</td>\n",
       "      <td>0.700000</td>\n",
       "      <td>0.743590</td>\n",
       "      <td>0.846743</td>\n",
       "      <td>0.842301</td>\n",
       "      <td>0.770398</td>\n",
       "    </tr>\n",
       "    <tr>\n",
       "      <th>P3K</th>\n",
       "      <td>0.600760</td>\n",
       "      <td>0.724211</td>\n",
       "      <td>0.610169</td>\n",
       "      <td>0.794224</td>\n",
       "      <td>0.816479</td>\n",
       "      <td>0.910017</td>\n",
       "    </tr>\n",
       "    <tr>\n",
       "      <th>FLA</th>\n",
       "      <td>0.588462</td>\n",
       "      <td>0.697936</td>\n",
       "      <td>0.474178</td>\n",
       "      <td>0.598291</td>\n",
       "      <td>0.768362</td>\n",
       "      <td>0.819048</td>\n",
       "    </tr>\n",
       "    <tr>\n",
       "      <th>CpG</th>\n",
       "      <td>0.491935</td>\n",
       "      <td>0.639130</td>\n",
       "      <td>0.573099</td>\n",
       "      <td>0.807829</td>\n",
       "      <td>0.725051</td>\n",
       "      <td>0.757447</td>\n",
       "    </tr>\n",
       "    <tr>\n",
       "      <th>FSL</th>\n",
       "      <td>0.449438</td>\n",
       "      <td>0.646950</td>\n",
       "      <td>0.511905</td>\n",
       "      <td>0.802198</td>\n",
       "      <td>0.745968</td>\n",
       "      <td>0.762887</td>\n",
       "    </tr>\n",
       "    <tr>\n",
       "      <th>LPS</th>\n",
       "      <td>0.643810</td>\n",
       "      <td>0.684211</td>\n",
       "      <td>0.578053</td>\n",
       "      <td>0.602410</td>\n",
       "      <td>0.766129</td>\n",
       "      <td>0.793951</td>\n",
       "    </tr>\n",
       "    <tr>\n",
       "      <th>UST</th>\n",
       "      <td>0.996154</td>\n",
       "      <td>0.978571</td>\n",
       "      <td>0.986083</td>\n",
       "      <td>0.994012</td>\n",
       "      <td>0.962264</td>\n",
       "      <td>0.966011</td>\n",
       "    </tr>\n",
       "  </tbody>\n",
       "</table>\n",
       "</div>"
      ],
      "text/plain": [
       "           M0        IB        IG        I0        I3        I4\n",
       "TNF  0.699219  0.648889  0.729897  0.727273  0.782946  0.738636\n",
       "R84  0.804388  0.848723  0.776386  0.800000  0.854871  0.792453\n",
       "PIC  0.855046  0.700000  0.743590  0.846743  0.842301  0.770398\n",
       "P3K  0.600760  0.724211  0.610169  0.794224  0.816479  0.910017\n",
       "FLA  0.588462  0.697936  0.474178  0.598291  0.768362  0.819048\n",
       "CpG  0.491935  0.639130  0.573099  0.807829  0.725051  0.757447\n",
       "FSL  0.449438  0.646950  0.511905  0.802198  0.745968  0.762887\n",
       "LPS  0.643810  0.684211  0.578053  0.602410  0.766129  0.793951\n",
       "UST  0.996154  0.978571  0.986083  0.994012  0.962264  0.966011"
      ]
     },
     "execution_count": 46,
     "metadata": {},
     "output_type": "execute_result"
    }
   ],
   "source": [
    "total_f1.iloc[:9]"
   ]
  },
  {
   "cell_type": "code",
   "execution_count": 47,
   "id": "c5e5b160-ca5f-4ea3-b59e-881a24a4df5c",
   "metadata": {},
   "outputs": [
    {
     "data": {
      "text/plain": [
       "<AxesSubplot:>"
      ]
     },
     "execution_count": 47,
     "metadata": {},
     "output_type": "execute_result"
    },
    {
     "data": {
      "image/png": "[encoded data removed]",
      "text/plain": [
       "<Figure size 432x288 with 1 Axes>"
      ]
     },
     "metadata": {
      "needs_background": "light"
     },
     "output_type": "display_data"
    }
   ],
   "source": [
    "total_f1.iloc[:9].plot()"
   ]
  },
  {
   "cell_type": "code",
   "execution_count": 48,
   "id": "484ace43-93c1-43b5-a3c4-14344275e2d8",
   "metadata": {},
   "outputs": [
    {
     "data": {
      "text/plain": [
       "<AxesSubplot:>"
      ]
     },
     "execution_count": 48,
     "metadata": {},
     "output_type": "execute_result"
    },
    {
     "data": {
      "image/png": "[encoded data removed]",
      "text/plain": [
       "<Figure size 432x288 with 1 Axes>"
      ]
     },
     "metadata": {
      "needs_background": "light"
     },
     "output_type": "display_data"
    }
   ],
   "source": [
    "np.mean(total_f1.iloc[:9], axis=1).plot()"
   ]
  },
  {
   "cell_type": "code",
   "execution_count": 49,
   "id": "a24d8a0c-a581-44d0-9903-a9f953ce6964",
   "metadata": {},
   "outputs": [
    {
     "data": {
      "text/plain": [
       "<AxesSubplot:>"
      ]
     },
     "execution_count": 49,
     "metadata": {},
     "output_type": "execute_result"
    },
    {
     "data": {
      "image/png": "[encoded data removed]",
      "text/plain": [
       "<Figure size 432x288 with 1 Axes>"
      ]
     },
     "metadata": {
      "needs_background": "light"
     },
     "output_type": "display_data"
    }
   ],
   "source": [
    "total_f1.iloc[:9].transpose().plot()"
   ]
  },
  {
   "cell_type": "code",
   "execution_count": 50,
   "id": "c7f8ec9d-b42d-45e9-b8c0-31466bfefb16",
   "metadata": {},
   "outputs": [
    {
     "data": {
      "text/plain": [
       "M0    0.681023\n",
       "IB    0.729847\n",
       "IG    0.664818\n",
       "I0    0.774775\n",
       "I3    0.807152\n",
       "I4    0.812316\n",
       "dtype: float64"
      ]
     },
     "execution_count": 50,
     "metadata": {},
     "output_type": "execute_result"
    }
   ],
   "source": [
    "# average f1 score for all ligands across each polarization state\n",
    "np.mean(total_f1.iloc[:9])"
   ]
  },
  {
   "cell_type": "code",
   "execution_count": 51,
   "id": "71f5d69a-03f4-4672-84b0-23a08f91adaf",
   "metadata": {},
   "outputs": [
    {
     "data": {
      "text/plain": [
       "<AxesSubplot:>"
      ]
     },
     "execution_count": 51,
     "metadata": {},
     "output_type": "execute_result"
    },
    {
     "data": {
      "image/png": "[encoded data removed]",
      "text/plain": [
       "<Figure size 432x288 with 1 Axes>"
      ]
     },
     "metadata": {
      "needs_background": "light"
     },
     "output_type": "display_data"
    }
   ],
   "source": [
    "np.mean(total_f1.iloc[:9]).plot()"
   ]
  }
 ],
 "metadata": {
  "kernelspec": {
   "display_name": "Python 3 (ipykernel)",
   "language": "python",
   "name": "python3"
  },
  "language_info": {
   "codemirror_mode": {
    "name": "ipython",
    "version": 3
   },
   "file_extension": ".py",
   "mimetype": "text/x-python",
   "name": "python",
   "nbconvert_exporter": "python",
   "pygments_lexer": "ipython3",
   "version": "3.8.12"
  }
 },
 "nbformat": 4,
 "nbformat_minor": 5
}
