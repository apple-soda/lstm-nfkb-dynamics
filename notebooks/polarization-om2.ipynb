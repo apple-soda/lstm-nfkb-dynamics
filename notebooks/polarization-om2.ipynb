{
 "cells": [
  {
   "cell_type": "markdown",
   "id": "cf82402d-5006-425f-a60d-66a9482fb4f2",
   "metadata": {},
   "source": [
    "# Same notebook as polarization.ipynb but rerun"
   ]
  },
  {
   "cell_type": "markdown",
   "id": "0c82eba7-d819-4dd9-8b7a-754680a6f61b",
   "metadata": {},
   "source": [
    "# This new ML pipeline enables equal representation of each polarization state in each train, test, and validation dataset\n",
    "### In the future, if needed, refactor into functions for efficiency"
   ]
  },
  {
   "cell_type": "code",
   "execution_count": 1,
   "id": "4b7fbbbe-58fa-4350-9750-0071dfc7b1a7",
   "metadata": {},
   "outputs": [],
   "source": [
    "import sys\n",
    "sys.path.append('..')"
   ]
  },
  {
   "cell_type": "code",
   "execution_count": 2,
   "id": "56e8f11b-cd15-496d-ae81-1c78f3b783a3",
   "metadata": {},
   "outputs": [],
   "source": [
    "import torch\n",
    "import pandas as pd\n",
    "import numpy as np\n",
    "import sklearn\n",
    "import matplotlib.pyplot as plt\n",
    "import random\n",
    "import torch.nn as nn\n",
    "import torch.nn.functional as F\n",
    "import seaborn as sns"
   ]
  },
  {
   "cell_type": "code",
   "execution_count": 3,
   "id": "5691cff9-96fa-44c1-8aed-c88af943a8fa",
   "metadata": {},
   "outputs": [],
   "source": [
    "from core.getdata import *\n",
    "from core.dataset import *\n",
    "from core.network import *\n",
    "from core.trainer import *\n",
    "from core.visualization import *"
   ]
  },
  {
   "cell_type": "code",
   "execution_count": 4,
   "id": "8281c4c0-62ed-4141-94ea-d61d83ab19f8",
   "metadata": {},
   "outputs": [],
   "source": [
    "from torch.utils.data import Dataset\n",
    "from torchvision import datasets\n",
    "from torchvision.transforms import ToTensor"
   ]
  },
  {
   "cell_type": "code",
   "execution_count": 5,
   "id": "bed85b4f-a0a8-443c-ad9a-8c698cb38c28",
   "metadata": {},
   "outputs": [],
   "source": [
    "ligands = [\"TNF\", \"R84\", \"PIC\", \"P3K\", \"FLA\", \"CpG\", \"FSL\", \"LPS\", \"UST\"]\n",
    "polarization = [\"\", \"ib\", \"ig\", \"i0\", \"i3\", \"i4\"]\n",
    "replicas, size = 2, 1288 # replicated"
   ]
  },
  {
   "cell_type": "code",
   "execution_count": 6,
   "id": "8888ef2d-13ed-4dbb-af39-3bdcb94c467d",
   "metadata": {},
   "outputs": [],
   "source": [
    "asd = DatasetPolar(ligands, polarization, replicas, size)"
   ]
  },
  {
   "cell_type": "code",
   "execution_count": 7,
   "id": "f33b3323-2e3d-48d3-bb0a-93c1f4e7d980",
   "metadata": {},
   "outputs": [
    {
     "data": {
      "text/plain": [
       "(69552,)"
      ]
     },
     "execution_count": 7,
     "metadata": {},
     "output_type": "execute_result"
    }
   ],
   "source": [
    "asd.labels.shape"
   ]
  },
  {
   "cell_type": "code",
   "execution_count": 8,
   "id": "9914ae36-f4d8-421a-a2c7-969b3c94205d",
   "metadata": {},
   "outputs": [],
   "source": [
    "m0 = DatasetPolar(ligands, [\"\"], replicas, size)\n",
    "ib = DatasetPolar(ligands, [\"ib\"], replicas, size)\n",
    "ig = DatasetPolar(ligands, [\"ig\"], replicas, size)\n",
    "i0 = DatasetPolar(ligands, [\"i0\"], replicas, size)\n",
    "i3 = DatasetPolar(ligands, [\"i3\"], replicas, size)\n",
    "i4 = DatasetPolar(ligands, [\"i4\"], replicas, size)"
   ]
  },
  {
   "cell_type": "code",
   "execution_count": 9,
   "id": "487b1378-f48b-4000-9277-d5139d59ade8",
   "metadata": {},
   "outputs": [
    {
     "name": "stdout",
     "output_type": "stream",
     "text": [
      "11592 11592 11592 11592 11592 11592\n"
     ]
    }
   ],
   "source": [
    "print(len(m0), len(ib), len(ig), len(i0), len(i3), len(i4))"
   ]
  },
  {
   "cell_type": "code",
   "execution_count": 10,
   "id": "87da8cb2-3772-406d-b22c-5072d326f172",
   "metadata": {},
   "outputs": [],
   "source": [
    "m0_train, m0_val, m0_test = torch.utils.data.random_split(m0, [6956, 2318, 2318])\n",
    "ib_train, ib_val, ib_test = torch.utils.data.random_split(ib, [6956, 2318, 2318])\n",
    "ig_train, ig_val, ig_test = torch.utils.data.random_split(ig, [6956, 2318, 2318])\n",
    "i0_train, i0_val, i0_test = torch.utils.data.random_split(i0, [6956, 2318, 2318])\n",
    "i3_train, i3_val, i3_test = torch.utils.data.random_split(i3, [6956, 2318, 2318])\n",
    "i4_train, i4_val, i4_test = torch.utils.data.random_split(i4, [6956, 2318, 2318])"
   ]
  },
  {
   "cell_type": "code",
   "execution_count": 11,
   "id": "0afc4931-c4c7-42a3-b4db-4e55cafec745",
   "metadata": {},
   "outputs": [],
   "source": [
    "# extract all data and labels from each torch subset object and refactor into my own objects\n",
    "\n",
    "def extract_xy(subsets):\n",
    "    train, val, test = subsets # unpack tuple\n",
    "    train_X = [item[0] for item in train]\n",
    "    train_Y = [item[1] for item in train]\n",
    "    val_X = [item[0] for item in val]\n",
    "    val_Y = [item[1] for item in val]\n",
    "    test_X = [item[0] for item in test]\n",
    "    test_Y = [item[1] for item in test]\n",
    "    \n",
    "    return train_X, train_Y, val_X, val_Y, test_X, test_Y"
   ]
  },
  {
   "cell_type": "code",
   "execution_count": 12,
   "id": "00cbcb18-5e0a-493b-b11f-8c1a37562111",
   "metadata": {},
   "outputs": [],
   "source": [
    "m0_train_X, m0_train_Y, m0_val_X, m0_val_Y, m0_test_X, m0_test_Y = extract_xy((m0_train, m0_val, m0_test))\n",
    "ib_train_X, ib_train_Y, ib_val_X, ib_val_Y, ib_test_X, ib_test_Y = extract_xy((ib_train, ib_val, ib_test))\n",
    "ig_train_X, ig_train_Y, ig_val_X, ig_val_Y, ig_test_X, ig_test_Y = extract_xy((ig_train, ig_val, ig_test))\n",
    "i0_train_X, i0_train_Y, i0_val_X, i0_val_Y, i0_test_X, i0_test_Y = extract_xy((i0_train, i0_val, i0_test))\n",
    "i3_train_X, i3_train_Y, i3_val_X, i3_val_Y, i3_test_X, i3_test_Y = extract_xy((i3_train, i3_val, i3_test))\n",
    "i4_train_X, i4_train_Y, i4_val_X, i4_val_Y, i4_test_X, i4_test_Y = extract_xy((i4_train, i4_val, i4_test))"
   ]
  },
  {
   "cell_type": "code",
   "execution_count": 13,
   "id": "54c09c51-0d4d-4445-8583-9d74dff36bc7",
   "metadata": {},
   "outputs": [],
   "source": [
    "# split into 60/20/20 for each polarization dataset\n",
    "# more empirical method to analyze model metrics across each polarization\n",
    "\n",
    "# X = np.vstack([m0.data, ib.data, ig.data, i0.data, i3.data, i4.data])\n",
    "# Y = np.hstack([m0.labels, ib.labels, ig.labels, i0.labels, i3.labels, i4.labels])"
   ]
  },
  {
   "cell_type": "code",
   "execution_count": 14,
   "id": "b1b48196-cd03-4844-a280-4e0a6282cc73",
   "metadata": {},
   "outputs": [],
   "source": [
    "class TorchData:\n",
    "    def __init__(self, data, labels):\n",
    "        self.data = data\n",
    "        self.labels = labels\n",
    "        \n",
    "    def __len__(self):\n",
    "        return len(self.data)\n",
    "    \n",
    "    def __getitem__(self, idx):\n",
    "        return self.data[idx], self.labels[idx]"
   ]
  },
  {
   "cell_type": "code",
   "execution_count": 15,
   "id": "5317d177-5862-42a4-a3c0-54f9b0a5ddaf",
   "metadata": {},
   "outputs": [],
   "source": [
    "# need to concat all train_X and train_Y into one dataset for training\n",
    "train_X = np.vstack([m0_train_X, ib_train_X, ig_train_X, i0_train_X, i3_train_X, i4_train_X])\n",
    "train_Y = np.hstack([m0_train_Y, ib_train_Y, ig_train_Y, i0_train_Y, i3_train_Y, i4_train_Y])\n",
    "\n",
    "val_X = np.vstack([m0_val_X, ib_val_X, ig_val_X, i0_val_X, i3_val_X, i4_val_X])\n",
    "val_Y = np.hstack([m0_val_Y, ib_val_Y, ig_val_Y, i0_val_Y, i3_val_Y, i4_val_Y])\n",
    "\n",
    "test_X = np.vstack([m0_test_X, ib_test_X, ig_test_X, i0_test_X, i3_test_X, i4_test_X])\n",
    "test_Y = np.hstack([m0_test_Y, ib_test_Y, ig_test_Y, i0_test_Y, i3_test_Y, i4_test_Y])"
   ]
  },
  {
   "cell_type": "code",
   "execution_count": 16,
   "id": "88d31a75-c69e-4e1f-b226-a42d347c5546",
   "metadata": {},
   "outputs": [
    {
     "name": "stdout",
     "output_type": "stream",
     "text": [
      "(41736, 98, 1) (41736,)\n",
      "(13908, 98, 1) (13908,)\n",
      "(13908, 98, 1) (13908,)\n"
     ]
    }
   ],
   "source": [
    "print(train_X.shape, train_Y.shape)\n",
    "print(val_X.shape, val_Y.shape)\n",
    "print(test_X.shape, test_Y.shape)"
   ]
  },
  {
   "cell_type": "code",
   "execution_count": 17,
   "id": "20600a43-b8f7-48fe-9ae5-89e0c9de5828",
   "metadata": {},
   "outputs": [],
   "source": [
    "train = TorchData(train_X, train_Y)\n",
    "val = TorchData(val_X, val_Y)\n",
    "test = TorchData(test_X, test_Y)"
   ]
  },
  {
   "cell_type": "code",
   "execution_count": 18,
   "id": "c7bfddca-9b56-4487-b3d8-bba7a313e2aa",
   "metadata": {},
   "outputs": [],
   "source": [
    "trainloader = torch.utils.data.DataLoader(train, batch_size=64, shuffle=True)\n",
    "valloader = torch.utils.data.DataLoader(val, batch_size=64, shuffle=True)\n",
    "testloader = torch.utils.data.DataLoader(test, batch_size=64, shuffle=True)"
   ]
  },
  {
   "cell_type": "code",
   "execution_count": 19,
   "id": "9919155f-d1f4-4c18-8ef0-d775c609cc32",
   "metadata": {},
   "outputs": [],
   "source": [
    "# hyperparameters\n",
    "input_size = 1\n",
    "hidden_size = 98\n",
    "output_size = 9\n",
    "\n",
    "lr = 0.001\n",
    "n_epochs = 70\n",
    "batch_size = 64\n",
    "device = torch.device('cuda')"
   ]
  },
  {
   "cell_type": "code",
   "execution_count": 20,
   "id": "a61f9484-e2d2-40dd-b711-b511c4a4ef06",
   "metadata": {},
   "outputs": [],
   "source": [
    "net = LSTM(input_size=input_size, hidden_sizes=hidden_size, output_size=output_size, num_layers=3, device=device)"
   ]
  },
  {
   "cell_type": "code",
   "execution_count": 21,
   "id": "9773aa39-3996-44ea-9072-5dd8b7adda1d",
   "metadata": {},
   "outputs": [
    {
     "data": {
      "text/plain": [
       "LSTM(\n",
       "  (lstm): LSTM(1, 98, num_layers=3, batch_first=True)\n",
       "  (fc1): Linear(in_features=98, out_features=9, bias=True)\n",
       ")"
      ]
     },
     "execution_count": 21,
     "metadata": {},
     "output_type": "execute_result"
    }
   ],
   "source": [
    "net.train()"
   ]
  },
  {
   "cell_type": "code",
   "execution_count": 22,
   "id": "795b3f2b-cd9f-42dd-9465-f404e58a4656",
   "metadata": {},
   "outputs": [],
   "source": [
    "trainer = LSTMTrainer(model=net, device=device)"
   ]
  },
  {
   "cell_type": "code",
   "execution_count": 23,
   "id": "852b0ba2-689d-4eb4-b57d-29849b6d234f",
   "metadata": {
    "scrolled": true,
    "tags": []
   },
   "outputs": [
    {
     "name": "stderr",
     "output_type": "stream",
     "text": [
      "  1%|█▏                                                                                 | 1/70 [00:09<10:21,  9.01s/it]"
     ]
    },
    {
     "name": "stdout",
     "output_type": "stream",
     "text": [
      "Epoch 001: | Training Loss: 2.1707462711319625 | Validation Loss: 2.2015839169878477\n"
     ]
    },
    {
     "name": "stderr",
     "output_type": "stream",
     "text": [
      "  3%|██▎                                                                                | 2/70 [00:16<09:15,  8.17s/it]"
     ]
    },
    {
     "name": "stdout",
     "output_type": "stream",
     "text": [
      "Epoch 002: | Training Loss: 2.17701458492834 | Validation Loss: 2.129789284609873\n"
     ]
    },
    {
     "name": "stderr",
     "output_type": "stream",
     "text": [
      "  4%|███▌                                                                               | 3/70 [00:24<08:49,  7.90s/it]"
     ]
    },
    {
     "name": "stdout",
     "output_type": "stream",
     "text": [
      "Epoch 003: | Training Loss: 2.1302770096894244 | Validation Loss: 2.126948178361315\n"
     ]
    },
    {
     "name": "stderr",
     "output_type": "stream",
     "text": [
      "  6%|████▋                                                                              | 4/70 [00:31<08:33,  7.77s/it]"
     ]
    },
    {
     "name": "stdout",
     "output_type": "stream",
     "text": [
      "Epoch 004: | Training Loss: 2.1277875770653556 | Validation Loss: 2.1647295011292904\n"
     ]
    },
    {
     "name": "stderr",
     "output_type": "stream",
     "text": [
      "  7%|█████▉                                                                             | 5/70 [00:39<08:21,  7.71s/it]"
     ]
    },
    {
     "name": "stdout",
     "output_type": "stream",
     "text": [
      "Epoch 005: | Training Loss: 2.084938475768015 | Validation Loss: 2.066047077332068\n"
     ]
    },
    {
     "name": "stderr",
     "output_type": "stream",
     "text": [
      "  9%|███████                                                                            | 6/70 [00:46<08:11,  7.69s/it]"
     ]
    },
    {
     "name": "stdout",
     "output_type": "stream",
     "text": [
      "Epoch 006: | Training Loss: 2.0564744936196764 | Validation Loss: 2.0306786233132037\n"
     ]
    },
    {
     "name": "stderr",
     "output_type": "stream",
     "text": [
      " 10%|████████▎                                                                          | 7/70 [00:54<08:02,  7.66s/it]"
     ]
    },
    {
     "name": "stdout",
     "output_type": "stream",
     "text": [
      "Epoch 007: | Training Loss: 1.9887534929453687 | Validation Loss: 1.8767763759018083\n"
     ]
    },
    {
     "name": "stderr",
     "output_type": "stream",
     "text": [
      " 11%|█████████▍                                                                         | 8/70 [01:02<07:54,  7.66s/it]"
     ]
    },
    {
     "name": "stdout",
     "output_type": "stream",
     "text": [
      "Epoch 008: | Training Loss: 1.835121721805146 | Validation Loss: 1.787023364403926\n"
     ]
    },
    {
     "name": "stderr",
     "output_type": "stream",
     "text": [
      " 13%|██████████▋                                                                        | 9/70 [01:09<07:47,  7.67s/it]"
     ]
    },
    {
     "name": "stdout",
     "output_type": "stream",
     "text": [
      "Epoch 009: | Training Loss: 1.7612904877976656 | Validation Loss: 1.6699126023765003\n"
     ]
    },
    {
     "name": "stderr",
     "output_type": "stream",
     "text": [
      " 14%|███████████▋                                                                      | 10/70 [01:17<07:40,  7.67s/it]"
     ]
    },
    {
     "name": "stdout",
     "output_type": "stream",
     "text": [
      "Epoch 010: | Training Loss: 1.6346002559749493 | Validation Loss: 1.622632985268164\n"
     ]
    },
    {
     "name": "stderr",
     "output_type": "stream",
     "text": [
      " 16%|████████████▉                                                                     | 11/70 [01:25<07:31,  7.65s/it]"
     ]
    },
    {
     "name": "stdout",
     "output_type": "stream",
     "text": [
      "Epoch 011: | Training Loss: 1.5684837570234242 | Validation Loss: 1.5449958963131687\n"
     ]
    },
    {
     "name": "stderr",
     "output_type": "stream",
     "text": [
      " 17%|██████████████                                                                    | 12/70 [01:32<07:23,  7.64s/it]"
     ]
    },
    {
     "name": "stdout",
     "output_type": "stream",
     "text": [
      "Epoch 012: | Training Loss: 1.5250014995907935 | Validation Loss: 1.5195913555425242\n"
     ]
    },
    {
     "name": "stderr",
     "output_type": "stream",
     "text": [
      " 19%|███████████████▏                                                                  | 13/70 [01:40<07:15,  7.64s/it]"
     ]
    },
    {
     "name": "stdout",
     "output_type": "stream",
     "text": [
      "Epoch 013: | Training Loss: 1.4811531057036489 | Validation Loss: 1.4636549938709364\n"
     ]
    },
    {
     "name": "stderr",
     "output_type": "stream",
     "text": [
      " 20%|████████████████▍                                                                 | 14/70 [01:48<07:07,  7.63s/it]"
     ]
    },
    {
     "name": "stdout",
     "output_type": "stream",
     "text": [
      "Epoch 014: | Training Loss: 1.430557507833332 | Validation Loss: 1.4273660850087437\n"
     ]
    },
    {
     "name": "stderr",
     "output_type": "stream",
     "text": [
      " 21%|█████████████████▌                                                                | 15/70 [01:55<06:59,  7.64s/it]"
     ]
    },
    {
     "name": "stdout",
     "output_type": "stream",
     "text": [
      "Epoch 015: | Training Loss: 1.4064488995129993 | Validation Loss: 1.38913112386651\n"
     ]
    },
    {
     "name": "stderr",
     "output_type": "stream",
     "text": [
      " 23%|██████████████████▋                                                               | 16/70 [02:03<06:52,  7.63s/it]"
     ]
    },
    {
     "name": "stdout",
     "output_type": "stream",
     "text": [
      "Epoch 016: | Training Loss: 1.35383919196326 | Validation Loss: 1.3626757318820428\n"
     ]
    },
    {
     "name": "stderr",
     "output_type": "stream",
     "text": [
      " 24%|███████████████████▉                                                              | 17/70 [02:11<06:44,  7.64s/it]"
     ]
    },
    {
     "name": "stdout",
     "output_type": "stream",
     "text": [
      "Epoch 017: | Training Loss: 1.3206061601273682 | Validation Loss: 1.32282798607415\n"
     ]
    },
    {
     "name": "stderr",
     "output_type": "stream",
     "text": [
      " 26%|█████████████████████                                                             | 18/70 [02:18<06:36,  7.63s/it]"
     ]
    },
    {
     "name": "stdout",
     "output_type": "stream",
     "text": [
      "Epoch 018: | Training Loss: 1.2868037305053488 | Validation Loss: 1.2957526445388794\n"
     ]
    },
    {
     "name": "stderr",
     "output_type": "stream",
     "text": [
      " 27%|██████████████████████▎                                                           | 19/70 [02:26<06:29,  7.64s/it]"
     ]
    },
    {
     "name": "stdout",
     "output_type": "stream",
     "text": [
      "Epoch 019: | Training Loss: 1.259538664386977 | Validation Loss: 1.2823610549126196\n"
     ]
    },
    {
     "name": "stderr",
     "output_type": "stream",
     "text": [
      " 29%|███████████████████████▍                                                          | 20/70 [02:33<06:21,  7.64s/it]"
     ]
    },
    {
     "name": "stdout",
     "output_type": "stream",
     "text": [
      "Epoch 020: | Training Loss: 1.2345127262528786 | Validation Loss: 1.264569048487812\n"
     ]
    },
    {
     "name": "stderr",
     "output_type": "stream",
     "text": [
      " 30%|████████████████████████▌                                                         | 21/70 [02:41<06:14,  7.64s/it]"
     ]
    },
    {
     "name": "stdout",
     "output_type": "stream",
     "text": [
      "Epoch 021: | Training Loss: 1.2118096200101773 | Validation Loss: 1.2322935002659439\n"
     ]
    },
    {
     "name": "stderr",
     "output_type": "stream",
     "text": [
      " 31%|█████████████████████████▊                                                        | 22/70 [02:49<06:06,  7.64s/it]"
     ]
    },
    {
     "name": "stdout",
     "output_type": "stream",
     "text": [
      "Epoch 022: | Training Loss: 1.1824731739155183 | Validation Loss: 1.2577694290821706\n"
     ]
    },
    {
     "name": "stderr",
     "output_type": "stream",
     "text": [
      " 33%|██████████████████████████▉                                                       | 23/70 [02:56<05:59,  7.64s/it]"
     ]
    },
    {
     "name": "stdout",
     "output_type": "stream",
     "text": [
      "Epoch 023: | Training Loss: 1.1659401839579047 | Validation Loss: 1.2289859696265755\n"
     ]
    },
    {
     "name": "stderr",
     "output_type": "stream",
     "text": [
      " 34%|████████████████████████████                                                      | 24/70 [03:04<05:51,  7.64s/it]"
     ]
    },
    {
     "name": "stdout",
     "output_type": "stream",
     "text": [
      "Epoch 024: | Training Loss: 1.1297685681039304 | Validation Loss: 1.213345057100331\n"
     ]
    },
    {
     "name": "stderr",
     "output_type": "stream",
     "text": [
      " 36%|█████████████████████████████▎                                                    | 25/70 [03:12<05:43,  7.64s/it]"
     ]
    },
    {
     "name": "stdout",
     "output_type": "stream",
     "text": [
      "Epoch 025: | Training Loss: 1.1192243367570465 | Validation Loss: 1.184512619851926\n"
     ]
    },
    {
     "name": "stderr",
     "output_type": "stream",
     "text": [
      " 37%|██████████████████████████████▍                                                   | 26/70 [03:19<05:37,  7.67s/it]"
     ]
    },
    {
     "name": "stdout",
     "output_type": "stream",
     "text": [
      "Epoch 026: | Training Loss: 1.0924619729266962 | Validation Loss: 1.1692534192986446\n"
     ]
    },
    {
     "name": "stderr",
     "output_type": "stream",
     "text": [
      " 39%|███████████████████████████████▋                                                  | 27/70 [03:27<05:29,  7.67s/it]"
     ]
    },
    {
     "name": "stdout",
     "output_type": "stream",
     "text": [
      "Epoch 027: | Training Loss: 1.0561761491879205 | Validation Loss: 1.157447463602101\n"
     ]
    },
    {
     "name": "stderr",
     "output_type": "stream",
     "text": [
      " 40%|████████████████████████████████▊                                                 | 28/70 [03:35<05:21,  7.66s/it]"
     ]
    },
    {
     "name": "stdout",
     "output_type": "stream",
     "text": [
      "Epoch 028: | Training Loss: 1.0280251059378818 | Validation Loss: 1.1360811749729542\n"
     ]
    },
    {
     "name": "stderr",
     "output_type": "stream",
     "text": [
      " 41%|█████████████████████████████████▉                                                | 29/70 [03:42<05:13,  7.66s/it]"
     ]
    },
    {
     "name": "stdout",
     "output_type": "stream",
     "text": [
      "Epoch 029: | Training Loss: 0.9991145059124069 | Validation Loss: 1.1401376639484266\n"
     ]
    },
    {
     "name": "stderr",
     "output_type": "stream",
     "text": [
      " 43%|███████████████████████████████████▏                                              | 30/70 [03:50<05:06,  7.66s/it]"
     ]
    },
    {
     "name": "stdout",
     "output_type": "stream",
     "text": [
      "Epoch 030: | Training Loss: 0.9766768623274646 | Validation Loss: 1.132417565638866\n"
     ]
    },
    {
     "name": "stderr",
     "output_type": "stream",
     "text": [
      " 44%|████████████████████████████████████▎                                             | 31/70 [03:58<04:58,  7.66s/it]"
     ]
    },
    {
     "name": "stdout",
     "output_type": "stream",
     "text": [
      "Epoch 031: | Training Loss: 0.9459900779800795 | Validation Loss: 1.100630589307995\n"
     ]
    },
    {
     "name": "stderr",
     "output_type": "stream",
     "text": [
      " 46%|█████████████████████████████████████▍                                            | 32/70 [04:05<04:50,  7.66s/it]"
     ]
    },
    {
     "name": "stdout",
     "output_type": "stream",
     "text": [
      "Epoch 032: | Training Loss: 0.9216041247293376 | Validation Loss: 1.0834310566066603\n"
     ]
    },
    {
     "name": "stderr",
     "output_type": "stream",
     "text": [
      " 47%|██████████████████████████████████████▋                                           | 33/70 [04:13<04:43,  7.67s/it]"
     ]
    },
    {
     "name": "stdout",
     "output_type": "stream",
     "text": [
      "Epoch 033: | Training Loss: 0.8817132025911468 | Validation Loss: 1.0844878218042742\n"
     ]
    },
    {
     "name": "stderr",
     "output_type": "stream",
     "text": [
      " 49%|███████████████████████████████████████▊                                          | 34/70 [04:21<04:36,  7.67s/it]"
     ]
    },
    {
     "name": "stdout",
     "output_type": "stream",
     "text": [
      "Epoch 034: | Training Loss: 0.8622426770365074 | Validation Loss: 1.061429150334192\n"
     ]
    },
    {
     "name": "stderr",
     "output_type": "stream",
     "text": [
      " 50%|█████████████████████████████████████████                                         | 35/70 [04:28<04:28,  7.67s/it]"
     ]
    },
    {
     "name": "stdout",
     "output_type": "stream",
     "text": [
      "Epoch 035: | Training Loss: 0.828438779478964 | Validation Loss: 1.0484603151268916\n"
     ]
    },
    {
     "name": "stderr",
     "output_type": "stream",
     "text": [
      " 51%|██████████████████████████████████████████▏                                       | 36/70 [04:36<04:20,  7.67s/it]"
     ]
    },
    {
     "name": "stdout",
     "output_type": "stream",
     "text": [
      "Epoch 036: | Training Loss: 0.798995165967284 | Validation Loss: 1.0567816676349815\n"
     ]
    },
    {
     "name": "stderr",
     "output_type": "stream",
     "text": [
      " 53%|███████████████████████████████████████████▎                                      | 37/70 [04:44<04:13,  7.67s/it]"
     ]
    },
    {
     "name": "stdout",
     "output_type": "stream",
     "text": [
      "Epoch 037: | Training Loss: 0.7858891680174911 | Validation Loss: 1.0345105843259654\n"
     ]
    },
    {
     "name": "stderr",
     "output_type": "stream",
     "text": [
      " 54%|████████████████████████████████████████████▌                                     | 38/70 [04:51<04:05,  7.66s/it]"
     ]
    },
    {
     "name": "stdout",
     "output_type": "stream",
     "text": [
      "Epoch 038: | Training Loss: 0.7511424004210082 | Validation Loss: 1.0400213055107572\n"
     ]
    },
    {
     "name": "stderr",
     "output_type": "stream",
     "text": [
      " 56%|█████████████████████████████████████████████▋                                    | 39/70 [04:59<03:57,  7.67s/it]"
     ]
    },
    {
     "name": "stdout",
     "output_type": "stream",
     "text": [
      "Epoch 039: | Training Loss: 0.71568304660857 | Validation Loss: 1.024537620467877\n"
     ]
    },
    {
     "name": "stderr",
     "output_type": "stream",
     "text": [
      " 57%|██████████████████████████████████████████████▊                                   | 40/70 [05:07<03:49,  7.66s/it]"
     ]
    },
    {
     "name": "stdout",
     "output_type": "stream",
     "text": [
      "Epoch 040: | Training Loss: 0.7080893362736812 | Validation Loss: 0.9956922591279406\n"
     ]
    },
    {
     "name": "stderr",
     "output_type": "stream",
     "text": [
      " 59%|████████████████████████████████████████████████                                  | 41/70 [05:14<03:42,  7.69s/it]"
     ]
    },
    {
     "name": "stdout",
     "output_type": "stream",
     "text": [
      "Epoch 041: | Training Loss: 0.6636553308591361 | Validation Loss: 0.9916605820896429\n"
     ]
    },
    {
     "name": "stderr",
     "output_type": "stream",
     "text": [
      " 60%|█████████████████████████████████████████████████▏                                | 42/70 [05:22<03:35,  7.69s/it]"
     ]
    },
    {
     "name": "stdout",
     "output_type": "stream",
     "text": [
      "Epoch 042: | Training Loss: 0.6452879016651312 | Validation Loss: 0.9914470397004294\n"
     ]
    },
    {
     "name": "stderr",
     "output_type": "stream",
     "text": [
      " 61%|██████████████████████████████████████████████████▎                               | 43/70 [05:30<03:27,  7.69s/it]"
     ]
    },
    {
     "name": "stdout",
     "output_type": "stream",
     "text": [
      "Epoch 043: | Training Loss: 0.6199713939912104 | Validation Loss: 0.9769996008194914\n"
     ]
    },
    {
     "name": "stderr",
     "output_type": "stream",
     "text": [
      " 63%|███████████████████████████████████████████████████▌                              | 44/70 [05:37<03:19,  7.69s/it]"
     ]
    },
    {
     "name": "stdout",
     "output_type": "stream",
     "text": [
      "Epoch 044: | Training Loss: 0.6152611505839215 | Validation Loss: 1.0065216394739414\n"
     ]
    },
    {
     "name": "stderr",
     "output_type": "stream",
     "text": [
      " 64%|████████████████████████████████████████████████████▋                             | 45/70 [05:45<03:12,  7.69s/it]"
     ]
    },
    {
     "name": "stdout",
     "output_type": "stream",
     "text": [
      "Epoch 045: | Training Loss: 0.5958730815289397 | Validation Loss: 0.9639853121490654\n"
     ]
    },
    {
     "name": "stderr",
     "output_type": "stream",
     "text": [
      " 66%|█████████████████████████████████████████████████████▉                            | 46/70 [05:53<03:04,  7.70s/it]"
     ]
    },
    {
     "name": "stdout",
     "output_type": "stream",
     "text": [
      "Epoch 046: | Training Loss: 0.5559912365255093 | Validation Loss: 0.9698963285586156\n"
     ]
    },
    {
     "name": "stderr",
     "output_type": "stream",
     "text": [
      " 67%|███████████████████████████████████████████████████████                           | 47/70 [06:01<02:57,  7.70s/it]"
     ]
    },
    {
     "name": "stdout",
     "output_type": "stream",
     "text": [
      "Epoch 047: | Training Loss: 0.5440284394378136 | Validation Loss: 1.0106785315165825\n"
     ]
    },
    {
     "name": "stderr",
     "output_type": "stream",
     "text": [
      " 69%|████████████████████████████████████████████████████████▏                         | 48/70 [06:08<02:49,  7.70s/it]"
     ]
    },
    {
     "name": "stdout",
     "output_type": "stream",
     "text": [
      "Epoch 048: | Training Loss: 0.5246494402381582 | Validation Loss: 0.9735584589866323\n"
     ]
    },
    {
     "name": "stderr",
     "output_type": "stream",
     "text": [
      " 70%|█████████████████████████████████████████████████████████▍                        | 49/70 [06:16<02:41,  7.70s/it]"
     ]
    },
    {
     "name": "stdout",
     "output_type": "stream",
     "text": [
      "Epoch 049: | Training Loss: 0.5111959420977471 | Validation Loss: 0.9507780848839961\n"
     ]
    },
    {
     "name": "stderr",
     "output_type": "stream",
     "text": [
      " 71%|██████████████████████████████████████████████████████████▌                       | 50/70 [06:24<02:34,  7.71s/it]"
     ]
    },
    {
     "name": "stdout",
     "output_type": "stream",
     "text": [
      "Epoch 050: | Training Loss: 0.48714480646080116 | Validation Loss: 0.9576605079917733\n"
     ]
    },
    {
     "name": "stderr",
     "output_type": "stream",
     "text": [
      " 73%|███████████████████████████████████████████████████████████▋                      | 51/70 [06:31<02:26,  7.71s/it]"
     ]
    },
    {
     "name": "stdout",
     "output_type": "stream",
     "text": [
      "Epoch 051: | Training Loss: 0.47887040973622436 | Validation Loss: 0.9732003328176814\n"
     ]
    },
    {
     "name": "stderr",
     "output_type": "stream",
     "text": [
      " 74%|████████████████████████████████████████████████████████████▉                     | 52/70 [06:39<02:18,  7.71s/it]"
     ]
    },
    {
     "name": "stdout",
     "output_type": "stream",
     "text": [
      "Epoch 052: | Training Loss: 0.481930269581618 | Validation Loss: 0.9712235237206888\n"
     ]
    },
    {
     "name": "stderr",
     "output_type": "stream",
     "text": [
      " 76%|██████████████████████████████████████████████████████████████                    | 53/70 [06:47<02:11,  7.71s/it]"
     ]
    },
    {
     "name": "stdout",
     "output_type": "stream",
     "text": [
      "Epoch 053: | Training Loss: 0.43574607271877946 | Validation Loss: 0.9423886685196413\n"
     ]
    },
    {
     "name": "stderr",
     "output_type": "stream",
     "text": [
      " 77%|███████████████████████████████████████████████████████████████▎                  | 54/70 [06:55<02:03,  7.71s/it]"
     ]
    },
    {
     "name": "stdout",
     "output_type": "stream",
     "text": [
      "Epoch 054: | Training Loss: 0.4248269282018974 | Validation Loss: 0.9583477053893815\n"
     ]
    },
    {
     "name": "stderr",
     "output_type": "stream",
     "text": [
      " 79%|████████████████████████████████████████████████████████████████▍                 | 55/70 [07:02<01:55,  7.71s/it]"
     ]
    },
    {
     "name": "stdout",
     "output_type": "stream",
     "text": [
      "Epoch 055: | Training Loss: 0.46969018958702935 | Validation Loss: 0.968981315099865\n"
     ]
    },
    {
     "name": "stderr",
     "output_type": "stream",
     "text": [
      " 80%|█████████████████████████████████████████████████████████████████▌                | 56/70 [07:10<01:47,  7.71s/it]"
     ]
    },
    {
     "name": "stdout",
     "output_type": "stream",
     "text": [
      "Epoch 056: | Training Loss: 0.3807449622413466 | Validation Loss: 0.9368656760235445\n"
     ]
    },
    {
     "name": "stderr",
     "output_type": "stream",
     "text": [
      " 81%|██████████████████████████████████████████████████████████████████▊               | 57/70 [07:18<01:40,  7.71s/it]"
     ]
    },
    {
     "name": "stdout",
     "output_type": "stream",
     "text": [
      "Epoch 057: | Training Loss: 0.40194658642694653 | Validation Loss: 0.9774369887255747\n"
     ]
    },
    {
     "name": "stderr",
     "output_type": "stream",
     "text": [
      " 83%|███████████████████████████████████████████████████████████████████▉              | 58/70 [07:25<01:32,  7.71s/it]"
     ]
    },
    {
     "name": "stdout",
     "output_type": "stream",
     "text": [
      "Epoch 058: | Training Loss: 0.384220894945252 | Validation Loss: 0.9631435718011419\n"
     ]
    },
    {
     "name": "stderr",
     "output_type": "stream",
     "text": [
      " 84%|█████████████████████████████████████████████████████████████████████             | 59/70 [07:33<01:24,  7.71s/it]"
     ]
    },
    {
     "name": "stdout",
     "output_type": "stream",
     "text": [
      "Epoch 059: | Training Loss: 0.368373000854555 | Validation Loss: 0.9822881559439756\n"
     ]
    },
    {
     "name": "stderr",
     "output_type": "stream",
     "text": [
      " 86%|██████████████████████████████████████████████████████████████████████▎           | 60/70 [07:41<01:17,  7.71s/it]"
     ]
    },
    {
     "name": "stdout",
     "output_type": "stream",
     "text": [
      "Epoch 060: | Training Loss: 0.34926845617078894 | Validation Loss: 0.9554423628323668\n"
     ]
    },
    {
     "name": "stderr",
     "output_type": "stream",
     "text": [
      " 87%|███████████████████████████████████████████████████████████████████████▍          | 61/70 [07:48<01:09,  7.71s/it]"
     ]
    },
    {
     "name": "stdout",
     "output_type": "stream",
     "text": [
      "Epoch 061: | Training Loss: 0.33658241052722493 | Validation Loss: 0.9839147699125316\n"
     ]
    },
    {
     "name": "stderr",
     "output_type": "stream",
     "text": [
      " 89%|████████████████████████████████████████████████████████████████████████▋         | 62/70 [07:56<01:01,  7.71s/it]"
     ]
    },
    {
     "name": "stdout",
     "output_type": "stream",
     "text": [
      "Epoch 062: | Training Loss: 0.3406491052091213 | Validation Loss: 0.951524962525849\n"
     ]
    },
    {
     "name": "stderr",
     "output_type": "stream",
     "text": [
      " 90%|█████████████████████████████████████████████████████████████████████████▊        | 63/70 [08:04<00:53,  7.71s/it]"
     ]
    },
    {
     "name": "stdout",
     "output_type": "stream",
     "text": [
      "Epoch 063: | Training Loss: 0.3222346589950471 | Validation Loss: 0.9439387838228033\n"
     ]
    },
    {
     "name": "stderr",
     "output_type": "stream",
     "text": [
      " 91%|██████████████████████████████████████████████████████████████████████████▉       | 64/70 [08:12<00:46,  7.71s/it]"
     ]
    },
    {
     "name": "stdout",
     "output_type": "stream",
     "text": [
      "Epoch 064: | Training Loss: 0.33963233036250107 | Validation Loss: 0.9584784548763835\n"
     ]
    },
    {
     "name": "stderr",
     "output_type": "stream",
     "text": [
      " 93%|████████████████████████████████████████████████████████████████████████████▏     | 65/70 [08:19<00:38,  7.71s/it]"
     ]
    },
    {
     "name": "stdout",
     "output_type": "stream",
     "text": [
      "Epoch 065: | Training Loss: 0.2884971831125103 | Validation Loss: 0.9629036015873655\n"
     ]
    },
    {
     "name": "stderr",
     "output_type": "stream",
     "text": [
      " 94%|█████████████████████████████████████████████████████████████████████████████▎    | 66/70 [08:27<00:30,  7.71s/it]"
     ]
    },
    {
     "name": "stdout",
     "output_type": "stream",
     "text": [
      "Epoch 066: | Training Loss: 0.32983884493753335 | Validation Loss: 0.9903210110347206\n"
     ]
    },
    {
     "name": "stderr",
     "output_type": "stream",
     "text": [
      " 96%|██████████████████████████████████████████████████████████████████████████████▍   | 67/70 [08:35<00:23,  7.71s/it]"
     ]
    },
    {
     "name": "stdout",
     "output_type": "stream",
     "text": [
      "Epoch 067: | Training Loss: 0.28426089615862 | Validation Loss: 0.9723894354126869\n"
     ]
    },
    {
     "name": "stderr",
     "output_type": "stream",
     "text": [
      " 97%|███████████████████████████████████████████████████████████████████████████████▋  | 68/70 [08:43<00:15,  7.72s/it]"
     ]
    },
    {
     "name": "stdout",
     "output_type": "stream",
     "text": [
      "Epoch 068: | Training Loss: 0.26484723803323407 | Validation Loss: 0.9630472568470404\n"
     ]
    },
    {
     "name": "stderr",
     "output_type": "stream",
     "text": [
      " 99%|████████████████████████████████████████████████████████████████████████████████▊ | 69/70 [08:50<00:07,  7.72s/it]"
     ]
    },
    {
     "name": "stdout",
     "output_type": "stream",
     "text": [
      "Epoch 069: | Training Loss: 0.3027507654215804 | Validation Loss: 0.9458506465505022\n"
     ]
    },
    {
     "name": "stderr",
     "output_type": "stream",
     "text": [
      "100%|██████████████████████████████████████████████████████████████████████████████████| 70/70 [08:58<00:00,  7.69s/it]"
     ]
    },
    {
     "name": "stdout",
     "output_type": "stream",
     "text": [
      "Epoch 070: | Training Loss: 0.2776476814316024 | Validation Loss: 0.9771806972289304\n"
     ]
    },
    {
     "name": "stderr",
     "output_type": "stream",
     "text": [
      "\n"
     ]
    }
   ],
   "source": [
    "trainer.train(trainloader, valloader, batch_size=batch_size, n_epochs=n_epochs)"
   ]
  },
  {
   "cell_type": "code",
   "execution_count": 24,
   "id": "4a0166e8-07c3-472a-a89a-e6e537e9fb1d",
   "metadata": {},
   "outputs": [
    {
     "data": {
      "text/plain": [
       "[<matplotlib.lines.Line2D at 0x1b603022790>]"
      ]
     },
     "execution_count": 24,
     "metadata": {},
     "output_type": "execute_result"
    },
    {
     "data": {
      "image/png": "[encoded data removed]",
      "text/plain": [
       "<Figure size 432x288 with 1 Axes>"
      ]
     },
     "metadata": {
      "needs_background": "light"
     },
     "output_type": "display_data"
    }
   ],
   "source": [
    "# visualize training/validation loss\n",
    "plt.plot(trainer.loss_history[0])\n",
    "plt.plot(trainer.loss_history[1])\n",
    "\n",
    "# some forgetting, could rerun"
   ]
  },
  {
   "cell_type": "code",
   "execution_count": 25,
   "id": "39105e05-712d-4b2f-8ee1-0dae71ecb2bf",
   "metadata": {},
   "outputs": [],
   "source": [
    "# trainer.evaluate with testloader\n",
    "prob, pred, true = trainer.evaluate(testloader)"
   ]
  },
  {
   "cell_type": "code",
   "execution_count": 26,
   "id": "f2650600-dad5-4b4c-964f-65ac6f074452",
   "metadata": {},
   "outputs": [],
   "source": [
    "from sklearn.metrics import classification_report"
   ]
  },
  {
   "cell_type": "code",
   "execution_count": 27,
   "id": "373e59bc-d248-481d-ae38-fe68a1d2697a",
   "metadata": {},
   "outputs": [],
   "source": [
    "cr = classification_report(true, pred, target_names=ligands)"
   ]
  },
  {
   "cell_type": "code",
   "execution_count": 28,
   "id": "940c490a-d41d-4657-a36a-a08bdd677b4e",
   "metadata": {},
   "outputs": [
    {
     "name": "stdout",
     "output_type": "stream",
     "text": [
      "              precision    recall  f1-score   support\n",
      "\n",
      "         TNF       0.80      0.72      0.76      1569\n",
      "         R84       0.82      0.84      0.83      1504\n",
      "         PIC       0.82      0.84      0.83      1551\n",
      "         P3K       0.76      0.77      0.77      1570\n",
      "         FLA       0.68      0.68      0.68      1559\n",
      "         CpG       0.71      0.69      0.70      1566\n",
      "         FSL       0.68      0.72      0.70      1524\n",
      "         LPS       0.73      0.72      0.73      1542\n",
      "         UST       0.99      1.00      0.99      1523\n",
      "\n",
      "    accuracy                           0.78     13908\n",
      "   macro avg       0.78      0.78      0.78     13908\n",
      "weighted avg       0.78      0.78      0.78     13908\n",
      "\n"
     ]
    }
   ],
   "source": [
    "print(cr) # similar results to apeksha's model ~ 55% accuracy"
   ]
  },
  {
   "cell_type": "code",
   "execution_count": 29,
   "id": "9b18b50a-6cf2-4a63-9e23-10c960a428f0",
   "metadata": {},
   "outputs": [],
   "source": [
    "fraction = Fraction(true, prob)"
   ]
  },
  {
   "cell_type": "code",
   "execution_count": 30,
   "id": "bc199f6c-ecdb-4fff-a90b-40d747ec6b48",
   "metadata": {},
   "outputs": [
    {
     "data": {
      "image/png": "[encoded data removed]",
      "text/plain": [
       "<Figure size 432x288 with 2 Axes>"
      ]
     },
     "metadata": {
      "needs_background": "light"
     },
     "output_type": "display_data"
    }
   ],
   "source": [
    "cf = sns.heatmap(fraction, cmap=\"BuPu\", xticklabels=ligands)"
   ]
  },
  {
   "cell_type": "markdown",
   "id": "09a048cf-b820-4cbc-8c71-cf0f333061a0",
   "metadata": {},
   "source": [
    "## Polarization State Analysis"
   ]
  },
  {
   "cell_type": "code",
   "execution_count": 31,
   "id": "ba719f75-ed72-4d67-a597-c96d1316325e",
   "metadata": {},
   "outputs": [],
   "source": [
    "# refactor each polarization test_X and test_Y into torchdata object\n",
    "# evaluate each one separately then concat and evaluate holistically\n",
    "\n",
    "m0_test = TorchData(m0_test_X, m0_test_Y)\n",
    "ib_test = TorchData(ib_test_X, ib_test_Y)\n",
    "ig_test = TorchData(ig_test_X, ig_test_Y)\n",
    "i0_test = TorchData(i0_test_X, i0_test_Y)\n",
    "i3_test = TorchData(i3_test_X, i3_test_Y)\n",
    "i4_test = TorchData(i4_test_X, i4_test_Y)"
   ]
  },
  {
   "cell_type": "code",
   "execution_count": 32,
   "id": "9eee2428-3a3f-4a1e-96f9-32f937b8cbfd",
   "metadata": {},
   "outputs": [],
   "source": [
    "m0_loader = torch.utils.data.DataLoader(m0_test, batch_size=64, shuffle=True)\n",
    "ib_loader = torch.utils.data.DataLoader(ib_test, batch_size=64, shuffle=True)\n",
    "ig_loader = torch.utils.data.DataLoader(ig_test, batch_size=64, shuffle=True)\n",
    "i0_loader = torch.utils.data.DataLoader(i0_test, batch_size=64, shuffle=True)\n",
    "i3_loader = torch.utils.data.DataLoader(i3_test, batch_size=64, shuffle=True)\n",
    "i4_loader = torch.utils.data.DataLoader(i4_test, batch_size=64, shuffle=True)"
   ]
  },
  {
   "cell_type": "code",
   "execution_count": 33,
   "id": "f2cb97e6-a6a2-474e-a196-b72e031b053f",
   "metadata": {},
   "outputs": [],
   "source": [
    "m0_prob, m0_pred, m0_true = trainer.evaluate(m0_loader)"
   ]
  },
  {
   "cell_type": "code",
   "execution_count": 34,
   "id": "087a483b-458e-4477-969e-ef42bcdf59ee",
   "metadata": {},
   "outputs": [],
   "source": [
    "ib_prob, ib_pred, ib_true = trainer.evaluate(ib_loader)"
   ]
  },
  {
   "cell_type": "code",
   "execution_count": 35,
   "id": "37aecf6a-42e4-498a-8b6d-24caddf7f1cf",
   "metadata": {},
   "outputs": [],
   "source": [
    "ig_prob, ig_pred, ig_true = trainer.evaluate(ig_loader)"
   ]
  },
  {
   "cell_type": "code",
   "execution_count": 36,
   "id": "671dda61-5b8a-457a-a886-0ab26bc4650b",
   "metadata": {},
   "outputs": [],
   "source": [
    "i0_prob, i0_pred, i0_true = trainer.evaluate(i0_loader)"
   ]
  },
  {
   "cell_type": "code",
   "execution_count": 37,
   "id": "0a460eb8-f035-45a8-b35d-42dae84c2259",
   "metadata": {},
   "outputs": [],
   "source": [
    "i3_prob, i3_pred, i3_true = trainer.evaluate(i3_loader)"
   ]
  },
  {
   "cell_type": "code",
   "execution_count": 38,
   "id": "8dacdf5a-08ae-4d27-9a71-3341dbbee8a3",
   "metadata": {},
   "outputs": [],
   "source": [
    "i4_prob, i4_pred, i4_true = trainer.evaluate(i4_loader)"
   ]
  },
  {
   "cell_type": "markdown",
   "id": "53bf1352-99e1-422e-ade2-3db38b74d255",
   "metadata": {},
   "source": [
    "### M0"
   ]
  },
  {
   "cell_type": "code",
   "execution_count": 39,
   "id": "3c21c5ff-62d9-4324-9d8f-1ce5d4b50e3b",
   "metadata": {},
   "outputs": [
    {
     "name": "stdout",
     "output_type": "stream",
     "text": [
      "              precision    recall  f1-score      support\n",
      "TNF            0.773438  0.764479  0.768932   259.000000\n",
      "R84            0.782143  0.852140  0.815642   257.000000\n",
      "PIC            0.817204  0.894118  0.853933   255.000000\n",
      "P3K            0.662602  0.626923  0.644269   260.000000\n",
      "FLA            0.598394  0.586614  0.592445   254.000000\n",
      "CpG            0.557252  0.546816  0.551985   267.000000\n",
      "FSL            0.567227  0.498155  0.530452   271.000000\n",
      "LPS            0.648221  0.677686  0.662626   242.000000\n",
      "UST            0.992157  1.000000  0.996063   253.000000\n",
      "accuracy       0.713978  0.713978  0.713978     0.713978\n",
      "macro avg      0.710960  0.716326  0.712927  2318.000000\n",
      "weighted avg   0.709395  0.713978  0.710962  2318.000000\n"
     ]
    },
    {
     "data": {
      "text/plain": [
       "<AxesSubplot:>"
      ]
     },
     "execution_count": 39,
     "metadata": {},
     "output_type": "execute_result"
    },
    {
     "data": {
      "image/png": "[encoded data removed]",
      "text/plain": [
       "<Figure size 432x288 with 1 Axes>"
      ]
     },
     "metadata": {
      "needs_background": "light"
     },
     "output_type": "display_data"
    }
   ],
   "source": [
    "m0_cr = classification_report(m0_true, m0_pred, target_names=ligands, output_dict=True)\n",
    "m0_crdf = pd.DataFrame(m0_cr).transpose()\n",
    "print(m0_crdf)\n",
    "\n",
    "m0_crdf[:9]['f1-score'].plot()"
   ]
  },
  {
   "cell_type": "markdown",
   "id": "7966f0ba-496e-4c7e-afd0-aaada137d9b7",
   "metadata": {},
   "source": [
    "### ib"
   ]
  },
  {
   "cell_type": "code",
   "execution_count": 40,
   "id": "6bad9ce9-e22c-403c-b088-3a116412b0a8",
   "metadata": {},
   "outputs": [
    {
     "name": "stdout",
     "output_type": "stream",
     "text": [
      "              precision    recall  f1-score      support\n",
      "TNF            0.819512  0.608696  0.698545   276.000000\n",
      "R84            0.846715  0.895753  0.870544   259.000000\n",
      "PIC            0.789916  0.737255  0.762677   255.000000\n",
      "P3K            0.818565  0.760784  0.788618   255.000000\n",
      "FLA            0.734628  0.840741  0.784111   270.000000\n",
      "CpG            0.739726  0.630350  0.680672   257.000000\n",
      "FSL            0.675862  0.793522  0.729981   247.000000\n",
      "LPS            0.720137  0.847390  0.778598   249.000000\n",
      "UST            0.984190  0.996000  0.990060   250.000000\n",
      "accuracy       0.788179  0.788179  0.788179     0.788179\n",
      "macro avg      0.792139  0.790055  0.787090  2318.000000\n",
      "weighted avg   0.792237  0.788179  0.786102  2318.000000\n"
     ]
    },
    {
     "data": {
      "text/plain": [
       "<AxesSubplot:>"
      ]
     },
     "execution_count": 40,
     "metadata": {},
     "output_type": "execute_result"
    },
    {
     "data": {
      "image/png": "[encoded data removed]",
      "text/plain": [
       "<Figure size 432x288 with 1 Axes>"
      ]
     },
     "metadata": {
      "needs_background": "light"
     },
     "output_type": "display_data"
    }
   ],
   "source": [
    "ib_cr = classification_report(ib_true, ib_pred, target_names=ligands, output_dict=True)\n",
    "ib_crdf = pd.DataFrame(ib_cr).transpose()\n",
    "print(ib_crdf)\n",
    "\n",
    "ib_crdf[:9]['f1-score'].plot()"
   ]
  },
  {
   "cell_type": "markdown",
   "id": "2c80e5d8-f959-4884-8ffa-b4ef41268b6d",
   "metadata": {},
   "source": [
    "### ig"
   ]
  },
  {
   "cell_type": "code",
   "execution_count": 41,
   "id": "d5f1a71a-80bb-4367-9e2f-b616e2c1a88e",
   "metadata": {},
   "outputs": [
    {
     "name": "stdout",
     "output_type": "stream",
     "text": [
      "              precision    recall  f1-score      support\n",
      "TNF            0.823256  0.643636  0.722449   275.000000\n",
      "R84            0.796813  0.796813  0.796813   251.000000\n",
      "PIC            0.807229  0.810484  0.808853   248.000000\n",
      "P3K            0.633441  0.724265  0.675815   272.000000\n",
      "FLA            0.563636  0.478764  0.517745   259.000000\n",
      "CpG            0.556034  0.518072  0.536383   249.000000\n",
      "FSL            0.520690  0.608871  0.561338   248.000000\n",
      "LPS            0.546980  0.605948  0.574956   269.000000\n",
      "UST            0.980159  1.000000  0.989980   247.000000\n",
      "accuracy       0.685505  0.685505  0.685505     0.685505\n",
      "macro avg      0.692026  0.687428  0.687148  2318.000000\n",
      "weighted avg   0.690978  0.685505  0.685568  2318.000000\n"
     ]
    },
    {
     "data": {
      "text/plain": [
       "<AxesSubplot:>"
      ]
     },
     "execution_count": 41,
     "metadata": {},
     "output_type": "execute_result"
    },
    {
     "data": {
      "image/png": "[encoded data removed]",
      "text/plain": [
       "<Figure size 432x288 with 1 Axes>"
      ]
     },
     "metadata": {
      "needs_background": "light"
     },
     "output_type": "display_data"
    }
   ],
   "source": [
    "ig_cr = classification_report(ig_true, ig_pred, target_names=ligands, output_dict=True)\n",
    "ig_crdf = pd.DataFrame(ig_cr).transpose()\n",
    "print(ig_crdf)\n",
    "\n",
    "ig_crdf[:9]['f1-score'].plot()"
   ]
  },
  {
   "cell_type": "markdown",
   "id": "15415e8f-73ab-4734-b3ed-dd8f02224c39",
   "metadata": {},
   "source": [
    "### i0"
   ]
  },
  {
   "cell_type": "code",
   "execution_count": 42,
   "id": "cd5a767c-b588-4de2-8d7e-8da410b6a313",
   "metadata": {},
   "outputs": [
    {
     "name": "stdout",
     "output_type": "stream",
     "text": [
      "              precision    recall  f1-score      support\n",
      "TNF            0.759657  0.686047  0.720978   258.000000\n",
      "R84            0.780392  0.836134  0.807302   238.000000\n",
      "PIC            0.829545  0.893878  0.860511   245.000000\n",
      "P3K            0.807692  0.861940  0.833935   268.000000\n",
      "FLA            0.660944  0.564103  0.608696   273.000000\n",
      "CpG            0.779851  0.813230  0.796190   257.000000\n",
      "FSL            0.716981  0.912000  0.802817   250.000000\n",
      "LPS            0.805970  0.597786  0.686441   271.000000\n",
      "UST            0.992308  1.000000  0.996139   258.000000\n",
      "accuracy       0.792494  0.792494  0.792494     0.792494\n",
      "macro avg      0.792593  0.796124  0.790334  2318.000000\n",
      "weighted avg   0.792046  0.792494  0.788179  2318.000000\n"
     ]
    },
    {
     "data": {
      "text/plain": [
       "<AxesSubplot:>"
      ]
     },
     "execution_count": 42,
     "metadata": {},
     "output_type": "execute_result"
    },
    {
     "data": {
      "image/png": "[encoded data removed]",
      "text/plain": [
       "<Figure size 432x288 with 1 Axes>"
      ]
     },
     "metadata": {
      "needs_background": "light"
     },
     "output_type": "display_data"
    }
   ],
   "source": [
    "i0_cr = classification_report(i0_true, i0_pred, target_names=ligands, output_dict=True)\n",
    "i0_crdf = pd.DataFrame(i0_cr).transpose()\n",
    "print(i0_crdf)\n",
    "\n",
    "i0_crdf[:9]['f1-score'].plot()"
   ]
  },
  {
   "cell_type": "markdown",
   "id": "3a1078ad-03d3-4ec6-92bc-dd832a0ea87d",
   "metadata": {},
   "source": [
    "### i3"
   ]
  },
  {
   "cell_type": "code",
   "execution_count": 43,
   "id": "ee0cb724-d264-450b-8d22-16959ef076dc",
   "metadata": {},
   "outputs": [
    {
     "name": "stdout",
     "output_type": "stream",
     "text": [
      "              precision    recall  f1-score      support\n",
      "TNF            0.786517  0.840000  0.812379   250.000000\n",
      "R84            0.897959  0.866142  0.881764   254.000000\n",
      "PIC            0.857143  0.926471  0.890459   272.000000\n",
      "P3K            0.837838  0.701887  0.763860   265.000000\n",
      "FLA            0.730640  0.825095  0.775000   263.000000\n",
      "CpG            0.762452  0.815574  0.788119   244.000000\n",
      "FSL            0.764463  0.717054  0.740000   258.000000\n",
      "LPS            0.837838  0.753036  0.793177   247.000000\n",
      "UST            0.985075  0.996226  0.990619   265.000000\n",
      "accuracy       0.827869  0.827869  0.827869     0.827869\n",
      "macro avg      0.828880  0.826832  0.826153  2318.000000\n",
      "weighted avg   0.829724  0.827869  0.827077  2318.000000\n"
     ]
    },
    {
     "data": {
      "text/plain": [
       "<AxesSubplot:>"
      ]
     },
     "execution_count": 43,
     "metadata": {},
     "output_type": "execute_result"
    },
    {
     "data": {
      "image/png": "[encoded data removed]",
      "text/plain": [
       "<Figure size 432x288 with 1 Axes>"
      ]
     },
     "metadata": {
      "needs_background": "light"
     },
     "output_type": "display_data"
    }
   ],
   "source": [
    "i3_cr = classification_report(i3_true, i3_pred, target_names=ligands, output_dict=True)\n",
    "i3_crdf = pd.DataFrame(i3_cr).transpose()\n",
    "print(i3_crdf)\n",
    "\n",
    "i3_crdf[:9]['f1-score'].plot()"
   ]
  },
  {
   "cell_type": "markdown",
   "id": "cedac161-127c-4bbf-b90c-652ff6493d22",
   "metadata": {},
   "source": [
    "### i4"
   ]
  },
  {
   "cell_type": "code",
   "execution_count": 44,
   "id": "3975fb80-0a3d-4e36-bc7b-c73579a84d4b",
   "metadata": {},
   "outputs": [
    {
     "name": "stdout",
     "output_type": "stream",
     "text": [
      "              precision    recall  f1-score      support\n",
      "TNF            0.827869  0.804781  0.816162   251.000000\n",
      "R84            0.850000  0.763265  0.804301   245.000000\n",
      "PIC            0.794224  0.797101  0.795660   276.000000\n",
      "P3K            0.839721  0.964000  0.897579   250.000000\n",
      "FLA            0.762846  0.804167  0.782961   240.000000\n",
      "CpG            0.824138  0.818493  0.821306   292.000000\n",
      "FSL            0.852941  0.812000  0.831967   250.000000\n",
      "LPS            0.879845  0.859848  0.869732   264.000000\n",
      "UST            0.992032  0.996000  0.994012   250.000000\n",
      "accuracy       0.845988  0.845988  0.845988     0.845988\n",
      "macro avg      0.847068  0.846628  0.845964  2318.000000\n",
      "weighted avg   0.846607  0.845988  0.845446  2318.000000\n"
     ]
    },
    {
     "data": {
      "text/plain": [
       "<AxesSubplot:>"
      ]
     },
     "execution_count": 44,
     "metadata": {},
     "output_type": "execute_result"
    },
    {
     "data": {
      "image/png": "[encoded data removed]",
      "text/plain": [
       "<Figure size 432x288 with 1 Axes>"
      ]
     },
     "metadata": {
      "needs_background": "light"
     },
     "output_type": "display_data"
    }
   ],
   "source": [
    "i4_cr = classification_report(i4_true, i4_pred, target_names=ligands, output_dict=True)\n",
    "i4_crdf = pd.DataFrame(i4_cr).transpose()\n",
    "print(i4_crdf)\n",
    "\n",
    "i4_crdf[:9]['f1-score'].plot()"
   ]
  },
  {
   "cell_type": "markdown",
   "id": "8d031454-1922-4375-ae73-dfd52a948b60",
   "metadata": {},
   "source": [
    "## Holistic"
   ]
  },
  {
   "cell_type": "code",
   "execution_count": 45,
   "id": "90aff6e7-f1c1-4f62-9855-04a7c06feefe",
   "metadata": {},
   "outputs": [],
   "source": [
    "total_f1 = pd.concat([m0_crdf['f1-score'], ib_crdf['f1-score'], ig_crdf['f1-score'], i0_crdf['f1-score'], i3_crdf['f1-score'], i4_crdf['f1-score']], axis=1)\n",
    "total_f1 = total_f1.set_axis(['M0', 'IB', 'IG', 'I0', 'I3', 'I4'], axis=1)"
   ]
  },
  {
   "cell_type": "code",
   "execution_count": 46,
   "id": "a979a5a2-650e-4608-8e50-51730bfbc450",
   "metadata": {},
   "outputs": [
    {
     "data": {
      "text/html": [
       "<div>\n",
       "<style scoped>\n",
       "    .dataframe tbody tr th:only-of-type {\n",
       "        vertical-align: middle;\n",
       "    }\n",
       "\n",
       "    .dataframe tbody tr th {\n",
       "        vertical-align: top;\n",
       "    }\n",
       "\n",
       "    .dataframe thead th {\n",
       "        text-align: right;\n",
       "    }\n",
       "</style>\n",
       "<table border=\"1\" class=\"dataframe\">\n",
       "  <thead>\n",
       "    <tr style=\"text-align: right;\">\n",
       "      <th></th>\n",
       "      <th>M0</th>\n",
       "      <th>IB</th>\n",
       "      <th>IG</th>\n",
       "      <th>I0</th>\n",
       "      <th>I3</th>\n",
       "      <th>I4</th>\n",
       "    </tr>\n",
       "  </thead>\n",
       "  <tbody>\n",
       "    <tr>\n",
       "      <th>TNF</th>\n",
       "      <td>0.768932</td>\n",
       "      <td>0.698545</td>\n",
       "      <td>0.722449</td>\n",
       "      <td>0.720978</td>\n",
       "      <td>0.812379</td>\n",
       "      <td>0.816162</td>\n",
       "    </tr>\n",
       "    <tr>\n",
       "      <th>R84</th>\n",
       "      <td>0.815642</td>\n",
       "      <td>0.870544</td>\n",
       "      <td>0.796813</td>\n",
       "      <td>0.807302</td>\n",
       "      <td>0.881764</td>\n",
       "      <td>0.804301</td>\n",
       "    </tr>\n",
       "    <tr>\n",
       "      <th>PIC</th>\n",
       "      <td>0.853933</td>\n",
       "      <td>0.762677</td>\n",
       "      <td>0.808853</td>\n",
       "      <td>0.860511</td>\n",
       "      <td>0.890459</td>\n",
       "      <td>0.795660</td>\n",
       "    </tr>\n",
       "    <tr>\n",
       "      <th>P3K</th>\n",
       "      <td>0.644269</td>\n",
       "      <td>0.788618</td>\n",
       "      <td>0.675815</td>\n",
       "      <td>0.833935</td>\n",
       "      <td>0.763860</td>\n",
       "      <td>0.897579</td>\n",
       "    </tr>\n",
       "    <tr>\n",
       "      <th>FLA</th>\n",
       "      <td>0.592445</td>\n",
       "      <td>0.784111</td>\n",
       "      <td>0.517745</td>\n",
       "      <td>0.608696</td>\n",
       "      <td>0.775000</td>\n",
       "      <td>0.782961</td>\n",
       "    </tr>\n",
       "    <tr>\n",
       "      <th>CpG</th>\n",
       "      <td>0.551985</td>\n",
       "      <td>0.680672</td>\n",
       "      <td>0.536383</td>\n",
       "      <td>0.796190</td>\n",
       "      <td>0.788119</td>\n",
       "      <td>0.821306</td>\n",
       "    </tr>\n",
       "    <tr>\n",
       "      <th>FSL</th>\n",
       "      <td>0.530452</td>\n",
       "      <td>0.729981</td>\n",
       "      <td>0.561338</td>\n",
       "      <td>0.802817</td>\n",
       "      <td>0.740000</td>\n",
       "      <td>0.831967</td>\n",
       "    </tr>\n",
       "    <tr>\n",
       "      <th>LPS</th>\n",
       "      <td>0.662626</td>\n",
       "      <td>0.778598</td>\n",
       "      <td>0.574956</td>\n",
       "      <td>0.686441</td>\n",
       "      <td>0.793177</td>\n",
       "      <td>0.869732</td>\n",
       "    </tr>\n",
       "    <tr>\n",
       "      <th>UST</th>\n",
       "      <td>0.996063</td>\n",
       "      <td>0.990060</td>\n",
       "      <td>0.989980</td>\n",
       "      <td>0.996139</td>\n",
       "      <td>0.990619</td>\n",
       "      <td>0.994012</td>\n",
       "    </tr>\n",
       "  </tbody>\n",
       "</table>\n",
       "</div>"
      ],
      "text/plain": [
       "           M0        IB        IG        I0        I3        I4\n",
       "TNF  0.768932  0.698545  0.722449  0.720978  0.812379  0.816162\n",
       "R84  0.815642  0.870544  0.796813  0.807302  0.881764  0.804301\n",
       "PIC  0.853933  0.762677  0.808853  0.860511  0.890459  0.795660\n",
       "P3K  0.644269  0.788618  0.675815  0.833935  0.763860  0.897579\n",
       "FLA  0.592445  0.784111  0.517745  0.608696  0.775000  0.782961\n",
       "CpG  0.551985  0.680672  0.536383  0.796190  0.788119  0.821306\n",
       "FSL  0.530452  0.729981  0.561338  0.802817  0.740000  0.831967\n",
       "LPS  0.662626  0.778598  0.574956  0.686441  0.793177  0.869732\n",
       "UST  0.996063  0.990060  0.989980  0.996139  0.990619  0.994012"
      ]
     },
     "execution_count": 46,
     "metadata": {},
     "output_type": "execute_result"
    }
   ],
   "source": [
    "total_f1.iloc[:9]"
   ]
  },
  {
   "cell_type": "code",
   "execution_count": 47,
   "id": "c5e5b160-ca5f-4ea3-b59e-881a24a4df5c",
   "metadata": {},
   "outputs": [
    {
     "data": {
      "text/plain": [
       "<AxesSubplot:>"
      ]
     },
     "execution_count": 47,
     "metadata": {},
     "output_type": "execute_result"
    },
    {
     "data": {
      "image/png": "[encoded data removed]",
      "text/plain": [
       "<Figure size 432x288 with 1 Axes>"
      ]
     },
     "metadata": {
      "needs_background": "light"
     },
     "output_type": "display_data"
    }
   ],
   "source": [
    "total_f1.iloc[:9].plot()"
   ]
  },
  {
   "cell_type": "code",
   "execution_count": 48,
   "id": "a24d8a0c-a581-44d0-9903-a9f953ce6964",
   "metadata": {},
   "outputs": [
    {
     "data": {
      "text/plain": [
       "<AxesSubplot:>"
      ]
     },
     "execution_count": 48,
     "metadata": {},
     "output_type": "execute_result"
    },
    {
     "data": {
      "image/png": "[encoded data removed]",
      "text/plain": [
       "<Figure size 432x288 with 1 Axes>"
      ]
     },
     "metadata": {
      "needs_background": "light"
     },
     "output_type": "display_data"
    }
   ],
   "source": [
    "total_f1.iloc[:9].transpose().plot()"
   ]
  },
  {
   "cell_type": "code",
   "execution_count": 49,
   "id": "c7f8ec9d-b42d-45e9-b8c0-31466bfefb16",
   "metadata": {},
   "outputs": [
    {
     "data": {
      "text/plain": [
       "M0    0.712927\n",
       "IB    0.787090\n",
       "IG    0.687148\n",
       "I0    0.790334\n",
       "I3    0.826153\n",
       "I4    0.845964\n",
       "dtype: float64"
      ]
     },
     "execution_count": 49,
     "metadata": {},
     "output_type": "execute_result"
    }
   ],
   "source": [
    "# average f1 score for all ligands across each polarization state\n",
    "np.mean(total_f1.iloc[:9])"
   ]
  },
  {
   "cell_type": "code",
   "execution_count": 50,
   "id": "71f5d69a-03f4-4672-84b0-23a08f91adaf",
   "metadata": {},
   "outputs": [
    {
     "data": {
      "text/plain": [
       "<AxesSubplot:>"
      ]
     },
     "execution_count": 50,
     "metadata": {},
     "output_type": "execute_result"
    },
    {
     "data": {
      "image/png": "[encoded data removed]",
      "text/plain": [
       "<Figure size 432x288 with 1 Axes>"
      ]
     },
     "metadata": {
      "needs_background": "light"
     },
     "output_type": "display_data"
    }
   ],
   "source": [
    "np.mean(total_f1.iloc[:9]).plot()"
   ]
  }
 ],
 "metadata": {
  "kernelspec": {
   "display_name": "Python 3 (ipykernel)",
   "language": "python",
   "name": "python3"
  },
  "language_info": {
   "codemirror_mode": {
    "name": "ipython",
    "version": 3
   },
   "file_extension": ".py",
   "mimetype": "text/x-python",
   "name": "python",
   "nbconvert_exporter": "python",
   "pygments_lexer": "ipython3",
   "version": "3.8.12"
  }
 },
 "nbformat": 4,
 "nbformat_minor": 5
}
