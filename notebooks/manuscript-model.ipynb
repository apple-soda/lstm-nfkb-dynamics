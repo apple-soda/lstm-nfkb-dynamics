{
 "cells": [
  {
   "cell_type": "code",
   "execution_count": 3,
   "id": "5ad50c20-b08b-463e-865b-0916ca86c4b1",
   "metadata": {},
   "outputs": [],
   "source": [
    "import sys\n",
    "sys.path.append('..')"
   ]
  },
  {
   "cell_type": "code",
   "execution_count": 69,
   "id": "7a5b694b-0ab0-46c8-9586-8701d5207726",
   "metadata": {},
   "outputs": [],
   "source": [
    "import torch\n",
    "import pandas as pd\n",
    "import numpy as np\n",
    "import sklearn\n",
    "import matplotlib.pyplot as plt\n",
    "import random\n",
    "import torch.nn as nn\n",
    "import torch.nn.functional as F\n",
    "import seaborn as sns"
   ]
  },
  {
   "cell_type": "code",
   "execution_count": 5,
   "id": "af309d3b-0ee2-4a35-abf3-9e9835e49497",
   "metadata": {},
   "outputs": [],
   "source": [
    "from core.getdata import *\n",
    "from core.dataset import *"
   ]
  },
  {
   "cell_type": "code",
   "execution_count": 6,
   "id": "b3076158-3944-4009-bbaa-d45d54f21606",
   "metadata": {},
   "outputs": [],
   "source": [
    "from torch.utils.data import Dataset\n",
    "from torchvision import datasets\n",
    "from torchvision.transforms import ToTensor"
   ]
  },
  {
   "cell_type": "code",
   "execution_count": 62,
   "id": "2dec3ede-caa5-4e0e-b694-a49fab9b85e6",
   "metadata": {},
   "outputs": [],
   "source": [
    "ligands = [\"TNF\", \"R84\", \"PIC\", \"P3K\", \"FLA\", \"CpG\", \"FSL\", \"LPS\", \"UST\"]\n",
    "polarization = [\"\", \"ib\", \"ig\", \"i0\", \"i3\", \"i4\"]\n",
    "replicas, size = 2, 1288 # replicated"
   ]
  },
  {
   "cell_type": "code",
   "execution_count": 7,
   "id": "fe83f4d8-30a9-483b-9184-87ca9d2340df",
   "metadata": {},
   "outputs": [],
   "source": [
    "data = DatasetPolar(ligands, polarization, replicas, size)"
   ]
  },
  {
   "cell_type": "markdown",
   "id": "933d8b88-85e0-4bb7-9bc2-06af69eef863",
   "metadata": {},
   "source": [
    "### 60 : 20 : 20 split"
   ]
  },
  {
   "cell_type": "code",
   "execution_count": 79,
   "id": "69bbcf6a-006d-43c3-9c4e-aa122327de06",
   "metadata": {},
   "outputs": [
    {
     "name": "stdout",
     "output_type": "stream",
     "text": [
      "41731.2 13910.400000000001\n",
      "69552 69552\n"
     ]
    }
   ],
   "source": [
    "print(len(data) * 0.6, len(data) * 0.2) # -> round this to 41730, 13911, 13911\n",
    "print(len(data), 41730 + 13911 + 13911)\n",
    "\n",
    "X_len, y_len, test_len = 41730, 13912, 13910"
   ]
  },
  {
   "cell_type": "code",
   "execution_count": 80,
   "id": "60b5a4b8-573a-4844-8f7c-79a2ed65aec2",
   "metadata": {},
   "outputs": [],
   "source": [
    "dataset_X, dataset_val, dataset_test = torch.utils.data.random_split(data, [X_len, y_len, test_len])"
   ]
  },
  {
   "cell_type": "code",
   "execution_count": 115,
   "id": "fe951805-0318-4c97-b291-a9bafec497c2",
   "metadata": {},
   "outputs": [
    {
     "data": {
      "text/plain": [
       "torch.utils.data.dataset.Subset"
      ]
     },
     "execution_count": 115,
     "metadata": {},
     "output_type": "execute_result"
    }
   ],
   "source": [
    "#pd.DataFrame()"
   ]
  },
  {
   "cell_type": "code",
   "execution_count": 82,
   "id": "1bb5deb2-1644-43aa-b0d4-ee41619ba266",
   "metadata": {},
   "outputs": [],
   "source": [
    "dataloader_train = torch.utils.data.DataLoader(dataset_X, batch_size=64, shuffle=True)\n",
    "dataloader_val = torch.utils.data.DataLoader(dataset_val, batch_size=64, shuffle=True)\n",
    "dataloader_test = torch.utils.data.DataLoader(dataset_test, batch_size=65, shuffle=True)"
   ]
  },
  {
   "cell_type": "markdown",
   "id": "b02ddc15-8dec-4b53-a4d0-7ba88056b3d8",
   "metadata": {},
   "source": [
    "### Model Training"
   ]
  },
  {
   "cell_type": "code",
   "execution_count": 8,
   "id": "f983e31b-c2bc-4d6b-bee0-700a438038b6",
   "metadata": {},
   "outputs": [],
   "source": [
    "from core.network import *\n",
    "from core.trainer import *"
   ]
  },
  {
   "cell_type": "code",
   "execution_count": 9,
   "id": "7206d3e9-b09e-4f1b-96e7-517f8a4e6c7c",
   "metadata": {},
   "outputs": [],
   "source": [
    "torch.cuda.is_available()\n",
    "device = torch.device(\"cuda:0\")"
   ]
  },
  {
   "cell_type": "code",
   "execution_count": 23,
   "id": "92fa896d-440b-42f1-b42b-b17af585e2e1",
   "metadata": {},
   "outputs": [],
   "source": [
    "#model parameters\n",
    "input_size = 1\n",
    "hidden_sizes = 98\n",
    "output_size = 9\n",
    "\n",
    "#training parameters\n",
    "n_epochs = 80\n",
    "batch_size = 64\n",
    "learning_rate = 1e-3"
   ]
  },
  {
   "cell_type": "markdown",
   "id": "59430a8c-442a-46ac-9096-7eadbfea7634",
   "metadata": {},
   "source": [
    "### 1 LSTM Layer"
   ]
  },
  {
   "cell_type": "code",
   "execution_count": 25,
   "id": "ce169097-0fd1-4e0c-b0af-259b393bec9f",
   "metadata": {},
   "outputs": [
    {
     "data": {
      "text/plain": [
       "LSTM(\n",
       "  (lstm): LSTM(1, 98, batch_first=True)\n",
       "  (fc1): Linear(in_features=98, out_features=9, bias=True)\n",
       ")"
      ]
     },
     "execution_count": 25,
     "metadata": {},
     "output_type": "execute_result"
    }
   ],
   "source": [
    "model = LSTM(input_size, hidden_sizes, output_size, num_layers=1, device=\"cuda:0\")\n",
    "model.train()"
   ]
  },
  {
   "cell_type": "code",
   "execution_count": 26,
   "id": "9f483996-281c-42eb-9305-0637492bf438",
   "metadata": {},
   "outputs": [],
   "source": [
    "trainer = LSTMTrainer(model=model, device=\"cuda:0\")"
   ]
  },
  {
   "cell_type": "code",
   "execution_count": 27,
   "id": "ba108ccc-3a81-4c95-8a68-6e35231aa244",
   "metadata": {},
   "outputs": [
    {
     "name": "stderr",
     "output_type": "stream",
     "text": [
      "  1%|█                                                                                  | 1/80 [00:05<07:15,  5.52s/it]"
     ]
    },
    {
     "name": "stdout",
     "output_type": "stream",
     "text": [
      "Epoch 001: | Training Loss: 2.1330842876872462 | Validation Loss: 2.1174897863230573\n"
     ]
    },
    {
     "name": "stderr",
     "output_type": "stream",
     "text": [
      "  2%|██                                                                                 | 2/80 [00:08<05:36,  4.32s/it]"
     ]
    },
    {
     "name": "stdout",
     "output_type": "stream",
     "text": [
      "Epoch 002: | Training Loss: 2.0798372335127264 | Validation Loss: 2.0618553489720055\n"
     ]
    },
    {
     "name": "stderr",
     "output_type": "stream",
     "text": [
      "  4%|███                                                                                | 3/80 [00:12<05:03,  3.94s/it]"
     ]
    },
    {
     "name": "stdout",
     "output_type": "stream",
     "text": [
      "Epoch 003: | Training Loss: 2.1275413708153765 | Validation Loss: 2.1815182736160557\n"
     ]
    },
    {
     "name": "stderr",
     "output_type": "stream",
     "text": [
      "  5%|████▏                                                                              | 4/80 [00:15<04:45,  3.75s/it]"
     ]
    },
    {
     "name": "stdout",
     "output_type": "stream",
     "text": [
      "Epoch 004: | Training Loss: 2.163907727640219 | Validation Loss: 2.177238941192627\n"
     ]
    },
    {
     "name": "stderr",
     "output_type": "stream",
     "text": [
      "  6%|█████▏                                                                             | 5/80 [00:19<04:33,  3.65s/it]"
     ]
    },
    {
     "name": "stdout",
     "output_type": "stream",
     "text": [
      "Epoch 005: | Training Loss: 2.1091924425653805 | Validation Loss: 2.060839716994434\n"
     ]
    },
    {
     "name": "stderr",
     "output_type": "stream",
     "text": [
      "  8%|██████▏                                                                            | 6/80 [00:22<04:27,  3.62s/it]"
     ]
    },
    {
     "name": "stdout",
     "output_type": "stream",
     "text": [
      "Epoch 006: | Training Loss: 2.032604218807191 | Validation Loss: 1.952156163683725\n"
     ]
    },
    {
     "name": "stderr",
     "output_type": "stream",
     "text": [
      "  9%|███████▎                                                                           | 7/80 [00:26<04:24,  3.62s/it]"
     ]
    },
    {
     "name": "stdout",
     "output_type": "stream",
     "text": [
      "Epoch 007: | Training Loss: 1.9398759360700435 | Validation Loss: 1.929908208343961\n"
     ]
    },
    {
     "name": "stderr",
     "output_type": "stream",
     "text": [
      " 10%|████████▎                                                                          | 8/80 [00:30<04:19,  3.61s/it]"
     ]
    },
    {
     "name": "stdout",
     "output_type": "stream",
     "text": [
      "Epoch 008: | Training Loss: 1.9211723589057397 | Validation Loss: 1.9868747504479294\n"
     ]
    },
    {
     "name": "stderr",
     "output_type": "stream",
     "text": [
      " 11%|█████████▎                                                                         | 9/80 [00:33<04:17,  3.63s/it]"
     ]
    },
    {
     "name": "stdout",
     "output_type": "stream",
     "text": [
      "Epoch 009: | Training Loss: 2.0077772472755466 | Validation Loss: 1.9844777091927486\n"
     ]
    },
    {
     "name": "stderr",
     "output_type": "stream",
     "text": [
      " 12%|██████████▎                                                                       | 10/80 [00:37<04:17,  3.68s/it]"
     ]
    },
    {
     "name": "stdout",
     "output_type": "stream",
     "text": [
      "Epoch 010: | Training Loss: 1.930306141080754 | Validation Loss: 1.8592680709077678\n"
     ]
    },
    {
     "name": "stderr",
     "output_type": "stream",
     "text": [
      " 14%|███████████▎                                                                      | 11/80 [00:41<04:15,  3.70s/it]"
     ]
    },
    {
     "name": "stdout",
     "output_type": "stream",
     "text": [
      "Epoch 011: | Training Loss: 1.97001252824278 | Validation Loss: 1.9571154489429718\n"
     ]
    },
    {
     "name": "stderr",
     "output_type": "stream",
     "text": [
      " 15%|████████████▎                                                                     | 12/80 [00:45<04:10,  3.68s/it]"
     ]
    },
    {
     "name": "stdout",
     "output_type": "stream",
     "text": [
      "Epoch 012: | Training Loss: 1.8903177907236868 | Validation Loss: 1.8290671903059024\n"
     ]
    },
    {
     "name": "stderr",
     "output_type": "stream",
     "text": [
      " 16%|█████████████▎                                                                    | 13/80 [00:48<04:08,  3.71s/it]"
     ]
    },
    {
     "name": "stdout",
     "output_type": "stream",
     "text": [
      "Epoch 013: | Training Loss: 1.8130165101192994 | Validation Loss: 1.7805222650186732\n"
     ]
    },
    {
     "name": "stderr",
     "output_type": "stream",
     "text": [
      " 18%|██████████████▎                                                                   | 14/80 [00:52<04:03,  3.69s/it]"
     ]
    },
    {
     "name": "stdout",
     "output_type": "stream",
     "text": [
      "Epoch 014: | Training Loss: 1.774926287291791 | Validation Loss: 1.7357320894888781\n"
     ]
    },
    {
     "name": "stderr",
     "output_type": "stream",
     "text": [
      " 19%|███████████████▍                                                                  | 15/80 [00:56<03:57,  3.66s/it]"
     ]
    },
    {
     "name": "stdout",
     "output_type": "stream",
     "text": [
      "Epoch 015: | Training Loss: 1.7411465171102725 | Validation Loss: 1.7161525389470091\n"
     ]
    },
    {
     "name": "stderr",
     "output_type": "stream",
     "text": [
      " 20%|████████████████▍                                                                 | 16/80 [00:59<03:53,  3.65s/it]"
     ]
    },
    {
     "name": "stdout",
     "output_type": "stream",
     "text": [
      "Epoch 016: | Training Loss: 1.7265474100755513 | Validation Loss: 1.698613121422059\n"
     ]
    },
    {
     "name": "stderr",
     "output_type": "stream",
     "text": [
      " 21%|█████████████████▍                                                                | 17/80 [01:03<03:49,  3.65s/it]"
     ]
    },
    {
     "name": "stdout",
     "output_type": "stream",
     "text": [
      "Epoch 017: | Training Loss: 1.7484659427523066 | Validation Loss: 1.6971618735462153\n"
     ]
    },
    {
     "name": "stderr",
     "output_type": "stream",
     "text": [
      " 22%|██████████████████▍                                                               | 18/80 [01:07<03:48,  3.69s/it]"
     ]
    },
    {
     "name": "stdout",
     "output_type": "stream",
     "text": [
      "Epoch 018: | Training Loss: 1.6812484875937517 | Validation Loss: 1.6415416981102129\n"
     ]
    },
    {
     "name": "stderr",
     "output_type": "stream",
     "text": [
      " 24%|███████████████████▍                                                              | 19/80 [01:10<03:42,  3.65s/it]"
     ]
    },
    {
     "name": "stdout",
     "output_type": "stream",
     "text": [
      "Epoch 019: | Training Loss: 1.6415053867088891 | Validation Loss: 1.612878440170113\n"
     ]
    },
    {
     "name": "stderr",
     "output_type": "stream",
     "text": [
      " 25%|████████████████████▌                                                             | 20/80 [01:14<03:42,  3.71s/it]"
     ]
    },
    {
     "name": "stdout",
     "output_type": "stream",
     "text": [
      "Epoch 020: | Training Loss: 1.6106929738890339 | Validation Loss: 1.5877030880079357\n"
     ]
    },
    {
     "name": "stderr",
     "output_type": "stream",
     "text": [
      " 26%|█████████████████████▌                                                            | 21/80 [01:18<03:41,  3.75s/it]"
     ]
    },
    {
     "name": "stdout",
     "output_type": "stream",
     "text": [
      "Epoch 021: | Training Loss: 1.6273285187039221 | Validation Loss: 1.5972420966953313\n"
     ]
    },
    {
     "name": "stderr",
     "output_type": "stream",
     "text": [
      " 28%|██████████████████████▌                                                           | 22/80 [01:22<03:39,  3.79s/it]"
     ]
    },
    {
     "name": "stdout",
     "output_type": "stream",
     "text": [
      "Epoch 022: | Training Loss: 1.5846977314211508 | Validation Loss: 1.5641496974393863\n"
     ]
    },
    {
     "name": "stderr",
     "output_type": "stream",
     "text": [
      " 29%|███████████████████████▌                                                          | 23/80 [01:25<03:35,  3.78s/it]"
     ]
    },
    {
     "name": "stdout",
     "output_type": "stream",
     "text": [
      "Epoch 023: | Training Loss: 1.5571079580926237 | Validation Loss: 1.5384039753073946\n"
     ]
    },
    {
     "name": "stderr",
     "output_type": "stream",
     "text": [
      " 30%|████████████████████████▌                                                         | 24/80 [01:29<03:29,  3.74s/it]"
     ]
    },
    {
     "name": "stdout",
     "output_type": "stream",
     "text": [
      "Epoch 024: | Training Loss: 1.5345517122864176 | Validation Loss: 1.5077304320597866\n"
     ]
    },
    {
     "name": "stderr",
     "output_type": "stream",
     "text": [
      " 31%|█████████████████████████▋                                                        | 25/80 [01:33<03:20,  3.65s/it]"
     ]
    },
    {
     "name": "stdout",
     "output_type": "stream",
     "text": [
      "Epoch 025: | Training Loss: 1.512043585684179 | Validation Loss: 1.528883362035139\n"
     ]
    },
    {
     "name": "stderr",
     "output_type": "stream",
     "text": [
      " 32%|██████████████████████████▋                                                       | 26/80 [01:36<03:14,  3.59s/it]"
     ]
    },
    {
     "name": "stdout",
     "output_type": "stream",
     "text": [
      "Epoch 026: | Training Loss: 1.5018024860808532 | Validation Loss: 1.508160357081562\n"
     ]
    },
    {
     "name": "stderr",
     "output_type": "stream",
     "text": [
      " 34%|███████████████████████████▋                                                      | 27/80 [01:39<03:08,  3.55s/it]"
     ]
    },
    {
     "name": "stdout",
     "output_type": "stream",
     "text": [
      "Epoch 027: | Training Loss: 1.4824443683142319 | Validation Loss: 1.4880664829814105\n"
     ]
    },
    {
     "name": "stderr",
     "output_type": "stream",
     "text": [
      " 35%|████████████████████████████▋                                                     | 28/80 [01:43<03:03,  3.53s/it]"
     ]
    },
    {
     "name": "stdout",
     "output_type": "stream",
     "text": [
      "Epoch 028: | Training Loss: 1.4695336091208056 | Validation Loss: 1.468879193887798\n"
     ]
    },
    {
     "name": "stderr",
     "output_type": "stream",
     "text": [
      " 36%|█████████████████████████████▋                                                    | 29/80 [01:46<02:59,  3.51s/it]"
     ]
    },
    {
     "name": "stdout",
     "output_type": "stream",
     "text": [
      "Epoch 029: | Training Loss: 1.45335173734662 | Validation Loss: 1.451289492462753\n"
     ]
    },
    {
     "name": "stderr",
     "output_type": "stream",
     "text": [
      " 38%|██████████████████████████████▊                                                   | 30/80 [01:50<02:56,  3.53s/it]"
     ]
    },
    {
     "name": "stdout",
     "output_type": "stream",
     "text": [
      "Epoch 030: | Training Loss: 1.4424918291214597 | Validation Loss: 1.4398458594575934\n"
     ]
    },
    {
     "name": "stderr",
     "output_type": "stream",
     "text": [
      " 39%|███████████████████████████████▊                                                  | 31/80 [01:54<02:53,  3.55s/it]"
     ]
    },
    {
     "name": "stdout",
     "output_type": "stream",
     "text": [
      "Epoch 031: | Training Loss: 1.4183932111055162 | Validation Loss: 1.4523486577042746\n"
     ]
    },
    {
     "name": "stderr",
     "output_type": "stream",
     "text": [
      " 40%|████████████████████████████████▊                                                 | 32/80 [01:57<02:49,  3.53s/it]"
     ]
    },
    {
     "name": "stdout",
     "output_type": "stream",
     "text": [
      "Epoch 032: | Training Loss: 1.4063183228053142 | Validation Loss: 1.436389642024259\n"
     ]
    },
    {
     "name": "stderr",
     "output_type": "stream",
     "text": [
      " 41%|█████████████████████████████████▊                                                | 33/80 [02:01<02:46,  3.53s/it]"
     ]
    },
    {
     "name": "stdout",
     "output_type": "stream",
     "text": [
      "Epoch 033: | Training Loss: 1.3942753914486943 | Validation Loss: 1.3977963350234774\n"
     ]
    },
    {
     "name": "stderr",
     "output_type": "stream",
     "text": [
      " 42%|██████████████████████████████████▊                                               | 34/80 [02:04<02:43,  3.55s/it]"
     ]
    },
    {
     "name": "stdout",
     "output_type": "stream",
     "text": [
      "Epoch 034: | Training Loss: 1.3797038412933875 | Validation Loss: 1.391250023601252\n"
     ]
    },
    {
     "name": "stderr",
     "output_type": "stream",
     "text": [
      " 44%|███████████████████████████████████▉                                              | 35/80 [02:08<02:40,  3.57s/it]"
     ]
    },
    {
     "name": "stdout",
     "output_type": "stream",
     "text": [
      "Epoch 035: | Training Loss: 1.3713257110137123 | Validation Loss: 1.394821224409506\n"
     ]
    },
    {
     "name": "stderr",
     "output_type": "stream",
     "text": [
      " 45%|████████████████████████████████████▉                                             | 36/80 [02:11<02:37,  3.57s/it]"
     ]
    },
    {
     "name": "stdout",
     "output_type": "stream",
     "text": [
      "Epoch 036: | Training Loss: 1.3646831749774413 | Validation Loss: 1.3962786648798426\n"
     ]
    },
    {
     "name": "stderr",
     "output_type": "stream",
     "text": [
      " 46%|█████████████████████████████████████▉                                            | 37/80 [02:15<02:33,  3.57s/it]"
     ]
    },
    {
     "name": "stdout",
     "output_type": "stream",
     "text": [
      "Epoch 037: | Training Loss: 1.4003448471723619 | Validation Loss: 1.3783625965818354\n"
     ]
    },
    {
     "name": "stderr",
     "output_type": "stream",
     "text": [
      " 48%|██████████████████████████████████████▉                                           | 38/80 [02:19<02:29,  3.56s/it]"
     ]
    },
    {
     "name": "stdout",
     "output_type": "stream",
     "text": [
      "Epoch 038: | Training Loss: 1.3408201155217099 | Validation Loss: 1.3539255234079624\n"
     ]
    },
    {
     "name": "stderr",
     "output_type": "stream",
     "text": [
      " 49%|███████████████████████████████████████▉                                          | 39/80 [02:22<02:26,  3.56s/it]"
     ]
    },
    {
     "name": "stdout",
     "output_type": "stream",
     "text": [
      "Epoch 039: | Training Loss: 1.3308245525973497 | Validation Loss: 1.3811260992233907\n"
     ]
    },
    {
     "name": "stderr",
     "output_type": "stream",
     "text": [
      " 50%|█████████████████████████████████████████                                         | 40/80 [02:26<02:22,  3.57s/it]"
     ]
    },
    {
     "name": "stdout",
     "output_type": "stream",
     "text": [
      "Epoch 040: | Training Loss: 1.314209564447768 | Validation Loss: 1.3455044474076787\n"
     ]
    },
    {
     "name": "stderr",
     "output_type": "stream",
     "text": [
      " 51%|██████████████████████████████████████████                                        | 41/80 [02:29<02:19,  3.58s/it]"
     ]
    },
    {
     "name": "stdout",
     "output_type": "stream",
     "text": [
      "Epoch 041: | Training Loss: 1.303029575629037 | Validation Loss: 1.332891113167509\n"
     ]
    },
    {
     "name": "stderr",
     "output_type": "stream",
     "text": [
      " 52%|███████████████████████████████████████████                                       | 42/80 [02:33<02:15,  3.57s/it]"
     ]
    },
    {
     "name": "stdout",
     "output_type": "stream",
     "text": [
      "Epoch 042: | Training Loss: 1.3023142585528025 | Validation Loss: 1.3979647577902592\n"
     ]
    },
    {
     "name": "stderr",
     "output_type": "stream",
     "text": [
      " 54%|████████████████████████████████████████████                                      | 43/80 [02:36<02:11,  3.55s/it]"
     ]
    },
    {
     "name": "stdout",
     "output_type": "stream",
     "text": [
      "Epoch 043: | Training Loss: 1.3052123336843109 | Validation Loss: 1.3177380876256786\n"
     ]
    },
    {
     "name": "stderr",
     "output_type": "stream",
     "text": [
      " 55%|█████████████████████████████████████████████                                     | 44/80 [02:40<02:06,  3.53s/it]"
     ]
    },
    {
     "name": "stdout",
     "output_type": "stream",
     "text": [
      "Epoch 044: | Training Loss: 1.2813721109312854 | Validation Loss: 1.3170674541674623\n"
     ]
    },
    {
     "name": "stderr",
     "output_type": "stream",
     "text": [
      " 56%|██████████████████████████████████████████████▏                                   | 45/80 [02:43<02:03,  3.52s/it]"
     ]
    },
    {
     "name": "stdout",
     "output_type": "stream",
     "text": [
      "Epoch 045: | Training Loss: 1.2717193075745248 | Validation Loss: 1.3081622345185062\n"
     ]
    },
    {
     "name": "stderr",
     "output_type": "stream",
     "text": [
      " 57%|███████████████████████████████████████████████▏                                  | 46/80 [02:47<01:59,  3.52s/it]"
     ]
    },
    {
     "name": "stdout",
     "output_type": "stream",
     "text": [
      "Epoch 046: | Training Loss: 1.2753673706996678 | Validation Loss: 1.31669940943018\n"
     ]
    },
    {
     "name": "stderr",
     "output_type": "stream",
     "text": [
      " 59%|████████████████████████████████████████████████▏                                 | 47/80 [02:50<01:55,  3.51s/it]"
     ]
    },
    {
     "name": "stdout",
     "output_type": "stream",
     "text": [
      "Epoch 047: | Training Loss: 1.2510813959342233 | Validation Loss: 1.295527031935683\n"
     ]
    },
    {
     "name": "stderr",
     "output_type": "stream",
     "text": [
      " 60%|█████████████████████████████████████████████████▏                                | 48/80 [02:54<01:52,  3.51s/it]"
     ]
    },
    {
     "name": "stdout",
     "output_type": "stream",
     "text": [
      "Epoch 048: | Training Loss: 1.2953951756767985 | Validation Loss: 1.350325634173297\n"
     ]
    },
    {
     "name": "stderr",
     "output_type": "stream",
     "text": [
      " 61%|██████████████████████████████████████████████████▏                               | 49/80 [02:57<01:48,  3.49s/it]"
     ]
    },
    {
     "name": "stdout",
     "output_type": "stream",
     "text": [
      "Epoch 049: | Training Loss: 1.2773783100144238 | Validation Loss: 1.296413266330684\n"
     ]
    },
    {
     "name": "stderr",
     "output_type": "stream",
     "text": [
      " 62%|███████████████████████████████████████████████████▎                              | 50/80 [03:01<01:45,  3.52s/it]"
     ]
    },
    {
     "name": "stdout",
     "output_type": "stream",
     "text": [
      "Epoch 050: | Training Loss: 1.237026146049704 | Validation Loss: 1.2826328302195313\n"
     ]
    },
    {
     "name": "stderr",
     "output_type": "stream",
     "text": [
      " 64%|████████████████████████████████████████████████████▎                             | 51/80 [03:04<01:41,  3.51s/it]"
     ]
    },
    {
     "name": "stdout",
     "output_type": "stream",
     "text": [
      "Epoch 051: | Training Loss: 1.2257392437726395 | Validation Loss: 1.3002146466062703\n"
     ]
    },
    {
     "name": "stderr",
     "output_type": "stream",
     "text": [
      " 65%|█████████████████████████████████████████████████████▎                            | 52/80 [03:08<01:38,  3.51s/it]"
     ]
    },
    {
     "name": "stdout",
     "output_type": "stream",
     "text": [
      "Epoch 052: | Training Loss: 1.2286135019423585 | Validation Loss: 1.2802105053849178\n"
     ]
    },
    {
     "name": "stderr",
     "output_type": "stream",
     "text": [
      " 66%|██████████████████████████████████████████████████████▎                           | 53/80 [03:11<01:34,  3.50s/it]"
     ]
    },
    {
     "name": "stdout",
     "output_type": "stream",
     "text": [
      "Epoch 053: | Training Loss: 1.2167823085558542 | Validation Loss: 1.2727487002490858\n"
     ]
    },
    {
     "name": "stderr",
     "output_type": "stream",
     "text": [
      " 68%|███████████████████████████████████████████████████████▎                          | 54/80 [03:15<01:31,  3.51s/it]"
     ]
    },
    {
     "name": "stdout",
     "output_type": "stream",
     "text": [
      "Epoch 054: | Training Loss: 1.2172332075617032 | Validation Loss: 1.2742885288295396\n"
     ]
    },
    {
     "name": "stderr",
     "output_type": "stream",
     "text": [
      " 69%|████████████████████████████████████████████████████████▍                         | 55/80 [03:18<01:27,  3.52s/it]"
     ]
    },
    {
     "name": "stdout",
     "output_type": "stream",
     "text": [
      "Epoch 055: | Training Loss: 1.2006844742192244 | Validation Loss: 1.2615069432542958\n"
     ]
    },
    {
     "name": "stderr",
     "output_type": "stream",
     "text": [
      " 70%|█████████████████████████████████████████████████████████▍                        | 56/80 [03:22<01:24,  3.52s/it]"
     ]
    },
    {
     "name": "stdout",
     "output_type": "stream",
     "text": [
      "Epoch 056: | Training Loss: 1.1947467292432215 | Validation Loss: 1.257525422977745\n"
     ]
    },
    {
     "name": "stderr",
     "output_type": "stream",
     "text": [
      " 71%|██████████████████████████████████████████████████████████▍                       | 57/80 [03:25<01:20,  3.51s/it]"
     ]
    },
    {
     "name": "stdout",
     "output_type": "stream",
     "text": [
      "Epoch 057: | Training Loss: 1.215185727404964 | Validation Loss: 1.300600691399443\n"
     ]
    },
    {
     "name": "stderr",
     "output_type": "stream",
     "text": [
      " 72%|███████████████████████████████████████████████████████████▍                      | 58/80 [03:29<01:17,  3.50s/it]"
     ]
    },
    {
     "name": "stdout",
     "output_type": "stream",
     "text": [
      "Epoch 058: | Training Loss: 1.1899707386723704 | Validation Loss: 1.2528097648686225\n"
     ]
    },
    {
     "name": "stderr",
     "output_type": "stream",
     "text": [
      " 74%|████████████████████████████████████████████████████████████▍                     | 59/80 [03:32<01:13,  3.50s/it]"
     ]
    },
    {
     "name": "stdout",
     "output_type": "stream",
     "text": [
      "Epoch 059: | Training Loss: 1.1670731169158794 | Validation Loss: 1.237255223027063\n"
     ]
    },
    {
     "name": "stderr",
     "output_type": "stream",
     "text": [
      " 75%|█████████████████████████████████████████████████████████████▌                    | 60/80 [03:36<01:09,  3.50s/it]"
     ]
    },
    {
     "name": "stdout",
     "output_type": "stream",
     "text": [
      "Epoch 060: | Training Loss: 1.1614494494420646 | Validation Loss: 1.300346271980793\n"
     ]
    },
    {
     "name": "stderr",
     "output_type": "stream",
     "text": [
      " 76%|██████████████████████████████████████████████████████████████▌                   | 61/80 [03:39<01:06,  3.51s/it]"
     ]
    },
    {
     "name": "stdout",
     "output_type": "stream",
     "text": [
      "Epoch 061: | Training Loss: 1.1652971414840605 | Validation Loss: 1.2421946689623211\n"
     ]
    },
    {
     "name": "stderr",
     "output_type": "stream",
     "text": [
      " 78%|███████████████████████████████████████████████████████████████▌                  | 62/80 [03:43<01:03,  3.51s/it]"
     ]
    },
    {
     "name": "stdout",
     "output_type": "stream",
     "text": [
      "Epoch 062: | Training Loss: 1.2142454012429733 | Validation Loss: 1.2978822821324025\n"
     ]
    },
    {
     "name": "stderr",
     "output_type": "stream",
     "text": [
      " 79%|████████████████████████████████████████████████████████████████▌                 | 63/80 [03:46<00:59,  3.51s/it]"
     ]
    },
    {
     "name": "stdout",
     "output_type": "stream",
     "text": [
      "Epoch 063: | Training Loss: 1.170659580785684 | Validation Loss: 1.2436674603628457\n"
     ]
    },
    {
     "name": "stderr",
     "output_type": "stream",
     "text": [
      " 80%|█████████████████████████████████████████████████████████████████▌                | 64/80 [03:50<00:56,  3.51s/it]"
     ]
    },
    {
     "name": "stdout",
     "output_type": "stream",
     "text": [
      "Epoch 064: | Training Loss: 1.1489586730645955 | Validation Loss: 1.2451116866474852\n"
     ]
    },
    {
     "name": "stderr",
     "output_type": "stream",
     "text": [
      " 81%|██████████████████████████████████████████████████████████████████▋               | 65/80 [03:53<00:52,  3.51s/it]"
     ]
    },
    {
     "name": "stdout",
     "output_type": "stream",
     "text": [
      "Epoch 065: | Training Loss: 1.135068294465268 | Validation Loss: 1.2355996610921458\n"
     ]
    },
    {
     "name": "stderr",
     "output_type": "stream",
     "text": [
      " 82%|███████████████████████████████████████████████████████████████████▋              | 66/80 [03:57<00:49,  3.51s/it]"
     ]
    },
    {
     "name": "stdout",
     "output_type": "stream",
     "text": [
      "Epoch 066: | Training Loss: 1.1248577554777242 | Validation Loss: 1.2435481069831673\n"
     ]
    },
    {
     "name": "stderr",
     "output_type": "stream",
     "text": [
      " 84%|████████████████████████████████████████████████████████████████████▋             | 67/80 [04:00<00:45,  3.50s/it]"
     ]
    },
    {
     "name": "stdout",
     "output_type": "stream",
     "text": [
      "Epoch 067: | Training Loss: 1.1351387403095299 | Validation Loss: 1.2761016058812447\n"
     ]
    },
    {
     "name": "stderr",
     "output_type": "stream",
     "text": [
      " 85%|█████████████████████████████████████████████████████████████████████▋            | 68/80 [04:04<00:42,  3.51s/it]"
     ]
    },
    {
     "name": "stdout",
     "output_type": "stream",
     "text": [
      "Epoch 068: | Training Loss: 1.1105147124614687 | Validation Loss: 1.2263787826266856\n"
     ]
    },
    {
     "name": "stderr",
     "output_type": "stream",
     "text": [
      " 86%|██████████████████████████████████████████████████████████████████████▋           | 69/80 [04:08<00:38,  3.52s/it]"
     ]
    },
    {
     "name": "stdout",
     "output_type": "stream",
     "text": [
      "Epoch 069: | Training Loss: 1.1553082451520982 | Validation Loss: 1.2728978761839211\n"
     ]
    },
    {
     "name": "stderr",
     "output_type": "stream",
     "text": [
      " 88%|███████████████████████████████████████████████████████████████████████▊          | 70/80 [04:11<00:35,  3.52s/it]"
     ]
    },
    {
     "name": "stdout",
     "output_type": "stream",
     "text": [
      "Epoch 070: | Training Loss: 1.1264694451738098 | Validation Loss: 1.2163395865247884\n"
     ]
    },
    {
     "name": "stderr",
     "output_type": "stream",
     "text": [
      " 89%|████████████████████████████████████████████████████████████████████████▊         | 71/80 [04:15<00:31,  3.51s/it]"
     ]
    },
    {
     "name": "stdout",
     "output_type": "stream",
     "text": [
      "Epoch 071: | Training Loss: 1.0990854853145196 | Validation Loss: 1.2212422069059599\n"
     ]
    },
    {
     "name": "stderr",
     "output_type": "stream",
     "text": [
      " 90%|█████████████████████████████████████████████████████████████████████████▊        | 72/80 [04:18<00:28,  3.51s/it]"
     ]
    },
    {
     "name": "stdout",
     "output_type": "stream",
     "text": [
      "Epoch 072: | Training Loss: 1.1098582342974441 | Validation Loss: 1.2107228267630306\n"
     ]
    },
    {
     "name": "stderr",
     "output_type": "stream",
     "text": [
      " 91%|██████████████████████████████████████████████████████████████████████████▊       | 73/80 [04:22<00:24,  3.51s/it]"
     ]
    },
    {
     "name": "stdout",
     "output_type": "stream",
     "text": [
      "Epoch 073: | Training Loss: 1.0820347724245665 | Validation Loss: 1.2471039317069796\n"
     ]
    },
    {
     "name": "stderr",
     "output_type": "stream",
     "text": [
      " 92%|███████████████████████████████████████████████████████████████████████████▊      | 74/80 [04:25<00:21,  3.50s/it]"
     ]
    },
    {
     "name": "stdout",
     "output_type": "stream",
     "text": [
      "Epoch 074: | Training Loss: 1.118932596551879 | Validation Loss: 1.2245937976815284\n"
     ]
    },
    {
     "name": "stderr",
     "output_type": "stream",
     "text": [
      " 94%|████████████████████████████████████████████████████████████████████████████▉     | 75/80 [04:29<00:17,  3.51s/it]"
     ]
    },
    {
     "name": "stdout",
     "output_type": "stream",
     "text": [
      "Epoch 075: | Training Loss: 1.0623058208462655 | Validation Loss: 1.2146967250272769\n"
     ]
    },
    {
     "name": "stderr",
     "output_type": "stream",
     "text": [
      " 95%|█████████████████████████████████████████████████████████████████████████████▉    | 76/80 [04:32<00:14,  3.51s/it]"
     ]
    },
    {
     "name": "stdout",
     "output_type": "stream",
     "text": [
      "Epoch 076: | Training Loss: 1.0655358206440808 | Validation Loss: 1.2045128391970188\n"
     ]
    },
    {
     "name": "stderr",
     "output_type": "stream",
     "text": [
      " 96%|██████████████████████████████████████████████████████████████████████████████▉   | 77/80 [04:36<00:10,  3.50s/it]"
     ]
    },
    {
     "name": "stdout",
     "output_type": "stream",
     "text": [
      "Epoch 077: | Training Loss: 1.06305414771413 | Validation Loss: 1.206229655841075\n"
     ]
    },
    {
     "name": "stderr",
     "output_type": "stream",
     "text": [
      " 98%|███████████████████████████████████████████████████████████████████████████████▉  | 78/80 [04:39<00:07,  3.53s/it]"
     ]
    },
    {
     "name": "stdout",
     "output_type": "stream",
     "text": [
      "Epoch 078: | Training Loss: 1.0612863794790657 | Validation Loss: 1.2295559877102529\n"
     ]
    },
    {
     "name": "stderr",
     "output_type": "stream",
     "text": [
      " 99%|████████████████████████████████████████████████████████████████████████████████▉ | 79/80 [04:43<00:03,  3.56s/it]"
     ]
    },
    {
     "name": "stdout",
     "output_type": "stream",
     "text": [
      "Epoch 079: | Training Loss: 1.0468281581427383 | Validation Loss: 1.2011889995784935\n"
     ]
    },
    {
     "name": "stderr",
     "output_type": "stream",
     "text": [
      "100%|██████████████████████████████████████████████████████████████████████████████████| 80/80 [04:46<00:00,  3.59s/it]"
     ]
    },
    {
     "name": "stdout",
     "output_type": "stream",
     "text": [
      "Epoch 080: | Training Loss: 1.0377301262494798 | Validation Loss: 1.1946802497456928\n"
     ]
    },
    {
     "name": "stderr",
     "output_type": "stream",
     "text": [
      "\n"
     ]
    }
   ],
   "source": [
    "trainer.train(dataloader_train, dataloader_val, batch_size=batch_size, n_epochs=n_epochs)"
   ]
  },
  {
   "cell_type": "markdown",
   "id": "38b49505-64d1-47c7-b0c0-14b374641438",
   "metadata": {},
   "source": [
    "### Saving the Model"
   ]
  },
  {
   "cell_type": "code",
   "execution_count": 52,
   "id": "9a8dc142-8441-4045-9a03-1369bcb1bc6d",
   "metadata": {},
   "outputs": [],
   "source": [
    "dir_save = '../models/'\n",
    "trainer.save(dir_save + 'manuscriptmodel.pth')"
   ]
  },
  {
   "cell_type": "markdown",
   "id": "c4db5b9d-d116-4915-a51d-e73c0d96a2df",
   "metadata": {},
   "source": [
    "### Validation Eval"
   ]
  },
  {
   "cell_type": "code",
   "execution_count": 77,
   "id": "9f3ea573-7cbf-4db6-bf62-85b6573905ce",
   "metadata": {},
   "outputs": [],
   "source": [
    "torch.cuda.empty_cache()\n",
    "x_batch, y_batch = dataset_val[:]\n",
    "x_batch = torch.tensor(x_batch, device=torch.device(\"cuda:0\"))\n",
    "y_pred = trainer.network(x_batch)\n",
    "y_pred = F.softmax(y_pred, dim=1)\n",
    "y_pred = y_pred.detach().cpu().numpy()\n",
    "y_pred = np.argmax(y_pred, axis=1)\n",
    "dic = {\"y_pred\": y_pred, \"y_true\": y_batch}\n",
    "\n",
    "val_df = pd.DataFrame(dic)"
   ]
  },
  {
   "cell_type": "code",
   "execution_count": 42,
   "id": "b3b1c687-a092-43e5-9ce4-8c9fceb4ca74",
   "metadata": {},
   "outputs": [
    {
     "name": "stdout",
     "output_type": "stream",
     "text": [
      "       y_pred  y_true\n",
      "0           8       8\n",
      "1           6       4\n",
      "2           1       2\n",
      "3           2       0\n",
      "4           1       1\n",
      "...       ...     ...\n",
      "13906       6       3\n",
      "13907       3       3\n",
      "13908       7       6\n",
      "13909       2       6\n",
      "13910       0       0\n",
      "\n",
      "[13911 rows x 2 columns]\n"
     ]
    }
   ],
   "source": [
    "print(val_df)"
   ]
  },
  {
   "cell_type": "code",
   "execution_count": 44,
   "id": "8e1f7875-9068-4534-b359-9d49cfebba43",
   "metadata": {},
   "outputs": [
    {
     "name": "stdout",
     "output_type": "stream",
     "text": [
      " Accuracy: 0.5732154410178995\n"
     ]
    }
   ],
   "source": [
    "print(f' Accuracy: {sum(val_df[\"y_pred\"] == val_df[\"y_true\"])/13911}')"
   ]
  },
  {
   "cell_type": "markdown",
   "id": "e36eff72-89ca-4016-afc7-0d98add66e81",
   "metadata": {},
   "source": [
    "### Test Eval"
   ]
  },
  {
   "cell_type": "code",
   "execution_count": 46,
   "id": "1552c434-8a73-4f6a-9c99-8218846faa8f",
   "metadata": {},
   "outputs": [],
   "source": [
    "torch.cuda.empty_cache()\n",
    "x_batch, y_batch = dataset_test[:]\n",
    "x_batch = torch.tensor(x_batch, device=torch.device(\"cuda:0\"))\n",
    "y_pred = trainer.network(x_batch)\n",
    "y_pred = F.softmax(y_pred, dim=1)\n",
    "y_pred = y_pred.detach().cpu().numpy()\n",
    "y_pred = np.argmax(y_pred, axis=1)\n",
    "dic = {\"y_pred\": y_pred, \"y_true\": y_batch}\n",
    "\n",
    "test_df = pd.DataFrame(dic)"
   ]
  },
  {
   "cell_type": "code",
   "execution_count": 47,
   "id": "ea176b97-1aee-45b9-bb08-661bd2c77d95",
   "metadata": {},
   "outputs": [
    {
     "name": "stdout",
     "output_type": "stream",
     "text": [
      "       y_pred  y_true\n",
      "0           1       1\n",
      "1           1       1\n",
      "2           2       7\n",
      "3           4       0\n",
      "4           1       1\n",
      "...       ...     ...\n",
      "13906       7       7\n",
      "13907       2       5\n",
      "13908       0       4\n",
      "13909       0       0\n",
      "13910       8       8\n",
      "\n",
      "[13911 rows x 2 columns]\n"
     ]
    }
   ],
   "source": [
    "print(test_df)"
   ]
  },
  {
   "cell_type": "code",
   "execution_count": 48,
   "id": "79ca3141-7788-44b1-b622-9c68f06deb9e",
   "metadata": {},
   "outputs": [
    {
     "name": "stdout",
     "output_type": "stream",
     "text": [
      " Accuracy: 0.569333620875566\n"
     ]
    }
   ],
   "source": [
    "print(f' Accuracy: {sum(test_df[\"y_pred\"] == test_df[\"y_true\"])/13911}')"
   ]
  },
  {
   "cell_type": "code",
   "execution_count": 108,
   "id": "5ad4456c-a580-4693-91d6-2f588960a31f",
   "metadata": {},
   "outputs": [],
   "source": [
    "one_true, one_pred, one_prob = np.empty([64,]).T, np.empty([64,]).T, np.empty([65,9])"
   ]
  },
  {
   "cell_type": "code",
   "execution_count": 109,
   "id": "e1e56c24-369a-4462-8fb6-01d7fcf28f4f",
   "metadata": {},
   "outputs": [],
   "source": [
    "for x, y in dataloader_test:\n",
    "    x, y = x.to(device), y.to(device)\n",
    "    y_true = y.detach().cpu().numpy()\n",
    "    one_true = np.hstack([one_true, y_true.T])\n",
    "    y_pred = trainer.network(x)\n",
    "    y_pred = F.softmax(y_pred, dim=1)\n",
    "    y_pred = y_pred.detach().cpu().numpy()\n",
    "    one_prob = np.vstack([one_prob, y_pred])\n",
    "    y_pred = np.argmax(y_pred, axis=1)\n",
    "    one_pred = np.hstack([one_pred, y_pred.T])"
   ]
  },
  {
   "cell_type": "markdown",
   "id": "4d121598-75ab-4d23-9529-5b72347770c3",
   "metadata": {},
   "source": [
    "### Plots and Metrics"
   ]
  },
  {
   "cell_type": "code",
   "execution_count": 27,
   "id": "117971b8-68a6-446b-9046-62750916986f",
   "metadata": {},
   "outputs": [],
   "source": [
    "import sklearn.metrics\n",
    "from core.visualization import *"
   ]
  },
  {
   "cell_type": "code",
   "execution_count": 95,
   "id": "96a22b3f-ff24-45e6-be14-13a5b29107c5",
   "metadata": {},
   "outputs": [
    {
     "data": {
      "text/plain": [
       "[<matplotlib.lines.Line2D at 0x19210438a90>]"
      ]
     },
     "execution_count": 95,
     "metadata": {},
     "output_type": "execute_result"
    },
    {
     "data": {
      "image/png": "[encoded data removed]",
      "text/plain": [
       "<Figure size 432x288 with 1 Axes>"
      ]
     },
     "metadata": {
      "needs_background": "light"
     },
     "output_type": "display_data"
    }
   ],
   "source": [
    "plt.plot(trainer.loss_history[0])\n",
    "plt.plot(trainer.loss_history[1])"
   ]
  },
  {
   "cell_type": "code",
   "execution_count": 96,
   "id": "7313261c-a633-4949-941d-bc0867065b56",
   "metadata": {},
   "outputs": [],
   "source": [
    "report = sklearn.metrics.classification_report(test_df[\"y_true\"], test_df[\"y_pred\"], target_names=ligands, output_dict=True)\n",
    "rep = pd.DataFrame(report).transpose()"
   ]
  },
  {
   "cell_type": "code",
   "execution_count": 97,
   "id": "6b609e2d-b631-482f-b258-80f28ffc726b",
   "metadata": {},
   "outputs": [
    {
     "name": "stdout",
     "output_type": "stream",
     "text": [
      "              precision    recall  f1-score       support\n",
      "TNF            0.593886  0.604061  0.598930   1576.000000\n",
      "R84            0.628776  0.786675  0.698919   1561.000000\n",
      "PIC            0.638012  0.598614  0.617685   1587.000000\n",
      "P3K            0.544029  0.583819  0.563222   1545.000000\n",
      "FLA            0.474131  0.387137  0.426241   1586.000000\n",
      "CpG            0.436530  0.407773  0.421662   1518.000000\n",
      "FSL            0.358586  0.284379  0.317200   1498.000000\n",
      "LPS            0.430540  0.480461  0.454133   1561.000000\n",
      "UST            0.945048  1.000000  0.971748   1479.000000\n",
      "accuracy       0.569334  0.569334  0.569334      0.569334\n",
      "macro avg      0.561060  0.570324  0.563304  13911.000000\n",
      "weighted avg   0.560141  0.569334  0.562343  13911.000000\n"
     ]
    }
   ],
   "source": [
    "print(rep)"
   ]
  },
  {
   "cell_type": "code",
   "execution_count": 98,
   "id": "ea2e2242-44df-407e-b233-c26dacbf1d1d",
   "metadata": {},
   "outputs": [],
   "source": [
    "f1_df = rep[:9][\"f1-score\"]"
   ]
  },
  {
   "cell_type": "code",
   "execution_count": 99,
   "id": "262d0026-872c-4a34-8f3e-7c752af8a741",
   "metadata": {},
   "outputs": [
    {
     "data": {
      "text/plain": [
       "<AxesSubplot:>"
      ]
     },
     "execution_count": 99,
     "metadata": {},
     "output_type": "execute_result"
    },
    {
     "data": {
      "image/png": "[encoded data removed]",
      "text/plain": [
       "<Figure size 432x288 with 1 Axes>"
      ]
     },
     "metadata": {
      "needs_background": "light"
     },
     "output_type": "display_data"
    }
   ],
   "source": [
    "f1_df.plot(y = 'f1-score', style = 'o-')"
   ]
  },
  {
   "cell_type": "code",
   "execution_count": 100,
   "id": "7dd088ec-9cfc-4ca5-a118-0487331bf8ad",
   "metadata": {},
   "outputs": [],
   "source": [
    "confusion = sklearn.metrics.confusion_matrix(test_df[\"y_true\"], test_df[\"y_pred\"])\n",
    "confusion = sklearn.metrics.ConfusionMatrixDisplay(confusion)"
   ]
  },
  {
   "cell_type": "code",
   "execution_count": 101,
   "id": "99532fdf-e6aa-428d-8418-13e36d6a97a6",
   "metadata": {},
   "outputs": [
    {
     "data": {
      "text/plain": [
       "<sklearn.metrics._plot.confusion_matrix.ConfusionMatrixDisplay at 0x19209a84160>"
      ]
     },
     "execution_count": 101,
     "metadata": {},
     "output_type": "execute_result"
    },
    {
     "data": {
      "image/png": "[encoded data removed]",
      "text/plain": [
       "<Figure size 432x288 with 2 Axes>"
      ]
     },
     "metadata": {
      "needs_background": "light"
     },
     "output_type": "display_data"
    }
   ],
   "source": [
    "confusion.plot()"
   ]
  },
  {
   "cell_type": "code",
   "execution_count": 111,
   "id": "34038ba0-250b-4da7-a489-4eed5f812083",
   "metadata": {},
   "outputs": [],
   "source": [
    "one_prob, one_true, one_pred = one_prob[65:], one_true[64:], one_pred[64:]\n",
    "one_fraction = Fraction(one_true, one_prob)"
   ]
  },
  {
   "cell_type": "code",
   "execution_count": 114,
   "id": "b9c01467-3e19-4618-b1f5-dd5f2aec7ce7",
   "metadata": {},
   "outputs": [
    {
     "data": {
      "image/png": "[encoded data removed]",
      "text/plain": [
       "<Figure size 432x288 with 2 Axes>"
      ]
     },
     "metadata": {
      "needs_background": "light"
     },
     "output_type": "display_data"
    }
   ],
   "source": [
    "ocf = sns.heatmap(one_fraction, cmap=\"BuPu\", xticklabels=ligands)"
   ]
  },
  {
   "cell_type": "markdown",
   "id": "2c354c30-8522-4e2d-bfd7-0b982f220d21",
   "metadata": {},
   "source": [
    "### Polarized States"
   ]
  },
  {
   "cell_type": "code",
   "execution_count": 46,
   "id": "b2aa4f99-6820-4a9f-a3fb-4b56f960f323",
   "metadata": {},
   "outputs": [],
   "source": [
    "dir_load = '../models/'\n",
    "device = torch.device('cuda:0')"
   ]
  },
  {
   "cell_type": "code",
   "execution_count": 47,
   "id": "7f4c195f-c391-4bff-ac68-693c9bbea87a",
   "metadata": {},
   "outputs": [],
   "source": [
    "net = LSTM(1, 98, 9, num_layers=1, device=device).to(device)\n",
    "model = LSTMTrainer(net, device=device)"
   ]
  },
  {
   "cell_type": "code",
   "execution_count": 48,
   "id": "5e4abea0-d94b-4cd9-81e2-2021009d6edc",
   "metadata": {},
   "outputs": [],
   "source": [
    "model.load(dir_load + 'manuscriptmodel.pth')"
   ]
  },
  {
   "cell_type": "code",
   "execution_count": 49,
   "id": "ccfadee9-20a7-4899-94f5-46972340be73",
   "metadata": {},
   "outputs": [],
   "source": [
    "unpolarized_data = DatasetPolar(ligands, [\"\"], replicas, size)\n",
    "ib = DatasetPolar(ligands, [\"ib\"], replicas, size)\n",
    "ig = DatasetPolar(ligands, [\"ig\"], replicas, size)\n",
    "i0 = DatasetPolar(ligands, [\"i0\"], replicas, size)\n",
    "i3 = DatasetPolar(ligands, [\"i3\"], replicas, size)\n",
    "i4 = DatasetPolar(ligands, [\"i4\"], replicas, size)"
   ]
  },
  {
   "cell_type": "code",
   "execution_count": 50,
   "id": "ea24160e-822f-45bc-ba5e-090f97b57049",
   "metadata": {},
   "outputs": [],
   "source": [
    "_, unpolarizedtest = torch.utils.data.random_split(unpolarized_data, [11592 - 3200, 3200])\n",
    "_, ibtest = torch.utils.data.random_split(ib, [11592 - 3200, 3200])\n",
    "_, igtest = torch.utils.data.random_split(ig, [11592 - 3200, 3200])\n",
    "_, i0test = torch.utils.data.random_split(i0, [11592 - 3200, 3200])\n",
    "_, i3test = torch.utils.data.random_split(i3, [11592 - 3200, 3200])\n",
    "_, i4test = torch.utils.data.random_split(i4, [11592 - 3200, 3200])\n",
    "\n",
    "uploader = torch.utils.data.DataLoader(unpolarizedtest, batch_size=32, shuffle=True)\n",
    "ibloader = torch.utils.data.DataLoader(ibtest, batch_size=32, shuffle=True)\n",
    "igloader = torch.utils.data.DataLoader(igtest, batch_size=32, shuffle=True)\n",
    "i0loader = torch.utils.data.DataLoader(i0test, batch_size=32, shuffle=True)\n",
    "i3loader = torch.utils.data.DataLoader(i3test, batch_size=32, shuffle=True)\n",
    "i4loader = torch.utils.data.DataLoader(i4test, batch_size=32, shuffle=True)"
   ]
  },
  {
   "cell_type": "code",
   "execution_count": 51,
   "id": "bc802ea1-dcf2-4dcb-9934-ffbb4365e4fb",
   "metadata": {},
   "outputs": [],
   "source": [
    "up_true, up_pred, up_prob = np.empty((32,)), np.empty((32,)), np.empty((32, 9))\n",
    "ib_true, ib_pred, ib_prob = np.empty((32,)), np.empty((32,)), np.empty((32, 9))\n",
    "ig_true, ig_pred, ig_prob = np.empty((32,)), np.empty((32,)), np.empty((32, 9))\n",
    "i0_true, i0_pred, i0_prob = np.empty((32,)), np.empty((32,)), np.empty((32, 9))\n",
    "i3_true, i3_pred, i3_prob = np.empty((32,)), np.empty((32,)), np.empty((32, 9))\n",
    "i4_true, i4_pred, i4_prob = np.empty((32,)), np.empty((32,)), np.empty((32, 9))"
   ]
  },
  {
   "cell_type": "code",
   "execution_count": 52,
   "id": "a5adc827-a532-459a-8156-d31eb3c7d381",
   "metadata": {},
   "outputs": [],
   "source": [
    "for x, y in uploader:\n",
    "    x, y = x.to(device), y.to(device)\n",
    "    y_true = y.detach().cpu().numpy()\n",
    "    up_true = np.hstack([up_true, y_true.T])\n",
    "    y_pred = model.network(x)\n",
    "    y_pred = F.softmax(y_pred, dim=1)\n",
    "    y_pred = y_pred.detach().cpu().numpy()\n",
    "    up_prob = np.vstack([up_prob, y_pred])\n",
    "    y_pred = np.argmax(y_pred, axis=1)\n",
    "    up_pred = np.hstack([up_pred, y_pred.T])\n",
    "    \n",
    "for x, y in ibloader:\n",
    "    x, y = x.to(device), y.to(device)\n",
    "    y_true = y.detach().cpu().numpy()\n",
    "    ib_true = np.hstack([ib_true, y_true.T])\n",
    "    y_pred = model.network(x)\n",
    "    y_pred = F.softmax(y_pred, dim=1)\n",
    "    y_pred = y_pred.detach().cpu().numpy()\n",
    "    ib_prob = np.vstack([ib_prob, y_pred])\n",
    "    y_pred = np.argmax(y_pred, axis=1)\n",
    "    ib_pred = np.hstack([ib_pred, y_pred.T])\n",
    "    \n",
    "for x, y in igloader:\n",
    "    x, y = x.to(device), y.to(device)\n",
    "    y_true = y.detach().cpu().numpy()\n",
    "    ig_true = np.hstack([ig_true, y_true.T])\n",
    "    y_pred = model.network(x)\n",
    "    y_pred = F.softmax(y_pred, dim=1)\n",
    "    y_pred = y_pred.detach().cpu().numpy()\n",
    "    ig_prob = np.vstack([ig_prob, y_pred])\n",
    "    y_pred = np.argmax(y_pred, axis=1)\n",
    "    ig_pred = np.hstack([ig_pred, y_pred.T])\n",
    "    \n",
    "for x, y in i0loader:\n",
    "    x, y = x.to(device), y.to(device)\n",
    "    y_true = y.detach().cpu().numpy()\n",
    "    i0_true = np.hstack([i0_true, y_true.T])\n",
    "    y_pred = model.network(x)\n",
    "    y_pred = F.softmax(y_pred, dim=1)\n",
    "    y_pred = y_pred.detach().cpu().numpy()\n",
    "    i0_prob = np.vstack([i0_prob, y_pred])\n",
    "    y_pred = np.argmax(y_pred, axis=1)\n",
    "    i0_pred = np.hstack([i0_pred, y_pred.T])\n",
    "    \n",
    "for x, y in i3loader:\n",
    "    x, y = x.to(device), y.to(device)\n",
    "    y_true = y.detach().cpu().numpy()\n",
    "    i3_true = np.hstack([i3_true, y_true.T])\n",
    "    y_pred = model.network(x)\n",
    "    y_pred = F.softmax(y_pred, dim=1)\n",
    "    y_pred = y_pred.detach().cpu().numpy()\n",
    "    i3_prob = np.vstack([i3_prob, y_pred])\n",
    "    y_pred = np.argmax(y_pred, axis=1)\n",
    "    i3_pred = np.hstack([i3_pred, y_pred.T])\n",
    "    \n",
    "for x, y in i4loader:\n",
    "    x, y = x.to(device), y.to(device)\n",
    "    y_true = y.detach().cpu().numpy()\n",
    "    i4_true = np.hstack([i4_true, y_true.T])\n",
    "    y_pred = model.network(x)\n",
    "    y_pred = F.softmax(y_pred, dim=1)\n",
    "    y_pred = y_pred.detach().cpu().numpy()\n",
    "    i4_prob = np.vstack([i4_prob, y_pred])\n",
    "    y_pred = np.argmax(y_pred, axis=1)\n",
    "    i4_pred = np.hstack([i4_pred, y_pred.T])"
   ]
  },
  {
   "cell_type": "code",
   "execution_count": 53,
   "id": "38209378-6ed0-4844-9087-52f4b657d5eb",
   "metadata": {},
   "outputs": [],
   "source": [
    "up_true, up_pred, up_prob = up_true[32:], up_pred[32:], up_prob[32:]\n",
    "ib_true, ib_pred, ib_prob = ib_true[32:], ib_pred[32:], ib_prob[32:] \n",
    "ig_true, ig_pred, ig_prob = ig_true[32:], ig_pred[32:], ig_prob[32:]\n",
    "i0_true, i0_pred, i0_prob = i0_true[32:], i0_pred[32:], i0_prob[32:]\n",
    "i3_true, i3_pred, i3_prob = i3_true[32:], i3_pred[32:], i3_prob[32:]\n",
    "i4_true, i4_pred, i4_prob = i4_true[32:], i4_pred[32:], i4_prob[32:]"
   ]
  },
  {
   "cell_type": "code",
   "execution_count": 54,
   "id": "ed3b3b35-877a-43e8-884e-5ccfadeb432b",
   "metadata": {},
   "outputs": [
    {
     "name": "stdout",
     "output_type": "stream",
     "text": [
      "(3200,) (3200,) (3200, 9)\n",
      "(3200,) (3200,) (3200, 9)\n",
      "(3200,) (3200,) (3200, 9)\n",
      "(3200,) (3200,) (3200, 9)\n",
      "(3200,) (3200,) (3200, 9)\n"
     ]
    }
   ],
   "source": [
    "print(ib_true.shape, ib_pred.shape, ib_prob.shape)\n",
    "print(ig_true.shape, ig_pred.shape, ig_prob.shape)\n",
    "print(i0_true.shape, i0_pred.shape, i0_prob.shape)\n",
    "print(i3_true.shape, i3_pred.shape, i3_prob.shape)\n",
    "print(i4_true.shape, i4_pred.shape, i4_prob.shape)"
   ]
  },
  {
   "cell_type": "code",
   "execution_count": 55,
   "id": "ec6ea29c-95ce-4dc4-b685-89de1e8274ee",
   "metadata": {},
   "outputs": [],
   "source": [
    "up_df = np.vstack([up_true, up_pred]).T\n",
    "up_df = pd.DataFrame(up_df)\n",
    "up_fraction = Fraction(up_true, up_prob)\n",
    "\n",
    "ib_df = np.vstack([ib_true, ib_pred]).T\n",
    "ib_df = pd.DataFrame(ib_df)\n",
    "ib_fraction = Fraction(ib_true, ib_prob)\n",
    "\n",
    "ig_df = np.vstack([ig_true, ig_pred]).T\n",
    "ig_df = pd.DataFrame(ig_df)\n",
    "ig_fraction = Fraction(ig_true, ig_prob)\n",
    "\n",
    "i0_df = np.vstack([i0_true, i0_pred]).T\n",
    "i0_df = pd.DataFrame(i0_df)\n",
    "i0_fraction = Fraction(i0_true, i0_prob)\n",
    "\n",
    "i3_df = np.vstack([i3_true, i3_pred]).T\n",
    "i3_df = pd.DataFrame(i3_df)\n",
    "i3_fraction = Fraction(i3_true, i3_prob)\n",
    "\n",
    "i4_df = np.vstack([i4_true, i4_pred]).T\n",
    "i4_df = pd.DataFrame(i4_df)\n",
    "i4_fraction = Fraction(i4_true, i4_prob)"
   ]
  },
  {
   "cell_type": "markdown",
   "id": "a31313b4-027e-414d-931c-339427d3e2e5",
   "metadata": {},
   "source": [
    "### Unstimulated "
   ]
  },
  {
   "cell_type": "code",
   "execution_count": 80,
   "id": "e0ca551c-1c28-40f7-ab49-c88f4154faf9",
   "metadata": {},
   "outputs": [
    {
     "name": "stdout",
     "output_type": "stream",
     "text": [
      "              precision    recall  f1-score     support\n",
      "TNF            0.600000  0.625330  0.612403   379.00000\n",
      "R84            0.591270  0.851429  0.697892   350.00000\n",
      "PIC            0.783333  0.772603  0.777931   365.00000\n",
      "P3K            0.460137  0.569014  0.508816   355.00000\n",
      "FLA            0.536585  0.410667  0.465257   375.00000\n",
      "CpG            0.442308  0.422018  0.431925   327.00000\n",
      "FSL            0.407407  0.267568  0.323002   370.00000\n",
      "LPS            0.546547  0.512676  0.529070   355.00000\n",
      "UST            0.990826  1.000000  0.995392   324.00000\n",
      "accuracy       0.598750  0.598750  0.598750     0.59875\n",
      "macro avg      0.595379  0.603478  0.593521  3200.00000\n",
      "weighted avg   0.592268  0.598750  0.589527  3200.00000\n"
     ]
    },
    {
     "data": {
      "image/png": "[encoded data removed]",
      "text/plain": [
       "<Figure size 432x288 with 2 Axes>"
      ]
     },
     "metadata": {
      "needs_background": "light"
     },
     "output_type": "display_data"
    }
   ],
   "source": [
    "up_cf = sns.heatmap(up_fraction, cmap = \"BuPu\", xticklabels=ligands)\n",
    "unstimulated_accuracy = sum(up_df[0] == up_df[1])/3200\n",
    "up_cf.plot()\n",
    "\n",
    "upcr = sklearn.metrics.classification_report(up_df[0], up_df[1], target_names=ligands, output_dict=True)\n",
    "upcr = pd.DataFrame(upcr).transpose()\n",
    "print(upcr)\n",
    "\n",
    "upf1 = upcr[:9]['f1-score']\n",
    "unstimulated_average_f1 = np.mean(upf1)"
   ]
  },
  {
   "cell_type": "code",
   "execution_count": 85,
   "id": "fe47103c-a182-4aa5-bee0-f93806e54467",
   "metadata": {},
   "outputs": [
    {
     "data": {
      "text/plain": [
       "<AxesSubplot:>"
      ]
     },
     "execution_count": 85,
     "metadata": {},
     "output_type": "execute_result"
    },
    {
     "data": {
      "image/png": "[encoded data removed]",
      "text/plain": [
       "<Figure size 432x288 with 1 Axes>"
      ]
     },
     "metadata": {
      "needs_background": "light"
     },
     "output_type": "display_data"
    }
   ],
   "source": [
    "upf1.plot(y = 'f1-score', style = 'bo-')"
   ]
  },
  {
   "cell_type": "code",
   "execution_count": 64,
   "id": "a648acf1-5a47-461e-a71c-6adab8287002",
   "metadata": {},
   "outputs": [
    {
     "name": "stdout",
     "output_type": "stream",
     "text": [
      "Model Accuracy: 0.59875\n",
      "Average Unstimulated F1 Score: 0.5935208124302291\n"
     ]
    }
   ],
   "source": [
    "print(f'Model Accuracy: {unstimulated_accuracy}')\n",
    "print(f'Average Unstimulated F1 Score: {unstimulated_average_f1}')"
   ]
  },
  {
   "cell_type": "markdown",
   "id": "5b038b86-2980-4973-bb46-3d382c3a11e0",
   "metadata": {},
   "source": [
    "### IB Polarization State"
   ]
  },
  {
   "cell_type": "code",
   "execution_count": 92,
   "id": "73db977b-0bd6-466a-b554-03cfd7fb19be",
   "metadata": {},
   "outputs": [
    {
     "name": "stdout",
     "output_type": "stream",
     "text": [
      "              precision    recall  f1-score     support\n",
      "TNF            0.600000  0.625330  0.612403   379.00000\n",
      "R84            0.591270  0.851429  0.697892   350.00000\n",
      "PIC            0.783333  0.772603  0.777931   365.00000\n",
      "P3K            0.460137  0.569014  0.508816   355.00000\n",
      "FLA            0.536585  0.410667  0.465257   375.00000\n",
      "CpG            0.442308  0.422018  0.431925   327.00000\n",
      "FSL            0.407407  0.267568  0.323002   370.00000\n",
      "LPS            0.546547  0.512676  0.529070   355.00000\n",
      "UST            0.990826  1.000000  0.995392   324.00000\n",
      "accuracy       0.598750  0.598750  0.598750     0.59875\n",
      "macro avg      0.595379  0.603478  0.593521  3200.00000\n",
      "weighted avg   0.592268  0.598750  0.589527  3200.00000\n"
     ]
    },
    {
     "data": {
      "image/png": "[encoded data removed]",
      "text/plain": [
       "<Figure size 432x288 with 2 Axes>"
      ]
     },
     "metadata": {
      "needs_background": "light"
     },
     "output_type": "display_data"
    }
   ],
   "source": [
    "ib_cf = sns.heatmap(ib_fraction, cmap = \"BuPu\", xticklabels=ligands)\n",
    "ib_accuracy = sum(ib_df[0] == ib_df[1])/3200\n",
    "ib_cf.plot()\n",
    "\n",
    "ibcr = sklearn.metrics.classification_report(ib_df[0], ib_df[1], target_names=ligands, output_dict=True)\n",
    "ibcr = pd.DataFrame(ibcr).transpose()\n",
    "print(upcr)\n",
    "\n",
    "ibf1 = ibcr[:9]['f1-score']\n",
    "ib_average_f1 = np.mean(ibf1)"
   ]
  },
  {
   "cell_type": "code",
   "execution_count": 93,
   "id": "dc8678f2-5167-4ffd-b567-799080be0365",
   "metadata": {},
   "outputs": [
    {
     "data": {
      "text/plain": [
       "<AxesSubplot:>"
      ]
     },
     "execution_count": 93,
     "metadata": {},
     "output_type": "execute_result"
    },
    {
     "data": {
      "image/png": "[encoded data removed]",
      "text/plain": [
       "<Figure size 432x288 with 1 Axes>"
      ]
     },
     "metadata": {
      "needs_background": "light"
     },
     "output_type": "display_data"
    }
   ],
   "source": [
    "ibf1.plot(y = 'f1-score', style = 'co-')"
   ]
  },
  {
   "cell_type": "code",
   "execution_count": 94,
   "id": "ec87319d-0a4b-4689-b489-5e2c0d71127a",
   "metadata": {},
   "outputs": [
    {
     "name": "stdout",
     "output_type": "stream",
     "text": [
      "Model Accuracy: 0.6009375\n",
      "Average IB F1 Score: 0.594311440624548\n"
     ]
    }
   ],
   "source": [
    "print(f'Model Accuracy: {ib_accuracy}')\n",
    "print(f'Average IB F1 Score: {ib_average_f1}')"
   ]
  },
  {
   "cell_type": "markdown",
   "id": "55c01801-e820-45bd-80ca-f2706e235cc8",
   "metadata": {},
   "source": [
    "### IG Polarization State"
   ]
  },
  {
   "cell_type": "code",
   "execution_count": 95,
   "id": "462e7558-9ceb-46c4-8299-6b17cc3b304a",
   "metadata": {},
   "outputs": [
    {
     "name": "stdout",
     "output_type": "stream",
     "text": [
      "              precision    recall  f1-score      support\n",
      "TNF            0.677515  0.665698  0.671554   344.000000\n",
      "R84            0.655172  0.726776  0.689119   366.000000\n",
      "PIC            0.726457  0.468208  0.569420   346.000000\n",
      "P3K            0.433400  0.637427  0.515976   342.000000\n",
      "FLA            0.328185  0.229730  0.270270   370.000000\n",
      "CpG            0.356846  0.242938  0.289076   354.000000\n",
      "FSL            0.320000  0.271955  0.294028   353.000000\n",
      "LPS            0.406475  0.636620  0.496158   355.000000\n",
      "UST            0.989305  1.000000  0.994624   370.000000\n",
      "accuracy       0.543125  0.543125  0.543125     0.543125\n",
      "macro avg      0.543706  0.542150  0.532247  3200.000000\n",
      "weighted avg   0.544840  0.543125  0.533433  3200.000000\n"
     ]
    },
    {
     "data": {
      "image/png": "[encoded data removed]",
      "text/plain": [
       "<Figure size 432x288 with 2 Axes>"
      ]
     },
     "metadata": {
      "needs_background": "light"
     },
     "output_type": "display_data"
    }
   ],
   "source": [
    "ig_cf = sns.heatmap(ig_fraction, cmap = \"BuPu\", xticklabels=ligands)\n",
    "ig_accuracy = sum(ig_df[0] == ig_df[1])/3200\n",
    "ig_cf.plot()\n",
    "\n",
    "igcr = sklearn.metrics.classification_report(ig_df[0], ig_df[1], target_names=ligands, output_dict=True)\n",
    "igcr = pd.DataFrame(igcr).transpose()\n",
    "print(igcr)\n",
    "\n",
    "igf1 = igcr[:9]['f1-score']\n",
    "ig_average_f1 = np.mean(igf1)"
   ]
  },
  {
   "cell_type": "code",
   "execution_count": 96,
   "id": "0ba34ae0-2e2c-4314-8f04-8c1263a06fef",
   "metadata": {},
   "outputs": [
    {
     "data": {
      "text/plain": [
       "<AxesSubplot:>"
      ]
     },
     "execution_count": 96,
     "metadata": {},
     "output_type": "execute_result"
    },
    {
     "data": {
      "image/png": "[encoded data removed]",
      "text/plain": [
       "<Figure size 432x288 with 1 Axes>"
      ]
     },
     "metadata": {
      "needs_background": "light"
     },
     "output_type": "display_data"
    }
   ],
   "source": [
    "igf1.plot(y = 'f1-score', style = 'ro-')"
   ]
  },
  {
   "cell_type": "code",
   "execution_count": 68,
   "id": "459f5735-3a93-453d-9a7e-014d0bbbc35f",
   "metadata": {},
   "outputs": [
    {
     "name": "stdout",
     "output_type": "stream",
     "text": [
      "Model Accuracy: 0.543125\n",
      "Average IG F1 Score: 0.5322472199190953\n"
     ]
    }
   ],
   "source": [
    "print(f'Model Accuracy: {ig_accuracy}')\n",
    "print(f'Average IG F1 Score: {ig_average_f1}')"
   ]
  },
  {
   "cell_type": "markdown",
   "id": "441afe86-9705-4a0e-8e3c-0996104bebc1",
   "metadata": {},
   "source": [
    "### I0 Polarization State"
   ]
  },
  {
   "cell_type": "code",
   "execution_count": 98,
   "id": "bc2a5e70-86b0-42fd-847a-7c3769d9075d",
   "metadata": {},
   "outputs": [
    {
     "name": "stdout",
     "output_type": "stream",
     "text": [
      "              precision    recall  f1-score    support\n",
      "TNF            0.646226  0.704370  0.674047   389.0000\n",
      "R84            0.623377  0.818182  0.707617   352.0000\n",
      "PIC            0.683060  0.666667  0.674764   375.0000\n",
      "P3K            0.431429  0.463190  0.446746   326.0000\n",
      "FLA            0.437956  0.340909  0.383387   352.0000\n",
      "CpG            0.512579  0.472464  0.491704   345.0000\n",
      "FSL            0.407895  0.360465  0.382716   344.0000\n",
      "LPS            0.481818  0.454286  0.467647   350.0000\n",
      "UST            0.986559  1.000000  0.993234   367.0000\n",
      "accuracy       0.592500  0.592500  0.592500     0.5925\n",
      "macro avg      0.578989  0.586726  0.580207  3200.0000\n",
      "weighted avg   0.584257  0.592500  0.585750  3200.0000\n"
     ]
    },
    {
     "data": {
      "image/png": "[encoded data removed]",
      "text/plain": [
       "<Figure size 432x288 with 2 Axes>"
      ]
     },
     "metadata": {
      "needs_background": "light"
     },
     "output_type": "display_data"
    }
   ],
   "source": [
    "i0_cf = sns.heatmap(i0_fraction, cmap = \"BuPu\", xticklabels=ligands)\n",
    "i0_accuracy = sum(i0_df[0] == i0_df[1])/3200\n",
    "i0_cf.plot()\n",
    "\n",
    "i0cr = sklearn.metrics.classification_report(i0_df[0], i0_df[1], target_names=ligands, output_dict=True)\n",
    "i0cr = pd.DataFrame(i0cr).transpose()\n",
    "print(i0cr)\n",
    "\n",
    "i0f1 = i0cr[:9]['f1-score']\n",
    "i0_average_f1 = np.mean(i0f1)"
   ]
  },
  {
   "cell_type": "code",
   "execution_count": 99,
   "id": "e01a3ddf-c9e1-4781-8ef0-694c816daa0d",
   "metadata": {},
   "outputs": [
    {
     "data": {
      "text/plain": [
       "<AxesSubplot:>"
      ]
     },
     "execution_count": 99,
     "metadata": {},
     "output_type": "execute_result"
    },
    {
     "data": {
      "image/png": "[encoded data removed]",
      "text/plain": [
       "<Figure size 432x288 with 1 Axes>"
      ]
     },
     "metadata": {
      "needs_background": "light"
     },
     "output_type": "display_data"
    }
   ],
   "source": [
    "i0f1.plot(y = 'f1-scores', style = 'yo-')"
   ]
  },
  {
   "cell_type": "code",
   "execution_count": 100,
   "id": "f7f17ab2-eb34-4dce-925d-edce3a580856",
   "metadata": {},
   "outputs": [
    {
     "name": "stdout",
     "output_type": "stream",
     "text": [
      "Model Accuracy: 0.5925\n",
      "Average I0 F1 Score: 0.5802067785268208\n"
     ]
    }
   ],
   "source": [
    "print(f'Model Accuracy: {i0_accuracy}')\n",
    "print(f'Average I0 F1 Score: {i0_average_f1}')"
   ]
  },
  {
   "cell_type": "markdown",
   "id": "476a5a6a-c291-46f4-90cf-201fa741a933",
   "metadata": {},
   "source": [
    "### I3 Polarization State"
   ]
  },
  {
   "cell_type": "code",
   "execution_count": 101,
   "id": "b7bfe651-8a72-4a53-b3e1-9f8d5a5bd808",
   "metadata": {},
   "outputs": [
    {
     "name": "stdout",
     "output_type": "stream",
     "text": [
      "              precision    recall  f1-score      support\n",
      "TNF            0.585132  0.693182  0.634590   352.000000\n",
      "R84            0.571134  0.805233  0.668275   344.000000\n",
      "PIC            0.719198  0.693370  0.706048   362.000000\n",
      "P3K            0.631579  0.520231  0.570523   346.000000\n",
      "FLA            0.564784  0.447368  0.499266   380.000000\n",
      "CpG            0.434174  0.459941  0.446686   337.000000\n",
      "FSL            0.310757  0.223496  0.260000   349.000000\n",
      "LPS            0.482558  0.470255  0.476327   353.000000\n",
      "UST            0.917275  1.000000  0.956853   377.000000\n",
      "accuracy       0.593125  0.593125  0.593125     0.593125\n",
      "macro avg      0.579621  0.590342  0.579841  3200.000000\n",
      "weighted avg   0.583393  0.593125  0.583164  3200.000000\n"
     ]
    },
    {
     "data": {
      "image/png": "[encoded data removed]",
      "text/plain": [
       "<Figure size 432x288 with 2 Axes>"
      ]
     },
     "metadata": {
      "needs_background": "light"
     },
     "output_type": "display_data"
    }
   ],
   "source": [
    "i3_cf = sns.heatmap(i3_fraction, cmap = \"BuPu\", xticklabels=ligands)\n",
    "i3_accuracy = sum(i3_df[0] == i3_df[1])/3200\n",
    "i3_cf.plot()\n",
    "\n",
    "i3cr = sklearn.metrics.classification_report(i3_df[0], i3_df[1], target_names=ligands, output_dict=True)\n",
    "i3cr = pd.DataFrame(i3cr).transpose()\n",
    "print(i3cr)\n",
    "\n",
    "i3f1 = i3cr[:9]['f1-score']\n",
    "i3_average_f1 = np.mean(i3f1)"
   ]
  },
  {
   "cell_type": "code",
   "execution_count": 104,
   "id": "9229bd79-20a4-45ab-83cc-25f48907d1ec",
   "metadata": {},
   "outputs": [
    {
     "data": {
      "text/plain": [
       "<AxesSubplot:>"
      ]
     },
     "execution_count": 104,
     "metadata": {},
     "output_type": "execute_result"
    },
    {
     "data": {
      "image/png": "[encoded data removed]",
      "text/plain": [
       "<Figure size 432x288 with 1 Axes>"
      ]
     },
     "metadata": {
      "needs_background": "light"
     },
     "output_type": "display_data"
    }
   ],
   "source": [
    "i3f1.plot(y = 'f1-scores', style = 'mo-')"
   ]
  },
  {
   "cell_type": "code",
   "execution_count": 105,
   "id": "0816b09d-616f-4d34-9134-2ab3dc2925e0",
   "metadata": {},
   "outputs": [
    {
     "name": "stdout",
     "output_type": "stream",
     "text": [
      "Model Accuracy: 0.593125\n",
      "Average I0 F1 Score: 0.579840864366894\n"
     ]
    }
   ],
   "source": [
    "print(f'Model Accuracy: {i3_accuracy}')\n",
    "print(f'Average I0 F1 Score: {i3_average_f1}')"
   ]
  },
  {
   "cell_type": "markdown",
   "id": "cd7ec991-c005-4cb0-8936-785ff2d1ecc6",
   "metadata": {},
   "source": [
    "### I4 Polarization State"
   ]
  },
  {
   "cell_type": "code",
   "execution_count": 106,
   "id": "68dc8caa-56a6-47d3-ad36-f7f13f8b71e8",
   "metadata": {},
   "outputs": [
    {
     "name": "stdout",
     "output_type": "stream",
     "text": [
      "              precision    recall  f1-score      support\n",
      "TNF            0.608108  0.618132  0.613079   364.000000\n",
      "R84            0.643059  0.694190  0.667647   327.000000\n",
      "PIC            0.505643  0.641834  0.565657   349.000000\n",
      "P3K            0.766938  0.790503  0.778542   358.000000\n",
      "FLA            0.587692  0.521858  0.552822   366.000000\n",
      "CpG            0.555556  0.582386  0.568655   352.000000\n",
      "FSL            0.452675  0.314286  0.370995   350.000000\n",
      "LPS            0.487879  0.422572  0.452883   381.000000\n",
      "UST            0.886935  1.000000  0.940080   353.000000\n",
      "accuracy       0.618437  0.618437  0.618437     0.618437\n",
      "macro avg      0.610498  0.620640  0.612262  3200.000000\n",
      "weighted avg   0.609601  0.618437  0.610737  3200.000000\n"
     ]
    },
    {
     "data": {
      "image/png": "[encoded data removed]",
      "text/plain": [
       "<Figure size 432x288 with 2 Axes>"
      ]
     },
     "metadata": {
      "needs_background": "light"
     },
     "output_type": "display_data"
    }
   ],
   "source": [
    "i4_cf = sns.heatmap(i4_fraction, cmap = \"BuPu\", xticklabels=ligands)\n",
    "i4_accuracy = sum(i4_df[0] == i4_df[1])/3200\n",
    "i4_cf.plot()\n",
    "\n",
    "i4cr = sklearn.metrics.classification_report(i4_df[0], i4_df[1], target_names=ligands, output_dict=True)\n",
    "i4cr = pd.DataFrame(i4cr).transpose()\n",
    "print(i4cr)\n",
    "\n",
    "i4f1 = i4cr[:9]['f1-score']\n",
    "i4_average_f1 = np.mean(i4f1)"
   ]
  },
  {
   "cell_type": "code",
   "execution_count": 107,
   "id": "b7768e01-4761-45c4-b4cd-5880bfa297f9",
   "metadata": {},
   "outputs": [
    {
     "data": {
      "text/plain": [
       "<AxesSubplot:>"
      ]
     },
     "execution_count": 107,
     "metadata": {},
     "output_type": "execute_result"
    },
    {
     "data": {
      "image/png": "[encoded data removed]",
      "text/plain": [
       "<Figure size 432x288 with 1 Axes>"
      ]
     },
     "metadata": {
      "needs_background": "light"
     },
     "output_type": "display_data"
    }
   ],
   "source": [
    "i4f1.plot(y = 'f1-scores', style = 'go-')"
   ]
  },
  {
   "cell_type": "code",
   "execution_count": 108,
   "id": "c81c67d7-32b5-4eb0-8407-2233e381e121",
   "metadata": {},
   "outputs": [
    {
     "name": "stdout",
     "output_type": "stream",
     "text": [
      "Model Accuracy: 0.6184375\n",
      "Average I0 F1 Score: 0.6122621486310676\n"
     ]
    }
   ],
   "source": [
    "print(f'Model Accuracy: {i4_accuracy}')\n",
    "print(f'Average I0 F1 Score: {i4_average_f1}')"
   ]
  },
  {
   "cell_type": "markdown",
   "id": "b4fe8888-d6fe-4fd3-9ad0-1c1bd51dcbcb",
   "metadata": {},
   "source": [
    "### Holistic Eval"
   ]
  },
  {
   "cell_type": "code",
   "execution_count": 128,
   "id": "f41ff191-30ce-4320-8439-bd694fbed4c3",
   "metadata": {},
   "outputs": [],
   "source": [
    "total_f1 = pd.concat([upf1, ibf1, igf1, i0f1, i3f1, i4f1], axis=1)\n",
    "total_f1 = total_f1.set_axis(['M0', 'IB', 'IG', 'I0', 'I3', 'I4'], axis=1)"
   ]
  },
  {
   "cell_type": "code",
   "execution_count": 129,
   "id": "a8a4ad30-c411-411b-9726-4bc433df4629",
   "metadata": {},
   "outputs": [],
   "source": [
    "average_f1_list = [unstimulated_average_f1, ib_average_f1, ig_average_f1, i0_average_f1, i3_average_f1, i4_average_f1]"
   ]
  },
  {
   "cell_type": "code",
   "execution_count": 130,
   "id": "4e3d3905-0218-4396-a3e9-6a0f4a480960",
   "metadata": {},
   "outputs": [
    {
     "data": {
      "text/plain": [
       "<AxesSubplot:>"
      ]
     },
     "execution_count": 130,
     "metadata": {},
     "output_type": "execute_result"
    },
    {
     "data": {
      "image/png": "[encoded data removed]",
      "text/plain": [
       "<Figure size 432x288 with 1 Axes>"
      ]
     },
     "metadata": {
      "needs_background": "light"
     },
     "output_type": "display_data"
    }
   ],
   "source": [
    "average_f1_scores = pd.DataFrame(average_f1_list)\n",
    "average_f1_scores = average_f1_scores.set_axis(['M0', 'IB', 'IG', 'I0', 'I3', 'I4'])\n",
    "average_f1_scores.plot()"
   ]
  },
  {
   "cell_type": "code",
   "execution_count": 131,
   "id": "eed0169b-a25a-43a8-a6bc-6536b8eb7865",
   "metadata": {},
   "outputs": [
    {
     "data": {
      "text/plain": [
       "<AxesSubplot:>"
      ]
     },
     "execution_count": 131,
     "metadata": {},
     "output_type": "execute_result"
    },
    {
     "data": {
      "image/png": "[encoded data removed]",
      "text/plain": [
       "<Figure size 432x288 with 1 Axes>"
      ]
     },
     "metadata": {
      "needs_background": "light"
     },
     "output_type": "display_data"
    }
   ],
   "source": [
    "total_f1.plot()"
   ]
  },
  {
   "cell_type": "code",
   "execution_count": 132,
   "id": "4fcfca9e-925d-4031-83f3-b90e8c0f4960",
   "metadata": {},
   "outputs": [
    {
     "data": {
      "text/plain": [
       "<AxesSubplot:>"
      ]
     },
     "execution_count": 132,
     "metadata": {},
     "output_type": "execute_result"
    },
    {
     "data": {
      "image/png": "[encoded data removed]",
      "text/plain": [
       "<Figure size 432x288 with 1 Axes>"
      ]
     },
     "metadata": {
      "needs_background": "light"
     },
     "output_type": "display_data"
    }
   ],
   "source": [
    "total_f1.T.plot()"
   ]
  }
 ],
 "metadata": {
  "kernelspec": {
   "display_name": "Python 3 (ipykernel)",
   "language": "python",
   "name": "python3"
  },
  "language_info": {
   "codemirror_mode": {
    "name": "ipython",
    "version": 3
   },
   "file_extension": ".py",
   "mimetype": "text/x-python",
   "name": "python",
   "nbconvert_exporter": "python",
   "pygments_lexer": "ipython3",
   "version": "3.8.12"
  }
 },
 "nbformat": 4,
 "nbformat_minor": 5
}
