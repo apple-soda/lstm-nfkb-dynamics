{
 "cells": [
  {
   "cell_type": "code",
   "execution_count": 1,
   "id": "c4161d1f-8e2a-404d-9d70-26088dc75927",
   "metadata": {},
   "outputs": [],
   "source": [
    "import torch\n",
    "import pandas as pd\n",
    "import numpy as np\n",
    "import sklearn\n",
    "import matplotlib.pyplot as plt\n",
    "import random\n",
    "import torch.nn as nn\n",
    "import torch.nn.functional as F"
   ]
  },
  {
   "cell_type": "code",
   "execution_count": 2,
   "id": "63af8126-651f-4b4c-b911-4149d2f6c0ee",
   "metadata": {},
   "outputs": [],
   "source": [
    "ligands = [\"TNF\", \"R84\", \"PIC\", \"P3K\", \"FLA\", \"CpG\", \"FSL\", \"LPS\", \"UST\"]\n",
    "polarization = [\"\", \"ib\", \"ig\", \"i0\", \"i3\", \"i4\"]\n",
    "replicas, size = 2, 1288"
   ]
  },
  {
   "cell_type": "code",
   "execution_count": 3,
   "id": "db49037a-3cf4-4ef8-9c2b-c6a5989999e0",
   "metadata": {},
   "outputs": [],
   "source": [
    "from core.getdata import *\n",
    "from core.dataset import *"
   ]
  },
  {
   "cell_type": "markdown",
   "id": "decfae6b-d66b-438f-926e-726468b45878",
   "metadata": {},
   "source": [
    "<h3>Example of GetData</h3>"
   ]
  },
  {
   "cell_type": "code",
   "execution_count": 4,
   "id": "857176ea-c822-4ef4-99ba-6f5dea763833",
   "metadata": {},
   "outputs": [
    {
     "data": {
      "text/plain": [
       "(1288, 98)"
      ]
     },
     "execution_count": 4,
     "metadata": {},
     "output_type": "execute_result"
    }
   ],
   "source": [
    "TNFib1 = GetData(ligands[0], polarization[1], replicas, size)\n",
    "TNFib1.X.shape"
   ]
  },
  {
   "cell_type": "markdown",
   "id": "2a347ad7-6d34-4e08-8547-e5aca2b0cf86",
   "metadata": {},
   "source": [
    "<h3>Example of Dataset</h3>"
   ]
  },
  {
   "cell_type": "code",
   "execution_count": 5,
   "id": "7d8c34e5-076a-4a4d-b10a-208fb24729a5",
   "metadata": {},
   "outputs": [],
   "source": [
    "data = Dataset(ligands, polarization, replicas, size)"
   ]
  },
  {
   "cell_type": "code",
   "execution_count": 6,
   "id": "54d2e8d3-6af1-4da3-ae73-6390e1e422a2",
   "metadata": {},
   "outputs": [
    {
     "name": "stdout",
     "output_type": "stream",
     "text": [
      "Wall time: 38 ms\n"
     ]
    }
   ],
   "source": [
    "%%time\n",
    "for _ in data:\n",
    "    pass"
   ]
  },
  {
   "cell_type": "code",
   "execution_count": 7,
   "id": "55cbc610-dbf0-4aa0-a919-a0e33a887d4d",
   "metadata": {},
   "outputs": [
    {
     "data": {
      "text/plain": [
       "(69552, 98, 1)"
      ]
     },
     "execution_count": 7,
     "metadata": {},
     "output_type": "execute_result"
    }
   ],
   "source": [
    "data.data.shape"
   ]
  },
  {
   "cell_type": "code",
   "execution_count": 8,
   "id": "f0f61405-e394-4a9d-a872-727aee3b392e",
   "metadata": {},
   "outputs": [
    {
     "name": "stdout",
     "output_type": "stream",
     "text": [
      "<class 'numpy.ndarray'> <class 'numpy.ndarray'>\n"
     ]
    }
   ],
   "source": [
    "print(type(data.data), type(data.labels))"
   ]
  },
  {
   "cell_type": "code",
   "execution_count": 9,
   "id": "3b728e40-cb9f-4d34-973e-393bc4c3fc3b",
   "metadata": {},
   "outputs": [
    {
     "name": "stdout",
     "output_type": "stream",
     "text": [
      "8 ()\n"
     ]
    }
   ],
   "source": [
    "print(data.labels[65000], data.labels[65000].shape) #labels are multi-hot encoded"
   ]
  },
  {
   "cell_type": "markdown",
   "id": "1528860b-18b7-4501-a9e6-af504b5d59f3",
   "metadata": {},
   "source": [
    "<h3>Initializing Dataloaders</h3>"
   ]
  },
  {
   "cell_type": "code",
   "execution_count": 10,
   "id": "36f86ae4-56ee-4a59-8e86-2e0be1fb5e5c",
   "metadata": {},
   "outputs": [],
   "source": [
    "from torch.utils.data import Dataset\n",
    "from torchvision import datasets\n",
    "from torchvision.transforms import ToTensor"
   ]
  },
  {
   "cell_type": "code",
   "execution_count": 11,
   "id": "d0511860-f810-40ed-905d-950f9f31103b",
   "metadata": {},
   "outputs": [
    {
     "name": "stdout",
     "output_type": "stream",
     "text": [
      "52164 17388 39123 13041\n",
      "69552 69552\n"
     ]
    }
   ],
   "source": [
    "X_len, test_len = int(len(data.data) * 0.75), int(len(data.data) * 0.25)\n",
    "train_len, val_len = int(X_len * 0.75), int(X_len * 0.25)\n",
    "print(X_len, test_len, train_len, val_len) #lengths\n",
    "print(X_len + test_len, len(data.data))"
   ]
  },
  {
   "cell_type": "code",
   "execution_count": 12,
   "id": "0ce3d948-86dd-49e2-9fac-c73dcb735e45",
   "metadata": {},
   "outputs": [],
   "source": [
    "training_data = data.data.reshape(data.data.shape[0], data.data.shape[1], 1) #adds extra dimension"
   ]
  },
  {
   "cell_type": "code",
   "execution_count": 13,
   "id": "ec07a63b-10fc-4ee4-b18b-f1bbe21c6a81",
   "metadata": {},
   "outputs": [
    {
     "data": {
      "text/plain": [
       "69552"
      ]
     },
     "execution_count": 13,
     "metadata": {},
     "output_type": "execute_result"
    }
   ],
   "source": [
    "data.data[1000].shape\n",
    "len(data)"
   ]
  },
  {
   "cell_type": "code",
   "execution_count": 14,
   "id": "b32d6314-dd53-43bf-b25f-37704741b435",
   "metadata": {},
   "outputs": [],
   "source": [
    "dataset_X, dataset_val = torch.utils.data.random_split(data, [X_len, test_len]) # need separate data and labels for LSTM?"
   ]
  },
  {
   "cell_type": "code",
   "execution_count": 15,
   "id": "7ac0a68b-692a-4773-b83e-3ede14b768fe",
   "metadata": {},
   "outputs": [],
   "source": [
    "dataloader_train = torch.utils.data.DataLoader(dataset_X, batch_size=64, shuffle=True, num_workers=4)\n",
    "dataloader_val = torch.utils.data.DataLoader(dataset_val, batch_size=64, shuffle=True, num_workers=4)"
   ]
  },
  {
   "cell_type": "code",
   "execution_count": 16,
   "id": "387ae2bf-5805-4fa9-8f89-6007a41bd539",
   "metadata": {},
   "outputs": [
    {
     "name": "stdout",
     "output_type": "stream",
     "text": [
      "816 272 1088\n"
     ]
    }
   ],
   "source": [
    "print(len(dataloader_train), len(dataloader_val), len(dataloader_train) + len(dataloader_val))\n",
    "###\n",
    "#data[0:10]"
   ]
  },
  {
   "cell_type": "markdown",
   "id": "8de10af5-c1e5-4a20-bbbc-27ace3667ad2",
   "metadata": {},
   "source": [
    "<h3>Model Training and Evaluation</h3>"
   ]
  },
  {
   "cell_type": "code",
   "execution_count": 17,
   "id": "d43ece0f-9510-4728-a520-05da75c50218",
   "metadata": {},
   "outputs": [],
   "source": [
    "from core.network import *\n",
    "from core.trainer import *"
   ]
  },
  {
   "cell_type": "code",
   "execution_count": 18,
   "id": "900bf9d3-f6eb-490b-9135-5bef35147077",
   "metadata": {},
   "outputs": [
    {
     "data": {
      "text/plain": [
       "True"
      ]
     },
     "execution_count": 18,
     "metadata": {},
     "output_type": "execute_result"
    }
   ],
   "source": [
    "torch.cuda.is_available()"
   ]
  },
  {
   "cell_type": "code",
   "execution_count": 19,
   "id": "a6573c04-8653-4dfd-8d96-5542d2860e36",
   "metadata": {},
   "outputs": [],
   "source": [
    "#model parameters\n",
    "input_size = 1\n",
    "hidden_sizes = [16, 98]\n",
    "output_size = 9\n",
    "\n",
    "#training parameters\n",
    "n_epochs = 15\n",
    "batch_size = 64\n",
    "learning_rate = 1e-3"
   ]
  },
  {
   "cell_type": "code",
   "execution_count": 20,
   "id": "5a41d15a-a573-45a3-9a2b-a0d881b2bf66",
   "metadata": {},
   "outputs": [
    {
     "data": {
      "text/plain": [
       "LSTM(\n",
       "  (lstm): LSTM(1, 16, batch_first=True)\n",
       "  (fc1): Linear(in_features=16, out_features=98, bias=True)\n",
       "  (fc2): Linear(in_features=98, out_features=9, bias=True)\n",
       ")"
      ]
     },
     "execution_count": 20,
     "metadata": {},
     "output_type": "execute_result"
    }
   ],
   "source": [
    "model = LSTM(input_size, hidden_sizes, output_size, num_layers=2, device=\"cuda:0\")\n",
    "model.train()"
   ]
  },
  {
   "cell_type": "code",
   "execution_count": 21,
   "id": "03d3fe18-57c0-422f-8169-4cf119dd9ad2",
   "metadata": {},
   "outputs": [],
   "source": [
    "trainer = LSTMTrainer(model=model, device=\"cuda:0\")"
   ]
  },
  {
   "cell_type": "code",
   "execution_count": 22,
   "id": "5a666ce0-520c-4250-a9f8-75ba180ec404",
   "metadata": {},
   "outputs": [
    {
     "name": "stderr",
     "output_type": "stream",
     "text": [
      "  7%|█████▌                                                                             | 1/15 [00:34<08:09, 34.99s/it]"
     ]
    },
    {
     "name": "stdout",
     "output_type": "stream",
     "text": [
      "Epoch 001: | Training Loss: 2.170864293972651 | Validation Loss: 2.1908295811975704\n"
     ]
    },
    {
     "name": "stderr",
     "output_type": "stream",
     "text": [
      " 13%|███████████                                                                        | 2/15 [01:07<07:18, 33.77s/it]"
     ]
    },
    {
     "name": "stdout",
     "output_type": "stream",
     "text": [
      "Epoch 002: | Training Loss: 2.176334483950746 | Validation Loss: 2.1062171581913445\n"
     ]
    },
    {
     "name": "stderr",
     "output_type": "stream",
     "text": [
      " 20%|████████████████▌                                                                  | 3/15 [01:40<06:39, 33.26s/it]"
     ]
    },
    {
     "name": "stdout",
     "output_type": "stream",
     "text": [
      "Epoch 003: | Training Loss: 2.168659151623062 | Validation Loss: 2.17518111975754\n"
     ]
    },
    {
     "name": "stderr",
     "output_type": "stream",
     "text": [
      " 27%|██████████████████████▏                                                            | 4/15 [02:13<06:04, 33.13s/it]"
     ]
    },
    {
     "name": "stdout",
     "output_type": "stream",
     "text": [
      "Epoch 004: | Training Loss: 2.1298987132077123 | Validation Loss: 2.068130885853487\n"
     ]
    },
    {
     "name": "stderr",
     "output_type": "stream",
     "text": [
      " 33%|███████████████████████████▋                                                       | 5/15 [02:46<05:29, 32.99s/it]"
     ]
    },
    {
     "name": "stdout",
     "output_type": "stream",
     "text": [
      "Epoch 005: | Training Loss: 2.0597063462231673 | Validation Loss: 2.108114802662064\n"
     ]
    },
    {
     "name": "stderr",
     "output_type": "stream",
     "text": [
      " 40%|█████████████████████████████████▏                                                 | 6/15 [03:18<04:55, 32.86s/it]"
     ]
    },
    {
     "name": "stdout",
     "output_type": "stream",
     "text": [
      "Epoch 006: | Training Loss: 2.10099058554453 | Validation Loss: 2.108763295061448\n"
     ]
    },
    {
     "name": "stderr",
     "output_type": "stream",
     "text": [
      " 47%|██████████████████████████████████████▋                                            | 7/15 [03:51<04:22, 32.82s/it]"
     ]
    },
    {
     "name": "stdout",
     "output_type": "stream",
     "text": [
      "Epoch 007: | Training Loss: 2.075746408572384 | Validation Loss: 2.073082237997476\n"
     ]
    },
    {
     "name": "stderr",
     "output_type": "stream",
     "text": [
      " 53%|████████████████████████████████████████████▎                                      | 8/15 [04:24<03:49, 32.75s/it]"
     ]
    },
    {
     "name": "stdout",
     "output_type": "stream",
     "text": [
      "Epoch 008: | Training Loss: 2.054059944900812 | Validation Loss: 2.105327714891995\n"
     ]
    },
    {
     "name": "stderr",
     "output_type": "stream",
     "text": [
      " 60%|█████████████████████████████████████████████████▊                                 | 9/15 [04:58<03:19, 33.17s/it]"
     ]
    },
    {
     "name": "stdout",
     "output_type": "stream",
     "text": [
      "Epoch 009: | Training Loss: 2.0619801645185434 | Validation Loss: 2.051523646011072\n"
     ]
    },
    {
     "name": "stderr",
     "output_type": "stream",
     "text": [
      " 67%|██████████████████████████████████████████████████████▋                           | 10/15 [05:34<02:49, 33.98s/it]"
     ]
    },
    {
     "name": "stdout",
     "output_type": "stream",
     "text": [
      "Epoch 010: | Training Loss: 2.0546531326630535 | Validation Loss: 2.073734548600281\n"
     ]
    },
    {
     "name": "stderr",
     "output_type": "stream",
     "text": [
      " 73%|████████████████████████████████████████████████████████████▏                     | 11/15 [06:08<02:16, 34.04s/it]"
     ]
    },
    {
     "name": "stdout",
     "output_type": "stream",
     "text": [
      "Epoch 011: | Training Loss: 2.075492855818833 | Validation Loss: 2.067181561361341\n"
     ]
    },
    {
     "name": "stderr",
     "output_type": "stream",
     "text": [
      " 80%|█████████████████████████████████████████████████████████████████▌                | 12/15 [06:43<01:42, 34.30s/it]"
     ]
    },
    {
     "name": "stdout",
     "output_type": "stream",
     "text": [
      "Epoch 012: | Training Loss: 2.0899062086554134 | Validation Loss: 2.114955766236081\n"
     ]
    },
    {
     "name": "stderr",
     "output_type": "stream",
     "text": [
      " 87%|███████████████████████████████████████████████████████████████████████           | 13/15 [07:16<01:08, 34.16s/it]"
     ]
    },
    {
     "name": "stdout",
     "output_type": "stream",
     "text": [
      "Epoch 013: | Training Loss: 2.0578133665463505 | Validation Loss: 2.032967596369631\n"
     ]
    },
    {
     "name": "stderr",
     "output_type": "stream",
     "text": [
      " 93%|████████████████████████████████████████████████████████████████████████████▌     | 14/15 [07:51<00:34, 34.29s/it]"
     ]
    },
    {
     "name": "stdout",
     "output_type": "stream",
     "text": [
      "Epoch 014: | Training Loss: 2.023668055879135 | Validation Loss: 2.007647136993268\n"
     ]
    },
    {
     "name": "stderr",
     "output_type": "stream",
     "text": [
      "100%|██████████████████████████████████████████████████████████████████████████████████| 15/15 [08:26<00:00, 33.76s/it]"
     ]
    },
    {
     "name": "stdout",
     "output_type": "stream",
     "text": [
      "Epoch 015: | Training Loss: 2.0117892010831366 | Validation Loss: 1.988891225965584\n"
     ]
    },
    {
     "name": "stderr",
     "output_type": "stream",
     "text": [
      "\n"
     ]
    }
   ],
   "source": [
    "trainer.train(dataloader_train, dataloader_val, batch_size=batch_size, n_epochs=n_epochs)"
   ]
  },
  {
   "cell_type": "code",
   "execution_count": 23,
   "id": "398a38b1-a4b2-444b-a335-9045808bbd7d",
   "metadata": {},
   "outputs": [],
   "source": [
    "# dataloader_val = torch.utils.data.DataLoader(dataset_val, batch_size=32, shuffle=True, num_workers=4)\n",
    "# dic = {\"y_pred\": np.array([]), \"y_true\": np.array([])}\n",
    "# for x_batch, y_batch in dataloader_val:\n",
    "#     x_batch, y_batch = x_batch.to(self.device), y_batch.to(self.device)\n",
    "#     # to do : convert y_batch to np array and vstack it y_true\n",
    "#     y_batch = y_batch.detach().cpu().numpy()\n",
    "#     dic[y_true].vstack(y_true, y_batch)\n",
    "#     y_pred = trainer.model(x_batch)\n",
    "#     y_pred = F.softmax(y_pred, dim=1)\n",
    "#     # to do : convert to np array and vstack it to y_pred\n",
    "#     y_pred = y_pred.detach().cpu().numpy()\n",
    "#     dic[y_pred].vstack(y_pred)\n",
    "    \n",
    "# df = pd.DataFrame(dic)"
   ]
  },
  {
   "cell_type": "code",
   "execution_count": 24,
   "id": "a3a6e9c5-755e-4e2a-9a03-41c5e490c051",
   "metadata": {},
   "outputs": [],
   "source": [
    "torch.cuda.empty_cache()\n",
    "x_batch, y_batch = dataset_val[0:5000]\n",
    "# to do : convert x_batch to tensor and send to gpu \n",
    "x_batch = torch.tensor(x_batch, device=torch.device(\"cuda:0\"))\n",
    "y_pred = trainer.model(x_batch)\n",
    "y_pred = F.softmax(y_pred, dim=1)\n",
    "# to do : convert to np array and vstack it to y_pred\n",
    "y_pred = y_pred.detach().cpu().numpy()\n",
    "y_pred = np.argmax(y_pred, axis=1)\n",
    "dic = {\"y_pred\": y_pred, \"y_true\": y_batch}\n",
    "\n",
    "df = pd.DataFrame(dic)"
   ]
  },
  {
   "cell_type": "code",
   "execution_count": 25,
   "id": "f1b45cc3-b4b8-40cc-8885-a35128d2ced6",
   "metadata": {},
   "outputs": [
    {
     "data": {
      "text/html": [
       "<div>\n",
       "<style scoped>\n",
       "    .dataframe tbody tr th:only-of-type {\n",
       "        vertical-align: middle;\n",
       "    }\n",
       "\n",
       "    .dataframe tbody tr th {\n",
       "        vertical-align: top;\n",
       "    }\n",
       "\n",
       "    .dataframe thead th {\n",
       "        text-align: right;\n",
       "    }\n",
       "</style>\n",
       "<table border=\"1\" class=\"dataframe\">\n",
       "  <thead>\n",
       "    <tr style=\"text-align: right;\">\n",
       "      <th></th>\n",
       "      <th>y_pred</th>\n",
       "      <th>y_true</th>\n",
       "    </tr>\n",
       "  </thead>\n",
       "  <tbody>\n",
       "    <tr>\n",
       "      <th>0</th>\n",
       "      <td>3</td>\n",
       "      <td>5</td>\n",
       "    </tr>\n",
       "    <tr>\n",
       "      <th>1</th>\n",
       "      <td>8</td>\n",
       "      <td>2</td>\n",
       "    </tr>\n",
       "    <tr>\n",
       "      <th>2</th>\n",
       "      <td>3</td>\n",
       "      <td>4</td>\n",
       "    </tr>\n",
       "    <tr>\n",
       "      <th>3</th>\n",
       "      <td>7</td>\n",
       "      <td>7</td>\n",
       "    </tr>\n",
       "    <tr>\n",
       "      <th>4</th>\n",
       "      <td>3</td>\n",
       "      <td>7</td>\n",
       "    </tr>\n",
       "    <tr>\n",
       "      <th>...</th>\n",
       "      <td>...</td>\n",
       "      <td>...</td>\n",
       "    </tr>\n",
       "    <tr>\n",
       "      <th>4995</th>\n",
       "      <td>0</td>\n",
       "      <td>4</td>\n",
       "    </tr>\n",
       "    <tr>\n",
       "      <th>4996</th>\n",
       "      <td>3</td>\n",
       "      <td>4</td>\n",
       "    </tr>\n",
       "    <tr>\n",
       "      <th>4997</th>\n",
       "      <td>2</td>\n",
       "      <td>6</td>\n",
       "    </tr>\n",
       "    <tr>\n",
       "      <th>4998</th>\n",
       "      <td>1</td>\n",
       "      <td>1</td>\n",
       "    </tr>\n",
       "    <tr>\n",
       "      <th>4999</th>\n",
       "      <td>7</td>\n",
       "      <td>7</td>\n",
       "    </tr>\n",
       "  </tbody>\n",
       "</table>\n",
       "<p>5000 rows × 2 columns</p>\n",
       "</div>"
      ],
      "text/plain": [
       "      y_pred  y_true\n",
       "0          3       5\n",
       "1          8       2\n",
       "2          3       4\n",
       "3          7       7\n",
       "4          3       7\n",
       "...      ...     ...\n",
       "4995       0       4\n",
       "4996       3       4\n",
       "4997       2       6\n",
       "4998       1       1\n",
       "4999       7       7\n",
       "\n",
       "[5000 rows x 2 columns]"
      ]
     },
     "execution_count": 25,
     "metadata": {},
     "output_type": "execute_result"
    }
   ],
   "source": [
    "df"
   ]
  },
  {
   "cell_type": "code",
   "execution_count": 26,
   "id": "d90d5fd6-27a9-423a-a6c9-3f883c502ab6",
   "metadata": {},
   "outputs": [
    {
     "data": {
      "text/plain": [
       "0.2552"
      ]
     },
     "execution_count": 26,
     "metadata": {},
     "output_type": "execute_result"
    }
   ],
   "source": [
    "sum(df[\"y_pred\"] == df[\"y_true\"])/5000"
   ]
  },
  {
   "cell_type": "code",
   "execution_count": 27,
   "id": "59cbd3fa-ed14-4994-a189-facce53fd58f",
   "metadata": {},
   "outputs": [
    {
     "data": {
      "text/plain": [
       "0.1111111111111111"
      ]
     },
     "execution_count": 27,
     "metadata": {},
     "output_type": "execute_result"
    }
   ],
   "source": [
    "1/9"
   ]
  },
  {
   "cell_type": "markdown",
   "id": "63030266-017e-4a9c-9b82-5ccb96c24af7",
   "metadata": {},
   "source": [
    "<h3>Classification Report</h3>"
   ]
  },
  {
   "cell_type": "code",
   "execution_count": 28,
   "id": "e5fe7023-e147-443c-a5c3-9ccc8fc65d0c",
   "metadata": {},
   "outputs": [],
   "source": [
    "import sklearn.metrics"
   ]
  }
 ],
 "metadata": {
  "kernelspec": {
   "display_name": "Python 3 (ipykernel)",
   "language": "python",
   "name": "python3"
  },
  "language_info": {
   "codemirror_mode": {
    "name": "ipython",
    "version": 3
   },
   "file_extension": ".py",
   "mimetype": "text/x-python",
   "name": "python",
   "nbconvert_exporter": "python",
   "pygments_lexer": "ipython3",
   "version": "3.8.12"
  }
 },
 "nbformat": 4,
 "nbformat_minor": 5
}
