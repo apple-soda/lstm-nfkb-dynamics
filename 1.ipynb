{
 "cells": [
  {
   "cell_type": "code",
   "execution_count": 1,
   "id": "c4161d1f-8e2a-404d-9d70-26088dc75927",
   "metadata": {},
   "outputs": [],
   "source": [
    "import torch\n",
    "import pandas as pd\n",
    "import numpy as np\n",
    "import sklearn\n",
    "import matplotlib.pyplot as plt\n",
    "import random\n",
    "import torch.nn as nn\n",
    "import torch.nn.functional as F"
   ]
  },
  {
   "cell_type": "code",
   "execution_count": 2,
   "id": "63af8126-651f-4b4c-b911-4149d2f6c0ee",
   "metadata": {},
   "outputs": [],
   "source": [
    "ligands = [\"TNF\", \"R84\", \"PIC\", \"P3K\", \"FLA\", \"CpG\", \"FSL\", \"LPS\", \"UST\"]\n",
    "polarization = [\"\", \"ib\", \"ig\", \"i0\", \"i3\", \"i4\"]\n",
    "replicas, size = 2, 1288"
   ]
  },
  {
   "cell_type": "code",
   "execution_count": 3,
   "id": "db49037a-3cf4-4ef8-9c2b-c6a5989999e0",
   "metadata": {},
   "outputs": [],
   "source": [
    "from core.getdata import *\n",
    "from core.dataset import *"
   ]
  },
  {
   "cell_type": "markdown",
   "id": "decfae6b-d66b-438f-926e-726468b45878",
   "metadata": {},
   "source": [
    "<h3>Example of GetData</h3>"
   ]
  },
  {
   "cell_type": "code",
   "execution_count": 4,
   "id": "857176ea-c822-4ef4-99ba-6f5dea763833",
   "metadata": {},
   "outputs": [
    {
     "data": {
      "text/plain": [
       "(1288, 98)"
      ]
     },
     "execution_count": 4,
     "metadata": {},
     "output_type": "execute_result"
    }
   ],
   "source": [
    "TNFib1 = GetData(ligands[0], polarization[1], replicas, size)\n",
    "TNFib1.X.shape"
   ]
  },
  {
   "cell_type": "markdown",
   "id": "2a347ad7-6d34-4e08-8547-e5aca2b0cf86",
   "metadata": {},
   "source": [
    "<h3>Example of Dataset</h3>"
   ]
  },
  {
   "cell_type": "code",
   "execution_count": 5,
   "id": "7d8c34e5-076a-4a4d-b10a-208fb24729a5",
   "metadata": {},
   "outputs": [],
   "source": [
    "data = Dataset(ligands, polarization, replicas, size)"
   ]
  },
  {
   "cell_type": "code",
   "execution_count": 6,
   "id": "54d2e8d3-6af1-4da3-ae73-6390e1e422a2",
   "metadata": {},
   "outputs": [
    {
     "name": "stdout",
     "output_type": "stream",
     "text": [
      "Wall time: 37 ms\n"
     ]
    }
   ],
   "source": [
    "%%time\n",
    "for _ in data:\n",
    "    pass"
   ]
  },
  {
   "cell_type": "code",
   "execution_count": 7,
   "id": "55cbc610-dbf0-4aa0-a919-a0e33a887d4d",
   "metadata": {},
   "outputs": [
    {
     "data": {
      "text/plain": [
       "(69552, 98, 1)"
      ]
     },
     "execution_count": 7,
     "metadata": {},
     "output_type": "execute_result"
    }
   ],
   "source": [
    "data.data.shape"
   ]
  },
  {
   "cell_type": "code",
   "execution_count": 8,
   "id": "f0f61405-e394-4a9d-a872-727aee3b392e",
   "metadata": {},
   "outputs": [
    {
     "name": "stdout",
     "output_type": "stream",
     "text": [
      "<class 'numpy.ndarray'> <class 'numpy.ndarray'>\n"
     ]
    }
   ],
   "source": [
    "print(type(data.data), type(data.labels))"
   ]
  },
  {
   "cell_type": "code",
   "execution_count": 9,
   "id": "3b728e40-cb9f-4d34-973e-393bc4c3fc3b",
   "metadata": {},
   "outputs": [
    {
     "name": "stdout",
     "output_type": "stream",
     "text": [
      "8 ()\n"
     ]
    }
   ],
   "source": [
    "print(data.labels[65000], data.labels[65000].shape) #labels are multi-hot encoded"
   ]
  },
  {
   "cell_type": "markdown",
   "id": "1528860b-18b7-4501-a9e6-af504b5d59f3",
   "metadata": {},
   "source": [
    "<h3>Initializing Dataloaders</h3>"
   ]
  },
  {
   "cell_type": "code",
   "execution_count": 10,
   "id": "36f86ae4-56ee-4a59-8e86-2e0be1fb5e5c",
   "metadata": {},
   "outputs": [],
   "source": [
    "from torch.utils.data import Dataset\n",
    "from torchvision import datasets\n",
    "from torchvision.transforms import ToTensor"
   ]
  },
  {
   "cell_type": "code",
   "execution_count": 11,
   "id": "d0511860-f810-40ed-905d-950f9f31103b",
   "metadata": {},
   "outputs": [
    {
     "name": "stdout",
     "output_type": "stream",
     "text": [
      "52164 17388 39123 13041\n",
      "69552 69552\n"
     ]
    }
   ],
   "source": [
    "X_len, test_len = int(len(data.data) * 0.75), int(len(data.data) * 0.25)\n",
    "train_len, val_len = int(X_len * 0.75), int(X_len * 0.25)\n",
    "print(X_len, test_len, train_len, val_len) #lengths\n",
    "print(X_len + test_len, len(data.data))"
   ]
  },
  {
   "cell_type": "code",
   "execution_count": 12,
   "id": "0ce3d948-86dd-49e2-9fac-c73dcb735e45",
   "metadata": {},
   "outputs": [],
   "source": [
    "training_data = data.data.reshape(data.data.shape[0], data.data.shape[1], 1) #adds extra dimension"
   ]
  },
  {
   "cell_type": "code",
   "execution_count": 13,
   "id": "ec07a63b-10fc-4ee4-b18b-f1bbe21c6a81",
   "metadata": {},
   "outputs": [
    {
     "data": {
      "text/plain": [
       "69552"
      ]
     },
     "execution_count": 13,
     "metadata": {},
     "output_type": "execute_result"
    }
   ],
   "source": [
    "data.data[1000].shape\n",
    "len(data)"
   ]
  },
  {
   "cell_type": "code",
   "execution_count": 14,
   "id": "b32d6314-dd53-43bf-b25f-37704741b435",
   "metadata": {},
   "outputs": [],
   "source": [
    "dataset_X, dataset_val = torch.utils.data.random_split(data, [X_len, test_len]) # need separate data and labels for LSTM?"
   ]
  },
  {
   "cell_type": "code",
   "execution_count": 15,
   "id": "7ac0a68b-692a-4773-b83e-3ede14b768fe",
   "metadata": {},
   "outputs": [],
   "source": [
    "dataloader_train = torch.utils.data.DataLoader(dataset_X, batch_size=64, shuffle=True, num_workers=4)\n",
    "dataloader_val = torch.utils.data.DataLoader(dataset_val, batch_size=64, shuffle=True, num_workers=4)"
   ]
  },
  {
   "cell_type": "code",
   "execution_count": 16,
   "id": "387ae2bf-5805-4fa9-8f89-6007a41bd539",
   "metadata": {},
   "outputs": [
    {
     "name": "stdout",
     "output_type": "stream",
     "text": [
      "816 272 1088\n"
     ]
    }
   ],
   "source": [
    "print(len(dataloader_train), len(dataloader_val), len(dataloader_train) + len(dataloader_val))\n",
    "###\n",
    "#data[0:10]"
   ]
  },
  {
   "cell_type": "markdown",
   "id": "8de10af5-c1e5-4a20-bbbc-27ace3667ad2",
   "metadata": {},
   "source": [
    "<h3>Model Training and Evaluation</h3>"
   ]
  },
  {
   "cell_type": "code",
   "execution_count": 17,
   "id": "d43ece0f-9510-4728-a520-05da75c50218",
   "metadata": {},
   "outputs": [],
   "source": [
    "from core.network import *\n",
    "from core.trainer import *"
   ]
  },
  {
   "cell_type": "code",
   "execution_count": 18,
   "id": "900bf9d3-f6eb-490b-9135-5bef35147077",
   "metadata": {},
   "outputs": [
    {
     "data": {
      "text/plain": [
       "True"
      ]
     },
     "execution_count": 18,
     "metadata": {},
     "output_type": "execute_result"
    }
   ],
   "source": [
    "torch.cuda.is_available()"
   ]
  },
  {
   "cell_type": "code",
   "execution_count": 19,
   "id": "a6573c04-8653-4dfd-8d96-5542d2860e36",
   "metadata": {},
   "outputs": [],
   "source": [
    "#model parameters\n",
    "input_size = 1\n",
    "hidden_sizes = [8, 16]\n",
    "output_size = 9\n",
    "\n",
    "#training parameters\n",
    "n_epochs = 55\n",
    "batch_size = 64\n",
    "learning_rate = 1e-3"
   ]
  },
  {
   "cell_type": "code",
   "execution_count": 20,
   "id": "5a41d15a-a573-45a3-9a2b-a0d881b2bf66",
   "metadata": {},
   "outputs": [
    {
     "data": {
      "text/plain": [
       "LSTM(\n",
       "  (lstm): LSTM(1, 8, batch_first=True)\n",
       "  (fc1): Linear(in_features=8, out_features=16, bias=True)\n",
       "  (fc2): Linear(in_features=16, out_features=9, bias=True)\n",
       ")"
      ]
     },
     "execution_count": 20,
     "metadata": {},
     "output_type": "execute_result"
    }
   ],
   "source": [
    "model = LSTM(input_size, hidden_sizes, output_size, num_layers=2, device=\"cuda:0\")\n",
    "model.train()"
   ]
  },
  {
   "cell_type": "code",
   "execution_count": 21,
   "id": "03d3fe18-57c0-422f-8169-4cf119dd9ad2",
   "metadata": {},
   "outputs": [],
   "source": [
    "trainer = LSTMTrainer(model=model, device=\"cuda:0\")"
   ]
  },
  {
   "cell_type": "code",
   "execution_count": null,
   "id": "5a666ce0-520c-4250-a9f8-75ba180ec404",
   "metadata": {},
   "outputs": [
    {
     "name": "stderr",
     "output_type": "stream",
     "text": [
      "  2%|█▌                                                                                 | 1/55 [00:30<27:47, 30.88s/it]"
     ]
    },
    {
     "name": "stdout",
     "output_type": "stream",
     "text": [
      "Epoch 001: | Training Loss: 2.1332293157191837 | Validation Loss: 2.0692616766866516\n"
     ]
    },
    {
     "name": "stderr",
     "output_type": "stream",
     "text": [
      "  4%|███                                                                                | 2/55 [01:02<27:30, 31.15s/it]"
     ]
    },
    {
     "name": "stdout",
     "output_type": "stream",
     "text": [
      "Epoch 002: | Training Loss: 2.0607521633307138 | Validation Loss: 2.047986217719667\n"
     ]
    },
    {
     "name": "stderr",
     "output_type": "stream",
     "text": [
      "  5%|████▌                                                                              | 3/55 [01:32<26:43, 30.83s/it]"
     ]
    },
    {
     "name": "stdout",
     "output_type": "stream",
     "text": [
      "Epoch 003: | Training Loss: 2.0867508107832835 | Validation Loss: 2.0922131472650696\n"
     ]
    },
    {
     "name": "stderr",
     "output_type": "stream",
     "text": [
      "  7%|██████                                                                             | 4/55 [02:02<25:52, 30.44s/it]"
     ]
    },
    {
     "name": "stdout",
     "output_type": "stream",
     "text": [
      "Epoch 004: | Training Loss: 2.070156151611431 | Validation Loss: 2.0685699932715473\n"
     ]
    },
    {
     "name": "stderr",
     "output_type": "stream",
     "text": [
      "  9%|███████▌                                                                           | 5/55 [02:33<25:24, 30.49s/it]"
     ]
    },
    {
     "name": "stdout",
     "output_type": "stream",
     "text": [
      "Epoch 005: | Training Loss: 2.0475830960215307 | Validation Loss: 2.039106902830741\n"
     ]
    },
    {
     "name": "stderr",
     "output_type": "stream",
     "text": [
      " 11%|█████████                                                                          | 6/55 [03:02<24:36, 30.13s/it]"
     ]
    },
    {
     "name": "stdout",
     "output_type": "stream",
     "text": [
      "Epoch 006: | Training Loss: 2.084438876632382 | Validation Loss: 2.0815005876562176\n"
     ]
    },
    {
     "name": "stderr",
     "output_type": "stream",
     "text": [
      " 13%|██████████▌                                                                        | 7/55 [03:32<24:04, 30.10s/it]"
     ]
    },
    {
     "name": "stdout",
     "output_type": "stream",
     "text": [
      "Epoch 007: | Training Loss: 2.0759993367919733 | Validation Loss: 2.073856258217026\n"
     ]
    },
    {
     "name": "stderr",
     "output_type": "stream",
     "text": [
      " 15%|████████████                                                                       | 8/55 [04:01<23:24, 29.87s/it]"
     ]
    },
    {
     "name": "stdout",
     "output_type": "stream",
     "text": [
      "Epoch 008: | Training Loss: 2.0729815600549473 | Validation Loss: 2.07822387796991\n"
     ]
    },
    {
     "name": "stderr",
     "output_type": "stream",
     "text": [
      " 16%|█████████████▌                                                                     | 9/55 [04:31<22:50, 29.80s/it]"
     ]
    },
    {
     "name": "stdout",
     "output_type": "stream",
     "text": [
      "Epoch 009: | Training Loss: 2.078182556027291 | Validation Loss: 2.088716547717066\n"
     ]
    },
    {
     "name": "stderr",
     "output_type": "stream",
     "text": [
      " 18%|██████████████▉                                                                   | 10/55 [05:01<22:29, 29.98s/it]"
     ]
    },
    {
     "name": "stdout",
     "output_type": "stream",
     "text": [
      "Epoch 010: | Training Loss: 2.095988966524601 | Validation Loss: 2.09807893195573\n"
     ]
    },
    {
     "name": "stderr",
     "output_type": "stream",
     "text": [
      " 20%|████████████████▍                                                                 | 11/55 [05:32<22:04, 30.10s/it]"
     ]
    },
    {
     "name": "stdout",
     "output_type": "stream",
     "text": [
      "Epoch 011: | Training Loss: 2.1151560590255496 | Validation Loss: 2.130501796217526\n"
     ]
    },
    {
     "name": "stderr",
     "output_type": "stream",
     "text": [
      " 22%|█████████████████▉                                                                | 12/55 [06:01<21:26, 29.93s/it]"
     ]
    },
    {
     "name": "stdout",
     "output_type": "stream",
     "text": [
      "Epoch 012: | Training Loss: 2.1091154638458702 | Validation Loss: 2.0869246962315895\n"
     ]
    },
    {
     "name": "stderr",
     "output_type": "stream",
     "text": [
      " 24%|███████████████████▍                                                              | 13/55 [06:31<20:48, 29.74s/it]"
     ]
    },
    {
     "name": "stdout",
     "output_type": "stream",
     "text": [
      "Epoch 013: | Training Loss: 2.1440831631714223 | Validation Loss: 2.1602816572960686\n"
     ]
    },
    {
     "name": "stderr",
     "output_type": "stream",
     "text": [
      " 25%|████████████████████▊                                                             | 14/55 [07:04<21:02, 30.79s/it]"
     ]
    },
    {
     "name": "stdout",
     "output_type": "stream",
     "text": [
      "Epoch 014: | Training Loss: 2.155123578274951 | Validation Loss: 2.1532078323995365\n"
     ]
    },
    {
     "name": "stderr",
     "output_type": "stream",
     "text": [
      " 27%|██████████████████████▎                                                           | 15/55 [07:38<21:06, 31.67s/it]"
     ]
    },
    {
     "name": "stdout",
     "output_type": "stream",
     "text": [
      "Epoch 015: | Training Loss: 2.148520204366422 | Validation Loss: 2.1514930821516933\n"
     ]
    },
    {
     "name": "stderr",
     "output_type": "stream",
     "text": [
      " 29%|███████████████████████▊                                                          | 16/55 [08:09<20:29, 31.53s/it]"
     ]
    },
    {
     "name": "stdout",
     "output_type": "stream",
     "text": [
      "Epoch 016: | Training Loss: 2.1475355899801443 | Validation Loss: 2.1478071651038\n"
     ]
    },
    {
     "name": "stderr",
     "output_type": "stream",
     "text": [
      " 31%|█████████████████████████▎                                                        | 17/55 [08:40<19:59, 31.57s/it]"
     ]
    },
    {
     "name": "stdout",
     "output_type": "stream",
     "text": [
      "Epoch 017: | Training Loss: 2.146405831855886 | Validation Loss: 2.145888783475932\n"
     ]
    },
    {
     "name": "stderr",
     "output_type": "stream",
     "text": [
      " 33%|██████████████████████████▊                                                       | 18/55 [09:14<19:44, 32.02s/it]"
     ]
    },
    {
     "name": "stdout",
     "output_type": "stream",
     "text": [
      "Epoch 018: | Training Loss: 2.1503147628961825 | Validation Loss: 2.1431754608364666\n"
     ]
    },
    {
     "name": "stderr",
     "output_type": "stream",
     "text": [
      " 35%|████████████████████████████▎                                                     | 19/55 [09:47<19:25, 32.38s/it]"
     ]
    },
    {
     "name": "stdout",
     "output_type": "stream",
     "text": [
      "Epoch 019: | Training Loss: 2.1186047972125164 | Validation Loss: 2.111833350623355\n"
     ]
    },
    {
     "name": "stderr",
     "output_type": "stream",
     "text": [
      " 36%|█████████████████████████████▊                                                    | 20/55 [10:20<18:57, 32.50s/it]"
     ]
    },
    {
     "name": "stdout",
     "output_type": "stream",
     "text": [
      "Epoch 020: | Training Loss: 2.0938580147191588 | Validation Loss: 2.072431746212875\n"
     ]
    },
    {
     "name": "stderr",
     "output_type": "stream",
     "text": [
      " 38%|███████████████████████████████▎                                                  | 21/55 [10:51<18:13, 32.17s/it]"
     ]
    },
    {
     "name": "stdout",
     "output_type": "stream",
     "text": [
      "Epoch 021: | Training Loss: 2.1612986118770112 | Validation Loss: 2.151713851620169\n"
     ]
    },
    {
     "name": "stderr",
     "output_type": "stream",
     "text": [
      " 40%|████████████████████████████████▊                                                 | 22/55 [11:23<17:44, 32.25s/it]"
     ]
    },
    {
     "name": "stdout",
     "output_type": "stream",
     "text": [
      "Epoch 022: | Training Loss: 2.137763762590932 | Validation Loss: 2.160586160771987\n"
     ]
    },
    {
     "name": "stderr",
     "output_type": "stream",
     "text": [
      " 42%|██████████████████████████████████▎                                               | 23/55 [11:55<17:06, 32.07s/it]"
     ]
    },
    {
     "name": "stdout",
     "output_type": "stream",
     "text": [
      "Epoch 023: | Training Loss: 2.1278300649102997 | Validation Loss: 2.1036323514931343\n"
     ]
    },
    {
     "name": "stderr",
     "output_type": "stream",
     "text": [
      " 44%|███████████████████████████████████▊                                              | 24/55 [12:27<16:33, 32.04s/it]"
     ]
    },
    {
     "name": "stdout",
     "output_type": "stream",
     "text": [
      "Epoch 024: | Training Loss: 2.0965589655964982 | Validation Loss: 2.0782321047256973\n"
     ]
    },
    {
     "name": "stderr",
     "output_type": "stream",
     "text": [
      " 45%|█████████████████████████████████████▎                                            | 25/55 [12:59<16:01, 32.07s/it]"
     ]
    },
    {
     "name": "stdout",
     "output_type": "stream",
     "text": [
      "Epoch 025: | Training Loss: 2.0736647226354656 | Validation Loss: 2.0836501962998333\n"
     ]
    },
    {
     "name": "stderr",
     "output_type": "stream",
     "text": [
      " 47%|██████████████████████████████████████▊                                           | 26/55 [13:32<15:33, 32.18s/it]"
     ]
    },
    {
     "name": "stdout",
     "output_type": "stream",
     "text": [
      "Epoch 026: | Training Loss: 2.0758433853294336 | Validation Loss: 2.0628608377540814\n"
     ]
    },
    {
     "name": "stderr",
     "output_type": "stream",
     "text": [
      " 49%|████████████████████████████████████████▎                                         | 27/55 [14:03<14:53, 31.90s/it]"
     ]
    },
    {
     "name": "stdout",
     "output_type": "stream",
     "text": [
      "Epoch 027: | Training Loss: 2.073740473857113 | Validation Loss: 2.071895223330049\n"
     ]
    },
    {
     "name": "stderr",
     "output_type": "stream",
     "text": [
      " 51%|█████████████████████████████████████████▋                                        | 28/55 [14:34<14:18, 31.78s/it]"
     ]
    },
    {
     "name": "stdout",
     "output_type": "stream",
     "text": [
      "Epoch 028: | Training Loss: 2.0857216499599756 | Validation Loss: 2.078623380292864\n"
     ]
    },
    {
     "name": "stderr",
     "output_type": "stream",
     "text": [
      " 53%|███████████████████████████████████████████▏                                      | 29/55 [15:06<13:44, 31.71s/it]"
     ]
    },
    {
     "name": "stdout",
     "output_type": "stream",
     "text": [
      "Epoch 029: | Training Loss: 2.0785388115282153 | Validation Loss: 2.062289711307077\n"
     ]
    },
    {
     "name": "stderr",
     "output_type": "stream",
     "text": [
      " 55%|████████████████████████████████████████████▋                                     | 30/55 [15:37<13:10, 31.61s/it]"
     ]
    },
    {
     "name": "stdout",
     "output_type": "stream",
     "text": [
      "Epoch 030: | Training Loss: 2.0750265212035646 | Validation Loss: 2.083890999064726\n"
     ]
    },
    {
     "name": "stderr",
     "output_type": "stream",
     "text": [
      " 56%|██████████████████████████████████████████████▏                                   | 31/55 [16:09<12:37, 31.55s/it]"
     ]
    },
    {
     "name": "stdout",
     "output_type": "stream",
     "text": [
      "Epoch 031: | Training Loss: 2.125489899194708 | Validation Loss: 2.0861482585177704\n"
     ]
    },
    {
     "name": "stderr",
     "output_type": "stream",
     "text": [
      " 58%|███████████████████████████████████████████████▋                                  | 32/55 [16:41<12:12, 31.87s/it]"
     ]
    },
    {
     "name": "stdout",
     "output_type": "stream",
     "text": [
      "Epoch 032: | Training Loss: 2.0824370911600543 | Validation Loss: 2.086531546624268\n"
     ]
    },
    {
     "name": "stderr",
     "output_type": "stream",
     "text": [
      " 60%|█████████████████████████████████████████████████▏                                | 33/55 [17:13<11:40, 31.85s/it]"
     ]
    },
    {
     "name": "stdout",
     "output_type": "stream",
     "text": [
      "Epoch 033: | Training Loss: 2.077543146177834 | Validation Loss: 2.0546576832147205\n"
     ]
    },
    {
     "name": "stderr",
     "output_type": "stream",
     "text": [
      " 62%|██████████████████████████████████████████████████▋                               | 34/55 [17:45<11:08, 31.84s/it]"
     ]
    },
    {
     "name": "stdout",
     "output_type": "stream",
     "text": [
      "Epoch 034: | Training Loss: 2.0504665639178428 | Validation Loss: 2.0440893694758415\n"
     ]
    },
    {
     "name": "stderr",
     "output_type": "stream",
     "text": [
      " 64%|████████████████████████████████████████████████████▏                             | 35/55 [18:17<10:37, 31.88s/it]"
     ]
    },
    {
     "name": "stdout",
     "output_type": "stream",
     "text": [
      "Epoch 035: | Training Loss: 2.0415974609992085 | Validation Loss: 2.0357464363469795\n"
     ]
    },
    {
     "name": "stderr",
     "output_type": "stream",
     "text": [
      " 65%|█████████████████████████████████████████████████████▋                            | 36/55 [18:49<10:05, 31.88s/it]"
     ]
    },
    {
     "name": "stdout",
     "output_type": "stream",
     "text": [
      "Epoch 036: | Training Loss: 2.059981928590466 | Validation Loss: 2.106528951402973\n"
     ]
    },
    {
     "name": "stderr",
     "output_type": "stream",
     "text": [
      " 67%|███████████████████████████████████████████████████████▏                          | 37/55 [19:21<09:34, 31.92s/it]"
     ]
    },
    {
     "name": "stdout",
     "output_type": "stream",
     "text": [
      "Epoch 037: | Training Loss: 2.049786928968102 | Validation Loss: 2.0294663739555023\n"
     ]
    },
    {
     "name": "stderr",
     "output_type": "stream",
     "text": [
      " 69%|████████████████████████████████████████████████████████▋                         | 38/55 [19:53<09:02, 31.92s/it]"
     ]
    },
    {
     "name": "stdout",
     "output_type": "stream",
     "text": [
      "Epoch 038: | Training Loss: 2.0277996774689826 | Validation Loss: 2.0229412203325943\n"
     ]
    },
    {
     "name": "stderr",
     "output_type": "stream",
     "text": [
      " 71%|██████████████████████████████████████████████████████████▏                       | 39/55 [20:24<08:30, 31.88s/it]"
     ]
    },
    {
     "name": "stdout",
     "output_type": "stream",
     "text": [
      "Epoch 039: | Training Loss: 2.0375321009287646 | Validation Loss: 2.0814727720092323\n"
     ]
    },
    {
     "name": "stderr",
     "output_type": "stream",
     "text": [
      " 73%|███████████████████████████████████████████████████████████▋                      | 40/55 [20:56<07:58, 31.91s/it]"
     ]
    },
    {
     "name": "stdout",
     "output_type": "stream",
     "text": [
      "Epoch 040: | Training Loss: 2.0467810196911587 | Validation Loss: 2.0353603244704357\n"
     ]
    },
    {
     "name": "stderr",
     "output_type": "stream",
     "text": [
      " 75%|█████████████████████████████████████████████████████████████▏                    | 41/55 [21:30<07:32, 32.34s/it]"
     ]
    },
    {
     "name": "stdout",
     "output_type": "stream",
     "text": [
      "Epoch 041: | Training Loss: 2.0304443520658157 | Validation Loss: 2.0230367074117943\n"
     ]
    },
    {
     "name": "stderr",
     "output_type": "stream",
     "text": [
      " 76%|██████████████████████████████████████████████████████████████▌                   | 42/55 [22:02<07:01, 32.39s/it]"
     ]
    },
    {
     "name": "stdout",
     "output_type": "stream",
     "text": [
      "Epoch 042: | Training Loss: 2.0128204898506987 | Validation Loss: 1.9974002360421068\n"
     ]
    },
    {
     "name": "stderr",
     "output_type": "stream",
     "text": [
      " 78%|████████████████████████████████████████████████████████████████                  | 43/55 [22:35<06:28, 32.36s/it]"
     ]
    },
    {
     "name": "stdout",
     "output_type": "stream",
     "text": [
      "Epoch 043: | Training Loss: 2.0059830248355865 | Validation Loss: 1.999757150078521\n"
     ]
    },
    {
     "name": "stderr",
     "output_type": "stream",
     "text": [
      " 80%|█████████████████████████████████████████████████████████████████▌                | 44/55 [23:08<05:59, 32.72s/it]"
     ]
    },
    {
     "name": "stdout",
     "output_type": "stream",
     "text": [
      "Epoch 044: | Training Loss: 2.003213495162188 | Validation Loss: 1.9927260805578793\n"
     ]
    },
    {
     "name": "stderr",
     "output_type": "stream",
     "text": [
      " 82%|███████████████████████████████████████████████████████████████████               | 45/55 [23:41<05:28, 32.83s/it]"
     ]
    },
    {
     "name": "stdout",
     "output_type": "stream",
     "text": [
      "Epoch 045: | Training Loss: 1.9899409338831902 | Validation Loss: 1.9933400903554523\n"
     ]
    },
    {
     "name": "stderr",
     "output_type": "stream",
     "text": [
      " 84%|████████████████████████████████████████████████████████████████████▌             | 46/55 [24:14<04:54, 32.67s/it]"
     ]
    },
    {
     "name": "stdout",
     "output_type": "stream",
     "text": [
      "Epoch 046: | Training Loss: 1.98520324130853 | Validation Loss: 1.9806803486803\n"
     ]
    },
    {
     "name": "stderr",
     "output_type": "stream",
     "text": [
      " 85%|██████████████████████████████████████████████████████████████████████            | 47/55 [24:47<04:23, 32.90s/it]"
     ]
    },
    {
     "name": "stdout",
     "output_type": "stream",
     "text": [
      "Epoch 047: | Training Loss: 1.9843419774198066 | Validation Loss: 1.9833346692954792\n"
     ]
    },
    {
     "name": "stderr",
     "output_type": "stream",
     "text": [
      " 87%|███████████████████████████████████████████████████████████████████████▌          | 48/55 [25:23<03:56, 33.79s/it]"
     ]
    },
    {
     "name": "stdout",
     "output_type": "stream",
     "text": [
      "Epoch 048: | Training Loss: 1.9780989130045854 | Validation Loss: 1.9726786687970161\n"
     ]
    },
    {
     "name": "stderr",
     "output_type": "stream",
     "text": [
      " 89%|█████████████████████████████████████████████████████████████████████████         | 49/55 [25:56<03:21, 33.58s/it]"
     ]
    },
    {
     "name": "stdout",
     "output_type": "stream",
     "text": [
      "Epoch 049: | Training Loss: 1.9802090459886719 | Validation Loss: 1.9925547706730224\n"
     ]
    },
    {
     "name": "stderr",
     "output_type": "stream",
     "text": [
      " 91%|██████████████████████████████████████████████████████████████████████████▌       | 50/55 [26:29<02:46, 33.33s/it]"
     ]
    },
    {
     "name": "stdout",
     "output_type": "stream",
     "text": [
      "Epoch 050: | Training Loss: 1.9795347056260295 | Validation Loss: 1.9631944276830728\n"
     ]
    },
    {
     "name": "stderr",
     "output_type": "stream",
     "text": [
      " 93%|████████████████████████████████████████████████████████████████████████████      | 51/55 [27:02<02:13, 33.38s/it]"
     ]
    },
    {
     "name": "stdout",
     "output_type": "stream",
     "text": [
      "Epoch 051: | Training Loss: 1.9631725814120442 | Validation Loss: 1.9620239401564878\n"
     ]
    },
    {
     "name": "stderr",
     "output_type": "stream",
     "text": [
      " 95%|█████████████████████████████████████████████████████████████████████████████▌    | 52/55 [27:41<01:45, 35.01s/it]"
     ]
    },
    {
     "name": "stdout",
     "output_type": "stream",
     "text": [
      "Epoch 052: | Training Loss: 1.9630371900457961 | Validation Loss: 1.9441814396311254\n"
     ]
    },
    {
     "name": "stderr",
     "output_type": "stream",
     "text": [
      " 96%|███████████████████████████████████████████████████████████████████████████████   | 53/55 [28:18<01:11, 35.67s/it]"
     ]
    },
    {
     "name": "stdout",
     "output_type": "stream",
     "text": [
      "Epoch 053: | Training Loss: 1.9692647484879868 | Validation Loss: 1.9475742635481499\n"
     ]
    },
    {
     "name": "stderr",
     "output_type": "stream",
     "text": [
      " 98%|████████████████████████████████████████████████████████████████████████████████▌ | 54/55 [28:53<00:35, 35.38s/it]"
     ]
    },
    {
     "name": "stdout",
     "output_type": "stream",
     "text": [
      "Epoch 054: | Training Loss: 1.9387424848243302 | Validation Loss: 1.9257610760190909\n"
     ]
    }
   ],
   "source": [
    "trainer.train(dataloader_train, dataloader_val, batch_size=batch_size, n_epochs=n_epochs)"
   ]
  },
  {
   "cell_type": "code",
   "execution_count": null,
   "id": "398a38b1-a4b2-444b-a335-9045808bbd7d",
   "metadata": {},
   "outputs": [],
   "source": [
    "# dataloader_val = torch.utils.data.DataLoader(dataset_val, batch_size=32, shuffle=True, num_workers=4)\n",
    "# dic = {\"y_pred\": np.array([]), \"y_true\": np.array([])}\n",
    "# for x_batch, y_batch in dataloader_val:\n",
    "#     x_batch, y_batch = x_batch.to(self.device), y_batch.to(self.device)\n",
    "#     # to do : convert y_batch to np array and vstack it y_true\n",
    "#     y_batch = y_batch.detach().cpu().numpy()\n",
    "#     dic[y_true].vstack(y_true, y_batch)\n",
    "#     y_pred = trainer.model(x_batch)\n",
    "#     y_pred = F.softmax(y_pred, dim=1)\n",
    "#     # to do : convert to np array and vstack it to y_pred\n",
    "#     y_pred = y_pred.detach().cpu().numpy()\n",
    "#     dic[y_pred].vstack(y_pred)\n",
    "    \n",
    "# df = pd.DataFrame(dic)"
   ]
  },
  {
   "cell_type": "code",
   "execution_count": null,
   "id": "a3a6e9c5-755e-4e2a-9a03-41c5e490c051",
   "metadata": {},
   "outputs": [],
   "source": [
    "torch.cuda.empty_cache()\n",
    "x_batch, y_batch = dataset_val[0:10000]\n",
    "# to do : convert x_batch to tensor and send to gpu \n",
    "x_batch = torch.tensor(x_batch, device=torch.device(\"cuda:0\"))\n",
    "y_pred = trainer.model(x_batch)\n",
    "y_pred = F.softmax(y_pred, dim=1)\n",
    "# to do : convert to np array and vstack it to y_pred\n",
    "y_pred = y_pred.detach().cpu().numpy()\n",
    "y_pred = np.argmax(y_pred, axis=1)\n",
    "dic = {\"y_pred\": y_pred, \"y_true\": y_batch}\n",
    "\n",
    "df = pd.DataFrame(dic)"
   ]
  },
  {
   "cell_type": "code",
   "execution_count": null,
   "id": "f1b45cc3-b4b8-40cc-8885-a35128d2ced6",
   "metadata": {},
   "outputs": [],
   "source": [
    "df"
   ]
  },
  {
   "cell_type": "code",
   "execution_count": null,
   "id": "d90d5fd6-27a9-423a-a6c9-3f883c502ab6",
   "metadata": {},
   "outputs": [],
   "source": [
    "sum(df[\"y_pred\"] == df[\"y_true\"])/10000"
   ]
  },
  {
   "cell_type": "code",
   "execution_count": null,
   "id": "59cbd3fa-ed14-4994-a189-facce53fd58f",
   "metadata": {},
   "outputs": [],
   "source": [
    "1/9"
   ]
  },
  {
   "cell_type": "markdown",
   "id": "63030266-017e-4a9c-9b82-5ccb96c24af7",
   "metadata": {},
   "source": [
    "<h3>Classification Report</h3>"
   ]
  },
  {
   "cell_type": "code",
   "execution_count": null,
   "id": "e5fe7023-e147-443c-a5c3-9ccc8fc65d0c",
   "metadata": {},
   "outputs": [],
   "source": [
    "import sklearn.metrics"
   ]
  },
  {
   "cell_type": "code",
   "execution_count": null,
   "id": "32291620-1714-4287-81ed-ccf4b2be473b",
   "metadata": {},
   "outputs": [],
   "source": []
  }
 ],
 "metadata": {
  "kernelspec": {
   "display_name": "Python 3 (ipykernel)",
   "language": "python",
   "name": "python3"
  },
  "language_info": {
   "codemirror_mode": {
    "name": "ipython",
    "version": 3
   },
   "file_extension": ".py",
   "mimetype": "text/x-python",
   "name": "python",
   "nbconvert_exporter": "python",
   "pygments_lexer": "ipython3",
   "version": "3.8.12"
  }
 },
 "nbformat": 4,
 "nbformat_minor": 5
}
