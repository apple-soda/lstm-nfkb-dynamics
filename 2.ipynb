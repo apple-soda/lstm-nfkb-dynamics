{
 "cells": [
  {
   "cell_type": "code",
   "execution_count": 3,
   "id": "4068c50e-a9b1-4ca1-8bc7-6129f9f34eb2",
   "metadata": {},
   "outputs": [],
   "source": [
    "import torch\n",
    "import torch.nn as nn"
   ]
  },
  {
   "cell_type": "code",
   "execution_count": 8,
   "id": "abb0bfb7-9c35-4458-8236-b1169455ee21",
   "metadata": {},
   "outputs": [
    {
     "name": "stdout",
     "output_type": "stream",
     "text": [
      "tensor([[ 2.0617,  0.0202,  0.2868,  0.3310, -0.1898],\n",
      "        [ 2.1819, -0.8662,  0.4154, -0.1135, -0.2925],\n",
      "        [ 0.6982,  0.1723, -0.2797, -1.1035,  0.2841]], requires_grad=True) tensor([3, 1, 0])\n",
      "torch.Size([3, 5]) torch.Size([3])\n"
     ]
    }
   ],
   "source": [
    "# Example of target with class indices\n",
    "loss = nn.CrossEntropyLoss()\n",
    "input = torch.randn(3, 5, requires_grad=True)\n",
    "target = torch.empty(3, dtype=torch.long).random_(5)\n",
    "output = loss(input, target)\n",
    "output.backward()\n",
    "print (input, target)\n",
    "print(input.shape, target.shape)"
   ]
  },
  {
   "cell_type": "code",
   "execution_count": 7,
   "id": "ccc541c2-1034-4b58-9d8f-970aa71aba01",
   "metadata": {},
   "outputs": [
    {
     "name": "stdout",
     "output_type": "stream",
     "text": [
      "tensor([[-0.4229, -0.8054,  0.4357, -1.0893,  0.5708],\n",
      "        [ 1.0120,  1.3155, -0.0990,  0.2570, -0.6912],\n",
      "        [-2.0747,  0.0691, -1.9593, -0.5382, -0.3053]], requires_grad=True) tensor([[0.2295, 0.1149, 0.0893, 0.4940, 0.0723],\n",
      "        [0.1053, 0.1907, 0.1468, 0.2484, 0.3088],\n",
      "        [0.1049, 0.2540, 0.2181, 0.2498, 0.1732]])\n",
      "torch.Size([3, 5]) torch.Size([3, 5])\n"
     ]
    }
   ],
   "source": [
    "# Example of target with class probabilities\n",
    "input = torch.randn(3, 5, requires_grad=True)\n",
    "target = torch.randn(3, 5).softmax(dim=1)\n",
    "output = loss(input, target)\n",
    "output.backward()\n",
    "print(input, target)\n",
    "print(input.shape, target.shape)"
   ]
  },
  {
   "cell_type": "code",
   "execution_count": null,
   "id": "c946bd73-ca9b-4fd3-ae03-9a8476b757de",
   "metadata": {},
   "outputs": [],
   "source": [
    "# Softmax 0-1\n",
    "# "
   ]
  }
 ],
 "metadata": {
  "kernelspec": {
   "display_name": "Python 3 (ipykernel)",
   "language": "python",
   "name": "python3"
  },
  "language_info": {
   "codemirror_mode": {
    "name": "ipython",
    "version": 3
   },
   "file_extension": ".py",
   "mimetype": "text/x-python",
   "name": "python",
   "nbconvert_exporter": "python",
   "pygments_lexer": "ipython3",
   "version": "3.8.12"
  }
 },
 "nbformat": 4,
 "nbformat_minor": 5
}
